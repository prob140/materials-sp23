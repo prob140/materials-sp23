{
 "cells": [
  {
   "cell_type": "markdown",
   "metadata": {
    "#solution": false,
    "#staff": false,
    "#student": false
   },
   "source": [
    "<table align=\"left\" style=\"border-style: hidden\" class=\"table\"> <tr><td class=\"col-md-2\"><img style=\"float\" src=\"../icon.png\" alt=\"Data 140 Logo\" style=\"width: 120px;\"/></td><td><div align=\"left\"><h3 style=\"margin-top: 0;\">Probability for Data Science</h3><h4 style=\"margin-top: 20px;\">UC Berkeley, Spring 2023</h4><p>Ani Adhikari</p>CC BY-NC-SA 4.0</div></td></tr></table><!-- not in pdf -->\n",
    "\n",
    "This content is protected and may not be shared, uploaded, or distributed."
   ]
  },
  {
   "cell_type": "code",
   "execution_count": null,
   "metadata": {
    "#solution": false,
    "#staff": false,
    "#student": false
   },
   "outputs": [],
   "source": [
    "import warnings\n",
    "warnings.filterwarnings('ignore')\n",
    "\n",
    "from datascience import *\n",
    "from prob140 import *\n",
    "import numpy as np\n",
    "from scipy import stats\n",
    "from scipy import special\n",
    "\n",
    "%matplotlib inline\n",
    "import matplotlib.pyplot as plt\n",
    "plt.style.use('fivethirtyeight')"
   ]
  },
  {
   "cell_type": "markdown",
   "metadata": {
    "#solution": false,
    "#staff": false,
    "#student": false
   },
   "source": [
    "# Homework 3 #"
   ]
  },
  {
   "cell_type": "markdown",
   "metadata": {
    "#solution": false,
    "#staff": false,
    "#student": false
   },
   "source": [
    "### Instructions\n",
    "\n",
    "Your homeworks will generally have two components: a written portion and a portion that also involves code.  Written work should be completed on paper, and coding questions should be done in the notebook. Start the work for the written portions of each section on a new page. You are welcome to $\\LaTeX$ your answers to the written portions, but staff will not be able to assist you with $\\LaTeX$ related issues. \n",
    "\n",
    "It is your responsibility to ensure that both components of the lab are submitted completely and properly to Gradescope. **Make sure to assign each page of your pdf to the correct question. Refer to the bottom of the notebook for submission instructions.**\n",
    "\n",
    "Every answer should contain a calculation or reasoning. For example, a calculation such as $(1/3)(0.8) + (2/3)(0.7)$ or `sum([(1/3)*0.8, (2/3)*0.7])`is fine without further explanation or simplification. If we want you to simplify, we'll ask you to. But just ${5 \\choose 2}$ by itself is not fine; write \"we want any 2 out of the 5 frogs and they can appear in any order\" or whatever reasoning you used. Reasoning can be brief and abbreviated, e.g. \"product rule\" or \"not mutually exclusive.\""
   ]
  },
  {
   "cell_type": "markdown",
   "metadata": {
    "#solution": false,
    "#staff": false,
    "#student": false
   },
   "source": [
    "## 1. Counting Categories\n",
    "\n",
    "In each part below, write the probabilities as math expressions. You don't have to find any numerical values. But please make sure there are **no infinite sums** in your answers. For distributions, you can just provide names and parameters if they are applicable. \n",
    "\n",
    "**a)** 18 dice are rolled. Let $X$ be the number of times the face with 1 spot appears. Let $Y$ be the number of times a multiple of 3 appears. What is the joint distribution of $X$ and $Y$? [Be careful about the possible values of the pair $(X, Y)$.]\n",
    "\n",
    "**b)** 18 dice are rolled. Find the chance that two of the faces appear 5 times each, another two faces appear 3 times each, and the remaining two faces appear 1 time each.\n",
    "\n",
    "**c)** Repeat Part **b** in the case when the number of dice rolled isn't 18 but is instead a random number that has the Poisson  distribution.\n",
    "\n",
    "**d)** As in Part **c**, roll a random number of dice, where the random number has a Poisson  distribution. Don't touch any die that shows the face with six spots. If there are any other dice (that is, if there are dice that don't show six spots), roll those dice one more time. Then stop.\n",
    "\n",
    "Let $S$ be the total number of dice that show the face with six spots when you stop. Find the distribution of $S$."
   ]
  },
  {
   "cell_type": "markdown",
   "metadata": {
    "#solution": false,
    "#staff": false,
    "#student": false
   },
   "source": [
    "\\newpage"
   ]
  },
  {
   "cell_type": "markdown",
   "metadata": {
    "#solution": false,
    "#staff": false,
    "#student": false
   },
   "source": [
    "## 2. Related Distribution Families ##\n",
    "\n",
    "As you have seen, the binomial distribution is closely related to the hypergeometric and Poisson distributions. Here are two more connections.\n",
    "\n",
    "**Note:** Both of the connections arise via conditioning. For an example of how to go about finding the conditional distribution of one random variable given the value of another, study the steps in [Section 6.2.3](http://prob140.org/textbook/content/Chapter_06/02_Examples.html#conditional-distribution-of-the-trial-that-results-in-the-first-success) of the textbook.  \n",
    "\n",
    "**a)** Let $1 \\le n < m$ be integers. Consider $m$ i.i.d. Bernoulli trials with probability of $p$ of success on each trial. Let $X$ be the number of successes in the first $n$ trials and let $S$ be the number of successes in all $m$ trials. \n",
    "\n",
    "For a fixed integer $s$, find the conditional distribution of $X$ given $S=s$. Identify it as one of the famous ones and provide the parameters in terms of $m$, $n$, and $s$.\n",
    "\n",
    "**b)** Let $X$ and $Y$ be independent random variables such that $X$ has the Poisson $(\\mu)$ distribution and $Y$ has the Poisson $(\\lambda)$ distribution. \n",
    "\n",
    "For a fixed integer $n$, find the conditional distribution of $X$ given  $X+Y = n$. Identify it as one of the famous ones and provide the parameters in terms of $n$, $\\mu$, and $\\lambda$."
   ]
  },
  {
   "cell_type": "markdown",
   "metadata": {
    "#solution": false,
    "#staff": false,
    "#student": false
   },
   "source": [
    "\\newpage"
   ]
  },
  {
   "cell_type": "markdown",
   "metadata": {
    "#solution": false,
    "#staff": false,
    "#student": false
   },
   "source": [
    "## 3. M&Ms\n",
    "A child has to do the following experiment as part of their math homework: \"Toss a fair coin until you get a head, and then stop tossing. Report the number of times you tossed.\"\n",
    "\n",
    "The child is grumbling and refusing to do this.  So their parent decides to bribe them.\n",
    "\n",
    "**a)** The parent tells the child, \"I'll give you one M&M for each toss! For example, if you toss 5 times to get a head, you'll get 5 M&Ms!\" The trouble is, the parent only has 7 M&M's, so if the number of tosses until a head is more than 7 then the child will get only 7 M&Ms. \n",
    "\n",
    "What is the expected number of M&Ms the child will get if they accept the parent's offer? Write a math formula for the expectation with no infinite sums in your answer. Then provide its numerical value, using the cell below for your calculation if necessary.\n",
    "\n",
    "**b)** The child is not happy that they can get at most 7 M&Ms, and rejects the offer in Part **a**. So the parent buys a big bag of M&Ms and tells the child, \"However many tosses it takes you to get a head, I'll give you 2 times that many M&Ms! For example, if it takes you $5$ tosses, you'll get $2\\times 5 = 10$ M&Ms!\" \n",
    "\n",
    "What is the expected number of M&Ms the child will get if they accept the parent's offer? Write a math formula for the expectation with no infinite sums in your answer. Then provide its numerical value, using the cell below for your calculation if necessary.\n",
    "\n",
    "**c)** The child realizes that rejecting the parent's offers leads to better offers, so they reject the offer in Part **b** as well. In desperation, the parent says, \"OK, however many tosses it takes you to get a head, I'll give you 2 to the power that many M&Ms! For example, if you it takes you $5$ tosses to get a head, you'll get $2^5 = 32$ M&Ms!\" \n",
    "\n",
    "Try to find the expected number of M&Ms the child will get, and explain why the parent is in big trouble (rightly so, for bribing their kid to do homework). "
   ]
  },
  {
   "cell_type": "code",
   "execution_count": null,
   "metadata": {
    "#solution": false,
    "#staff": false,
    "#student": true
   },
   "outputs": [],
   "source": [
    "# Calculation for a, if necessary\n",
    "\n",
    "..."
   ]
  },
  {
   "cell_type": "code",
   "execution_count": null,
   "metadata": {
    "#solution": false,
    "#staff": false,
    "#student": true
   },
   "outputs": [],
   "source": [
    "# Calculation for b, if necessary\n",
    "\n",
    "..."
   ]
  },
  {
   "cell_type": "markdown",
   "metadata": {
    "#solution": false,
    "#staff": false,
    "#student": false
   },
   "source": [
    "\\newpage"
   ]
  },
  {
   "cell_type": "markdown",
   "metadata": {
    "#solution": false,
    "#staff": false,
    "#student": false
   },
   "source": [
    "## 4. Poisson Moments ##\n",
    "\n",
    "For $k = 1, 2, 3, \\ldots$, the *$k$th moment* of a random variable $X$ is defined as $E(X^k)$. The term comes from physics where the principle of moments is used in finding the center of gravity of a system. Remember that the expectation or first moment $E(X)$ is the center of gravity of the distribution of $X$.\n",
    "\n",
    "Let $X$ have the Poisson $(\\mu)$ distribution. Find the expectations below and prove your answers.\n",
    "\n",
    "**a)** $E(X+1)$\n",
    "\n",
    "**b)** $E(1/(X+1))$ [**Work out** [Section 8.2.4](http://prob140.org/textbook/content/Chapter_08/02_Applying_the_Definition.html#poisson) of the textbook before you start this problem. Do the calculation yourself, don't just read it.]\n",
    "\n",
    "**c)** $E(X^3)$ \n",
    "[**Work out** [Section 8.3.5](http://prob140.org/textbook/content/Chapter_08/03_Expectations_of_Functions.html#e-x-x-1-for-a-poisson-variable-x) and [Section 8.4.2](http://prob140.org/textbook/content/Chapter_08/04_Additivity.html#e-x-2-for-a-poisson-variable-x) of the textbook before you start this problem. Do the calculation yourself, don't just read it.]"
   ]
  },
  {
   "cell_type": "markdown",
   "metadata": {
    "#solution": false,
    "#staff": false,
    "#student": false
   },
   "source": [
    "\\newpage"
   ]
  },
  {
   "cell_type": "markdown",
   "metadata": {
    "#solution": false,
    "#staff": false,
    "#student": false
   },
   "source": [
    "## 5. Expectation of a Sample Minimum\n",
    "\n",
    "**Highly Recommended:** For both parts below, go back to Homework 1 Question 4 and see how you worked with sample minima there. That approach will be very useful but in a different way for each part.\n",
    "\n",
    "**a)** For $1 \\le i \\le 5$, let $X_i$ have the geometric $(p_i)$ distribution on $\\{1, 2, 3, ... \\}$. Suppose $X_1, X_2, \\ldots, X_5$ are independent. \n",
    "\n",
    "Let $M = \\min\\{X_i: 1 \\le i \\le 5\\}$. \n",
    "\n",
    "- Find the distribution of $M$. Identify it as one of the famous ones and provide its name and parameters. You are welcome to use the notation $q_i = 1-p_i$.\n",
    "- Hence find the expectation of $M$.\n",
    "\n",
    "**b)** There are 300 students in a probability class. Each student tosses a coin 100 times and notes the number of heads. Let $S$ be the smallest of the 300 numbers noted. \n",
    "\n",
    "- Let $F$ be the cdf of the binomial $(100, 0.5)$ distribution. Write a math formula for $E(S)$ in terms of $F$. Explain your formula.\n",
    "- Complete the code cell below by writing an expression that evaluates to $E(S)$. To write just one expression, use array operations. It helps that if `k` is an array, `stats.norm.cdf(k, 100, 0.5)` evaluates to an array containing the binomial cdf evaluated at each element of `k`."
   ]
  },
  {
   "cell_type": "code",
   "execution_count": null,
   "metadata": {
    "#solution": false,
    "#staff": false,
    "#student": true
   },
   "outputs": [],
   "source": [
    "# Answer to b\n",
    "\n",
    "ev_S = ...\n",
    "ev_S"
   ]
  },
  {
   "cell_type": "markdown",
   "metadata": {
    "#solution": false,
    "#staff": false,
    "#student": false
   },
   "source": [
    "## Submission Instructions ##\n",
    "\n",
    "Many assignments throughout the course will have a written portion and a code portion. Please follow the directions below to properly submit both portions.\n",
    "\n",
    "### Written Portion ###\n",
    "*  Scan all the pages into a PDF. You can use any scanner or a phone using applications such as CamScanner. Please **DO NOT** simply take pictures using your phone. \n",
    "* Please start a new page for each question. If you have already written multiple questions on the same page, you can crop the image in CamScanner or fold your page over (the old-fashioned way). This helps expedite grading.\n",
    "* It is your responsibility to check that all the work on all the scanned pages is legible.\n",
    "* If you used $\\LaTeX$ to do the written portions, you do not need to do any scanning; you can just download the whole notebook as a PDF via LaTeX.\n",
    "\n",
    "### Code Portion ###\n",
    "* Save your notebook using `File > Save and Checkpoint`.\n",
    "* Generate a PDF file using `File > Download As > PDF via LaTeX`. This might take a few seconds and will automatically download a PDF version of this notebook.\n",
    "    * If you have issues, please post a follow-up on the general Homework 3 Ed thread.\n",
    "    \n",
    "### Submitting ###\n",
    "* Combine the PDFs from the written and code portions into one PDF. [Here](https://smallpdf.com/merge-pdf) is a useful tool for doing so. \n",
    "* Submit the assignment to Homework 3 on Gradescope. \n",
    "* **Make sure to assign each page of your pdf to the correct question.**\n",
    "* **It is your responsibility to verify that all of your work shows up in your final PDF submission.**\n",
    "\n",
    "If you are having difficulties scanning, uploading, or submitting your work, please read the [Ed Thread](https://edstem.org/us/courses/35049/discussion/2398718) on this topic and post a follow-up on the general Homework 3 Ed thread."
   ]
  },
  {
   "cell_type": "markdown",
   "metadata": {
    "#solution": false,
    "#staff": false,
    "#student": false
   },
   "source": [
    "## **We will not grade assignments which do not have pages selected for each question.** ##"
   ]
  }
 ],
 "metadata": {
  "checksums": [
   "3b0a711c58f1b67a5c71e51e74f0b083",
   "0a152d7141294de79f6f69370ea8b582",
   "ca466c40003089a428b668a82180c6c6",
   "79d3b9e4d2003abee17fab3aaee34aad",
   "928c6d600a9d34c73d2d934619abb350",
   "562505d567faf02dfc9388e81e89d07b",
   "600562b93afee6fec3f6eb2ac9dbacbc",
   "562505d567faf02dfc9388e81e89d07b",
   "0c9f81feb6c95e3692c7ebef81eec5d0",
   "d0f32f416422b1758e4f14d0d121db2b",
   "494141c1420b051d7ac0e0396185fbe8",
   "562505d567faf02dfc9388e81e89d07b",
   "1deb9033bf83a0588afd67e73ebdabf4",
   "562505d567faf02dfc9388e81e89d07b",
   "a6ec7e33d05463cf9e675709505204e9",
   "7616af5221c900bf991f441479dc0599",
   "c068b4676ab37d4475ca6430c21f3590",
   "28b84f784840e42a5b8327aab8f973c0"
  ],
  "kernelspec": {
   "display_name": "Python 3",
   "language": "python",
   "name": "python3"
  },
  "language_info": {
   "codemirror_mode": {
    "name": "ipython",
    "version": 3
   },
   "file_extension": ".py",
   "mimetype": "text/x-python",
   "name": "python",
   "nbconvert_exporter": "python",
   "pygments_lexer": "ipython3",
   "version": "3.7.11"
  },
  "number_of_pagebreaks": 0
 },
 "nbformat": 4,
 "nbformat_minor": 4
}
