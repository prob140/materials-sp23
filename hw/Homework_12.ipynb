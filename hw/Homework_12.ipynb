{
 "cells": [
  {
   "cell_type": "markdown",
   "id": "23dbf19e",
   "metadata": {
    "#solution": false,
    "#staff": false,
    "#student": false,
    "tags": []
   },
   "source": [
    "<table align=\"left\" style=\"border-style: hidden\" class=\"table\"> <tr><td class=\"col-md-2\"><img style=\"float\" src=\"../icon.png\" alt=\"Prob140 Logo\" style=\"width: 120px;\"/></td><td><div align=\"left\"><h3 style=\"margin-top: 0;\">Probability for Data Science</h3><h4 style=\"margin-top: 20px;\">UC Berkeley, Spring 2023</h4><p>Ani Adhikari</p>CC BY-NC-SA 4.0</div></td></tr></table><!-- not in pdf -->\n",
    "\n",
    "This content is protected and may not be shared, uploaded, or distributed."
   ]
  },
  {
   "cell_type": "code",
   "execution_count": null,
   "id": "085fc905-b2ae-4cf8-8970-84b710529fff",
   "metadata": {
    "#solution": false,
    "#staff": false,
    "#student": false
   },
   "outputs": [],
   "source": [
    "# Run this cell to set up your notebook\n",
    "\n",
    "# These lines make warnings go away\n",
    "import warnings\n",
    "warnings.filterwarnings('ignore')\n",
    "\n",
    "import numpy as np\n",
    "from scipy import stats\n",
    "from datascience import *\n",
    "from prob140 import *\n",
    "\n",
    "# These lines do some fancy plotting magic\n",
    "import matplotlib\n",
    "%matplotlib inline\n",
    "import matplotlib.pyplot as plt\n",
    "plt.style.use('fivethirtyeight')"
   ]
  },
  {
   "cell_type": "markdown",
   "id": "3aac5a70-966c-4be3-ab23-7ce69af85b66",
   "metadata": {
    "#solution": false,
    "#staff": false,
    "#student": false,
    "tags": []
   },
   "source": [
    "# Homework 12"
   ]
  },
  {
   "cell_type": "markdown",
   "id": "6b27dc38",
   "metadata": {
    "#solution": false,
    "#staff": false,
    "#student": false,
    "tags": []
   },
   "source": [
    "### Instructions\n",
    "\n",
    "Your homeworks will generally have two components: a written portion and a portion that also involves code.  Written work should be completed on paper, and coding questions should be done in the notebook. Start the work for the written portions of each section on a new page. You are welcome to $\\LaTeX$ your answers to the written portions, but staff will not be able to assist you with $\\LaTeX$ related issues. \n",
    "\n",
    "It is your responsibility to ensure that both components of the lab are submitted completely and properly to Gradescope. **Make sure to assign each page of your pdf to the correct question. Refer to the bottom of the notebook for submission instructions.**\n",
    "\n",
    "Every answer should contain a calculation or reasoning. For example, a calculation such as $(1/3)(0.8) + (2/3)(0.7)$ or `sum([(1/3)*0.8, (2/3)*0.7])`is fine without further explanation or simplification. If we want you to simplify, we'll ask you to. But just ${5 \\choose 2}$ by itself is not fine; write \"we want any 2 out of the 5 frogs and they can appear in any order\" or whatever reasoning you used. Reasoning can be brief and abbreviated, e.g. \"product rule\" or \"not mutually exclusive.\""
   ]
  },
  {
   "cell_type": "markdown",
   "id": "5395a951-85a7-46af-b33a-63d2d9c89edc",
   "metadata": {
    "#solution": false,
    "#staff": false,
    "#student": false
   },
   "source": [
    "## 1. Sections ##\n",
    "A class of 60 students has three sections. Summary statistics for scores on Quiz 7:\n",
    "- Section 1: 25 students, mean 25, SD 3\n",
    "- Section 2: 20 students, mean 23, SD 2 \n",
    "- Section 3: 15 students, mean 27, SD 4\n",
    "\n",
    "Let $S$ be the Quiz 7 score of a student picked at random from the class. Use the code cell below to calculate numerical answers for parts a and b.\n",
    "\n",
    "**a)** Find $E(S)$.\n",
    "\n",
    "**b)** Find $SD(S)$."
   ]
  },
  {
   "cell_type": "code",
   "execution_count": null,
   "id": "5aaf5d3b-7167-4f21-afa4-b42f52a508b9",
   "metadata": {
    "#solution": false,
    "#staff": false,
    "#student": true
   },
   "outputs": [],
   "source": [
    "# Calculation for a\n",
    "\n",
    "..."
   ]
  },
  {
   "cell_type": "code",
   "execution_count": null,
   "id": "c0096fb9-fc99-4407-b734-eac53fe4e0da",
   "metadata": {
    "#solution": false,
    "#staff": false,
    "#student": true
   },
   "outputs": [],
   "source": [
    "# Calculation for b\n",
    "\n",
    "..."
   ]
  },
  {
   "cell_type": "markdown",
   "id": "aec12358-d29e-4992-b547-cc2532e29af8",
   "metadata": {
    "#solution": false,
    "#staff": false,
    "#student": false
   },
   "source": [
    "\\newpage"
   ]
  },
  {
   "cell_type": "markdown",
   "id": "dc049496-c7d6-40c4-aa11-fc4fd3c07f89",
   "metadata": {
    "#solution": false,
    "#staff": false,
    "#student": false
   },
   "source": [
    "## 2. Accident Claims ##\n",
    "\n",
    "Poisson processes are standard models used by actuaries and industrial engineers.\n",
    "\n",
    "At a street intersection, accidents happen according to a Poisson process at a rate of $\\lambda$ per month. Each accident leads to an insurace claim of a random dollar amount. Assume that the amounts of the claims are i.i.d. with mean $\\mu$ and SD $\\sigma$, independent of the process of accidents.\n",
    "\n",
    "Find the expectation and variance of the total amount claimed for accidents at that intersection in a year."
   ]
  },
  {
   "cell_type": "markdown",
   "id": "3035d88b-df9c-4852-b1e6-75520c65b932",
   "metadata": {
    "#solution": false,
    "#staff": false,
    "#student": false
   },
   "source": [
    "\\newpage"
   ]
  },
  {
   "cell_type": "markdown",
   "id": "d87a691e-82d4-4f50-b36a-a2014a1fa182",
   "metadata": {
    "#solution": false,
    "#staff": false,
    "#student": false
   },
   "source": [
    "## 3. Two-Colored Die ##\n",
    "\n",
    "A die that has two green faces and four blue faces is rolled repeatedly. Let $R$ be the number of rolls till both colors have appeared. \n",
    "\n",
    "In each part below, find the numerical value.\n",
    "\n",
    "**a)** Find $E(R)$.\n",
    "\n",
    "**b)** Find $SD(R)$."
   ]
  },
  {
   "cell_type": "markdown",
   "id": "8ca5cf74-794c-411a-a79e-7ea58aef8f3c",
   "metadata": {
    "#solution": false,
    "#staff": false,
    "#student": false
   },
   "source": [
    "\\newpage"
   ]
  },
  {
   "cell_type": "markdown",
   "id": "c6f97042-1383-4e42-a414-34c13d525676",
   "metadata": {
    "#solution": false,
    "#staff": false,
    "#student": false,
    "tags": []
   },
   "source": [
    "## 4. Overlapping Counts ##\n",
    "Consider a sequence of i.i.d. Bernoulli $(p)$ trials. Consider the three variables $X$, $Y$, and $V$ defined by:\n",
    "\n",
    "- $X$ is the number of successes in trials 1 through 100\n",
    "- $Y$ is the number of successes in trials 51 through 100\n",
    "- $V$ is the number of successes in trials 51 through 150\n",
    "\n",
    "**a)** For each of $X$, $Y$, and $V$, say what the distribution is and provide the parameters.\n",
    "\n",
    "**b)** Fix $k$ in the range $0, 1, \\ldots, 100$ and find the conditional distribution of $Y$ given $X = k$. Recognize this as a famous one and provide the parameters.\n",
    "\n",
    "**c)** Find the least squares predictor of $Y$ based on $X$ and say whether it is a linear function of $X$. (If it is, then the best linear predictor is in fact the best among all predictors.) Find $Var(Y \\mid X)$.\n",
    "\n",
    "**d)** Find $E(V \\mid X)$, $Var(V \\mid X)$, and the correlation $r(X, V)$.\n",
    "\n",
    "**e)** Simulate 20,000 $(X, V)$ pairs for $p = 0.5$ and draw the scatter plot of the observed points. Plot $E(V \\mid X)$ as a function of $X$ on the same plot. Use the cell below. The arrays `x` and `v` should contain the observed values of $X$ and $V$. The array `exp_V_given_x` should contain $E(V \\mid X = x)$ for each $x$ in `x`, using the formula you derived in **d**."
   ]
  },
  {
   "cell_type": "code",
   "execution_count": null,
   "id": "49652774-bef8-41be-bd45-6fa83dbb807d",
   "metadata": {
    "#solution": false,
    "#staff": false,
    "#student": true
   },
   "outputs": [],
   "source": [
    "# Simulation for e\n",
    "\n",
    "...\n",
    "\n",
    "x = ...\n",
    "v = ...\n",
    "exp_V_given_x = ...\n",
    "\n",
    "# Don't change the lines below\n",
    "plt.figure(figsize=(6, 6))\n",
    "plt.axes().set_aspect('equal')\n",
    "plt.xticks(np.arange(30, 71, 10))\n",
    "plt.yticks(np.arange(30, 71, 10))\n",
    "plt.scatter(x, v, color='darkblue', s=10)\n",
    "plt.scatter(x, exp_V_given_x, color='gold', s=10);"
   ]
  },
  {
   "cell_type": "markdown",
   "id": "f9e875e4-5f0e-4c0e-9801-7dc038f329e1",
   "metadata": {
    "#solution": false,
    "#staff": false,
    "#student": false
   },
   "source": [
    "Complete the cell below so that the `x_su` is `x` in standard units, `v_su` is `v` in standard units, and the last line evaluates to the observed correlation between `x` and `v`. Check that the output is consistent with your calculation in **d**."
   ]
  },
  {
   "cell_type": "code",
   "execution_count": null,
   "id": "b5d40932-94b5-4ee3-81f1-fec985d6a67e",
   "metadata": {
    "#solution": false,
    "#staff": false,
    "#student": true
   },
   "outputs": [],
   "source": [
    "# Part e continued\n",
    "\n",
    "x_su = ...\n",
    "v_su = ...\n",
    "..."
   ]
  },
  {
   "cell_type": "markdown",
   "id": "d0f99e63",
   "metadata": {
    "#solution": false,
    "#staff": false,
    "#student": false,
    "jp-MarkdownHeadingCollapsed": true,
    "tags": []
   },
   "source": [
    "## Submission Instructions ##\n",
    "\n",
    "Many assignments throughout the course will have a written portion and a code portion. Please follow the directions below to properly submit both portions.\n",
    "\n",
    "### Written Portion ###\n",
    "*  Scan all the pages into a PDF. You can use any scanner or a phone using applications such as CamScanner. Please **DO NOT** simply take pictures using your phone. \n",
    "* Please start a new page for each question. If you have already written multiple questions on the same page, you can crop the image in CamScanner or fold your page over (the old-fashioned way). This helps expedite grading.\n",
    "* It is your responsibility to check that all the work on all the scanned pages is legible.\n",
    "* If you used $\\LaTeX$ to do the written portions, you do not need to do any scanning; you can just download the whole notebook as a PDF via LaTeX.\n",
    "\n",
    "### Code Portion ###\n",
    "* Save your notebook using `File > Save and Checkpoint`.\n",
    "* Generate a PDF file using `File > Download As > PDF via LaTeX`. This might take a few seconds and will automatically download a PDF version of this notebook.\n",
    "    * If you have issues, please post a follow-up on the general Homework 12 Ed thread.\n",
    "    \n",
    "### Submitting ###\n",
    "* Combine the PDFs from the written and code portions into one PDF. [Here](https://smallpdf.com/merge-pdf) is a useful tool for doing so. \n",
    "* Submit the assignment to Homework 12 on Gradescope. \n",
    "* **Make sure to assign each page of your pdf to the correct question.**\n",
    "* **It is your responsibility to verify that all of your work shows up in your final PDF submission.**\n",
    "\n",
    "If you are having difficulties scanning, uploading, or submitting your work, please read the [Ed Thread](https://edstem.org/us/courses/35049/discussion/2398718) on this topic and post a follow-up on the general Homework 12 Ed thread."
   ]
  },
  {
   "cell_type": "markdown",
   "id": "c5e7de83-502b-4747-8643-f690d268a013",
   "metadata": {
    "#solution": false,
    "#staff": false,
    "#student": false
   },
   "source": [
    "## **We will not grade assignments which do not have pages selected for each question.** ##"
   ]
  }
 ],
 "metadata": {
  "checksums": [
   "e5019ba5a48e54e4ce3ec831dee737dc",
   "0cd16835f01a065038ef45c8ed1c297c",
   "32f69a09ca5bbedfbdac5ea049b02ccd",
   "79d3b9e4d2003abee17fab3aaee34aad",
   "3f52bfe1019cf7b0a08122c9de47975e",
   "c97115c51db7140b3b42a9f66ab6e8fd",
   "edc2a654819ca63a1772108f8016f75e",
   "562505d567faf02dfc9388e81e89d07b",
   "768024951564d9cb13b59239ab7d6bb0",
   "562505d567faf02dfc9388e81e89d07b",
   "7ab0cf8e22fa991b681bb42617e0067a",
   "562505d567faf02dfc9388e81e89d07b",
   "eec29b0089efc85a94b0ead8e1c020fa",
   "267859882c4a85945ee341de471af8e6",
   "5159b8a527e9201b9e5d31a96708903d",
   "7bbd6a84293ea028417d93cf0e2c1601",
   "41fd6cd8e9769dc5dd44eec098233abd",
   "28b84f784840e42a5b8327aab8f973c0"
  ],
  "kernelspec": {
   "display_name": "Python 3",
   "language": "python",
   "name": "python3"
  },
  "language_info": {
   "codemirror_mode": {
    "name": "ipython",
    "version": 3
   },
   "file_extension": ".py",
   "mimetype": "text/x-python",
   "name": "python",
   "nbconvert_exporter": "python",
   "pygments_lexer": "ipython3",
   "version": "3.7.11"
  },
  "number_of_pagebreaks": 0
 },
 "nbformat": 4,
 "nbformat_minor": 5
}
