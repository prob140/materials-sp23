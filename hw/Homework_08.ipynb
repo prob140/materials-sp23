{
 "cells": [
  {
   "cell_type": "markdown",
   "metadata": {
    "#solution": false,
    "#staff": false,
    "#student": false
   },
   "source": [
    "<table align=\"left\" style=\"border-style: hidden\" class=\"table\"> <tr><td class=\"col-md-2\"><img style=\"float\" src=\"../icon.png\" alt=\"Prob140 Logo\" style=\"width: 120px;\"/></td><td><div align=\"left\"><h3 style=\"margin-top: 0;\">Probability for Data Science</h3><h4 style=\"margin-top: 20px;\">UC Berkeley, Spring 2023</h4><p>Ani Adhikari</p>CC BY-NC-SA 4.0</div></td></tr></table><!-- not in pdf -->\n",
    "\n",
    "This content is protected and may not be shared, uploaded, or distributed."
   ]
  },
  {
   "cell_type": "code",
   "execution_count": null,
   "metadata": {
    "#solution": false,
    "#staff": false,
    "#student": false
   },
   "outputs": [],
   "source": [
    "import warnings\n",
    "warnings.filterwarnings('ignore')\n",
    "\n",
    "from prob140 import *\n",
    "from datascience import *\n",
    "import numpy as np\n",
    "from scipy import stats\n",
    "\n",
    "import matplotlib.pyplot as plt\n",
    "%matplotlib inline\n",
    "import matplotlib\n",
    "matplotlib.style.use('fivethirtyeight')"
   ]
  },
  {
   "cell_type": "markdown",
   "metadata": {
    "#solution": false,
    "#staff": false,
    "#student": false
   },
   "source": [
    "# Homework 8 #"
   ]
  },
  {
   "cell_type": "markdown",
   "metadata": {
    "#solution": false,
    "#staff": false,
    "#student": false
   },
   "source": [
    "### Instructions\n",
    "\n",
    "Your homeworks will generally have two components: a written portion and a portion that also involves code.  Written work should be completed on paper, and coding questions should be done in the notebook. Start the work for the written portions of each section on a new page. You are welcome to $\\LaTeX$ your answers to the written portions, but staff will not be able to assist you with $\\LaTeX$ related issues. \n",
    "\n",
    "It is your responsibility to ensure that both components of the lab are submitted completely and properly to Gradescope. **Make sure to assign each page of your pdf to the correct question. Refer to the bottom of the notebook for submission instructions.**\n",
    "\n",
    "Every answer should contain a calculation or reasoning. For example, a calculation such as $(1/3)(0.8) + (2/3)(0.7)$ or `sum([(1/3)*0.8, (2/3)*0.7])`is fine without further explanation or simplification. If we want you to simplify, we'll ask you to. But just ${5 \\choose 2}$ by itself is not fine; write \"we want any 2 out of the 5 frogs and they can appear in any order\" or whatever reasoning you used. Reasoning can be brief and abbreviated, e.g. \"product rule\" or \"not mutually exclusive.\""
   ]
  },
  {
   "cell_type": "markdown",
   "metadata": {
    "#solution": false,
    "#staff": false,
    "#student": false
   },
   "source": [
    "## 1. The \"Sample Variance\" ###\n",
    "\n",
    "Let $X_1, X_2, \\ldots, X_n$ be i.i.d. (discrete or continuous), each with mean $\\mu$ and SD $\\sigma$. Let $\\bar{X} = \\frac{1}{n}\\sum_{i=1}^n X_i$ be the sample mean.\n",
    "\n",
    "**(a)** Find $E(\\bar{X})$ and $SD(\\bar{X})$. It's fine to just quote answers derived in class or in the textbook.\n",
    "\n",
    "**(b)** For each $i$, find $Cov(X_i, \\bar{X})$. [Plug in the definition of $\\bar{X}$ and use bilinearity.]\n",
    "\n",
    "**(c)** For each $i$ in the range 1 through $n$, define the *$i$th deviation in the sample* as $D_i = X_i - \\bar{X}$. Find $E(D_i)$ and $Var(D_i)$. [Write the variance as $Cov(D_i, D_i)$, plug in the definition of $D_i$, and use bilinearity.]\n",
    "\n",
    "**(d)** Define the random variable $\\hat{\\sigma}^2$ as\n",
    "$$\n",
    "\\hat{\\sigma}^2 ~ = ~ \\frac{1}{n} \\sum_{i=1}^n D_i^2\n",
    "$$\n",
    "Find $E(\\hat{\\sigma}^2)$.\n",
    "\n",
    "For this random variable, the notation $\\hat{\\sigma}^2$ is pretty standard in statistics. Just think of $\\hat{\\sigma}^2$ as a symbol; it doesn't help to start thinking about the random variable that is its square root.\n",
    "\n",
    "**(e)** Use Part **d** to construct a random variable denoted $S^2$ that is an unbiased estimator of $\\sigma^2$. This random variable $S^2$ is called the *sample variance* and is frequently used in inference."
   ]
  },
  {
   "cell_type": "markdown",
   "metadata": {
    "#solution": false,
    "#staff": false,
    "#student": false
   },
   "source": [
    "\\newpage"
   ]
  },
  {
   "cell_type": "markdown",
   "metadata": {
    "#solution": false,
    "#staff": false,
    "#student": false
   },
   "source": [
    "## 2. Poisson-Binomial Distribution\n",
    "\n",
    "For this exercise, please refer to the theory in [Section 14.1](http://prob140.org/textbook/content/Chapter_14/01_Exact_Distribution_of_a_Sum.html#) and the code in [Section 14.2](http://prob140.org/textbook/content/Chapter_14/02_PGFs_in_NumPy.html).\n",
    "\n",
    "In Lab 2B you saw that a *Poisson-binomial* random variable is a sum of independent indicators that are not necessarily identically distributed: \n",
    "\n",
    "$X = I_1 + I_2 + \\cdots + I_n$ where $I_j$ has the Bernoulli $(p_j)$ distribution and $I_1, I_2, \\ldots, I_n$ are independent.\n",
    "\n",
    "**(a)** What is the probability generating function of a Bernoulli $(p)$ random variable? Provide a formula and then use the code cell below to define a function `indicator_pgf` that takes $p$ as its argument and returns the probability generating function of a Bernoulli $(p)$ random variable as a `NumPy` polynomial. Use as many lines as you need. The last line of the cell is there for you to check that your function is working."
   ]
  },
  {
   "cell_type": "code",
   "execution_count": null,
   "metadata": {
    "#solution": false,
    "#staff": false,
    "#student": true
   },
   "outputs": [],
   "source": [
    "# Answer to a\n",
    "\n",
    "def indicator_pgf(p):\n",
    "    ...\n",
    "    return ...\n",
    "\n",
    "print(indicator_pgf(0.4))"
   ]
  },
  {
   "cell_type": "markdown",
   "metadata": {
    "#solution": false,
    "#staff": false,
    "#student": false
   },
   "source": [
    "**(b)** For $j = 1, 2, \\ldots, 20$, let $p_j = 1/(j+1)$. Let $I_1, I_2, \\ldots, I_{20}$ be independent indicators such that $I_j$ has the Bernoulli $(p_j)$ distribution, and let $X = I_1 + I_2 + \\cdots + I_{20}$. Complete the code cell below so that `pgf_X` is the probability generating function of $X$ as a `NumPy` polynomial. Use as many lines as you need. The last two lines are there for you to check that your polynomial has the correct degree and that it is indeed a probability generating function."
   ]
  },
  {
   "cell_type": "code",
   "execution_count": null,
   "metadata": {
    "#solution": false,
    "#staff": false,
    "#student": true
   },
   "outputs": [],
   "source": [
    "# Answer to b\n",
    "\n",
    "...\n",
    "\n",
    "print(pgf_X)\n",
    "sum(pgf_X.c) # sum of coefficients"
   ]
  },
  {
   "cell_type": "markdown",
   "metadata": {
    "#solution": false,
    "#staff": false,
    "#student": false
   },
   "source": [
    "**(c)** Complete the cell below to plot the probability histogram of $X$. Do not add any more lines."
   ]
  },
  {
   "cell_type": "code",
   "execution_count": null,
   "metadata": {
    "#solution": false,
    "#staff": false,
    "#student": true
   },
   "outputs": [],
   "source": [
    "# Answer to c\n",
    "\n",
    "vals_X = ...\n",
    "probs_X = ...\n",
    "dist_X = Table()...\n",
    "Plot(dist_X)"
   ]
  },
  {
   "cell_type": "markdown",
   "metadata": {
    "#solution": false,
    "#staff": false,
    "#student": false
   },
   "source": [
    "**(d)** Complete the cell below to find the expectation, variance, and SD of $X$ using `p_array`. Do not add any more lines. Then run the cell below that to check your answers."
   ]
  },
  {
   "cell_type": "code",
   "execution_count": null,
   "metadata": {
    "#solution": false,
    "#staff": false,
    "#student": true
   },
   "outputs": [],
   "source": [
    "# Answer to d\n",
    "\n",
    "p_array = 1/np.arange(2, 22)\n",
    "ev_X = ...\n",
    "var_X = ...\n",
    "sd_X = ...\n",
    "ev_X, var_X, sd_X"
   ]
  },
  {
   "cell_type": "code",
   "execution_count": null,
   "metadata": {
    "#solution": false,
    "#staff": false,
    "#student": false
   },
   "outputs": [],
   "source": [
    "dist_X.ev(), dist_X.var(), dist_X.sd()"
   ]
  },
  {
   "cell_type": "markdown",
   "metadata": {
    "#solution": false,
    "#staff": false,
    "#student": false
   },
   "source": [
    "**(e)** Explain why the distribution of $X$ cannot be Poisson. Then show that the distribution of $X$ is not binomial either, as follows. If $X$ were binomial, what would $n$ have to be? Use that and your answer to Part (d) to see what $p$ would have to be. Use the code cell below to find the variance of that binomial distribution, and compare with your answer to Part (d)."
   ]
  },
  {
   "cell_type": "code",
   "execution_count": null,
   "metadata": {
    "#solution": false,
    "#staff": false,
    "#student": true
   },
   "outputs": [],
   "source": [
    "# Answer to e\n",
    "\n",
    "n = ...\n",
    "p = ...\n",
    "binomial_variance = ... \n",
    "binomial_variance"
   ]
  },
  {
   "cell_type": "markdown",
   "metadata": {
    "#solution": false,
    "#staff": false,
    "#student": false
   },
   "source": [
    "\\newpage"
   ]
  },
  {
   "cell_type": "markdown",
   "metadata": {
    "#solution": false,
    "#staff": false,
    "#student": false,
    "tags": []
   },
   "source": [
    "## 3. Widths of Confidence Intervals ##\n",
    "In any part of this question that involves a sample size, you can assume the sample size is big enough for the Central Limit Theorem approximation to be good. You should answer on paper, but you can use the code cell provided below for arithmetic or to find standard normal percentages or percentiles. The appropriate libary has been imported at the top of this notebook.\n",
    "\n",
    "**a)** A survey organization has used the methods of our class to construct an approximate 95% confidence interval for the mean annual income of households in a county. The interval runs from $\\$66,000$ to $\\$70,000$. If possible, find an approximate 98% confidence interval for the mean annual income of households in the county. If this is not possible, explain why not.\n",
    "\n",
    "**b)** A survey organization is going to take a simple random sample of $n$ voters from among all the voters in a state, to construct a 98% confidence interval for the proportion of voters who favor a proposition. Find an $n$ such that the total width of the confidence interval (left end to right end) will be no more than 0.06. Remember that you can bound the [variance of an indicator](http://prob140.org/textbook/content/Chapter_12/01_Definition.html#indicator)."
   ]
  },
  {
   "cell_type": "code",
   "execution_count": null,
   "metadata": {
    "#solution": false,
    "#staff": false,
    "#student": true
   },
   "outputs": [],
   "source": [
    "# Code cell for scratch work\n"
   ]
  },
  {
   "cell_type": "markdown",
   "metadata": {
    "#solution": false,
    "#staff": false,
    "#student": false
   },
   "source": [
    "\\newpage"
   ]
  },
  {
   "cell_type": "markdown",
   "metadata": {
    "#solution": false,
    "#staff": false,
    "#student": false,
    "tags": []
   },
   "source": [
    "## 4. Density Operations ##\n",
    "\n",
    "Let the density of $X$ be given by \n",
    "\n",
    "$$\n",
    "f(x) ~ = ~ \n",
    "\\begin{cases}\n",
    "\\frac{3}{2}(1 - x^2) ~~~~~ \\text{ for } 0 \\le x \\le 1\\\\\n",
    "0 ~~~~~~ \\text{ otherwise}\n",
    "\\end{cases}\n",
    "$$\n",
    "\n",
    "Find numerical values for each of the following. **You may not use Sympy or any other symbolic math programs or websites. Show all the calculus and algebra steps on paper**, and use the code cell below for the final numerical calculations. \n",
    "\n",
    "**a)** $P(\\vert X - 0.5 \\vert > 0.2)$\n",
    "\n",
    "**b)** $P(\\vert X - 0.5 \\vert > 0.2 \\mid X > 0.4)$\n",
    "\n",
    "**c)** $E(X)$\n",
    "\n",
    "**d)** $SD(X)$"
   ]
  },
  {
   "cell_type": "code",
   "execution_count": null,
   "metadata": {
    "#solution": false,
    "#staff": false,
    "#student": true
   },
   "outputs": [],
   "source": [
    "# Code cell for calculating final numerical values\n"
   ]
  },
  {
   "cell_type": "markdown",
   "metadata": {
    "#solution": false,
    "#staff": false,
    "#student": false
   },
   "source": [
    "\\newpage"
   ]
  },
  {
   "cell_type": "markdown",
   "metadata": {
    "#solution": false,
    "#staff": false,
    "#student": false
   },
   "source": [
    "## 5. Minimum and Average\n",
    "\n",
    "In this exercise you will discover properties of the sample minimum and the sample average of i.i.d. samples taken from two well-known distributions. If necessary, you can leave answers in terms of the standard normal cdf $\\Phi$.\n",
    "\n",
    "**(a)** Let $U_1, U_2, \\ldots, U_n$ be i.i.d. uniform $(0, 1)$ random variables and let $X_n = \\min\\{U_1, U_2, \\ldots, U_n\\}$. Find the survival function of $X_n$ and hence find the density of $X_n$.\n",
    "\n",
    "**(b)** Let $T_1, T_2, \\ldots, T_n$ be i.i.d. exponential $(\\lambda)$ random variables and let $Y_n = \\min\\{T_1, T_2, \\ldots, T_n\\}$. Find the survival function of $Y_n$ and hence identify the distribution of $Y_n$ as one of the famous ones; remember to provide the relevant parameters.\n",
    "\n",
    "**(c)** Let $U_1, U_2, \\ldots, U_n$ be i.i.d. uniform $(0, 1)$ random variables and let $V_n = \\frac{1}{n} \\sum_{i=1}^n U_i$. For large $n$, find an approximation to the survival function of $V_n$.\n",
    "\n",
    "**(d)** Let $T_1, T_2, \\ldots, T_n$ be i.i.d. exponential $(\\lambda)$ random variables and let $W_n = \\frac{1}{n} \\sum_{i=1}^n T_i$. For large $n$, find an approximation to the survival function of $W_n$."
   ]
  },
  {
   "cell_type": "markdown",
   "metadata": {
    "#solution": false,
    "#staff": false,
    "#student": false
   },
   "source": [
    "\\newpage"
   ]
  },
  {
   "cell_type": "markdown",
   "metadata": {
    "#solution": false,
    "#staff": false,
    "#student": false
   },
   "source": [
    "## 6. Testing Hypotheses in the Gauss Model\n",
    "\n",
    "The [Gauss](https://en.wikipedia.org/wiki/Carl_Friedrich_Gauss) model for measurement error says that repeated measurements $X_1, X_2, \\ldots, X_n$ of the same quantity have the structure\n",
    "\n",
    "$$\n",
    "X_i = \\mu + \\epsilon_i, ~~~~~ 1 \\leq i \\leq n\n",
    "$$\n",
    "\n",
    "where $\\mu$ is an unknown constant called the *true value* and $\\epsilon_1, \\epsilon_2, \\ldots, \\epsilon_n$ are random error terms assumed to be i.i.d. with mean 0 and variance $\\sigma^2$. \n",
    "\n",
    "From a practical perspective, the true value $\\mu$ comes from the quantity being measured (for example, the true weight of an object). The error terms come from the measuring process (for example, from the balance being used for weighing). Thus $\\sigma$ is sometimes known because of extensive experience with the measuring process (for example, having used the same balance to weigh many different objects). \n",
    "\n",
    "So assume that the Gauss model holds with $\\sigma = 1$, and let $n = 100$. Suppose a data scientist wants to test the following hypotheses:\n",
    "\n",
    "- Null hypothesis $H_0$: $\\mu = 20$\n",
    "- Alternative hypothesis $H_A$: $\\mu \\neq 20$\n",
    "\n",
    "Suppose the data scientist wants to use the average measurement $\\bar{X}$ as the test statistic and reject the null hypothesis if $\\vert \\bar{X} - 20 \\vert > 0.175$.\n",
    "\n",
    "**(a)** Rewrite the decision rule by filling in the blanks with numbers: $\\vert \\bar{X} - 20 \\vert > 0.175 \\iff \\bar{X} < \\underline{~~~~~~~~} \\text{ or } \\bar{X} > \\underline{~~~~~~~~}$\n",
    "\n",
    "**(b) Level:** Find the approximate distribution of the test statistic $\\bar{X}$ under $H_0$, and use this distribution to find the approximate probability that the test rejects the null hypothesis if the null hypothesis is true. This probability is called the *level* of the test. In Data 8 we called it the cutoff for the p-value. \n",
    "\n",
    "Please write out your answer, and use the code cell below for scratch work. Remember that `stats.norm.cdf(x, mean, SD)` evaluates to the cdf of the normal $(\\text{mean, } \\text{SD}^2)$ distribution at the point $x$. The necessary modules have been imported at the top of this notebook.\n",
    "\n",
    "**(c) Power:** Suppose that in fact $\\mu = 20.5$ though the data scientist doesn't know this and is still performing the same test as above. Find the approximate distribution of the test statistic $\\bar{X}$ under the condition $\\mu = 20.5$, and use this distribution to find the approximate probability that the test rejects the null hypothesis if $\\mu = 20.5$. This probability is called the *power of the test against the fixed alternative $\\mu = 20.5$*. \n",
    "\n",
    "Please write out your answer, and use the code cell below for scratch work."
   ]
  },
  {
   "cell_type": "code",
   "execution_count": null,
   "metadata": {
    "#solution": false,
    "#staff": false,
    "#student": true
   },
   "outputs": [],
   "source": [
    "# Scratch work for b and c\n"
   ]
  },
  {
   "cell_type": "markdown",
   "metadata": {
    "#solution": false,
    "#staff": false,
    "#student": false
   },
   "source": [
    "**(d)** Complete the code cell below to plot the graph of the power of the test under the fixed alternative $\\mu = \\mu_A$ for $\\mu_A$ in the range `true_mu` below. Do not add any more lines.\n",
    "\n",
    "Computational note: First study the code below and compare with the output of the cell. "
   ]
  },
  {
   "cell_type": "code",
   "execution_count": null,
   "metadata": {
    "#solution": false,
    "#staff": false,
    "#student": false
   },
   "outputs": [],
   "source": [
    "mu_list = [10, 15, 20]  # It's also fine for this to be an array.\n",
    "\n",
    "# array of P(X_i < 12)\n",
    "# for X_i normal with mean = ith element of mu_list\n",
    "# and SD = 8\n",
    "stats.norm.cdf(12, mu_list, 8)"
   ]
  },
  {
   "cell_type": "code",
   "execution_count": null,
   "metadata": {
    "#solution": false,
    "#staff": false,
    "#student": true
   },
   "outputs": [],
   "source": [
    "# Answer to d\n",
    "\n",
    "true_mu = np.arange(19, 21, 0.01)\n",
    "power = ...\n",
    "\n",
    "plt.plot(true_mu, power, color='darkblue', lw=2)\n",
    "plt.xlabel('True value of $\\mu$')\n",
    "plt.title('Power of the Test');"
   ]
  },
  {
   "cell_type": "markdown",
   "metadata": {
    "#solution": false,
    "#staff": false,
    "#student": false
   },
   "source": [
    "**(e)** Interpret the graph. What is the test likely to do if the true value of $\\mu$ is far from 20, and what does the power converge to (be careful!) when the true value gets close to $20$?"
   ]
  },
  {
   "cell_type": "markdown",
   "metadata": {
    "#solution": false,
    "#staff": false,
    "#student": false,
    "jp-MarkdownHeadingCollapsed": true,
    "tags": []
   },
   "source": [
    "## Submission Instructions ##\n",
    "\n",
    "Many assignments throughout the course will have a written portion and a code portion. Please follow the directions below to properly submit both portions.\n",
    "\n",
    "### Written Portion ###\n",
    "*  Scan all the pages into a PDF. You can use any scanner or a phone using applications such as CamScanner. Please **DO NOT** simply take pictures using your phone. \n",
    "* Please start a new page for each question. If you have already written multiple questions on the same page, you can crop the image in CamScanner or fold your page over (the old-fashioned way). This helps expedite grading.\n",
    "* It is your responsibility to check that all the work on all the scanned pages is legible.\n",
    "* If you used $\\LaTeX$ to do the written portions, you do not need to do any scanning; you can just download the whole notebook as a PDF via LaTeX.\n",
    "\n",
    "### Code Portion ###\n",
    "* Save your notebook using `File > Save and Checkpoint`.\n",
    "* Generate a PDF file using `File > Download As > PDF via LaTeX`. This might take a few seconds and will automatically download a PDF version of this notebook.\n",
    "    * If you have issues, please post a follow-up on the general Homework 8 Ed thread.\n",
    "    \n",
    "### Submitting ###\n",
    "* Combine the PDFs from the written and code portions into one PDF. [Here](https://smallpdf.com/merge-pdf) is a useful tool for doing so. \n",
    "* Submit the assignment to Homework 8 on Gradescope. \n",
    "* **Make sure to assign each page of your pdf to the correct question.**\n",
    "* **It is your responsibility to verify that all of your work shows up in your final PDF submission.**\n",
    "\n",
    "If you are having difficulties scanning, uploading, or submitting your work, please read the [Ed Thread](https://edstem.org/us/courses/35049/discussion/2398718) on this topic and post a follow-up on the general Homework 8 Ed thread."
   ]
  },
  {
   "cell_type": "markdown",
   "metadata": {
    "#solution": false,
    "#staff": false,
    "#student": false
   },
   "source": [
    "## **We will not grade assignments which do not have pages selected for each question.** ##"
   ]
  }
 ],
 "metadata": {
  "anaconda-cloud": {},
  "checksums": [
   "e5019ba5a48e54e4ce3ec831dee737dc",
   "f6b7b3f605ba090e0efd9a26d52136e8",
   "4ee85b316530863bdb4d44d6f0b01646",
   "79d3b9e4d2003abee17fab3aaee34aad",
   "f1e5d013050fc7163a07fc0290ef389d",
   "562505d567faf02dfc9388e81e89d07b",
   "2d14a22d1b31beb07265582d716e1b23",
   "32b31b0e84cbe4c0d5c6ca1460b6c024",
   "ffa37178816d68d9528e9d342909628f",
   "396349e9ff32727e2b0da48a9c7af961",
   "89b30f97559ca9f0df973b3ba95ce456",
   "a31727edc3ab1349b3a36489e7134d71",
   "c75e477e5c02a28a91d42c50f20b6ce0",
   "9421cedb441b1af3e0a8c3dff5f0d24f",
   "c487ce8667c98b8bfdb351828ee85254",
   "ad1e53967522a543a357713d61923fab",
   "b5525187fc37da324133ce506b8c91c8",
   "562505d567faf02dfc9388e81e89d07b",
   "a981cb218fefaec4cc23b0c0650f8ad1",
   "548ed6c6b594a0e94aea1d3eb8c5eaaa",
   "562505d567faf02dfc9388e81e89d07b",
   "b623e6d015fb1223fc367c353a24d082",
   "7d251bb3f8d54adf20e6a8596d2795c9",
   "562505d567faf02dfc9388e81e89d07b",
   "f44a40d2c353ec120e4c0fd818e77e6c",
   "562505d567faf02dfc9388e81e89d07b",
   "1d08a01ec6d1f5cdeec6a6b8c6f8c930",
   "de9a11333d48bba590b8b6d9ec80f2f9",
   "696ef4f51f793f12f42a61463a8cfcb4",
   "15e24ee019ee1c730aae6a0118380128",
   "041d0bdf68b2b7c308afa32fad295474",
   "580e12e058798baab3357bf7c98ec453",
   "4262ad21aa0eee8745349e61b90cdcb3",
   "28b84f784840e42a5b8327aab8f973c0"
  ],
  "kernelspec": {
   "display_name": "Python 3",
   "language": "python",
   "name": "python3"
  },
  "language_info": {
   "codemirror_mode": {
    "name": "ipython",
    "version": 3
   },
   "file_extension": ".py",
   "mimetype": "text/x-python",
   "name": "python",
   "nbconvert_exporter": "python",
   "pygments_lexer": "ipython3",
   "version": "3.7.11"
  },
  "number_of_pagebreaks": 0
 },
 "nbformat": 4,
 "nbformat_minor": 4
}
