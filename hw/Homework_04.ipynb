{
 "cells": [
  {
   "cell_type": "markdown",
   "metadata": {
    "#solution": false,
    "#staff": false,
    "#student": false
   },
   "source": [
    "<table align=\"left\" style=\"border-style: hidden\" class=\"table\"> <tr><td class=\"col-md-2\"><img style=\"float\" src=\"../icon.png\" alt=\"Data 140 Logo\" style=\"width: 120px;\"/></td><td><div align=\"left\"><h3 style=\"margin-top: 0;\">Probability for Data Science</h3><h4 style=\"margin-top: 20px;\">UC Berkeley, Spring 2023</h4><p>Ani Adhikari</p>CC BY-NC-SA 4.0</div></td></tr></table><!-- not in pdf -->\n",
    "\n",
    "This content is protected and may not be shared, uploaded, or distributed."
   ]
  },
  {
   "cell_type": "code",
   "execution_count": null,
   "metadata": {
    "#solution": false,
    "#staff": false,
    "#student": false
   },
   "outputs": [],
   "source": [
    "import warnings\n",
    "warnings.filterwarnings('ignore')\n",
    "\n",
    "from datascience import *\n",
    "from prob140 import *\n",
    "import numpy as np\n",
    "from scipy import stats\n",
    "from scipy import special\n",
    "\n",
    "%matplotlib inline\n",
    "import matplotlib.pyplot as plt\n",
    "plt.style.use('fivethirtyeight')"
   ]
  },
  {
   "cell_type": "markdown",
   "metadata": {
    "#solution": false,
    "#staff": false,
    "#student": false
   },
   "source": [
    "# Homework 4 #"
   ]
  },
  {
   "cell_type": "markdown",
   "metadata": {
    "#solution": false,
    "#staff": false,
    "#student": false
   },
   "source": [
    "### Instructions\n",
    "\n",
    "Your homeworks will generally have two components: a written portion and a portion that also involves code.  Written work should be completed on paper, and coding questions should be done in the notebook. Start the work for the written portions of each section on a new page. You are welcome to $\\LaTeX$ your answers to the written portions, but staff will not be able to assist you with $\\LaTeX$ related issues. \n",
    "\n",
    "It is your responsibility to ensure that both components of the lab are submitted completely and properly to Gradescope. **Make sure to assign each page of your pdf to the correct question. Refer to the bottom of the notebook for submission instructions.**\n",
    "\n",
    "Every answer should contain a calculation or reasoning. For example, a calculation such as $(1/3)(0.8) + (2/3)(0.7)$ or `sum([(1/3)*0.8, (2/3)*0.7])`is fine without further explanation or simplification. If we want you to simplify, we'll ask you to. But just ${5 \\choose 2}$ by itself is not fine; write \"we want any 2 out of the 5 frogs and they can appear in any order\" or whatever reasoning you used. Reasoning can be brief and abbreviated, e.g. \"product rule\" or \"not mutually exclusive.\""
   ]
  },
  {
   "cell_type": "markdown",
   "metadata": {
    "#solution": false,
    "#staff": false,
    "#student": false
   },
   "source": [
    "## 1. Aces and Face Cards ##\n",
    "\n",
    "A standard deck consists of 52 cards of which 4 are aces, 4 are kings, and 12 (including the four kings) are \"face cards\" (Jacks, Queens, and Kings).\n",
    "\n",
    "Cards are dealt at random without replacement from a standard deck till all the cards have been dealt. \n",
    "\n",
    "Find the expectation of the following. Each can be done with almost no calculation if you use symmetry. \n",
    "\n",
    "**a)** The number of face cards among the first 5 cards\n",
    "\n",
    "**b)** The number of face cards that *do not* appear among the first 13 cards\n",
    "\n",
    "**c)** The number of aces among the first 5 cards minus the number of kings among the last 5 cards\n",
    "\n",
    "**d)** The number of cards before the first face card \n",
    "\n",
    "**e)** The number of cards strictly in between the first face card and the last face card\n",
    "\n",
    "**f)** The number of aces before the first face card"
   ]
  },
  {
   "cell_type": "markdown",
   "metadata": {
    "#solution": false,
    "#staff": false,
    "#student": false
   },
   "source": [
    "## 2. Unbiased Estimators ##\n",
    "\n",
    "**a)** A population of known size $N$ contains an unknown number $G$ of good elements. Let $X$ be the number of good elements in a simple random sample of size $n$ drawn from this population. Use $X$ to construct an unbiased estimator of $G$.\n",
    "\n",
    "\n",
    "**b)** Would your answer to Part **a** have been different if $X$ had been the number of good elements in a random sample drawn with replacement from the population? Why or why not?\n",
    "\n",
    "**c)** A flattened die lands 1 and 6 with chance $p/2$ each, and the other faces 2, 3, 4, and 5 with chance $(1-p)/4$ each. Here $p \\in (0, 1)$ is an unknown number. Let $X_1, X_2, \\ldots, X_n$ be the results of $n$ rolls of this die. First find $E(\\vert X_1 - 3.5 \\vert)$, and use the answer to construct an unbiased estimator of $p$ based on all of $X_1, X_2, \\ldots, X_n$."
   ]
  },
  {
   "cell_type": "markdown",
   "metadata": {
    "#solution": false,
    "#staff": false,
    "#student": false
   },
   "source": [
    "## 3. Collecting Distinct Values ##\n",
    "\n",
    "This exercise is a workout in finding expectations by using all the tools at your disposal. If an answer doesn't appear to fit into a formula that has already been proven, it's a very good idea to try to write the variable as a sum of simpler variables.\n",
    "\n",
    "**a)** A fair die is rolled $n$ times. Find the expected number of times the face with six spots appears.\n",
    "\n",
    "**b)** A fair die is rolled $n$ times. Find the expected number of faces that *do not* appear, and say what happens to this expectation as $n$ increases.\n",
    "\n",
    "**c)** Use your answer to Part **b** to find the expected number of distinct faces that *do* appear in $n$ rolls of a die.\n",
    "\n",
    "**d)** Find the expected number of times you have to roll a die till you have seen all of the faces. This is a version of what is known as the *coupon collector's problem*.\n"
   ]
  },
  {
   "cell_type": "markdown",
   "metadata": {
    "#solution": false,
    "#staff": false,
    "#student": false
   },
   "source": [
    "## 4. Fun with Indicators: The Inclusion-Exclusion Formula ##\n",
    "\n",
    "We guessed the general inclusion-exclusion formula (see [Section 5.2](http://prob140.org/textbook/content/Chapter_05/02_Inclusion_Exclusion.html#general-inclusion-exclusion-formula) of the textbook) but we never proved it. Let's get that done.\n",
    "\n",
    "**a)** Let $x_1, x_2, \\ldots, x_n$ be numbers. Expand the product $(1-x_1)(1-x_2)$ and then expand $(1-x_1)(1-x_2)(1-x_3)$ by using the expansion you got for $(1-x_1)(1-x_2)$. Now guess a formula for the expansion of the product\n",
    "\n",
    "$$\n",
    "\\prod_{i=1}^n (1 - x_i)\n",
    "$$\n",
    "\n",
    "and use induction to prove it. The induction shouldn't take many steps. It consists of just two observations, both of which can be expressed in English without complicated notation.\n",
    "\n",
    "**b)** Let $A_1, A_2, \\ldots, A_n$ be events. For each $i$ in the range 1 through $n$ let $I_i$ be the indicator of $A_i$. Let $I$ be the indicator of $\\cup_{i=1}^n A_i$. Explain why\n",
    "\n",
    "$$\n",
    "I ~ = ~ 1 - \\prod_{i=1}^n (1 - I_i)\n",
    "$$\n",
    "\n",
    "**c)** Use Parts **a** and **b** to establish the inclusion-exclusion formula."
   ]
  },
  {
   "cell_type": "markdown",
   "metadata": {
    "#solution": false,
    "#staff": false,
    "#student": false
   },
   "source": [
    "## 5. Random Numbers of Trials ##\n",
    "As in lecture and the textbook, we will use \"$p$-coin\" to mean a coin that lands heads with probability $p$.  \n",
    "\n",
    "**a)** In a randomized controlled experiment, it costs researchers $t$ dollars to study each subject in the treatment group and $c$ dollars to study each subject in the control group. Suppose each of $n$ subjects is randomized into one of the two groups according to whether a $p$-coin lands heads (treatment) or tails (control). Find the expected total cost to study all $n$ subjects.\n",
    "\n",
    "**b)** I toss $n$ $p$-coins. Those that land tails I toss again, and then I stop. Find the expected total number of heads.\n",
    "\n",
    "**c)** I have one 0.25-coin, one fair coin, and three 0.75-coins. I pick one of the five coins at random and toss it till I get 10 heads. Find the numerical value of the expected number of tosses."
   ]
  },
  {
   "cell_type": "markdown",
   "metadata": {
    "#solution": false,
    "#staff": false,
    "#student": false
   },
   "source": [
    "## 6. Waiting for a Success Run ##\n",
    "**Required Reading:** Before you start this section, carefully read **Answer 2** of [Section 9.3.4](http://prob140.org/textbook/content/Chapter_09/03_Expected_Waiting_Times.html#waiting-till-hh). That is the method you will apply in this exercise.\n",
    "\n",
    "In a sequence of i.i.d. Bernoulli $(p)$ trials, let H represent \"heads\" or \"success\", that is, the event that occurs with probability $p$. Let $W_{H,n}$ be the number of trials till you get $n$ heads in a row. \n",
    "\n",
    "Remember that \"till\" means \"up to and including\" the $n$ heads in a row. Thus if the sequence of tosses starts out as TTTHTHHH then $W_{H,1} = 4$, $W_{H,2} = 7$, and $W_{H,3} = 8$.\n",
    "\n",
    "**(a)** [These results are in the book but it will help to have them here for reference. You don't have to prove them here.] Write $E(W_{H,1})$ and $E(W_{H,2})$ as math expressions involving **only** positive terms of the form $1/p^k$ for positive integer $k$. \n",
    "\n",
    "**(b) Three heads in a row.** In Answer 2 of [Section 9.3.4](http://prob140.org/textbook/content/Chapter_09/03_Expected_Waiting_Times.html#waiting-till-hh), we condition on $W_{H,1}$ to get $E(W_{H,2})$. Now condition on $W_{H,2}$ to find $E(W_{H,3})$. As above, your answer should involve only positive terms of the form $1/p^k$ for positive integer $k$. Find the numerical value of $E(W_{H,3})$ in the case $p = 1/2$.\n",
    "\n",
    "**(c) $n$ heads in a row.** Guess an expression for $E(W_{H,n})$ for $n \\ge 1$. Prove it by induction, as follows: Assume that your guess is true for $n$, and show that then it must also be true for $n+1$. \n",
    "\n",
    "**(d)** Define a function `ev_W_run` that takes $p$ and $n$ as arguments and returns $E(W_{H,n})$. Just replace the ellipsis by an expression. Do not add any other lines of code."
   ]
  },
  {
   "cell_type": "code",
   "execution_count": null,
   "metadata": {
    "#solution": false,
    "#staff": false,
    "#student": true
   },
   "outputs": [],
   "source": [
    "# Answer to d\n",
    "\n",
    "def ev_W_run(p, n):\n",
    "    return ..."
   ]
  },
  {
   "cell_type": "markdown",
   "metadata": {
    "#solution": false,
    "#staff": false,
    "#student": false
   },
   "source": [
    "Check that your function works by running the cell below and confirming that the answer is the same as what you got in Part **b**."
   ]
  },
  {
   "cell_type": "code",
   "execution_count": null,
   "metadata": {
    "#solution": false,
    "#staff": false,
    "#student": true
   },
   "outputs": [],
   "source": [
    "ev_W_run(0.5, 3)"
   ]
  },
  {
   "cell_type": "markdown",
   "metadata": {
    "#solution": false,
    "#staff": false,
    "#student": false
   },
   "source": [
    "Now use `ev_W_run` to find the expectation of each of the following random variables.\n",
    "\n",
    "**(1)** The number of tosses of a fair coin till 10 consecutive heads appear \n",
    "\n",
    "**(2)** The number of rolls of a fair die till six consecutive sixes appear\n",
    "\n",
    "**(3)** The number of times a random number generator is run till 000 appears, if the generator draws at random with replacement from the 10 digits 0, 1, 2, 3, 4, 5, 6, 7, 8, and 9\n",
    "\n",
    "**(4)** The number of days till a robot types $ZZZZZ$ if the robot types at the rate of 10 letters per second (without breaks) and chooses letters at random with replacement from the 26 upper case letters of the English alphabet"
   ]
  },
  {
   "cell_type": "code",
   "execution_count": null,
   "metadata": {
    "#solution": false,
    "#staff": false,
    "#student": true
   },
   "outputs": [],
   "source": [
    "# Expected number of:\n",
    "\n",
    "# (1) fair coin tosses till 10 consecutive heads\n",
    "ans_1 = ...\n",
    "\n",
    "# (2) rolls of a die till 6 consecutive sixes\n",
    "ans_2 = ...\n",
    "\n",
    "# (3) runs of a random number generator till 000\n",
    "ans_3 = ...\n",
    "\n",
    "# (4) days till ZZZZZ by robot typist\n",
    "ans_4 = ...\n",
    "\n",
    "ans_1, ans_2, ans_3, ans_4"
   ]
  },
  {
   "cell_type": "markdown",
   "metadata": {
    "#solution": false,
    "#staff": false,
    "#student": false
   },
   "source": [
    "## Submission Instructions ##\n",
    "\n",
    "Many assignments throughout the course will have a written portion and a code portion. Please follow the directions below to properly submit both portions.\n",
    "\n",
    "### Written Portion ###\n",
    "*  Scan all the pages into a PDF. You can use any scanner or a phone using applications such as CamScanner. Please **DO NOT** simply take pictures using your phone. \n",
    "* Please start a new page for each question. If you have already written multiple questions on the same page, you can crop the image in CamScanner or fold your page over (the old-fashioned way). This helps expedite grading.\n",
    "* It is your responsibility to check that all the work on all the scanned pages is legible.\n",
    "* If you used $\\LaTeX$ to do the written portions, you do not need to do any scanning; you can just download the whole notebook as a PDF via LaTeX.\n",
    "\n",
    "### Code Portion ###\n",
    "* Save your notebook using `File > Save and Checkpoint`.\n",
    "* Generate a PDF file using `File > Download As > PDF via LaTeX`. This might take a few seconds and will automatically download a PDF version of this notebook.\n",
    "    * If you have issues, please post a follow-up on the general Homework 4 Ed thread.\n",
    "    \n",
    "### Submitting ###\n",
    "* Combine the PDFs from the written and code portions into one PDF. [Here](https://smallpdf.com/merge-pdf) is a useful tool for doing so. \n",
    "* Submit the assignment to Homework 4 on Gradescope. \n",
    "* **Make sure to assign each page of your pdf to the correct question.**\n",
    "* **It is your responsibility to verify that all of your work shows up in your final PDF submission.**\n",
    "\n",
    "If you are having difficulties scanning, uploading, or submitting your work, please read the [Ed Thread](https://edstem.org/us/courses/35049/discussion/2398718) on this topic and post a follow-up on the general Homework 4 Ed thread."
   ]
  },
  {
   "cell_type": "markdown",
   "metadata": {
    "#solution": false,
    "#staff": false,
    "#student": false
   },
   "source": [
    "## **We will not grade assignments which do not have pages selected for each question.** ##"
   ]
  }
 ],
 "metadata": {
  "checksums": [
   "3b0a711c58f1b67a5c71e51e74f0b083",
   "0a152d7141294de79f6f69370ea8b582",
   "996208cdfd34f4af0d96d183afb43c47",
   "79d3b9e4d2003abee17fab3aaee34aad",
   "52f649deadbacca68cfdcea617434269",
   "178c5635ab16878ee7197fe01076d7ab",
   "8ea8671a0117123fdc135f082b533bc1",
   "60281ecd86f650ce6c392c9fd665151a",
   "2af9e6581f94910108d02dc46650da30",
   "9e4981ed7c9fdf262c447d34d71b7d7f",
   "27029c7cff7a69b04f49b5fb04a2ca0d",
   "57015ed4dea3185d90bf4f96e54c73cf",
   "97ad7cec01bae15e500d2a55e4b1acb2",
   "45b1226308ef82b406c658a5398cb030",
   "2bcb3c5f3a45364abfc19afebfa2fc75",
   "94f1e8dfe000951ea9ddeba51132f443",
   "28b84f784840e42a5b8327aab8f973c0"
  ],
  "kernelspec": {
   "display_name": "Python 3",
   "language": "python",
   "name": "python3"
  },
  "language_info": {
   "codemirror_mode": {
    "name": "ipython",
    "version": 3
   },
   "file_extension": ".py",
   "mimetype": "text/x-python",
   "name": "python",
   "nbconvert_exporter": "python",
   "pygments_lexer": "ipython3",
   "version": "3.7.11"
  },
  "number_of_pagebreaks": 0
 },
 "nbformat": 4,
 "nbformat_minor": 4
}
