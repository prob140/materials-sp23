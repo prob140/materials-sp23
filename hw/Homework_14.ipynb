{
 "cells": [
  {
   "cell_type": "markdown",
   "id": "23dbf19e",
   "metadata": {
    "#solution": false,
    "#staff": false,
    "#student": false,
    "tags": []
   },
   "source": [
    "<table align=\"left\" style=\"border-style: hidden\" class=\"table\"> <tr><td class=\"col-md-2\"><img style=\"float\" src=\"../icon.png\" alt=\"Prob140 Logo\" style=\"width: 120px;\"/></td><td><div align=\"left\"><h3 style=\"margin-top: 0;\">Probability for Data Science</h3><h4 style=\"margin-top: 20px;\">UC Berkeley, Spring 2023</h4><p>Ani Adhikari</p>CC BY-NC-SA 4.0</div></td></tr></table><!-- not in pdf -->\n",
    "\n",
    "This content is protected and may not be shared, uploaded, or distributed."
   ]
  },
  {
   "cell_type": "code",
   "execution_count": null,
   "id": "085fc905-b2ae-4cf8-8970-84b710529fff",
   "metadata": {
    "#solution": false,
    "#staff": false,
    "#student": false
   },
   "outputs": [],
   "source": [
    "# Run this cell to set up your notebook\n",
    "\n",
    "# These lines make warnings go away\n",
    "import warnings\n",
    "warnings.filterwarnings('ignore')\n",
    "\n",
    "import numpy as np\n",
    "from scipy import stats\n",
    "from datascience import *\n",
    "from prob140 import *\n",
    "\n",
    "# These lines do some fancy plotting magic\n",
    "import matplotlib\n",
    "%matplotlib inline\n",
    "import matplotlib.pyplot as plt\n",
    "plt.style.use('fivethirtyeight')"
   ]
  },
  {
   "cell_type": "markdown",
   "id": "3aac5a70-966c-4be3-ab23-7ce69af85b66",
   "metadata": {
    "#solution": false,
    "#staff": false,
    "#student": false,
    "tags": []
   },
   "source": [
    "# Homework 14"
   ]
  },
  {
   "cell_type": "markdown",
   "id": "6b27dc38",
   "metadata": {
    "#solution": false,
    "#staff": false,
    "#student": false,
    "tags": []
   },
   "source": [
    "### Instructions\n",
    "\n",
    "Your homeworks will generally have two components: a written portion and a portion that also involves code.  Written work should be completed on paper, and coding questions should be done in the notebook. Start the work for the written portions of each section on a new page. You are welcome to $\\LaTeX$ your answers to the written portions, but staff will not be able to assist you with $\\LaTeX$ related issues. \n",
    "\n",
    "It is your responsibility to ensure that both components of the lab are submitted completely and properly to Gradescope. **Make sure to assign each page of your pdf to the correct question. Refer to the bottom of the notebook for submission instructions.**\n",
    "\n",
    "Every answer should contain a calculation or reasoning. For example, a calculation such as $(1/3)(0.8) + (2/3)(0.7)$ or `sum([(1/3)*0.8, (2/3)*0.7])`is fine without further explanation or simplification. If we want you to simplify, we'll ask you to. But just ${5 \\choose 2}$ by itself is not fine; write \"we want any 2 out of the 5 frogs and they can appear in any order\" or whatever reasoning you used. Reasoning can be brief and abbreviated, e.g. \"product rule\" or \"not mutually exclusive.\""
   ]
  },
  {
   "cell_type": "markdown",
   "id": "480dbda0-6010-4626-8923-64c3abc90ec8",
   "metadata": {
    "#solution": false,
    "#staff": false,
    "#student": false
   },
   "source": [
    "## 1. Predicting Scores ##\n",
    "\n",
    "[Your answers to this question should be decimal values or equations with numerical coefficients. For the arithmetic, you are welcome use the code cell at the end of the question. It's just there for your convenience – we won't read it.]\n",
    "\n",
    "Grades in a class are based on a linear combination of a final exam (worth 50% of the grade), a midterm (worth 30%), and homework (worth 20%). Let the random vector $[F ~~ M ~~ H]^T$ consist of the final, midterm, and homework scores of a randomly picked student.\n",
    "\n",
    "Suppose the mean vector of $[F ~~ M ~~ H]^T$ is $[60 ~~ 55 ~~ 80]^T$ and the covariance matrix is\n",
    "\n",
    "$$\n",
    "\\begin{bmatrix}\n",
    "121 & 80 & 10 \\\\\n",
    "80 & 144 & 15 \\\\\n",
    "10 & 15 & 9\n",
    "\\end{bmatrix}\n",
    "$$\n",
    "\n",
    "Suppose the distribution of $[F ~~ M ~~ H]^T$ is multivariate normal. \n",
    "\n",
    "**a)** Find the distribution of the student's overall score $S = 0.5F + 0.3M + 0.2H$.\n",
    "\n",
    "**b)** The instructor wonders whether the final exam score $F$ can just be predicted by a linear function of the random variable $X = 0.3M + 0.2H$. Explain whether the least squares predictor of $F$ based on $X$ is linear and why. Then find the least squares predictor of $F$ based on $X$.\n",
    "\n",
    "**c)** Find the root mean squared error of the predictor in Part **b**."
   ]
  },
  {
   "cell_type": "code",
   "execution_count": null,
   "id": "5279f13f-d73e-4249-a970-f585535742ec",
   "metadata": {
    "#solution": false,
    "#staff": false,
    "#student": true
   },
   "outputs": [],
   "source": [
    "weight = np.matrix([0.5, 0.3, 0.2])\n",
    "mu = np.matrix([60, 55, 80])\n",
    "cov = np.matrix([[121, 80, 10], \n",
    "      [80, 144, 15],\n",
    "      [10, 15, 9]])\n",
    "\n",
    "..."
   ]
  },
  {
   "cell_type": "markdown",
   "id": "cba240eb-9f09-46f9-9620-96417405a0f0",
   "metadata": {
    "#solution": false,
    "#staff": false,
    "#student": false
   },
   "source": [
    "\\newpage"
   ]
  },
  {
   "cell_type": "markdown",
   "id": "79127024-4b6c-44c5-aa58-b86956ff5843",
   "metadata": {
    "#solution": false,
    "#staff": false,
    "#student": false
   },
   "source": [
    "## 2. Normal Sample Mean and Sample Variance, Part 1 ##\n",
    "\n",
    "Let $X_1, X_2, \\ldots, X_n$ be i.i.d. with mean $\\mu$ and variance $\\sigma^2$. Let\n",
    "\n",
    "$$\n",
    "\\bar{X} ~ = ~ \\frac{1}{n} \\sum_{i=1}^n X_i\n",
    "$$\n",
    "\n",
    "denote the sample mean. In [Homework 8](http://prob140.datahub.berkeley.edu/hub/user-redirect/git-pull?repo=https://github.com/prob140/materials-sp23&branch=main&subPath=hw/Homework_08.ipynb), you constructed a random variable\n",
    "\n",
    "$$S^2 = \\frac{1}{n - 1} \\sum_{i=1}^n (X_i - \\bar{X})^2$$ \n",
    "\n",
    "called the sample variance. Before proceeding, please review Homework 8, Question 1 in its entirety.\n",
    "\n",
    "**a)** For $1 \\le i \\le n$ let $D_i = X_i - \\bar{X}$. Find $Cov(D_i, \\bar{X})$.\n",
    "\n",
    "**b)** Now assume in addition that $X_1, X_2, \\ldots, X_n$ are i.i.d. normal $(\\mu, \\sigma^2)$. What is the joint distribution of $\\bar{X}, D_1, D_2, \\ldots, D_{n-1}$? Explain why $D_n$ isn't on the list.\n",
    "\n",
    "**c)** True or false (justify your answer): The sample mean and sample variance of an i.i.d. normal sample are independent of each other."
   ]
  },
  {
   "cell_type": "markdown",
   "id": "dd896419-6521-4655-85ca-1310dba611a5",
   "metadata": {
    "#solution": false,
    "#staff": false,
    "#student": false
   },
   "source": [
    "\\newpage"
   ]
  },
  {
   "cell_type": "markdown",
   "id": "740f2e15-46da-46aa-9e73-206843ccfc60",
   "metadata": {
    "#solution": false,
    "#staff": false,
    "#student": false
   },
   "source": [
    "## 3. Normal Sample Mean and Sample Variance, Part 2 ##\n",
    "\n",
    "**a)** Let $R$ have the chi-squared distribution with $n$ degrees of freedom. What is the mgf of $R$?\n",
    "\n",
    "**b)**\n",
    "For $R$ as in Part (a), suppose\n",
    "$R = V + W$ where $V$ and $W$ are independent and $V$ has the chi-squared \n",
    "distribution with $m < n$ degrees of freedom. Can you identify the distribution of $W$? Justify your answer.\n",
    "\n",
    "**c)** Let $X_1, X_2, \\ldots , X_n$ be any sequence of random variables and let $\\bar{X} = \\frac{1}{n}\\sum_{i=1}^n X_i$. Let $\\alpha$ be\n",
    "any constant. Prove the *sum of squares decomposition*\n",
    "\n",
    "$$\n",
    "\\sum_{i=1}^n (X_i - \\alpha)^2 ~=~ \\sum_{i=1}^n (X_i - \\bar{X})^2 ~+~ n(\\bar{X} - \\alpha)^2\n",
    "$$\n",
    "\n",
    "**d)** Now let $X_1, X_2, \\ldots , X_n$ be i.i.d. normal with mean $\\mu$ and variance $\\sigma^2 > 0$. Let $S^2$ be the \"sample variance\" defined by \n",
    "\n",
    "$$\n",
    "S^2 ~=~ \\frac{1}{n-1} \\sum_{i=1}^n (X_i - \\bar{X})^2\n",
    "$$\n",
    "\n",
    "Find a constant $c$ such that $cS^2$ has a chi-squared distribution. Provide the degrees of freedom.\n",
    "\n",
    "[Use Parts (b) and (c) as well as the result of the previous exercise.]"
   ]
  },
  {
   "cell_type": "markdown",
   "id": "43d6ffc1-258d-4407-8010-cf5355a99927",
   "metadata": {
    "#solution": false,
    "#staff": false,
    "#student": false
   },
   "source": [
    "\\newpage"
   ]
  },
  {
   "cell_type": "markdown",
   "id": "53805849-6d14-49b7-acb5-ec35b0d135a6",
   "metadata": {
    "#solution": false,
    "#staff": false,
    "#student": false
   },
   "source": [
    "## 4. Multiple Regression: Residuals ##\n",
    "\n",
    "This exercise assumes the multiple regression model of [Section 25.4](http://prob140.org/textbook/content/Chapter_25/04_Multiple_Regression.html) of the textbook and uses the same notation as in that section. \n",
    "\n",
    "The regression estimate $\\hat{\\mathbf{Y}}$ can be written as $\\mathbf{HY}$ for an $n \\times n$ matrix $\\mathbf{H}$. This matrix is called the *hat matrix*, probably because it ''puts the hat on $\\mathbf{Y}$.''\n",
    "\n",
    "**a)** Write $\\mathbf{H}$ in terms of $\\mathbf{X}$. Is $\\mathbf{H}$ symmetric?\n",
    "\n",
    "**b)** Show that $\\mathbf{H}$ is idempotent. (If you haven't seen that term before, look it up.)\n",
    "\n",
    "**c)** Find the distribution of the residual vector $\\mathbf{e}$.\n",
    "\n",
    "**d)** Show that the covariance matrix of $\\mathbf{e}$ is $\\sigma^2(\\mathbf{I} - \\mathbf{H})$."
   ]
  },
  {
   "cell_type": "markdown",
   "id": "d0f99e63",
   "metadata": {
    "#solution": false,
    "#staff": false,
    "#student": false,
    "jp-MarkdownHeadingCollapsed": true,
    "tags": []
   },
   "source": [
    "## Submission Instructions ##\n",
    "\n",
    "Many assignments throughout the course will have a written portion and a code portion. Please follow the directions below to properly submit both portions.\n",
    "\n",
    "### Written Portion ###\n",
    "*  Scan all the pages into a PDF. You can use any scanner or a phone using applications such as CamScanner. Please **DO NOT** simply take pictures using your phone. \n",
    "* Please start a new page for each question. If you have already written multiple questions on the same page, you can crop the image in CamScanner or fold your page over (the old-fashioned way). This helps expedite grading.\n",
    "* It is your responsibility to check that all the work on all the scanned pages is legible.\n",
    "* If you used $\\LaTeX$ to do the written portions, you do not need to do any scanning; you can just download the whole notebook as a PDF via LaTeX.\n",
    "\n",
    "### Code Portion ###\n",
    "* Save your notebook using `File > Save and Checkpoint`.\n",
    "* Generate a PDF file using `File > Download As > PDF via LaTeX`. This might take a few seconds and will automatically download a PDF version of this notebook.\n",
    "    * If you have issues, please post a follow-up on the general Homework 14 Ed thread.\n",
    "    \n",
    "### Submitting ###\n",
    "* Combine the PDFs from the written and code portions into one PDF. [Here](https://smallpdf.com/merge-pdf) is a useful tool for doing so. \n",
    "* Submit the assignment to Homework 14 on Gradescope. \n",
    "* **Make sure to assign each page of your pdf to the correct question.**\n",
    "* **It is your responsibility to verify that all of your work shows up in your final PDF submission.**\n",
    "\n",
    "If you are having difficulties scanning, uploading, or submitting your work, please read the [Ed Thread](https://edstem.org/us/courses/35049/discussion/2398718) on this topic and post a follow-up on the general Homework 14 Ed thread."
   ]
  },
  {
   "cell_type": "markdown",
   "id": "c5e7de83-502b-4747-8643-f690d268a013",
   "metadata": {
    "#solution": false,
    "#staff": false,
    "#student": false
   },
   "source": [
    "## **We will not grade assignments which do not have pages selected for each question.** ##"
   ]
  }
 ],
 "metadata": {
  "checksums": [
   "e5019ba5a48e54e4ce3ec831dee737dc",
   "0cd16835f01a065038ef45c8ed1c297c",
   "9d2b2e285a4f74f288e7a855e71be1f0",
   "79d3b9e4d2003abee17fab3aaee34aad",
   "a3acceed15a29ec882595497ede2ae09",
   "08fd9af0fbb917d6dcb1f32ebcc01c1a",
   "562505d567faf02dfc9388e81e89d07b",
   "4250013052524ed3402d91b2c268a04b",
   "562505d567faf02dfc9388e81e89d07b",
   "a8370eb9ae761b61d2dca9b9514d05f3",
   "562505d567faf02dfc9388e81e89d07b",
   "dde81ac5ba23bbf9361a5770f9252c34",
   "577b60a9ea6b4d0804174d692cb2ca1f",
   "28b84f784840e42a5b8327aab8f973c0"
  ],
  "kernelspec": {
   "display_name": "Python 3",
   "language": "python",
   "name": "python3"
  },
  "language_info": {
   "codemirror_mode": {
    "name": "ipython",
    "version": 3
   },
   "file_extension": ".py",
   "mimetype": "text/x-python",
   "name": "python",
   "nbconvert_exporter": "python",
   "pygments_lexer": "ipython3",
   "version": "3.7.11"
  },
  "number_of_pagebreaks": 0
 },
 "nbformat": 4,
 "nbformat_minor": 5
}
