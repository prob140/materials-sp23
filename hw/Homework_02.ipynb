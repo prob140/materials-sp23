{
 "cells": [
  {
   "cell_type": "markdown",
   "metadata": {
    "#solution": false,
    "#staff": false,
    "#student": false
   },
   "source": [
    "<table align=\"left\" style=\"border-style: hidden\" class=\"table\"> <tr><td class=\"col-md-2\"><img style=\"float\" src=\"../icon.png\" alt=\"Data 140 Logo\" style=\"width: 120px;\"/></td><td><div align=\"left\"><h3 style=\"margin-top: 0;\">Probability for Data Science</h3><h4 style=\"margin-top: 20px;\">UC Berkeley, Spring 2023</h4><p>Ani Adhikari</p>CC BY-NC-SA 4.0</div></td></tr></table><!-- not in pdf -->\n",
    "\n",
    "This content is protected and may not be shared, uploaded, or distributed."
   ]
  },
  {
   "cell_type": "code",
   "execution_count": null,
   "metadata": {
    "#solution": false,
    "#staff": false,
    "#student": false
   },
   "outputs": [],
   "source": [
    "from prob140 import *\n",
    "from datascience import *\n",
    "import numpy as np\n",
    "from scipy import special\n",
    "\n",
    "import matplotlib.pyplot as plt\n",
    "%matplotlib inline\n",
    "import matplotlib\n",
    "matplotlib.style.use('fivethirtyeight')"
   ]
  },
  {
   "cell_type": "markdown",
   "metadata": {
    "#solution": false,
    "#staff": false,
    "#student": false
   },
   "source": [
    "# Homework 2 #"
   ]
  },
  {
   "cell_type": "markdown",
   "metadata": {
    "#solution": false,
    "#staff": false,
    "#student": false
   },
   "source": [
    "### Instructions\n",
    "\n",
    "Your homeworks will generally have two components: a written portion and a portion that also involves code.  Written work should be completed on paper, and coding questions should be done in the notebook. Start the work for the written portions of each section on a new page. You are welcome to $\\LaTeX$ your answers to the written portions, but staff will not be able to assist you with $\\LaTeX$ related issues. \n",
    "\n",
    "It is your responsibility to ensure that both components of the lab are submitted completely and properly to Gradescope. **Make sure to assign each page of your pdf to the correct question. Refer to the bottom of the notebook for submission instructions.**\n",
    "\n",
    "Every answer should contain a calculation or reasoning. For example, a calculation such as $(1/3)(0.8) + (2/3)(0.7)$ or `sum([(1/3)*0.8, (2/3)*0.7])`is fine without further explanation or simplification. If we want you to simplify, we'll ask you to. But just ${5 \\choose 2}$ by itself is not fine; write \"we want any 2 out of the 5 frogs and they can appear in any order\" or whatever reasoning you used. Reasoning can be brief and abbreviated, e.g. \"product rule\" or \"not mutually exclusive.\""
   ]
  },
  {
   "cell_type": "markdown",
   "metadata": {
    "#solution": false,
    "#staff": false,
    "#student": false
   },
   "source": [
    "## 1. Random Coin ##\n",
    "\n",
    "This exercise is an introduction to experiments in which randomizing a parameter can affect dependence and independence. The setting is simple but powerful: it demonstrates some fundamental ideas of Bayesian prediction. We will use the same ideas in more complex settings later in the course.\n",
    "\n",
    "Suppose you have a coin that has a fixed (non-random) probability $p$ of heads. Under this assumption the tosses are independent, that is, knowing the results of some tosses doesn't change probabilities for how other tosses will come out. So for example the chance of two heads in two tosses is $p \\cdot p$.\n",
    "\n",
    "Now let's see what happens when the coin is picked randomly from a bunch of different coins. In this situation, the chance of heads is random.\n",
    "\n",
    "In a bag of coins, a proportion $f$ of the coins are fair; assume $0 < f < 1$. Of the remaining coins, half are biased towards tails and land heads with chance 0.1; the other half land heads with chance 0.9.\n",
    "\n",
    "A coin is picked at random from the bag and tossed twice. Define the following events.\n",
    "\n",
    "- $C_F$ is the event that the selected coin is fair, $C_T$ is the event that the selected coin is biased towards tails, and $C_H$ is the event that the selected coin is biased towards heads.\n",
    "- $H_1$ is the event that the first toss lands heads and $H_2$ is the event that the second toss lands heads.\n",
    "\n",
    "**a)** Find $P(C_H)$.\n",
    "\n",
    "**b)** Calculate $P(H_1)$. Simplify the answer as much as possible and then explain it by symmetry.\n",
    "\n",
    "**c)** Without calculation, fill in the blank with one of the symbols $>$, $<$, or $=$. Explain your reasoning. \n",
    "\n",
    "$P(C_H \\mid H_1) ~ \\underline{~~~~~~~~~~~~~~~} ~ P(C_H)$\n",
    "\n",
    "**d)** Now calculate $P(C_H \\mid H_1)$ and show that it is consistent with your answers to Parts **a** and **c**.\n",
    "\n",
    "**e)** Find $P(H_2)$ and (carefully!) $P(H_1H_2)$. Is $P(H_1H_2) = P(H_1)P(H_2)$?\n",
    "\n",
    "**f)** Fill in the blank with one of the symbols $>$, $<$, or $=$. Justify your choice by calculation and also explain it intuitively.\n",
    "\n",
    "$P(H_2 \\mid H_1) ~ \\underline{~~~~~~~~~~~~~~~} ~ P(H_2)$"
   ]
  },
  {
   "cell_type": "markdown",
   "metadata": {
    "#solution": false,
    "#staff": false,
    "#student": false
   },
   "source": [
    "\\newpage"
   ]
  },
  {
   "cell_type": "markdown",
   "metadata": {
    "#solution": false,
    "#staff": false,
    "#student": false
   },
   "source": [
    "## 2. Counting Categories ##\n",
    "In each part below, remember to **explain your answer. Don't just write down a formula.** You don't have to provide decimal answers. \n",
    "\n",
    "**Note:** See the video right at the bottom of [Section 5.4](http://prob140.org/textbook/content/Chapter_05/04_Sampling_Without_Replacement.html) (below the last Quick Check) for an effective approach.\n",
    "\n",
    "A population consists of 6 individuals in each of 4 categories $A$, $B$, $C$, and $D$. A simple random sample of 12 individuals is chosen from the population.\n",
    "\n",
    "**a)** Find the chance that the sample contains equal numbers of individuals in the four categories.\n",
    "\n",
    "**b)** Find the chance that the sample contains 5 individuals in one category, 4 in another, 2 in a third, and 1 in the remaining category.\n",
    "\n",
    "**c)** Find the chance that the sample contains 4 individuals in each of two categories, 3 individuals in another, and 1 in the remaining category.\n",
    "\n",
    "**d)** Find the chance that the sample contains all 6 individuals in one category and equal numbers in the other three.\n",
    "\n"
   ]
  },
  {
   "cell_type": "markdown",
   "metadata": {
    "#solution": false,
    "#staff": false,
    "#student": false
   },
   "source": [
    "\\newpage"
   ]
  },
  {
   "cell_type": "markdown",
   "metadata": {
    "#solution": false,
    "#staff": false,
    "#student": false
   },
   "source": [
    "## 3. Breakout Rooms ##\n",
    "\n",
    "Among 24 students in a Zoom meeting, there are six each of freshmen, sophomores, juniors, and seniors. The 24 students are split at random into four breakout rooms of six students each.\n",
    "\n",
    "**a)** What is the distribution of the number of freshmen in Breakout Room 1? **Why?**\n",
    "\n",
    "**b)** What is the joint distribution of the numbers of freshmen in Breakout Rooms 1 and 4? **Why?**\n",
    "\n",
    "[Note: You don't have to write out a joint distribution table. A more compact way is to provide a formula. Remember to specify the possible values appropriately.]\n",
    "\n",
    "**c)** What is the chance that in at least one of the breakout rooms all the students are in the same year? **Explain your calculation.**"
   ]
  },
  {
   "cell_type": "markdown",
   "metadata": {
    "#solution": false,
    "#staff": false,
    "#student": false
   },
   "source": [
    "\\newpage"
   ]
  },
  {
   "cell_type": "markdown",
   "metadata": {
    "#solution": false,
    "#staff": false,
    "#student": false
   },
   "source": [
    "## 4. Exact Value or Bound ##\n",
    "In each part below, find the exact value of the probability if it is possible to do so with the information given. If it is not possible, provide the best lower and upper bounds you can. **Explain your choices.**\n",
    "\n",
    "**a)** the chance that at least one of 10 flights at an airport is late, if each flight at the airport has a 1% chance of being late\n",
    "\n",
    "**b)** the chance that not all suits appear in a bridge hand of 13 cards dealt at random without replacement from a standard deck \n",
    "\n",
    "[A standard deck consists of 13 cards in each of 4 suits, making 52 cards in all.]\n",
    "\n",
    "**c)** the chance that all $s$ office hours slots are selected, if each of $g$ GSIs selects one of the $s$ slots at random without being influenced by the choices of others\n",
    "\n",
    "**d)** the chance that it rains every day next week if the daily chances of rain are given by\n",
    "\n",
    "|Sun|Mon|Tue|Wed|Thu|Fri|Sat|\n",
    "|-|-|-|-|-|-|-|\n",
    "|$$0.9$$|$$0.95$$|$$0.95$$|$$0.9$$|$$0.9$$|$$0.85$$|$$0.8$$|"
   ]
  },
  {
   "cell_type": "markdown",
   "metadata": {
    "#solution": false,
    "#staff": false,
    "#student": false
   },
   "source": [
    "\\newpage"
   ]
  },
  {
   "cell_type": "markdown",
   "metadata": {
    "#solution": false,
    "#staff": false,
    "#student": false
   },
   "source": [
    "## 5. College Degrees\n",
    "\n",
    "In the U.S., 38% of adults aged 25 and over have a four-year college degree.\n",
    "\n",
    "In each part below, write a math expression for the chance and provide a brief justification. Please use the appropriate summation, not \"...\". Then use the appropriate code cell to find the numerical value of the chance, using `stats.binom.pmf`, `stats.binom.cdf`, and arithmetic. See [the textbook](http://prob140.org/textbook/content/Chapter_06/01_Binomial_Distribution.html#binomial-probabilities-in-python) for a reference. The `stats` library of `scipy` has been imported in the top cell of this notebook.\n",
    "\n",
    "In what follows, we will use the term *population* to mean US adults aged 25 and over, and a *successful draw* to mean a draw that results in a person who has a four-year college degree.\n",
    "\n",
    "**a)** Suppose I draw from the population at random with replacement. What is the chance that at least one-third of my first 30 draws are successful?\n",
    "\n",
    "**b)** Suppose I draw from the population at random with replacement, till 10 of my draws are successful. What is the chance that I draw at most 30 times? How is this answer related to the answer in Part **a**?\n",
    "\n",
    "**c)** Suppose my friend and I both draw from the population at random with replacement, independently of each other. Suppose I make 30 draws and my friend makes 20 draws. What is the chance that I get more successful draws than my friend?"
   ]
  },
  {
   "cell_type": "markdown",
   "metadata": {
    "#solution": false,
    "#staff": false,
    "#student": false
   },
   "source": [
    "\\newpage"
   ]
  },
  {
   "cell_type": "code",
   "execution_count": null,
   "metadata": {
    "#solution": false,
    "#staff": false,
    "#student": true
   },
   "outputs": [],
   "source": [
    "# Answer to a (you can use more than one line of code)\n",
    "\n",
    "..."
   ]
  },
  {
   "cell_type": "code",
   "execution_count": null,
   "metadata": {
    "#solution": false,
    "#staff": false,
    "#student": true
   },
   "outputs": [],
   "source": [
    "# Answer to b (you can use more than one line of code)\n",
    "\n",
    "..."
   ]
  },
  {
   "cell_type": "code",
   "execution_count": null,
   "metadata": {
    "#solution": false,
    "#staff": false,
    "#student": true
   },
   "outputs": [],
   "source": [
    "# Answer to c (you can use more than one line of code)\n",
    "\n",
    "..."
   ]
  },
  {
   "cell_type": "markdown",
   "metadata": {
    "#solution": false,
    "#staff": false,
    "#student": false
   },
   "source": [
    "\\newpage"
   ]
  },
  {
   "cell_type": "markdown",
   "metadata": {
    "#solution": false,
    "#staff": false,
    "#student": false
   },
   "source": [
    "## 6. Poisson Approximation at Both Ends ##\n",
    "Consider $n$ independent Bernoulli $(p)$ trials.\n",
    "\n",
    "**a)** Fill in the blanks with names of distributions along with parameters in parentheses: If $n = 1000$ and $p=0.003$, the distribution of the number of successes is exactly $\\underline{~~~~~~~~~~~~~~~~~~~~~~~~~~~}$ $(\\underline{~~~~~~~~~~~~ })$ and approximately $\\underline{~~~~~~~~~~~~~~~~~~~~~~ }$ $(\\underline{~~~~~~~~~~~~ })$.\n",
    "\n",
    "**b)** Let $n$ be large and let $p$ be close to 1. Find a Poisson approximation to $p_k$ (the chance of $k$ successes) by an appropriate use of the Poisson approximation to the binomial derived in the textbook. \n",
    "\n",
    "**Note:** Don't try to derive a new limit from scratch. Just use the limit already derived in the textbook, but appropriately.\n",
    "\n",
    "**c)** Plot the probability histogram of the binomial (1000, 0.997) distribution, and overlay your Poisson approximation from part (b). For computing Poisson probabilities, see the [textbook](http://prob140.org/textbook/content/Chapter_06/06_Law_of_Small_Numbers.html#poisson-probabilities-in-python). Please don't plot the entire range of the binomial. Choose an informative range of values on the horizontal axis."
   ]
  },
  {
   "cell_type": "code",
   "execution_count": null,
   "metadata": {
    "#solution": false,
    "#staff": false,
    "#student": true
   },
   "outputs": [],
   "source": [
    "# Answer to c\n",
    "\n",
    "n = 1000\n",
    "p = 0.997\n",
    "\n",
    "k = ...                # array of possible values\n",
    "binomial_probs = ...   # array of exact binomial probabilities\n",
    "\n",
    "def poisson_approximation_pmf(j):\n",
    "    \"\"\"Returns the Poisson approximation to the\n",
    "    exact binomial probability of j successes\"\"\"\n",
    "    return ...\n",
    "\n",
    "exact_binomial = Table().values(k).probabilities(...)\n",
    "poisson_approximation = Table().values(k).probability_function(...)\n",
    "\n",
    "Plots(...)\n",
    "plt.xlim(..., ...)"
   ]
  },
  {
   "cell_type": "markdown",
   "metadata": {
    "#solution": false,
    "#staff": false,
    "#student": false
   },
   "source": [
    "## Submission Instructions ##\n",
    "\n",
    "Many assignments throughout the course will have a written portion and a code portion. Please follow the directions below to properly submit both portions.\n",
    "\n",
    "### Written Portion ###\n",
    "*  Scan all the pages into a PDF. You can use any scanner or a phone using applications such as CamScanner. Please **DO NOT** simply take pictures using your phone. \n",
    "* Please start a new page for each question. If you have already written multiple questions on the same page, you can crop the image in CamScanner or fold your page over (the old-fashioned way). This helps expedite grading.\n",
    "* It is your responsibility to check that all the work on all the scanned pages is legible.\n",
    "* If you used $\\LaTeX$ to do the written portions, you do not need to do any scanning; you can just download the whole notebook as a PDF via LaTeX.\n",
    "\n",
    "### Code Portion ###\n",
    "* Save your notebook using `File > Save and Checkpoint`.\n",
    "* Generate a PDF file using `File > Download As > PDF via LaTeX`. This might take a few seconds and will automatically download a PDF version of this notebook.\n",
    "    * If you have issues, please post a follow-up on the general Homework 2 Ed thread.\n",
    "    \n",
    "### Submitting ###\n",
    "* Combine the PDFs from the written and code portions into one PDF. [Here](https://smallpdf.com/merge-pdf) is a useful tool for doing so. \n",
    "* Submit the assignment to Homework 2 on Gradescope. \n",
    "* **Make sure to assign each page of your pdf to the correct question.**\n",
    "* **It is your responsibility to verify that all of your work shows up in your final PDF submission.**\n",
    "\n",
    "If you are having difficulties scanning, uploading, or submitting your work, please read the [Ed Thread](https://edstem.org/us/courses/35049/discussion/2398718) on this topic and post a follow-up on the general Homework 2 Ed thread."
   ]
  },
  {
   "cell_type": "markdown",
   "metadata": {
    "#solution": false,
    "#staff": false,
    "#student": false
   },
   "source": [
    "## **We will not grade assignments which do not have pages selected for each question.** ##"
   ]
  }
 ],
 "metadata": {
  "checksums": [
   "3b0a711c58f1b67a5c71e51e74f0b083",
   "510b88354262c31ba9053a0c05b44859",
   "b33297e1eff1902e80bcc722d659baa9",
   "79d3b9e4d2003abee17fab3aaee34aad",
   "99bf4d77bc1361d14e4b49f3d93d9c30",
   "562505d567faf02dfc9388e81e89d07b",
   "b2287180c438576d8d67a62ec927e74b",
   "562505d567faf02dfc9388e81e89d07b",
   "4c56d69abb956e860b8ba4fb0767ba7d",
   "562505d567faf02dfc9388e81e89d07b",
   "5806a141d616167e384332bacba8c5b8",
   "562505d567faf02dfc9388e81e89d07b",
   "e64728ad53471bfb24f9fdfdbf4b7ea4",
   "562505d567faf02dfc9388e81e89d07b",
   "8eed5e2c9dc5ace88e05d58d3e04f813",
   "70dc241ef0cc35bf20f5867f2d155dd3",
   "5756c6500123ad891697fbfb99c4d438",
   "562505d567faf02dfc9388e81e89d07b",
   "99db9e0b7984559e8c9c5d5397172c62",
   "00fe876e4c18b149b77b29ddd510470c",
   "1a144e145c002101c2f4b6332f5e68a2",
   "28b84f784840e42a5b8327aab8f973c0"
  ],
  "kernelspec": {
   "display_name": "Python 3",
   "language": "python",
   "name": "python3"
  },
  "language_info": {
   "codemirror_mode": {
    "name": "ipython",
    "version": 3
   },
   "file_extension": ".py",
   "mimetype": "text/x-python",
   "name": "python",
   "nbconvert_exporter": "python",
   "pygments_lexer": "ipython3",
   "version": "3.7.11"
  },
  "number_of_pagebreaks": 0
 },
 "nbformat": 4,
 "nbformat_minor": 2
}
