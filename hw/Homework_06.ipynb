{
 "cells": [
  {
   "cell_type": "markdown",
   "id": "3254146f",
   "metadata": {
    "#solution": false,
    "#staff": false,
    "#student": false
   },
   "source": [
    "<table align=\"left\" style=\"border-style: hidden\" class=\"table\"> <tr><td class=\"col-md-2\"><img style=\"float\" src=\"../icon.png\" alt=\"Prob140 Logo\" style=\"width: 120px;\"/></td><td><div align=\"left\"><h3 style=\"margin-top: 0;\">Probability for Data Science</h3><h4 style=\"margin-top: 20px;\">UC Berkeley, Spring 2023</h4><p>Ani Adhikari</p>CC BY-NC-SA 4.0</div></td></tr></table><!-- not in pdf -->\n",
    "\n",
    "This content is protected and may not be shared, uploaded, or distributed."
   ]
  },
  {
   "cell_type": "code",
   "execution_count": null,
   "id": "16f650e1",
   "metadata": {
    "#solution": false,
    "#staff": false,
    "#student": false
   },
   "outputs": [],
   "source": [
    "import warnings\n",
    "warnings.filterwarnings('ignore')\n",
    "\n",
    "from prob140 import *\n",
    "from datascience import *\n",
    "import numpy as np\n",
    "from scipy import stats\n",
    "\n",
    "import matplotlib.pyplot as plt\n",
    "%matplotlib inline\n",
    "import matplotlib\n",
    "matplotlib.style.use('fivethirtyeight')"
   ]
  },
  {
   "cell_type": "markdown",
   "id": "88120c9e",
   "metadata": {
    "#solution": false,
    "#staff": false,
    "#student": false
   },
   "source": [
    "# Homework 6 #"
   ]
  },
  {
   "cell_type": "markdown",
   "id": "d034e52b",
   "metadata": {
    "#solution": false,
    "#staff": false,
    "#student": false
   },
   "source": [
    "### Instructions\n",
    "\n",
    "Your homeworks will generally have two components: a written portion and a portion that also involves code.  Written work should be completed on paper, and coding questions should be done in the notebook. Start the work for the written portions of each section on a new page. You are welcome to $\\LaTeX$ your answers to the written portions, but staff will not be able to assist you with $\\LaTeX$ related issues. \n",
    "\n",
    "It is your responsibility to ensure that both components of the lab are submitted completely and properly to Gradescope. **Make sure to assign each page of your pdf to the correct question. Refer to the bottom of the notebook for submission instructions.**\n",
    "\n",
    "Every answer should contain a calculation or reasoning. For example, a calculation such as $(1/3)(0.8) + (2/3)(0.7)$ or `sum([(1/3)*0.8, (2/3)*0.7])`is fine without further explanation or simplification. If we want you to simplify, we'll ask you to. But just ${5 \\choose 2}$ by itself is not fine; write \"we want any 2 out of the 5 frogs and they can appear in any order\" or whatever reasoning you used. Reasoning can be brief and abbreviated, e.g. \"product rule\" or \"not mutually exclusive.\""
   ]
  },
  {
   "cell_type": "markdown",
   "id": "716cd8e0-5221-40b8-9f5a-6a5604e82680",
   "metadata": {
    "#solution": false,
    "#staff": false,
    "#student": false
   },
   "source": [
    "**Problems 1 and 2 are past midterm problems. Use them for practice and as an opportunity to assess your preparation for the upcoming midterm.**"
   ]
  },
  {
   "cell_type": "markdown",
   "id": "256a61fe-0c76-44da-b68c-a478b7050b78",
   "metadata": {
    "#solution": false,
    "#staff": false,
    "#student": false
   },
   "source": [
    "## 1. Exam Seating ##\n",
    "In an exam hall, one row has 20 seats. The GSI randomly permutes 20 students into those 20 seats.\n",
    "\n",
    "**a)** Students A and B are among the 20 students in the row. Find the decimal value of the expected number of students sitting between them.\n",
    "\n",
    "**b)** The 20 students in the row include 7 Data Science majors. Find the expected number of Data Science majors who are not seated next to another Data Science major. You don't have to find the decimal value."
   ]
  },
  {
   "cell_type": "markdown",
   "id": "b0283f81-bee5-4e4a-9eb6-6b69248a910c",
   "metadata": {
    "#solution": false,
    "#staff": false,
    "#student": false
   },
   "source": [
    "\\newpage"
   ]
  },
  {
   "cell_type": "markdown",
   "id": "db9f87bf",
   "metadata": {
    "#solution": false,
    "#staff": false,
    "#student": false
   },
   "source": [
    "## 2. Classroom Doors ##\n",
    "A classroom has three doors. Let $N$ be the total number of students who enter the classroom. Let $N_A$ be the number of students who enter through Door A, $N_B$ the number who enter through Door B, and $N_C$ the number who enter through Door C, so that $N_A + N_B + N_C = N$.\n",
    "\n",
    "Suppose each student enters through a door picked according to the following distribution, independently of all other students and independently of the value of $N$.\n",
    "\n",
    "|Door A|Door B|Door C|\n",
    "|:----:|:----:|:----:|\n",
    "|0.5  |0.4  |0.1  |\n",
    "\n",
    "\n",
    "**a)** Suppose $N = 20$ with probability 1. Find $P(N_A = N_B \\mid N_C = 0)$.\n",
    "\n",
    "**b)** Suppose $N$ has the Poisson $(20)$ distribution. Find $P(N_A = N_B \\le 10 \\mid N_C = 0)$.\n",
    "\n",
    "**c)** Suppose $N$ has the geometric $(1/20)$ distribution on $\\{1, 2, 3, \\ldots \\}$. Find $E(N_C)$."
   ]
  },
  {
   "cell_type": "markdown",
   "id": "b26c7068",
   "metadata": {
    "#solution": false,
    "#staff": false,
    "#student": false
   },
   "source": [
    "\\newpage"
   ]
  },
  {
   "cell_type": "markdown",
   "id": "76932803-f6e8-43f9-8239-d6cc339104bb",
   "metadata": {
    "#solution": false,
    "#staff": false,
    "#student": false
   },
   "source": [
    "## 3. Bounds ##\n",
    "A random variable $X$, not necessarily non-negative, has $E(X) = 20$ and $SD(X) = 4$. In each part below **find the best bounds you can** based on the information given.\n",
    "\n",
    "**a)** Find upper and lower bounds for $P(0 < X < 40)$.\n",
    "\n",
    "**b)** Find upper and lower bounds for $P(10 < X < 40)$.\n",
    "\n",
    "**c)** Find an upper bound for $P(X \\ge 40)$.\n",
    "\n",
    "**d)** Find an upper bound for $P(X^2 \\ge 900)$."
   ]
  },
  {
   "cell_type": "markdown",
   "id": "af93fe2e-0704-49d4-b073-c23195025584",
   "metadata": {
    "#solution": false,
    "#staff": false,
    "#student": false
   },
   "source": [
    "\\newpage"
   ]
  },
  {
   "cell_type": "markdown",
   "id": "10519fd2-0f76-41ca-9e6a-5bf000fbc5fb",
   "metadata": {
    "#solution": false,
    "#staff": false,
    "#student": false
   },
   "source": [
    "## 4. Bias and Variance ##\n",
    "Consider a probabilistic model that has a numerical parameter $\\theta$. A \"probabilistic model\" is just a set of assumptions about randomness. Let the random variable $T$ be an estimator of $\\theta$. Frequently, $T$ is a statistic based on a random sample.\n",
    "\n",
    "The *bias* of $T$ is defined as\n",
    "\n",
    "$$\n",
    "B_\\theta (T) ~ = ~ E_\\theta (T) - \\theta,\n",
    "$$\n",
    "\n",
    "where the subscript $\\theta$ reminds us that $\\theta$ is the true value of the parameter. Note that $B_\\theta(T)$ is a real-valued function of $\\theta$, not a random variable.\n",
    "\n",
    "Recall that $T$ is an unbiased estimator of $\\theta$ if $E_\\theta(T) = \\theta$, that is, if $B_\\theta(T) = 0$. But in general, estimators are biased.\n",
    "\n",
    "The *mean squared error* of the estimator $T$ is\n",
    "\n",
    "$$\n",
    "MSE_\\theta (T) ~ = ~ E_\\theta \\big{(} (T - \\theta)^2 \\big{)}\n",
    "$$\n",
    "\n",
    "Follow the calculation in [Section 12.2](http://prob140.org/textbook/content/Chapter_12/02_Prediction_and_Estimation.html) of the textbook to show the *bias-variance decomposition* given by\n",
    "\n",
    "$$\n",
    "MSE_\\theta (T) ~ = ~ Var_\\theta(T) + B_\\theta^2(T)\n",
    "$$\n",
    "\n",
    "Note that the square in the bias term makes sense. Bias has the same units as $T$, whereas the MSE and variance are in the square of those units."
   ]
  },
  {
   "cell_type": "markdown",
   "id": "c5391342",
   "metadata": {
    "#solution": false,
    "#staff": false,
    "#student": false,
    "jp-MarkdownHeadingCollapsed": true,
    "tags": []
   },
   "source": [
    "## Submission Instructions ##\n",
    "\n",
    "Many assignments throughout the course will have a written portion and a code portion. Please follow the directions below to properly submit both portions.\n",
    "\n",
    "### Written Portion ###\n",
    "*  Scan all the pages into a PDF. You can use any scanner or a phone using applications such as CamScanner. Please **DO NOT** simply take pictures using your phone. \n",
    "* Please start a new page for each question. If you have already written multiple questions on the same page, you can crop the image in CamScanner or fold your page over (the old-fashioned way). This helps expedite grading.\n",
    "* It is your responsibility to check that all the work on all the scanned pages is legible.\n",
    "* If you used $\\LaTeX$ to do the written portions, you do not need to do any scanning; you can just download the whole notebook as a PDF via LaTeX.\n",
    "\n",
    "### Code Portion ###\n",
    "* Save your notebook using `File > Save and Checkpoint`.\n",
    "* Generate a PDF file using `File > Download As > PDF via LaTeX`. This might take a few seconds and will automatically download a PDF version of this notebook.\n",
    "    * If you have issues, please post a follow-up on the general Homework 6 Ed thread.\n",
    "    \n",
    "### Submitting ###\n",
    "* Combine the PDFs from the written and code portions into one PDF. [Here](https://smallpdf.com/merge-pdf) is a useful tool for doing so. \n",
    "* Submit the assignment to Homework 6 on Gradescope. \n",
    "* **Make sure to assign each page of your pdf to the correct question.**\n",
    "* **It is your responsibility to verify that all of your work shows up in your final PDF submission.**\n",
    "\n",
    "If you are having difficulties scanning, uploading, or submitting your work, please read the [Ed Thread](https://edstem.org/us/courses/35049/discussion/2398718) on this topic and post a follow-up on the general Homework 6 Ed thread."
   ]
  },
  {
   "cell_type": "markdown",
   "id": "2be9430f-8c82-42fc-bf01-48d74c35b696",
   "metadata": {
    "#solution": false,
    "#staff": false,
    "#student": false
   },
   "source": [
    "## **We will not grade assignments which do not have pages selected for each question.** ##"
   ]
  }
 ],
 "metadata": {
  "checksums": [
   "e5019ba5a48e54e4ce3ec831dee737dc",
   "f6b7b3f605ba090e0efd9a26d52136e8",
   "d49f1a865cc9a516c3b9f11e3251c42d",
   "79d3b9e4d2003abee17fab3aaee34aad",
   "b0879fb6e12937319f526f8c84012e54",
   "c4f7e1b8579e05b547fb6167fe1b5374",
   "562505d567faf02dfc9388e81e89d07b",
   "395756a13946b0dc3754d0532fef891b",
   "562505d567faf02dfc9388e81e89d07b",
   "fbb6d1d2c2ef6495361143c8209ef77c",
   "562505d567faf02dfc9388e81e89d07b",
   "137722f35c5e17a2ad9ba2f6a43c9c9b",
   "7175d5e655e20877bf7c00c2f1bb2750",
   "28b84f784840e42a5b8327aab8f973c0"
  ],
  "kernelspec": {
   "display_name": "Python 3",
   "language": "python",
   "name": "python3"
  },
  "language_info": {
   "codemirror_mode": {
    "name": "ipython",
    "version": 3
   },
   "file_extension": ".py",
   "mimetype": "text/x-python",
   "name": "python",
   "nbconvert_exporter": "python",
   "pygments_lexer": "ipython3",
   "version": "3.7.11"
  },
  "number_of_pagebreaks": 0
 },
 "nbformat": 4,
 "nbformat_minor": 5
}
