{
 "cells": [
  {
   "cell_type": "markdown",
   "id": "23dbf19e",
   "metadata": {
    "#solution": false,
    "#staff": false,
    "#student": false,
    "tags": []
   },
   "source": [
    "<table align=\"left\" style=\"border-style: hidden\" class=\"table\"> <tr><td class=\"col-md-2\"><img style=\"float\" src=\"../icon.png\" alt=\"Prob140 Logo\" style=\"width: 120px;\"/></td><td><div align=\"left\"><h3 style=\"margin-top: 0;\">Probability for Data Science</h3><h4 style=\"margin-top: 20px;\">UC Berkeley, Spring 2023</h4><p>Ani Adhikari</p>CC BY-NC-SA 4.0</div></td></tr></table><!-- not in pdf -->\n",
    "\n",
    "This content is protected and may not be shared, uploaded, or distributed."
   ]
  },
  {
   "cell_type": "code",
   "execution_count": null,
   "id": "085fc905-b2ae-4cf8-8970-84b710529fff",
   "metadata": {
    "#solution": false,
    "#staff": false,
    "#student": false
   },
   "outputs": [],
   "source": [
    "# Run this cell to set up your notebook\n",
    "\n",
    "# These lines make warnings go away\n",
    "import warnings\n",
    "warnings.filterwarnings('ignore')\n",
    "\n",
    "import numpy as np\n",
    "from scipy import stats\n",
    "from datascience import *\n",
    "from prob140 import *\n",
    "\n",
    "# These lines do some fancy plotting magic\n",
    "import matplotlib\n",
    "%matplotlib inline\n",
    "import matplotlib.pyplot as plt\n",
    "plt.style.use('fivethirtyeight')"
   ]
  },
  {
   "cell_type": "markdown",
   "id": "3aac5a70-966c-4be3-ab23-7ce69af85b66",
   "metadata": {
    "#solution": false,
    "#staff": false,
    "#student": false,
    "tags": []
   },
   "source": [
    "# Homework 13"
   ]
  },
  {
   "cell_type": "markdown",
   "id": "6b27dc38",
   "metadata": {
    "#solution": false,
    "#staff": false,
    "#student": false,
    "tags": []
   },
   "source": [
    "### Instructions\n",
    "\n",
    "Your homeworks will generally have two components: a written portion and a portion that also involves code.  Written work should be completed on paper, and coding questions should be done in the notebook. Start the work for the written portions of each section on a new page. You are welcome to $\\LaTeX$ your answers to the written portions, but staff will not be able to assist you with $\\LaTeX$ related issues. \n",
    "\n",
    "It is your responsibility to ensure that both components of the lab are submitted completely and properly to Gradescope. **Make sure to assign each page of your pdf to the correct question. Refer to the bottom of the notebook for submission instructions.**\n",
    "\n",
    "Every answer should contain a calculation or reasoning. For example, a calculation such as $(1/3)(0.8) + (2/3)(0.7)$ or `sum([(1/3)*0.8, (2/3)*0.7])`is fine without further explanation or simplification. If we want you to simplify, we'll ask you to. But just ${5 \\choose 2}$ by itself is not fine; write \"we want any 2 out of the 5 frogs and they can appear in any order\" or whatever reasoning you used. Reasoning can be brief and abbreviated, e.g. \"product rule\" or \"not mutually exclusive.\""
   ]
  },
  {
   "cell_type": "markdown",
   "id": "311e04ac-3012-4272-bbcc-455acb935c4d",
   "metadata": {
    "#solution": false,
    "#staff": false,
    "#student": false
   },
   "source": [
    "## 1. Midterms 1 and 2 ##\n",
    "\n",
    "In a large class, the distribution of scores in Midterms 1 and 2 is approximately bivariate normal. Define the following notation.\n",
    "\n",
    "- For $i = 1, 2$, $\\mu_i$ is the class average on Midterm $i$, and $\\sigma_i^2$ is the class variance on Midterm $i$\n",
    "- The correlation between Midterm 1 and 2 scores in the class is $\\rho$\n",
    "\n",
    "**a)** For approximately what proportion of the students was the Midterm 2 score (in standard units) higher than the Midterm 1 score (in standard units)?\n",
    "\n",
    "**b)** For approximately what proportion of the students did the two midterm scores (each in standard units) differ by more than 1?"
   ]
  },
  {
   "cell_type": "markdown",
   "id": "19dd4912-21c2-43e6-b974-331b03441a94",
   "metadata": {
    "#solution": false,
    "#staff": false,
    "#student": false
   },
   "source": [
    "\\newpage"
   ]
  },
  {
   "cell_type": "markdown",
   "id": "482b30dc-00e2-4aa4-949b-790dfd09f6f9",
   "metadata": {
    "#solution": false,
    "#staff": false,
    "#student": false
   },
   "source": [
    "## 2. Normals and Coins ##\n",
    "\n",
    "Let $X$ be standard normal. Construct a random variable $Y$ as follows:\n",
    "\n",
    "- Toss a fair coin.\n",
    "- If the coin lands heads, let $Y = X$.\n",
    "- If the coin lands tails, let $Y = -X$.\n",
    "\n",
    "**a)** Find the cdf of $Y$ and hence identify the distribution of $Y$.\n",
    "\n",
    "**b)** Find $E(XY)$ by conditioning on the result of the toss.\n",
    "\n",
    "**c)** Are $X$ and $Y$ uncorrelated? \n",
    "\n",
    "**d)** Are $X$ and $Y$ independent?\n",
    "\n",
    "**e)** Is the joint distribution of $X$ and $Y$ bivariate normal?"
   ]
  },
  {
   "cell_type": "markdown",
   "id": "537c755d-eb63-479f-8f5e-ea9770d65565",
   "metadata": {
    "#solution": false,
    "#staff": false,
    "#student": false
   },
   "source": [
    "\\newpage"
   ]
  },
  {
   "cell_type": "markdown",
   "id": "9bc40495-5117-4344-bda5-ebecfdde2d34",
   "metadata": {
    "#solution": false,
    "#staff": false,
    "#student": false
   },
   "source": [
    "## 3. \"No Intercept\" Linear Regression ##\n",
    "\n",
    "Let $X$ and $Y$ be jointly distributed random variables. Suppose you want to predict $Y$ by a function of the form $aX$ for some constant $a$. You might want to do this if for example you believe that $Y$ is proportional to $X$ but you have noisy data. \n",
    "\n",
    "**a)** Let $MSE(a)$ denote the mean squared error of the predictor $aX$. Fill in the blank with a random variable:\n",
    "\n",
    "$MSE(a) ~ = ~ E(\\underline{~~~~~~~~~~~~~~~~~~~~~~~~~~~~~~~~~~~~~})$\n",
    "\n",
    "**b)** Find the value $a^*$ that minimizes $MSE(a)$ over all $a$.\n",
    "\n",
    "**c)** Define the residual $D = Y - a^*X$. True or false (explain or calculate): $E(D) = 0$.\n",
    "\n",
    "**d)** Find $MSE(a^*)$.\n",
    "\n",
    "**e)** Use Part **d** to prove the *Cauchy-Schwarz Inequality*: For jointly distributed random variables $X$ and $Y$, $\\vert E(XY) \\vert \\le \\sqrt{E(X^2)E(Y^2)}$."
   ]
  },
  {
   "cell_type": "markdown",
   "id": "0c8cf7fa-7fea-4df8-9217-37dab2cde17c",
   "metadata": {
    "#solution": false,
    "#staff": false,
    "#student": false
   },
   "source": [
    "\\newpage"
   ]
  },
  {
   "cell_type": "markdown",
   "id": "23c51365-b038-4458-81d3-3bc8c11818f0",
   "metadata": {
    "#solution": false,
    "#staff": false,
    "#student": false
   },
   "source": [
    "## 4. Slices of a Normal Cake ##\n",
    "\n",
    "This problem needs only the material of a few weeks ago, but it's here because the ideas and visualization will be helpful in the next exercise. A former 140 staff member told me how he used this method in his interview at a major quant firm and surprised the interviewer. (Yes, he got the job.) Simple, insightful solutions tend to beat tons of calculus even when the calculus is done correctly.\n",
    "\n",
    "Let $X$ and $Y$ be independent standard normal random variables.\n",
    "\n",
    "**a)** Find $P(X > 0, Y > 0)$. \n",
    "\n",
    "Yes, it's easy. But get a piece of paper and draw the event on the plane anyway. Imagine the joint density surface over the plane, and try to imagine the relevant volume under the joint density surface as a quadrant-shaped slice of a bell-shaped cake. **Then use the same approach for the next two parts.**\n",
    "\n",
    "**b)** Find $P(X > 0, Y > X)$.\n",
    "\n",
    "**c)** Find $P(X > 0, Y > \\sqrt{3}X)$."
   ]
  },
  {
   "cell_type": "markdown",
   "id": "5c147daf-6664-432c-a683-4dac61c1af43",
   "metadata": {
    "#solution": false,
    "#staff": false,
    "#student": false
   },
   "source": [
    "\\newpage"
   ]
  },
  {
   "cell_type": "markdown",
   "id": "e45f31dc-923e-4b67-a57b-7cd7b5799ef2",
   "metadata": {
    "#solution": false,
    "#staff": false,
    "#student": false
   },
   "source": [
    "## 5. Heights of Mothers and Daughters ##\n",
    "\n",
    "The heights of a population of mother-daughter pairs have a bivariate normal distribution with correlation 0.5.\n",
    "\n",
    "**a)** Of the mothers on the 90th percentile of mothers' heights, what proportion have daughters who are taller than the 90th percentile of daughters' heights?\n",
    "\n",
    "**b)** In what proportion of mother-daughter pairs are both women taller than average? (This means the mothers are taller than the average mother and the daughters are taller than the average daughter.)\n",
    "\n",
    "[Hint: Express standard bivariate normal variables in terms of two independent standard normal variables, and then apply the \"slices of a normal cake\" method.]"
   ]
  },
  {
   "cell_type": "markdown",
   "id": "d0f99e63",
   "metadata": {
    "#solution": false,
    "#staff": false,
    "#student": false,
    "jp-MarkdownHeadingCollapsed": true,
    "tags": []
   },
   "source": [
    "## Submission Instructions ##\n",
    "\n",
    "Many assignments throughout the course will have a written portion and a code portion. Please follow the directions below to properly submit both portions.\n",
    "\n",
    "### Written Portion ###\n",
    "*  Scan all the pages into a PDF. You can use any scanner or a phone using applications such as CamScanner. Please **DO NOT** simply take pictures using your phone. \n",
    "* Please start a new page for each question. If you have already written multiple questions on the same page, you can crop the image in CamScanner or fold your page over (the old-fashioned way). This helps expedite grading.\n",
    "* It is your responsibility to check that all the work on all the scanned pages is legible.\n",
    "* If you used $\\LaTeX$ to do the written portions, you do not need to do any scanning; you can just download the whole notebook as a PDF via LaTeX.\n",
    "\n",
    "### Code Portion ###\n",
    "* Save your notebook using `File > Save and Checkpoint`.\n",
    "* Generate a PDF file using `File > Download As > PDF via LaTeX`. This might take a few seconds and will automatically download a PDF version of this notebook.\n",
    "    * If you have issues, please post a follow-up on the general Homework 13 Ed thread.\n",
    "    \n",
    "### Submitting ###\n",
    "* Combine the PDFs from the written and code portions into one PDF. [Here](https://smallpdf.com/merge-pdf) is a useful tool for doing so. \n",
    "* Submit the assignment to Homework 13 on Gradescope. \n",
    "* **Make sure to assign each page of your pdf to the correct question.**\n",
    "* **It is your responsibility to verify that all of your work shows up in your final PDF submission.**\n",
    "\n",
    "If you are having difficulties scanning, uploading, or submitting your work, please read the [Ed Thread](https://edstem.org/us/courses/35049/discussion/2398718) on this topic and post a follow-up on the general Homework 13 Ed thread."
   ]
  },
  {
   "cell_type": "markdown",
   "id": "c5e7de83-502b-4747-8643-f690d268a013",
   "metadata": {
    "#solution": false,
    "#staff": false,
    "#student": false
   },
   "source": [
    "## **We will not grade assignments which do not have pages selected for each question.** ##"
   ]
  }
 ],
 "metadata": {
  "checksums": [
   "e5019ba5a48e54e4ce3ec831dee737dc",
   "0cd16835f01a065038ef45c8ed1c297c",
   "cba92c7547381925a68ef0571c9bba30",
   "79d3b9e4d2003abee17fab3aaee34aad",
   "62656fd3ebb747369384f8b3b3bc96a3",
   "562505d567faf02dfc9388e81e89d07b",
   "b27dbc596d9954b972597641c42ea94d",
   "562505d567faf02dfc9388e81e89d07b",
   "0b0daa2f64b2d0158cff7bb8b2e8518a",
   "562505d567faf02dfc9388e81e89d07b",
   "ca65f609784ff2b25aaac259a9409851",
   "562505d567faf02dfc9388e81e89d07b",
   "f23eee60ca933e8b3aba271ec335e20e",
   "72f3dd4c8883f8f5a948d2fa35f99eb5",
   "28b84f784840e42a5b8327aab8f973c0"
  ],
  "kernelspec": {
   "display_name": "Python 3",
   "language": "python",
   "name": "python3"
  },
  "language_info": {
   "codemirror_mode": {
    "name": "ipython",
    "version": 3
   },
   "file_extension": ".py",
   "mimetype": "text/x-python",
   "name": "python",
   "nbconvert_exporter": "python",
   "pygments_lexer": "ipython3",
   "version": "3.7.11"
  },
  "number_of_pagebreaks": 0
 },
 "nbformat": 4,
 "nbformat_minor": 5
}
