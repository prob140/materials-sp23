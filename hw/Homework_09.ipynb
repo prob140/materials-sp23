{
 "cells": [
  {
   "cell_type": "markdown",
   "metadata": {
    "#solution": false,
    "#staff": false,
    "#student": false,
    "tags": []
   },
   "source": [
    "<table align=\"left\" style=\"border-style: hidden\" class=\"table\"> <tr><td class=\"col-md-2\"><img style=\"float\" src=\"../icon.png\" alt=\"Prob140 Logo\" style=\"width: 120px;\"/></td><td><div align=\"left\"><h3 style=\"margin-top: 0;\">Probability for Data Science</h3><h4 style=\"margin-top: 20px;\">UC Berkeley, Spring 2023</h4><p>Ani Adhikari</p>CC BY-NC-SA 4.0</div></td></tr></table><!-- not in pdf -->\n",
    "\n",
    "This content is protected and may not be shared, uploaded, or distributed."
   ]
  },
  {
   "cell_type": "code",
   "execution_count": null,
   "metadata": {
    "#solution": false,
    "#staff": false,
    "#student": false
   },
   "outputs": [],
   "source": [
    "import warnings\n",
    "warnings.filterwarnings('ignore')\n",
    "\n",
    "from prob140 import *\n",
    "from datascience import *\n",
    "import numpy as np\n",
    "from scipy import stats\n",
    "\n",
    "import matplotlib.pyplot as plt\n",
    "%matplotlib inline\n",
    "import matplotlib\n",
    "matplotlib.style.use('fivethirtyeight')"
   ]
  },
  {
   "cell_type": "markdown",
   "metadata": {
    "#solution": false,
    "#staff": false,
    "#student": false
   },
   "source": [
    "# Homework 9 #"
   ]
  },
  {
   "cell_type": "markdown",
   "metadata": {
    "#solution": false,
    "#staff": false,
    "#student": false
   },
   "source": [
    "### Instructions\n",
    "\n",
    "Your homeworks will generally have two components: a written portion and a portion that also involves code.  Written work should be completed on paper, and coding questions should be done in the notebook. Start the work for the written portions of each section on a new page. You are welcome to $\\LaTeX$ your answers to the written portions, but staff will not be able to assist you with $\\LaTeX$ related issues. \n",
    "\n",
    "It is your responsibility to ensure that both components of the lab are submitted completely and properly to Gradescope. **Make sure to assign each page of your pdf to the correct question. Refer to the bottom of the notebook for submission instructions.**\n",
    "\n",
    "Every answer should contain a calculation or reasoning. For example, a calculation such as $(1/3)(0.8) + (2/3)(0.7)$ or `sum([(1/3)*0.8, (2/3)*0.7])`is fine without further explanation or simplification. If we want you to simplify, we'll ask you to. But just ${5 \\choose 2}$ by itself is not fine; write \"we want any 2 out of the 5 frogs and they can appear in any order\" or whatever reasoning you used. Reasoning can be brief and abbreviated, e.g. \"product rule\" or \"not mutually exclusive.\""
   ]
  },
  {
   "cell_type": "markdown",
   "metadata": {
    "#solution": false,
    "#staff": false,
    "#student": false
   },
   "source": [
    "### `Plot_continuous` ###\n",
    "In this homework you will plot a number of densities using the `prob140` function `Plot_continuous` which takes as its arguments:\n",
    "\n",
    "- a list consisting of two elements: the left endpoint and right endpoint of the plotting interval on the horizontal axis\n",
    "- the name of a function that takes a numerical argument and returns the value of the density at that argument; this could be a function you have defined, or a `SciPy` function `stats.distribution_name.pdf`.\n",
    "\n",
    "`Plot_continuous` takes other arguments as well, as you can see in the brief [documentation](http://prob140.org/prob140/_autosummary/prob140.plots.Plot_continuous.html#prob140.plots.Plot_continuous), but you will not need those in the homework. "
   ]
  },
  {
   "cell_type": "markdown",
   "metadata": {
    "#solution": false,
    "#staff": false,
    "#student": false
   },
   "source": [
    "## 1. Relations Between Three Well Known Distributions ##\n",
    "\n",
    "**a)** Let $U$ be uniform on $(0, 1)$ and let $X = -\\log(U)$. Find the possible values of $X$ and the cdf of $X$. Recognize that $X$ has a well known distribution and provide its name and parameters.\n",
    "\n",
    "**b)** Products of uniform $(0, 1)$ random samples arise when the data are \"fractions of fractions of fractions of ...\" some quantity. Let $U_1, U_2, \\ldots, U_n$ be an i.i.d. uniform $(0, 1)$ sample and let $Y_n = (U_1U_2 \\cdots U_n)^{\\frac{1}{n}}$ be the *geometric mean* of the sample. Show that when $n$ is large the distribution of $\\log(Y_n)$ is close to one of the famous ones, and provide its name and parameters.\n",
    "\n",
    "[Apply the result of Part **a**.]\n",
    "\n",
    "**c)** Let $X$ be normal $(\\mu, \\sigma^2)$ and let $W = e^X$. Then $\\log(W) = X$, that is, the log of $W$ has a normal distribution. That is why the distribution of $W$ is called *lognormal* with parameters $\\mu$ and $\\sigma^2$. Find the cdf of $W$ in terms of the standard normal cdf $\\Phi$. Make sure to provide the cdf on the whole real line, not just on a portion of it.\n",
    "\n",
    "**d)** In the setting of Part **b**, find the approximate distribution of $Y_n$ when $n$ is large. Hence find the approximate cdf of $Y_n$ for large $n$. There should be no integrals in your answer but you can use the standard normal cdf $\\Phi$."
   ]
  },
  {
   "cell_type": "markdown",
   "metadata": {
    "#solution": false,
    "#staff": false,
    "#student": false
   },
   "source": [
    "## 2. Cauchy Density ##\n",
    "This exercise is about a density that looks bell shaped but behaves quite differently from the normal. The diagram below will be helpful for Part **a**.\n",
    "\n",
    "<div>\n",
    "<img src=\"hw9_q4a_diagram.png\" width=\"500\"/>\n",
    "</div>\n",
    "\n",
    "\n",
    "**a)** Suppose that a particle is fired from the origin in the $(x, y)$-plane in a straight line in a direction at a random angle $\\theta$ to the $x$-axis. Let $Y$ be the $y$-coordinate of the point where the particle hits the line $x = 1$. Show that if $\\theta$ has the uniform distribution on $(-\\pi/2, \\pi/2)$, then the density of $Y$ is\n",
    "\n",
    "$$\n",
    "f_Y(y) ~ = ~ \\frac{1}{\\pi(1 + y^2)}, ~~~ - \\infty < y < \\infty\n",
    "$$\n",
    "\n",
    "This is called the *Cauchy* density.\n",
    "\n",
    "**b) [CODE]** Use `Plot_continuous` twice, to plot the Cauchy density over the interval $(-5, 5)$ and overlay the standard normal curve. Use `stats.cauchy.pdf` for the Cauchy density, make sure to use  `'gold'` for the color of the normal curve. Refer to the description of `Plot_continuous` at the top of this homework."
   ]
  },
  {
   "cell_type": "code",
   "execution_count": null,
   "metadata": {
    "#solution": false,
    "#staff": false,
    "#student": true
   },
   "outputs": [],
   "source": [
    "# Answer to b\n",
    "\n",
    "# Plotting interval on the horizontal axis: -5 to 5\n",
    "# The first plot should be the Cauchy.\n",
    "# The gold plot should be the standard normal curve.\n",
    "\n",
    "Plot_continuous(...)\n",
    "Plot_continuous(..., color='gold')"
   ]
  },
  {
   "cell_type": "markdown",
   "metadata": {
    "#solution": false,
    "#staff": false,
    "#student": false
   },
   "source": [
    "**c)** For $Y$ with the Cauchy density, use calculus to show that $E(\\lvert Y \\rvert ) = \\infty$. Thus $E(Y)$ is undefined even though the density of $Y$ is symmetric about 0.\n",
    "\n",
    "The Cauchy curve is called the [Witch of Agnesi](https://en.wikipedia.org/wiki/Witch_of_Agnesi). Skim the History and Applications sections of the Wikipedia article.\n",
    "\n",
    "**d)** Explain what is being plotted by the code below, and discuss what you see in the graph in relation to the Weak Law of Large Numbers. Run the cell **several times** before you answer. You should also vary $N$.\n",
    "\n",
    "[`stats.cauchy.rvs(size = N)` returns an array of $N$ i.i.d. Cauchy random numbers.]"
   ]
  },
  {
   "cell_type": "code",
   "execution_count": null,
   "metadata": {
    "#solution": false,
    "#staff": false,
    "#student": false
   },
   "outputs": [],
   "source": [
    "# Part d: run this several times\n",
    "N = 10000\n",
    "n = np.arange(1, N+1)\n",
    "x = stats.cauchy.rvs(size = N)\n",
    "y = np.cumsum(x)/n\n",
    "plt.plot(n, y, color='darkblue', lw=2)\n",
    "plt.plot([0, N], [0, 0], color='k', lw=2);"
   ]
  },
  {
   "cell_type": "markdown",
   "metadata": {
    "#solution": false,
    "#staff": false,
    "#student": false
   },
   "source": [
    "## 3. The Gamma Family ##\n",
    "In this problem you will start with some calculus exercises and then develop one of the fundamental families of densities. An already-familiar distribution belongs to this family, as you will show in the next exercise (Problem 4). In the next exercise, you will also see that this family has been used to model individual infectiousness due to the novel coronavirus (COVID-19).\n",
    "\n",
    "Assume that $r > 0$ and $\\lambda > 0$ are constants.\n",
    "\n",
    "**a)** The *Gamma function* of mathematics is defined by\n",
    "$$\n",
    "\\Gamma (r) ~ = ~ \\int_0^\\infty t^{r-1} e^{-t} dt\n",
    "$$\n",
    "\n",
    "That letter is the upper case Greek letter Gamma. You can assume that the integral converges and that therefore $\\Gamma(r)$ is a positive number.\n",
    "\n",
    "Use integration by parts to show that \n",
    "$$\n",
    "\\Gamma(r+1) ~ = ~ r\\Gamma(r), ~~~ r > 0\n",
    "$$\n",
    "\n",
    "**b)** Use part (a) and induction to show that if $r$ is a positive integer then $\\Gamma(r) = (r-1)!$. Thus the Gamma function is a continuous extension of the factorial function.\n",
    "\n",
    "**c)** Let $X$ have density given by\n",
    "$$\n",
    "f_X(t) =\n",
    "\\begin{cases}\n",
    "\\dfrac{1}{\\Gamma(r)} t^{r-1}e^{-t}, ~~~ t > 0 \\\\\n",
    "0 ~~~~~~~~~~~~~~~~~~~~ \\text{otherwise}\n",
    "\\end{cases}\n",
    "$$\n",
    "\n",
    "Let $Y = \\frac{1}{\\lambda} X$. Show that the density of $Y$ is\n",
    "\n",
    "$$\n",
    "f_Y(t) =\n",
    "\\begin{cases}\n",
    "\\dfrac{\\lambda^r}{\\Gamma(r)} t^{r-1}e^{-\\lambda t}, ~~~ t > 0 \\\\\n",
    "0 ~~~~~~~~~~~~~~~~~~~~ \\text{otherwise}\n",
    "\\end{cases}\n",
    "$$\n",
    "\n",
    "The density of $Y$ is called the gamma $(r, \\lambda)$ density.\n",
    "\n",
    "**d)** Use (c) and the [textbook](http://prob140.org/textbook/content/Chapter_16/04_Two_to_One_Functions.html#square-of-the-standard-normal) to confirm that if $Z$ has the standard normal density then $Z^2$ has the gamma $(1/2, 1/2)$ density. Hence find $\\Gamma (1/2)$, and then use (a) to find $\\Gamma (3/2)$ and $\\Gamma (5/2)$. Please don't leave any integrals in your answers.\n",
    "\n",
    "**Shapes of Gamma Densities:** Part (c) shows that the gamma $(r, \\lambda)$ density is obtained as a change of scale (units of measurement) starting with a gamma $(r, 1)$ random variable and multiplying it by $1/\\lambda$. That is why `stats` calls $1/\\lambda$ the *scale parameter* of the gamma density. The parameter $\\lambda$ is called the *rate*.\n",
    "\n",
    "The parameter $r$ determines the shape of the curve and is called the *shape parameter*. To see why, it helps to look at some plots.\n",
    "\n",
    "The method `stats.gamma.pdf` can be used with the following arguments to return the value of the density:\n",
    "- the value of $t$ (possibly an array) at which to evaluate the density\n",
    "- $r$\n",
    "- $\\lambda$ specified as `scale=1/λ`\n",
    "\n",
    "Run the cell below to see overlaid graphs of the several gamma densities with different values of $r$ but the same rate $\\lambda$. You will see why $r$ is called the shape parameter."
   ]
  },
  {
   "cell_type": "code",
   "execution_count": null,
   "metadata": {
    "#solution": false,
    "#staff": false,
    "#student": false
   },
   "outputs": [],
   "source": [
    "# Part d\n",
    "t = np.arange(0, 25, 0.01)\n",
    "r_1 = stats.gamma.pdf(t, 1, scale=1/0.25)\n",
    "r_1_5 = stats.gamma.pdf(t, 1.5, scale=1/0.25)\n",
    "r_2 = stats.gamma.pdf(t, 2, scale=1/0.25)\n",
    "r_2_5 = stats.gamma.pdf(t, 2.5, scale=1/0.25)\n",
    "r_3 = stats.gamma.pdf(t, 3, scale=1/0.25)\n",
    "plt.plot(t, r_1, lw=2, label='gamma (1, 0.25)')\n",
    "plt.plot(t, r_1_5, lw=2, label='gamma (1.5, 0.25)')\n",
    "plt.plot(t, r_2, lw=2, label='gamma (2, 0.25)')\n",
    "plt.plot(t, r_2_5, lw=2, label='gamma (2.5, 0.25)')\n",
    "plt.plot(t, r_3, lw=2, label='gamma (3, 0.25)')\n",
    "plt.xlabel('$t$')\n",
    "plt.legend()\n",
    "plt.title('Gamma Densities: Same Rate and Different Shape Parameters');"
   ]
  },
  {
   "cell_type": "markdown",
   "metadata": {
    "#solution": false,
    "#staff": false,
    "#student": false
   },
   "source": [
    "## 4. Mean and Variance of the Gamma ##\n",
    "As in Question 3, let $r$ and $\\lambda$ be positive constants.\n",
    "\n",
    "**a)** Use Question 3(c) and properties of densities to evaluate\n",
    "$$\n",
    "\\int_0^\\infty t^{r-1}e^{-\\lambda t} dt\n",
    "$$\n",
    "in terms of $r$, $\\lambda$, and the Gamma function. For what follows, keep in mind that your formula is correct for all positive $r$.\n",
    "\n",
    "**b)** Let $T$ have gamma $(r, \\lambda)$ density. Use (a) and 5(a) to find a simple formula for $E(T)$ in terms of $r$ and $\\lambda$. Please don't leave any integrals or Gamma functions in your answer.\n",
    "\n",
    "**c)** For $T$ as in (b), find $E(T^2)$ in terms of the Gamma function. \n",
    "\n",
    "**d)** Find $Var(T)$. **Make sure to simplify all integrals and gamma functions. As usual, show your work.** \n",
    "\n",
    "**e)** Identify the gamma $(1, \\lambda)$ density as one that has another famous name, and confirm that your answers to (b) and (c) are consistent with what you already know about that density.\n",
    "\n",
    "**f) [CODE]** A [report](https://www.imperial.ac.uk/media/imperial-college/medicine/sph/ide/gida-fellowships/Imperial-College-COVID19-NPI-modelling-16-03-2020.pdf) from Imperial College, UK, is believed to have spurred the US government to take steps to slow down the spread of Covid in March 2020. The assumptions of one of the main models is in the penultimate paragraph on Page 4. Note the sentence, \"Individual infectiousness is assumed to be variable, described by a gamma distribution with mean 1 and shape parameter $\\alpha = 0.25$.\" \n",
    "\n",
    "Broadly speaking, infectiousness is quantified by the number of cases directly generated by one infected person. We denote this quantity as the random variable $R$. The model produced by researchers at Imperial College estimates the distribution of $R$ under COVID-19, based on prior knowledge of similar viruses and respiratory diseases.\n",
    "\n",
    "Plot the gamma distribution used in the model. The horizontal axis should start at 0 and extend to 2 standard deviations above the mean of 1. Make sure to label your x-axis.\n",
    "\n",
    "We are not giving you any skeleton code for this. Use what you've learned from the code cells above, and please give your plot an appropriate title."
   ]
  },
  {
   "cell_type": "code",
   "execution_count": null,
   "metadata": {
    "#solution": false,
    "#staff": false,
    "#student": true
   },
   "outputs": [],
   "source": [
    "# Answer to f\n",
    "..."
   ]
  },
  {
   "cell_type": "markdown",
   "metadata": {
    "#solution": false,
    "#staff": false,
    "#student": false
   },
   "source": [
    "## 5. Working with a Joint Density ##\n",
    "\n",
    "Let the joint density of $X$ and $Y$ be\n",
    "\n",
    "$$\n",
    "f(x, y) = \n",
    "\\begin{cases}\n",
    "c(x+y) & \\text{for } 0 < x, y < 2 \\\\\n",
    "0 & \\text{otherwise}\n",
    "\\end{cases}\n",
    "$$\n",
    "\n",
    "In the parts below, **do the calculus and show all your work**. Don't use SymPy.\n",
    "\n",
    "**(a)** Find $c$.\n",
    "\n",
    "**(b)** Find $P(Y > X+1)$.\n",
    "\n",
    "**(c)** Find the density of $X$.\n",
    "\n",
    "**(d)** Are $X$ and $Y$ identically distributed? Explain.\n",
    "\n",
    "**(e)** Are $X$ and $Y$ independent? Explain.\n",
    "\n",
    "**(f)** Find $E(XY)$."
   ]
  },
  {
   "cell_type": "markdown",
   "metadata": {
    "#solution": false,
    "#staff": false,
    "#student": false
   },
   "source": [
    "## 6. Functions of Exponential Random Variables ##\n",
    "Let $X$ and $Y$ be independent exponential random variables with rates $\\lambda$ and $\\mu$ respectively.\n",
    "\n",
    "**a)** Let $W = \\min(X, Y)$. Find the distribution of $W$. Start by remembering which of the following is easiest when working with minima: the density, the cdf, or the survival function.\n",
    "\n",
    "**b)** Let $c$ be a positive constant. Results about exponential random variables in Sections [16.1](http://prob140.org/textbook/content/Chapter_16/01_Linear_Transformations.html) and [17.2](http://prob140.org/textbook/content/Chapter_17/02_Independence.html#the-larger-of-two-independent-exponential-random-variables) of the textbook to find $P(X > cY)$ without integration.\n",
    "\n",
    "**c)** Use part (b) to find the cdf of $\\frac{X}{Y}$."
   ]
  },
  {
   "cell_type": "markdown",
   "metadata": {
    "#solution": false,
    "#staff": false,
    "#student": false,
    "jp-MarkdownHeadingCollapsed": true,
    "tags": []
   },
   "source": [
    "## Submission Instructions ##\n",
    "\n",
    "Many assignments throughout the course will have a written portion and a code portion. Please follow the directions below to properly submit both portions.\n",
    "\n",
    "### Written Portion ###\n",
    "*  Scan all the pages into a PDF. You can use any scanner or a phone using applications such as CamScanner. Please **DO NOT** simply take pictures using your phone. \n",
    "* Please start a new page for each question. If you have already written multiple questions on the same page, you can crop the image in CamScanner or fold your page over (the old-fashioned way). This helps expedite grading.\n",
    "* It is your responsibility to check that all the work on all the scanned pages is legible.\n",
    "* If you used $\\LaTeX$ to do the written portions, you do not need to do any scanning; you can just download the whole notebook as a PDF via LaTeX.\n",
    "\n",
    "### Code Portion ###\n",
    "* Save your notebook using `File > Save and Checkpoint`.\n",
    "* Generate a PDF file using `File > Download As > PDF via LaTeX`. This might take a few seconds and will automatically download a PDF version of this notebook.\n",
    "    * If you have issues, please post a follow-up on the general Homework 9 Ed thread.\n",
    "    \n",
    "### Submitting ###\n",
    "* Combine the PDFs from the written and code portions into one PDF. [Here](https://smallpdf.com/merge-pdf) is a useful tool for doing so. \n",
    "* Submit the assignment to Homework 9 on Gradescope. \n",
    "* **Make sure to assign each page of your pdf to the correct question.**\n",
    "* **It is your responsibility to verify that all of your work shows up in your final PDF submission.**\n",
    "\n",
    "If you are having difficulties scanning, uploading, or submitting your work, please read the [Ed Thread](https://edstem.org/us/courses/35049/discussion/2398718) on this topic and post a follow-up on the general Homework 9 Ed thread."
   ]
  },
  {
   "cell_type": "markdown",
   "metadata": {
    "#solution": false,
    "#staff": false,
    "#student": false
   },
   "source": [
    "## **We will not grade assignments which do not have pages selected for each question.** ##"
   ]
  }
 ],
 "metadata": {
  "anaconda-cloud": {},
  "checksums": [
   "e5019ba5a48e54e4ce3ec831dee737dc",
   "f6b7b3f605ba090e0efd9a26d52136e8",
   "2ab93f815600c8cf44e713b3d83b659b",
   "79d3b9e4d2003abee17fab3aaee34aad",
   "965857974851e2b3325a2c9341a0b64a",
   "95c407225e96622e6df208da9a0bca69",
   "8ed39da60f4357b1b4f6bc0d6f3a1ac3",
   "dcf62807eec00fd80ecf0026a7df05c4",
   "dbf8161f6f20ec43731f1db7043f3893",
   "8617a5cacd20aead62bf0937cb94eeff",
   "16bc93558d4a20d7650b2008a3f0b1b9",
   "0d592718705bae57fdb07fb37642fa41",
   "89fbe93439969704131ad227daa129b3",
   "a6135c72e35ba559d1753db584c2b221",
   "103a11dc90aacd33265d0d1f4b5c2e62",
   "4d444faaf52fb937f7ae4089eb07ef8b",
   "e82aae2a0d26a35e0f908735f74b5681",
   "28b84f784840e42a5b8327aab8f973c0"
  ],
  "kernelspec": {
   "display_name": "Python 3",
   "language": "python",
   "name": "python3"
  },
  "language_info": {
   "codemirror_mode": {
    "name": "ipython",
    "version": 3
   },
   "file_extension": ".py",
   "mimetype": "text/x-python",
   "name": "python",
   "nbconvert_exporter": "python",
   "pygments_lexer": "ipython3",
   "version": "3.7.11"
  },
  "number_of_pagebreaks": 0
 },
 "nbformat": 4,
 "nbformat_minor": 4
}
