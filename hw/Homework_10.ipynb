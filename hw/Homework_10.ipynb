{
 "cells": [
  {
   "cell_type": "markdown",
   "id": "23dbf19e",
   "metadata": {
    "#solution": false,
    "#staff": false,
    "#student": false
   },
   "source": [
    "<table align=\"left\" style=\"border-style: hidden\" class=\"table\"> <tr><td class=\"col-md-2\"><img style=\"float\" src=\"../icon.png\" alt=\"Prob140 Logo\" style=\"width: 120px;\"/></td><td><div align=\"left\"><h3 style=\"margin-top: 0;\">Probability for Data Science</h3><h4 style=\"margin-top: 20px;\">UC Berkeley, Spring 2023</h4><p>Ani Adhikari</p>CC BY-NC-SA 4.0</div></td></tr></table><!-- not in pdf -->\n",
    "\n",
    "This content is protected and may not be shared, uploaded, or distributed."
   ]
  },
  {
   "cell_type": "code",
   "execution_count": null,
   "id": "085fc905-b2ae-4cf8-8970-84b710529fff",
   "metadata": {
    "#solution": false,
    "#staff": false,
    "#student": false
   },
   "outputs": [],
   "source": [
    "# Run this cell to set up your notebook\n",
    "\n",
    "# These lines make warnings go away\n",
    "import warnings\n",
    "warnings.filterwarnings('ignore')\n",
    "\n",
    "import numpy as np\n",
    "from scipy import stats\n",
    "from datascience import *\n",
    "from prob140 import *\n",
    "\n",
    "# These lines do some fancy plotting magic\n",
    "import matplotlib\n",
    "%matplotlib inline\n",
    "import matplotlib.pyplot as plt\n",
    "plt.style.use('fivethirtyeight')"
   ]
  },
  {
   "cell_type": "markdown",
   "id": "3aac5a70-966c-4be3-ab23-7ce69af85b66",
   "metadata": {
    "#solution": false,
    "#staff": false,
    "#student": false,
    "tags": []
   },
   "source": [
    "# Homework 10"
   ]
  },
  {
   "cell_type": "markdown",
   "id": "6b27dc38",
   "metadata": {
    "#solution": false,
    "#staff": false,
    "#student": false,
    "tags": []
   },
   "source": [
    "### Instructions\n",
    "\n",
    "Your homeworks will generally have two components: a written portion and a portion that also involves code.  Written work should be completed on paper, and coding questions should be done in the notebook. Start the work for the written portions of each section on a new page. You are welcome to $\\LaTeX$ your answers to the written portions, but staff will not be able to assist you with $\\LaTeX$ related issues. \n",
    "\n",
    "It is your responsibility to ensure that both components of the lab are submitted completely and properly to Gradescope. **Make sure to assign each page of your pdf to the correct question. Refer to the bottom of the notebook for submission instructions.**\n",
    "\n",
    "Every answer should contain a calculation or reasoning. For example, a calculation such as $(1/3)(0.8) + (2/3)(0.7)$ or `sum([(1/3)*0.8, (2/3)*0.7])`is fine without further explanation or simplification. If we want you to simplify, we'll ask you to. But just ${5 \\choose 2}$ by itself is not fine; write \"we want any 2 out of the 5 frogs and they can appear in any order\" or whatever reasoning you used. Reasoning can be brief and abbreviated, e.g. \"product rule\" or \"not mutually exclusive.\""
   ]
  },
  {
   "cell_type": "markdown",
   "id": "fbc7c42e",
   "metadata": {
    "#solution": false,
    "#staff": false,
    "#student": false
   },
   "source": [
    "## 1. Functions of Uniform Random Variables ##\n",
    "Let $X$ and $Y$ have joint density\n",
    "\n",
    "$$f(x, y) = \n",
    "\\begin{cases}\n",
    "90(y-x)^8, ~~~~ 0 < x < y < 1 \\\\\n",
    "0 ~~~~~~~~~~~~~~~~~~~~~ \\text{otherwise}\n",
    "\\end{cases}$$ \n",
    "\n",
    "In what follows, please do the calculus yourself and **show all your work**. No `SymPy`.\n",
    "\n",
    "**a)** Find $P(Y > 2X)$.\n",
    "\n",
    "**b)** Find the marginal density of $X$ and remember to provide the possible values. Recognize the density as a member of a famous family and state its name and parameters.\n",
    "\n",
    "**c)** Fill in the blanks (**prove your answer**):\n",
    "The joint density $f$ above is the joint density of the $\\underline{~~~~~~~~~~~~~~~~}$ and $\\underline{~~~~~~~~~~~~~~~~}$ of ten independent uniform $(0, 1)$ random variables.\n",
    "\n",
    "[Follow the steps in [this calculation](http://prob140.org/textbook/content/Chapter_17/04_Beta_Densities_with_Integer_Parameters.html#joint-density-of-two-order-statistics) in the textbook.]"
   ]
  },
  {
   "cell_type": "markdown",
   "id": "d5b041ba",
   "metadata": {
    "#solution": false,
    "#staff": false,
    "#student": false
   },
   "source": [
    "\\newpage"
   ]
  },
  {
   "cell_type": "markdown",
   "id": "fa2539f5",
   "metadata": {
    "#solution": false,
    "#staff": false,
    "#student": false
   },
   "source": [
    "## 2. Peter Meets Paul ##\n",
    "Peter and Paul agree to meet at a restaurant at noon. Peter arrives at time normally distributed with mean 12:00 noon and SD 3 minutes. Paul arrives at a time normally distributed with mean 12:02 P.M. and SD 4 minutes. \n",
    "\n",
    "Find the chances below assuming that the two arrival times are independent. \n",
    "\n",
    "- First, write a formula for the chance in terms of the standard normal cdf $\\Phi$. \n",
    "- Then use a code cell to find the numerical value. You do not have to turn in any coding work for this question.\n",
    "\n",
    "**a)** $P$(Peter arrives before Paul)\n",
    "\n",
    "**b)** $P$(both men arrive within 3 minutes of noon)\n",
    "\n",
    "**c)** $P$(the two men arrive within 3 minutes of each other)\n",
    "\n"
   ]
  },
  {
   "cell_type": "code",
   "execution_count": null,
   "id": "695eb310",
   "metadata": {
    "#solution": false,
    "#staff": false,
    "#student": true
   },
   "outputs": [],
   "source": [
    "# Calculation for a\n",
    "..."
   ]
  },
  {
   "cell_type": "code",
   "execution_count": null,
   "id": "87ece00a",
   "metadata": {
    "#solution": false,
    "#staff": false,
    "#student": true
   },
   "outputs": [],
   "source": [
    "# Calculation for b\n",
    "..."
   ]
  },
  {
   "cell_type": "code",
   "execution_count": null,
   "id": "09565838",
   "metadata": {
    "#solution": false,
    "#staff": false,
    "#student": true
   },
   "outputs": [],
   "source": [
    "# Calculation for c\n",
    "..."
   ]
  },
  {
   "cell_type": "markdown",
   "id": "cb2a6055",
   "metadata": {
    "#solution": false,
    "#staff": false,
    "#student": false
   },
   "source": [
    "\\newpage"
   ]
  },
  {
   "cell_type": "markdown",
   "id": "a3be8030",
   "metadata": {
    "#solution": false,
    "#staff": false,
    "#student": false
   },
   "source": [
    "## 3. Rayleigh Facts and an Application ##\n",
    "\n",
    "Let $R$ have the Rayleigh density given by $f(r) ~ = ~ re^{-\\frac{1}{2}r^2}$ for $r > 0$.\n",
    "\n",
    "Refer to [Section 18.1](http://prob140.org/textbook/content/Chapter_18/01_Standard_Normal_Basics.html#variance) and [Section 18.4](http://prob140.org/textbook/content/Chapter_18/04_Chi_Squared_Distributions.html#from-chi-squared-1-to-chi-squared-n) for ways in which this density arises.\n",
    "\n",
    "The point of Parts **a** and **b** is for you *not to reinvent wheels*, and also for you to notice that math calculation can be reduced by using probability facts. The probabilistic approach to math is powerful, so please follow the approach in the instructions. We will not give credit for other approaches. \n",
    "\n",
    "**a)** Write $E(R)$ as an integral but don't find its value yet. Let $Z$ be standard normal. You know the numerical value of the variance of $Z$. Write the variance of $Z$ as an integral, compare with your integral for $E(R)$, and use the comparison to find the value of $E(R)$. \n",
    "\n",
    "**b)** Use properties of $R^2$ to find $E(R^2)$ without any further integration, and hence find $Var(R)$.\n",
    "\n",
    "**c)** Suppose two shots are fired at a target. Assume each shot hits with independent normally distributed coordinates, with the same means and equal unit variances. Let $D$ be the distance between the point where the two shots strike. Find $E(D)$ and $Var(D)$.\n",
    "\n",
    "[Your calculations will go faster if you remember that a normal $(0, \\sigma^2)$ variable can be written as $\\sigma Z$ where $Z$ is standard normal, and if you use Parts **a-b**.]"
   ]
  },
  {
   "cell_type": "markdown",
   "id": "981d3232",
   "metadata": {
    "#solution": false,
    "#staff": false,
    "#student": false
   },
   "source": [
    "\\newpage"
   ]
  },
  {
   "cell_type": "markdown",
   "id": "e4d770ad-f58a-4ef2-bf0a-767248b2b91b",
   "metadata": {
    "#solution": false,
    "#staff": false,
    "#student": false
   },
   "source": [
    "## 4. Poisson MGF ##\n",
    "Let $X$ have Poisson($\\mu$) distribution, and let $Y$ independent of $X$ have Poisson $(\\lambda)$ distribution.\n",
    "\n",
    "**a)** Find the mgf of $X$.\n",
    "\n",
    "**b)** Use the result of (a) to show that the distribution of $X+Y$ is Poisson."
   ]
  },
  {
   "cell_type": "markdown",
   "id": "09e57f1a-a55e-41d3-a9d1-14dae576d6e5",
   "metadata": {
    "#solution": false,
    "#staff": false,
    "#student": false
   },
   "source": [
    "\\newpage"
   ]
  },
  {
   "cell_type": "markdown",
   "id": "0e4fd97e-d962-4382-9feb-f42f95434b7b",
   "metadata": {
    "#solution": false,
    "#staff": false,
    "#student": false
   },
   "source": [
    "## 5. Gamma Tail Bound ##\n",
    "\n",
    "Before you do this exercise, carefully study a [relevant example](http://prob140.org/textbook/content/Chapter_19/04_Chernoff_Bound.html#application-to-the-normal-distribution) in the textbook. You will have to follow similar steps.\n",
    "\n",
    "You will need the [mgf of the gamma distribution](http://prob140.org/textbook/content/Chapter_19/02_Moment_Generating_Functions.html#mgf-of-a-gamma-r-lambda-random-variable). Also remember that you found the gamma mean and variance in Homework 9.\n",
    "\n",
    "Let $X$ have the gamma $(r, \\lambda)$ distribution. \n",
    "\n",
    "**a)** Show that $P(X \\ge 2E(X)) \\le \\left(\\frac{2}{e}\\right)^r$.\n",
    "\n",
    "**b)** Find Markov's and Chebyshev's bounds on $P(X \\ge 2E(X))$. \n",
    "\n",
    "**c) [CODE]** Fix $\\lambda = 1$. Display overlaid plots of the following four graphs as functions of $r$, for $r$ in the interval $(0.5, 15)$ :\n",
    "\n",
    "- The exact tail probability $P(X \\ge 2E(X))$\n",
    "- The bound in Part **a**: $\\left(\\frac{2}{e}\\right)^r$\n",
    "- Chebyshev's bound on $P(X \\ge 2E(X))$\n",
    "- Markov's bound on $P(X \\ge 2E(X))$\n",
    "\n",
    "The code uses `plt.plot` which you have used before. The expression `stats.gamma.cdf(x, r, scale=1)` evaluates to the cdf of the gamma $(r, 1)$ distribution at the point $x$."
   ]
  },
  {
   "cell_type": "code",
   "execution_count": null,
   "id": "db97a99c-bf47-4d6e-93d1-3805f00406bd",
   "metadata": {
    "#solution": false,
    "#staff": false,
    "#student": true
   },
   "outputs": [],
   "source": [
    "# Answer to c\n",
    "r = np.arange(0.05, 15, 0.1) \n",
    "\n",
    "markov_bound = ...\n",
    "\n",
    "chebyshev_bound = ...\n",
    "\n",
    "part_a_bound = ...\n",
    "\n",
    "# Use as many lines as you need for the exact values\n",
    "exact = ...\n",
    "...\n",
    "\n",
    "plt.plot(r, exact, lw=2, label='Exact Chance')\n",
    "plt.plot(r, part_a_bound, lw=2, label='Part (a) Bound')\n",
    "plt.plot(r, chebyshev_bound, lw=2, label='Chebyshev Bound')\n",
    "plt.plot(r, markov_bound, lw=2, label='Markov Bound')\n",
    "plt.legend()\n",
    "plt.xlabel('$r$')\n",
    "plt.ylim(0, 1)\n",
    "plt.xlim(0, 15)\n",
    "plt.title('$P(X \\geq 2E(X))$ for $X$ gamma $(r, 1)$');"
   ]
  },
  {
   "cell_type": "markdown",
   "id": "d0f99e63",
   "metadata": {
    "#solution": false,
    "#staff": false,
    "#student": false,
    "tags": []
   },
   "source": [
    "## Submission Instructions ##\n",
    "\n",
    "Many assignments throughout the course will have a written portion and a code portion. Please follow the directions below to properly submit both portions.\n",
    "\n",
    "### Written Portion ###\n",
    "*  Scan all the pages into a PDF. You can use any scanner or a phone using applications such as CamScanner. Please **DO NOT** simply take pictures using your phone. \n",
    "* Please start a new page for each question. If you have already written multiple questions on the same page, you can crop the image in CamScanner or fold your page over (the old-fashioned way). This helps expedite grading.\n",
    "* It is your responsibility to check that all the work on all the scanned pages is legible.\n",
    "* If you used $\\LaTeX$ to do the written portions, you do not need to do any scanning; you can just download the whole notebook as a PDF via LaTeX.\n",
    "\n",
    "### Code Portion ###\n",
    "* Save your notebook using `File > Save and Checkpoint`.\n",
    "* Generate a PDF file using `File > Download As > PDF via LaTeX`. This might take a few seconds and will automatically download a PDF version of this notebook.\n",
    "    * If you have issues, please post a follow-up on the general Homework 10 Ed thread.\n",
    "    \n",
    "### Submitting ###\n",
    "* Combine the PDFs from the written and code portions into one PDF. [Here](https://smallpdf.com/merge-pdf) is a useful tool for doing so. \n",
    "* Submit the assignment to Homework 10 on Gradescope. \n",
    "* **Make sure to assign each page of your pdf to the correct question.**\n",
    "* **It is your responsibility to verify that all of your work shows up in your final PDF submission.**\n",
    "\n",
    "If you are having difficulties scanning, uploading, or submitting your work, please read the [Ed Thread](https://edstem.org/us/courses/35049/discussion/2398718) on this topic and post a follow-up on the general Homework 10 Ed thread."
   ]
  },
  {
   "cell_type": "markdown",
   "id": "c5e7de83-502b-4747-8643-f690d268a013",
   "metadata": {
    "#solution": false,
    "#staff": false,
    "#student": false
   },
   "source": [
    "## **We will not grade assignments which do not have pages selected for each question.** ##"
   ]
  }
 ],
 "metadata": {
  "checksums": [
   "e5019ba5a48e54e4ce3ec831dee737dc",
   "0cd16835f01a065038ef45c8ed1c297c",
   "e1370906320eef18b35fbf3a8b435743",
   "79d3b9e4d2003abee17fab3aaee34aad",
   "f6dbf6b881e7b57df64a282162b326d8",
   "562505d567faf02dfc9388e81e89d07b",
   "48c3c181f7ab4f9c84433da36f8af95c",
   "c97115c51db7140b3b42a9f66ab6e8fd",
   "edc2a654819ca63a1772108f8016f75e",
   "95ee4f9101c3fde3bcfac91a3def6ddf",
   "562505d567faf02dfc9388e81e89d07b",
   "057ed09cffb95b2a9ce12c715e9d5ea3",
   "562505d567faf02dfc9388e81e89d07b",
   "9fe5aa8c9f07d49b4d24a41abd5da0ad",
   "562505d567faf02dfc9388e81e89d07b",
   "db973ee79291c1465e4bd14ea23369f4",
   "a6944006bbe5f4b02c30713d7bfe2646",
   "63737b85c5e821489f9f648418e938ad",
   "28b84f784840e42a5b8327aab8f973c0"
  ],
  "kernelspec": {
   "display_name": "Python 3",
   "language": "python",
   "name": "python3"
  },
  "language_info": {
   "codemirror_mode": {
    "name": "ipython",
    "version": 3
   },
   "file_extension": ".py",
   "mimetype": "text/x-python",
   "name": "python",
   "nbconvert_exporter": "python",
   "pygments_lexer": "ipython3",
   "version": "3.7.11"
  },
  "number_of_pagebreaks": 0
 },
 "nbformat": 4,
 "nbformat_minor": 5
}
