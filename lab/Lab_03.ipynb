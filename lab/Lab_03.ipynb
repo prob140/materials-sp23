{
 "cells": [
  {
   "cell_type": "markdown",
   "metadata": {},
   "source": [
    "<table align=\"left\" style=\"border-style: hidden\" class=\"table\"> <tr><td class=\"col-md-2\"><img style=\"float\" src=\"../icon_sp21.png\" alt=\"Data 140 Logo\" style=\"width: 120px;\"/></td><td><div align=\"left\"><h3 style=\"margin-top: 0;\">Probability for Data Science</h3><h4 style=\"margin-top: 20px;\">UC Berkeley, Spring 2021</h4><p>Ani Adhikari and Jim Pitman</p>CC BY-NC 4.0</div></td></tr></table><!-- not in pdf -->"
   ]
  },
  {
   "cell_type": "code",
   "execution_count": null,
   "metadata": {
    "#solution": false,
    "#staff": false,
    "#student": false
   },
   "outputs": [],
   "source": [
    "import warnings\n",
    "warnings.filterwarnings('ignore')\n",
    "\n",
    "from datascience import *\n",
    "from prob140 import *\n",
    "import numpy as np\n",
    "from scipy import stats\n",
    "\n",
    "import matplotlib.pyplot as plt\n",
    "plt.style.use(\"fivethirtyeight\")\n",
    "%matplotlib inline\n",
    "\n",
    "import ipywidgets as widgets\n",
    "from ipywidgets import interact"
   ]
  },
  {
   "cell_type": "markdown",
   "metadata": {
    "#solution": false,
    "#staff": false,
    "#student": false
   },
   "source": [
    "## Instructions\n",
    "\n",
    "Similar to your homeworks, your labs will generally have two components: a written portion and a portion that also involves code.  \n",
    "- Written work should be completed on paper, and coding questions should be done in the notebook.\n",
    "- Start the work for the written portions of each section on a new page.\n",
    "- You are welcome to $\\LaTeX$ your answers to the written portions, but staff will not be able to assist you with $\\LaTeX$ related issues. \n",
    "- Show your work. Give reasoning. The question isn't always going to ask for it, because we assume that you will provide justification for your answers. Every answer should contain a calculation, reasoning, or diagrams that are clearly labeled to show what's going on.\n",
    "- It is your responsibility to ensure that both components of the lab are submitted completely and properly to Gradescope. **Make sure to assign each page of your pdf to the correct question.** \n",
    "- **Refer to the bottom of the notebook for submission instructions.**"
   ]
  },
  {
   "cell_type": "markdown",
   "metadata": {
    "#solution": false,
    "#staff": false,
    "#student": false
   },
   "source": [
    "# Lab 3: Chinese Restaurant Process #"
   ]
  },
  {
   "cell_type": "markdown",
   "metadata": {
    "#solution": false,
    "#staff": false,
    "#student": false
   },
   "source": [
    "The word *stochastic* means random, or determined by a probability distribution. In this lab you will analyze a stochastic model for *clustering*, which is a process of visualizing and organizing data based on similarities between sampled individuals. Methods of identifying clusters have applications in a wide variety of areas. Here are just a few examples.\n",
    "\n",
    "- Biology: populations segmented by patterns in genes\n",
    "- Criminology: locations where a type of crime occurs\n",
    "- Marketing: customers who share preferences\n",
    "- Natural Language Processing: words grouped by similarity of meaning or grammatical properties\n",
    "\n",
    "One commonly used model is *k-means clustering*, which assumes that the data are continuous numerical variables and that the number of clusters in the population is known to be $k$. By contrast, the *Chinese Restaurant Process* is a discrete time stochastic process (that is, a random sequence observed at times 0, 1, 2, etc) that can be used as a model for clustering and does not assume a fixed number of clusters. Instead, the clusters evolve randomly as individuals enter the system, according to a specified probabilistic structure. The data could be categorical or numerical.\n",
    "\n",
    "This process is an example of a *generative Bayesian model* which specifies the probabilstic rules by which the process evolves and in which the representation itself evolves as more data come in.\n",
    "\n",
    "**History:** The process has its origins in the work of [Warren Ewens](https://en.wikipedia.org/wiki/Warren_Ewens) in the early 1970's, in particular the [Ewens Sampling Formula](https://en.wikipedia.org/wiki/Ewens%27s_sampling_formula) of population genetics. Since then, the development of the theory of the stochastic process and its use in machine learning has been very much a Berkeley enterprise: Jim Pitman, David Aldous, and Mike Jordan are among the people involved. The restaurant analogy is due to Jim Pitman and our late colleague Lester Dubins, during one of their regular cafe meetings decades ago. Though there is a popular story that they came up with it while eating at a Chinese restaurant, in fact they were at the Strada on Bancroft and College, known at the time as the Roma. "
   ]
  },
  {
   "cell_type": "markdown",
   "metadata": {
    "#solution": false,
    "#staff": false,
    "#student": false
   },
   "source": [
    "**What you will learn:** In Data 140 we will focus on understanding the probability model. You can then go on to other classes, for example in natural language processing, to see how to fit the model to data.\n",
    "\n",
    "This lab is about the distribution of the total number of clusters observed in a fixed amount of time. This theory helps answer questions like these:\n",
    "- How many different animal species do you expect to see?\n",
    "- What is the distribution of the number of different types of documents that you will have?\n",
    "- What is the chance that everybody is retweeting the same tweet?\n",
    "\n",
    "The \"restaurant\" image is that each person entering the restaurant chooses a table to join. Thus each table becomes a cluster. The model allows for an infinite number of tables, each of infinite size, though of course if you make $n$ observations then the observed number of occupied tables will be finite. That's the number of different clusters observed.\n",
    "\n",
    "In this lab you will study the random number of observed clusters. In Part A you will simulate the Chinese Restaurant process. In Part B you will study the distribution and expectation of the number of clusters, both empirically and analytically."
   ]
  },
  {
   "cell_type": "markdown",
   "metadata": {
    "#solution": false,
    "#staff": false,
    "#student": false
   },
   "source": [
    "## Preliminary ##\n",
    "To understand what follows, it will help to work out the two probabilities below. Suppose there are two positive numerical parameters $\\alpha_1$ and $\\alpha_2$. They are just positive numbers; they don't have to be probabilities or integers. Now suppose an event $A$ happens with probability proportional to $\\alpha_1$ while $A^c$ happens with probability proportional to $\\alpha_2$. Fill in the blanks with expressions in terms of $\\alpha_1$ and $\\alpha_2$.\n",
    "\n",
    "$P(A) = \\underline{~~~~~~~~~~~~~~~~~~~}$\n",
    "\n",
    "$P(A^c) = \\underline{~~~~~~~~~~~~~~~~~~~}$"
   ]
  },
  {
   "cell_type": "markdown",
   "metadata": {
    "#solution": false,
    "#staff": false,
    "#student": true
   },
   "source": [
    "\n",
    "**Type your answer in this cell.**"
   ]
  },
  {
   "cell_type": "markdown",
   "metadata": {
    "#solution": false,
    "#staff": false,
    "#student": false
   },
   "source": [
    "## The Process ##\n",
    "In keeping with the Chinese Restaurant (CR) analogy, think of clusters as groups of people sitting at the same table. We will only consider occupied tables, so the number of tables is equal to the number of clusters. \n",
    "\n",
    "The CR process evolves according to the following rules.\n",
    "- There is a positive parameter $\\theta$.\n",
    "- People enter the restaurant one at a time.\n",
    "- Person 1 enters and sits at a table which we will call Table 1.\n",
    "- Each subsequent person \n",
    "    - either joins an existing table with probability proportional to the number of people already at that table, or\n",
    "    - starts a new table with probability proportional to $\\theta$.\n",
    "- People choose tables independently of each other.\n",
    "\n",
    "Don't worry about running out of room. The restaurant has infinite capacity and each table is infinitely large. You can imagine infinitely many such tables at the start, or imagine new tables appearing magically each time a person's random choice is to start a new table. We prefer the second image because it consists only of the occupied tables.\n",
    "\n",
    "Note that the tables are not numbered at the start. We number them according to their order of formation. Thus Table 1 is the table at which Person 1 sits. Table 2 is the next new table to be formed. We can't say exactly who will start it, because that's random. Table 3 is the third new table to be formed. And so on.\n",
    "\n",
    "**Note on the name:** In Prof. A's experience, nobody chooses tables at a restaurant, Chinese or otherwise, in the way described above. A former 140 student once proposed a better analogy of new freshmen choosing tables in a dining hall. But a large restaurant with large round tables was an image that caught on quickly. The CR process now has variations such as the [Indian Buffet Process](https://cocosci.princeton.edu/tom/papers/indianbuffet.pdf).\n",
    "\n",
    "To visualize the CR process, run the cell below. It simulates 100 people arriving according to a CR process with some value of $\\theta$. Each table (that is, cluster) is represented by a color. Move the slider slowly at first, so that you can see the people coming in one at a time. \n",
    "\n",
    "Run the cell several times. The value of $\\theta$ changes each time you run the cell, and you will see quite a bit of variation in the results. This indicates that you might be able to use this model in varied applications, by choosing $\\theta$ appropriately."
   ]
  },
  {
   "cell_type": "code",
   "execution_count": null,
   "metadata": {
    "#solution": false,
    "#staff": false,
    "#student": false
   },
   "outputs": [],
   "source": [
    "visualize_cr()"
   ]
  },
  {
   "cell_type": "markdown",
   "metadata": {
    "#solution": false,
    "#staff": false,
    "#student": false
   },
   "source": [
    "## Part A of the lab starts here."
   ]
  },
  {
   "cell_type": "markdown",
   "metadata": {
    "#solution": false,
    "#staff": false,
    "#student": false
   },
   "source": [
    "## Identify Your Lab Partner ##"
   ]
  },
  {
   "cell_type": "markdown",
   "metadata": {
    "#solution": false,
    "#staff": false,
    "#student": false
   },
   "source": [
    "This is a multiple choice question. Please select **ONE** of following options that best describes how you complete Lab 3.\n",
    "\n",
    "- I am doing Part A of this lab by myself and I don't have a partner.\n",
    "- My partner for Part A of this lab is [PARTNER'S NAME] with email [berkeley.edu email address]. [SUBMITTER'S NAME] will submit to Gradescope and add the other partner to the group on Gradescope after submission.\n",
    "\n",
    "Please copy and paste **ONE** of above statements and fill in blanks if needed. If you work with a partner, make sure only one of you submit on Gradescope and that the other member of the group is added to the submission on Gradescope. Refer to the bottom of the notebook for submission instructions."
   ]
  },
  {
   "cell_type": "markdown",
   "metadata": {
    "#solution": false,
    "#staff": false,
    "#student": true
   },
   "source": [
    "\n",
    "**Type your answer in this cell.**"
   ]
  },
  {
   "cell_type": "markdown",
   "metadata": {
    "#solution": false,
    "#staff": false,
    "#student": false
   },
   "source": [
    "\\newpage"
   ]
  },
  {
   "cell_type": "markdown",
   "metadata": {
    "#solution": false,
    "#staff": false,
    "#student": false
   },
   "source": [
    "## Section 1: Steps towards Simulation ##\n",
    "Start by running the cell below to set the parameter $\\theta$. We are starting with the value $1$. Later in the lab you will vary $\\theta$."
   ]
  },
  {
   "cell_type": "code",
   "execution_count": null,
   "metadata": {
    "#solution": false,
    "#staff": false,
    "#student": false
   },
   "outputs": [],
   "source": [
    "theta = 1"
   ]
  },
  {
   "cell_type": "markdown",
   "metadata": {
    "#solution": false,
    "#staff": false,
    "#student": false
   },
   "source": [
    "The goal is to create an array `people` that shows the number of people at each table. For example, if there are ten people of whom six are at Table 1, three at Table 2, and one at Table 3, then the array created should be `[6, 3, 1]`. \n",
    "\n",
    "All entries in the array must be positive. The length of the array will be the total number of tables formed. This will be a random number because the choices of tables will be random.\n",
    "\n",
    "The process starts with the first person entering and sitting at a table which we will call Table 1. \n",
    "\n",
    "The cell below starts off the array `people` accordingly. Note that `np.array([1])` is the same as `make_array(1)` from the `datascience` library. You are welcome to use `make_array` in later cells if you prefer.\n",
    "\n",
    "Run the cell."
   ]
  },
  {
   "cell_type": "code",
   "execution_count": null,
   "metadata": {
    "#solution": false,
    "#staff": false,
    "#student": false
   },
   "outputs": [],
   "source": [
    "people = np.array([1])\n",
    "people"
   ]
  },
  {
   "cell_type": "markdown",
   "metadata": {
    "#solution": false,
    "#staff": false,
    "#student": false
   },
   "source": [
    "**To write the code below it might help you to keep the array `[6, 3, 1]` in mind as an example of what `people` might look like after 10 people are seated.**"
   ]
  },
  {
   "cell_type": "markdown",
   "metadata": {
    "#solution": false,
    "#staff": false,
    "#student": false
   },
   "source": [
    "### 1a) Number of people ###\n",
    "How can you use the array `people` to determine how many people are already seated when a new person comes in? Assign this expression to `n` in the cell below. Your code should work not just for the \"starter\" array `people` created above, but for any `people` array that shows the number of people at each table."
   ]
  },
  {
   "cell_type": "code",
   "execution_count": null,
   "metadata": {
    "#solution": false,
    "#staff": false,
    "#student": true
   },
   "outputs": [],
   "source": [
    "# The expression should involve the array named people\n",
    "\n",
    "n = ..."
   ]
  },
  {
   "cell_type": "markdown",
   "metadata": {
    "#solution": false,
    "#staff": false,
    "#student": false
   },
   "source": [
    "Your process hasn't started evolving yet, so at this stage what should the value of `n` be? Run the cell below to check that it gives the right answer. If it doesn't, reset `people` above and then fix your calculation of `n`. "
   ]
  },
  {
   "cell_type": "code",
   "execution_count": null,
   "metadata": {
    "#solution": false,
    "#staff": false,
    "#student": false
   },
   "outputs": [],
   "source": [
    "n"
   ]
  },
  {
   "cell_type": "markdown",
   "metadata": {
    "#solution": false,
    "#staff": false,
    "#student": false
   },
   "source": [
    "### 1b) Table choices for a new person ###\n",
    "Use the array `people` to create an array `tbl_choices` that contains the choices of tables that the next newly entering person (Person $n+1$) will have. There are no probabilities involved at this stage. Just create an array of choices, that is, the labels of all the possible tables at which the new person could sit."
   ]
  },
  {
   "cell_type": "code",
   "execution_count": null,
   "metadata": {
    "#solution": false,
    "#staff": false,
    "#student": true
   },
   "outputs": [],
   "source": [
    "# Array of all possible table choices that the new person has:\n",
    "# Use the people array!\n",
    "\n",
    "tbl_choices = ..."
   ]
  },
  {
   "cell_type": "markdown",
   "metadata": {
    "#solution": false,
    "#staff": false,
    "#student": false
   },
   "source": [
    "Thus far, only 1 person has entered. So at this stage `tbl_choices` should reflect the choices that Person 2 has. Run the cell below to make sure this is the case. If it isn't, go back and fix your construction of `tbl_choices` and run the cell again."
   ]
  },
  {
   "cell_type": "code",
   "execution_count": null,
   "metadata": {
    "#solution": false,
    "#staff": false,
    "#student": true
   },
   "outputs": [],
   "source": [
    "tbl_choices"
   ]
  },
  {
   "cell_type": "markdown",
   "metadata": {
    "#solution": false,
    "#staff": false,
    "#student": false
   },
   "source": [
    "### 1c) [On Paper] Distribution of Table Choices ###\n",
    "**This is the main probability calculation for constructing the process**, so take your time and get it right. Everything else in the lab will be based on this calculation.\n",
    "\n",
    "Suppose that there are $t$ occupied tables. For $1 \\le i \\le t$, let $n_i$ be the number of people at Table $i$, and let $\\sum_{i=1}^t n_i = n$.\n",
    "\n",
    "For each $i$ in the range $1, 2, \\ldots, t, t+1$, write an expression for the chance that the newly entering Person $n+1$ chooses Table $i$. Your answer should be in terms of $\\theta$, $n$, and $n_1, n_2, \\ldots, n_t$."
   ]
  },
  {
   "cell_type": "markdown",
   "metadata": {
    "#solution": false,
    "#staff": false,
    "#student": false
   },
   "source": [
    "### 1d) Coding the distribution ###\n",
    "Use your answer to **1c** to reate an array `tbl_probs` containing the corresponding probabilities of selection. That is, the $i$th element of `tbl_probs` should be the probability that the new person selects the $i$th element of `tbl_choices`."
   ]
  },
  {
   "cell_type": "code",
   "execution_count": null,
   "metadata": {
    "#solution": false,
    "#staff": false,
    "#student": true
   },
   "outputs": [],
   "source": [
    "# Array of probabilities of selecting the different tables\n",
    "# Use the people array!\n",
    "\n",
    "tbl_probs = ..."
   ]
  },
  {
   "cell_type": "markdown",
   "metadata": {
    "#solution": false,
    "#staff": false,
    "#student": false
   },
   "source": [
    "Run the cell below to check that `tbl_probs` is a probability distribution."
   ]
  },
  {
   "cell_type": "code",
   "execution_count": null,
   "metadata": {
    "#solution": false,
    "#staff": false,
    "#student": false
   },
   "outputs": [],
   "source": [
    "sum(tbl_probs)"
   ]
  },
  {
   "cell_type": "markdown",
   "metadata": {
    "#solution": false,
    "#staff": false,
    "#student": false
   },
   "source": [
    "### 1e) Simulating the new person's choice ###\n",
    "Now simulate the new person's choice of table, and assign it to the name `choice`. Use **1b**, **1c**, and `np.random.choice` to do so. \n",
    "\n",
    "The call `np.random.choice(values, p = probabilities)` makes one random draw from the distribution that has possible values in the array `values` and the corresponding probabilities in the array `probabilities`."
   ]
  },
  {
   "cell_type": "code",
   "execution_count": null,
   "metadata": {
    "#solution": false,
    "#staff": false,
    "#student": true
   },
   "outputs": [],
   "source": [
    "# The random choice made by the new person:\n",
    "\n",
    "choice = np.random.choice(...)"
   ]
  },
  {
   "cell_type": "markdown",
   "metadata": {
    "#solution": false,
    "#staff": false,
    "#student": false
   },
   "source": [
    "At this stage, your process is just beginning to evolve: you started with one person, and now a new person has made their choice. What could the possible values of `choice` be at this stage? \n",
    "\n",
    "Run the cell below to confirm that `choice` is one of these possible values. In the comment, provide the other possibility or possibilities."
   ]
  },
  {
   "cell_type": "code",
   "execution_count": null,
   "metadata": {
    "#solution": false,
    "#staff": false,
    "#student": true
   },
   "outputs": [],
   "source": [
    "choice # Could also have been [fill in this blank]"
   ]
  },
  {
   "cell_type": "markdown",
   "metadata": {
    "#solution": false,
    "#staff": false,
    "#student": false
   },
   "source": [
    "### 1f) Updating \n",
    "Write code that updates the array `people` appropriately based on the random choice made by the new person in **1e**. Your code should work for a new person entering at any stage.\n",
    "\n",
    "Your code can use any of the quantities calculated in earlier cells: `theta`, `n`, `people`, `tbl_choices`, `tbl_probs`, `choice`. Use as many lines as you need.\n",
    "\n",
    "If you need to change the element at index `k` of an array `my_array`, for example by multiplying the original element by 2, you can use `my_array[k] = my_array[k] * 2`. \n",
    "\n",
    "The code isn't complicated but it depends on getting array indices right. Remember that array indices start at 0, not 1.\n",
    "\n",
    "After you run the cell, `people` should be consistent with `choice` from **1e**. If you need to trouble-shoot, remember to Run All Above first, so that all the variables get reset."
   ]
  },
  {
   "cell_type": "code",
   "execution_count": null,
   "metadata": {
    "#solution": false,
    "#staff": false,
    "#student": true
   },
   "outputs": [],
   "source": [
    "# Update the array people based on the random choice \n",
    "# of the new person.\n",
    "...\n",
    "\n",
    "choice, people"
   ]
  },
  {
   "cell_type": "markdown",
   "metadata": {
    "#solution": false,
    "#staff": false,
    "#student": false
   },
   "source": [
    "\\newpage"
   ]
  },
  {
   "cell_type": "markdown",
   "metadata": {
    "#solution": false,
    "#staff": false,
    "#student": false
   },
   "source": [
    "## Section 2: Running the Process ##\n",
    "\n",
    "### 2a) The simulation ###\n",
    "Collect the code in Section 1 and use it to define a function `cr` that takes `N` and `theta` as its arguments, runs the CR process till `N` people have been seated, and returns an array of the number of people at each table in the order of table formation.\n",
    "\n",
    "- If you call your function with the arguments 1 and any positive $\\theta$, it should return the array [1]. That represents the one person seated at Table 1.\n",
    "- If you call your function with the arguments 2 and any positive $\\theta$, it should return either the array [2] if both people sit at Table 1, or [1, 1] if Person 2 starts a new table.\n",
    "- If you call your function with the arguments 3 and any positive $\\theta$, then it should return one of the following arrays: [3], [2, 1], [1, 2], [1, 1, 1].\n",
    "- And so on.\n",
    "\n",
    "Use as many lines as you need."
   ]
  },
  {
   "cell_type": "code",
   "execution_count": null,
   "metadata": {
    "#solution": false,
    "#staff": false,
    "#student": true
   },
   "outputs": [],
   "source": [
    "# Create the cr function.\n",
    "\n",
    "def cr(N, theta):\n",
    "    ...\n",
    "    \n",
    "    return ..."
   ]
  },
  {
   "cell_type": "markdown",
   "metadata": {
    "#solution": false,
    "#staff": false,
    "#student": false
   },
   "source": [
    "### 2b) Quick check ###\n",
    "Perform a basic ballpark check that your function is working right: run the cell below and confirm that the expression is evaluating to the right answer."
   ]
  },
  {
   "cell_type": "code",
   "execution_count": null,
   "metadata": {
    "#solution": false,
    "#staff": false,
    "#student": true
   },
   "outputs": [],
   "source": [
    "sum(cr(1000, 1))"
   ]
  },
  {
   "cell_type": "markdown",
   "metadata": {
    "#solution": false,
    "#staff": false,
    "#student": false
   },
   "source": [
    "### 2c) Running the simulation ###\n",
    "Run the process with $\\theta = 1$ and 100 people. Display the simulated results a table that has two columns:\n",
    "- `Table`: The labels of the occupied tables, in order of formation, so that the first entry is 1 and the last entry is the number of tables at the end of the run.\n",
    "- `People at Table`: The number of people seated at the corresponding table.\n",
    "\n",
    "Use as many lines as you need.\n",
    "\n",
    "Run the cell several times to get a sense of the variability of the results. The last line produces a visualization of the clusters."
   ]
  },
  {
   "cell_type": "code",
   "execution_count": null,
   "metadata": {
    "#solution": false,
    "#staff": false,
    "#student": true
   },
   "outputs": [],
   "source": [
    "N = 100\n",
    "theta = 1\n",
    "\n",
    "people = ...\n",
    "\n",
    "simulated_process = Table().with_columns(\n",
    "    'Table', ...,\n",
    "    'People at Table', ...\n",
    ")\n",
    "\n",
    "print(sum(simulated_process.column(1)))\n",
    "simulated_process.show()\n",
    "visualize_cr(people)"
   ]
  },
  {
   "cell_type": "markdown",
   "metadata": {
    "#solution": false,
    "#staff": false,
    "#student": false
   },
   "source": [
    "### 2d) Varying the parameters ###\n",
    "Repeat the simulation for varying values of $N$ and $\\theta$. Be sure to try $N = 100, 1000$, and $10000$ with $\\theta = 0.5, 1,$ and $2$. \n",
    "\n",
    "For each $N, \\theta$ pair, run the simulation multiple times. Keep your eye on the number of tables as well as the distribution of people across tables."
   ]
  },
  {
   "cell_type": "code",
   "execution_count": null,
   "metadata": {
    "#solution": false,
    "#staff": false,
    "#student": true
   },
   "outputs": [],
   "source": [
    "N = ...\n",
    "theta = ...\n",
    "visualize_cr(cr(N, theta))"
   ]
  },
  {
   "cell_type": "markdown",
   "metadata": {
    "#solution": false,
    "#staff": false,
    "#student": false
   },
   "source": [
    "### 2e) The nature of the clusters ###\n",
    "Give a brief qualitative description of what you have seen in the simulations for $N = 100$ and $\\theta = 0.5, 1$, and $2$. Address questions such as:\n",
    "- Are there lots of tables, not many, or is it not possible to tell?\n",
    "- Is the distribution of the number of people roughly uniform across the tables? If not, describe what you see about the number of big and small clusters.\n",
    "- In what way does $\\theta$ make a difference? Or is it not possible to tell?"
   ]
  },
  {
   "cell_type": "markdown",
   "metadata": {
    "#solution": false,
    "#staff": false,
    "#student": true
   },
   "source": [
    "\n",
    "**Type your answer in this cell.**"
   ]
  },
  {
   "cell_type": "markdown",
   "metadata": {
    "#solution": false,
    "#staff": false,
    "#student": false
   },
   "source": [
    "# Part A of the lab ends here, and is due by 11:59 pm Monday, Feburary 13. #"
   ]
  },
  {
   "cell_type": "markdown",
   "metadata": {
    "#solution": false,
    "#staff": false,
    "#student": false
   },
   "source": [
    "## Submission Instructions ##\n",
    "\n",
    "Many assignments throughout the course will have a written portion and a code portion. Please follow the directions below to properly submit both portions.\n",
    "\n",
    "### Written Portion ###\n",
    "*  Scan all the pages into a PDF. You can use any scanner or a phone using applications such as CamScanner. Please **DO NOT** simply take pictures using your phone. \n",
    "* Please start a new page for each question. If you have already written multiple questions on the same page, you can crop the image in CamScanner or fold your page over (the old-fashioned way). This helps expedite grading.\n",
    "* It is your responsibility to check that all the work on all the scanned pages is legible.\n",
    "* If you used $\\LaTeX$ to do the written portions, you do not need to do any scanning; you can just download the whole notebook as a PDF via LaTeX.\n",
    "\n",
    "### Code Portion ###\n",
    "* Save your notebook using `File > Save and Checkpoint`.\n",
    "* Generate a PDF file using `File > Download As > PDF via LaTeX`. This might take a few seconds and will automatically download a PDF version of this notebook.\n",
    "    * If you have issues, please post a follow-up on the general Lab 3A Ed thread.\n",
    "    \n",
    "### Submitting ###\n",
    "* Combine the PDFs from the written and code portions into one PDF. [Here](https://smallpdf.com/merge-pdf) is a useful tool for doing so. \n",
    "* Submit the assignment to Lab 3A on Gradescope. \n",
    "* **Make sure to assign each page of your pdf to the correct question.**\n",
    "* **It is your responsibility to verify that all of your work shows up in your final PDF submission.**\n",
    "\n",
    "If you are having difficulties scanning, uploading, or submitting your work, please read the [Ed Thread](https://edstem.org/us/courses/35049/discussion/2398718) on this topic and post a follow-up on the general Lab 3A Ed thread."
   ]
  },
  {
   "cell_type": "markdown",
   "metadata": {
    "#solution": false,
    "#staff": false,
    "#student": false
   },
   "source": [
    "## **We will not grade assignments which do not have pages selected for each question.** ##"
   ]
  },
  {
   "cell_type": "markdown",
   "metadata": {
    "#solution": false,
    "#staff": false,
    "#student": false
   },
   "source": [
    "\\newpage"
   ]
  },
  {
   "cell_type": "markdown",
   "metadata": {
    "#solution": false,
    "#staff": false,
    "#student": false
   },
   "source": [
    "# Part B starts here."
   ]
  },
  {
   "cell_type": "markdown",
   "metadata": {
    "#solution": false,
    "#staff": false,
    "#student": false
   },
   "source": [
    "This is a multiple choice question. Please select **ONE** of following options that best describes how you complete Lab 3.\n",
    "\n",
    "- I am doing Part B of this lab by myself and I don't have a partner.\n",
    "- My partner for Part B of this lab is [PARTNER'S NAME] with email [berkeley.edu email address]. [SUBMITTER'S NAME] will submit to Gradescope and add the other partner to the group on Gradescope after submission.\n",
    "\n",
    "Please copy and paste **ONE** of above statements and fill in blanks if needed. If you work with a partner, make sure only one of you submit on Gradescope and that the other member of the group is added to the submission on Gradescope. Refer to the bottom of the notebook for submission instructions."
   ]
  },
  {
   "cell_type": "markdown",
   "metadata": {
    "#solution": false,
    "#staff": false,
    "#student": true
   },
   "source": [
    "\n",
    "**Type your answer in this cell.**"
   ]
  },
  {
   "cell_type": "markdown",
   "metadata": {
    "#solution": false,
    "#staff": false,
    "#student": false
   },
   "source": [
    "\\newpage"
   ]
  },
  {
   "cell_type": "markdown",
   "metadata": {
    "#solution": false,
    "#staff": false,
    "#student": false
   },
   "source": [
    "## Section 3: Empirical Distribution of the Number of Clusters ##\n",
    "\n",
    "### 3a) Simulating the number of tables ###\n",
    "\n",
    "Define a function `num_tables` that takes `N`, `theta`, and `repetitions` (the number of times to simulate the process) as its arguments. In each repetition, the function runs the CR process with `N` people and counts the number of tables occupied by those people once they are all seated. The function `num_tables` should return an array of length `repetitions` consisting of the simulated table counts.\n",
    "\n",
    "Use as many lines as you need."
   ]
  },
  {
   "cell_type": "code",
   "execution_count": null,
   "metadata": {
    "#solution": false,
    "#staff": false,
    "#student": true
   },
   "outputs": [],
   "source": [
    "def num_tables(N, theta, repetitions):\n",
    "    ...\n",
    "\n",
    "    return ..."
   ]
  },
  {
   "cell_type": "markdown",
   "metadata": {
    "#solution": false,
    "#staff": false,
    "#student": false
   },
   "source": [
    "### 3b) Empirical distribution of the number of tables ###\n",
    "Draw the empirical histogram of the number of tables in the case $N = 100$ and $\\theta = 1$, based on 5000 repetitions. Be prepared to wait as the simulation chugs.\n",
    "\n",
    "The code below uses the `prob140` library method `emp_dist`, which takes an array of integer data and plots its histogram. It saves you the trouble of turning the array into a table and calling `hist` with the appropriate bins."
   ]
  },
  {
   "cell_type": "code",
   "execution_count": null,
   "metadata": {
    "#solution": false,
    "#staff": false,
    "#student": true
   },
   "outputs": [],
   "source": [
    "N = 100\n",
    "theta = 1\n",
    "repetitions = 5000\n",
    "sim_100_1 = ...\n",
    "\n",
    "Plot(emp_dist(sim_100_1))\n",
    "plt.xlabel('Number of Tables')\n",
    "plt.title('Empirical Distribution, '+'N='+str(N)+', $\\\\theta=$'+str(theta));"
   ]
  },
  {
   "cell_type": "markdown",
   "metadata": {
    "#solution": false,
    "#staff": false,
    "#student": false
   },
   "source": [
    "###  3c) Varying the parameters ###\n",
    "Draw the empirical histogram of the number of tables in the case $N = 100$ and $\\theta = 0.5$, based on 5000 repetitions. "
   ]
  },
  {
   "cell_type": "code",
   "execution_count": null,
   "metadata": {
    "#solution": false,
    "#staff": false,
    "#student": true
   },
   "outputs": [],
   "source": [
    "N = ...\n",
    "theta = ...\n",
    "repetitions = ...\n",
    "sim_100_pt5 = ...\n",
    "\n",
    "...\n",
    "plt.xlabel('Number of Tables')\n",
    "plt.title('Empirical Distribution, '+'N='+str(N)+', $\\\\theta=$'+str(theta));"
   ]
  },
  {
   "cell_type": "markdown",
   "metadata": {
    "#solution": false,
    "#staff": false,
    "#student": false
   },
   "source": [
    "Now draw the empirical histogram of the number of tables in the case $N = 100$ and $\\theta = 2$, based on 5000 repetitions."
   ]
  },
  {
   "cell_type": "code",
   "execution_count": null,
   "metadata": {
    "#solution": false,
    "#staff": false,
    "#student": true
   },
   "outputs": [],
   "source": [
    "N = ...\n",
    "theta = ...\n",
    "repetitions = ...\n",
    "sim_100_2 = ...\n",
    "\n",
    "..."
   ]
  },
  {
   "cell_type": "markdown",
   "metadata": {
    "#solution": false,
    "#staff": false,
    "#student": false
   },
   "source": [
    "### 3d) Consistency check ###\n",
    "Are the empirical histograms above consistent with the your answers to **2e**? "
   ]
  },
  {
   "cell_type": "markdown",
   "metadata": {
    "#solution": false,
    "#staff": false,
    "#student": true
   },
   "source": [
    "\n",
    "**Type your answer in this cell.**"
   ]
  },
  {
   "cell_type": "markdown",
   "metadata": {
    "#solution": false,
    "#staff": false,
    "#student": false,
    "collapsed": true
   },
   "source": [
    "\\newpage"
   ]
  },
  {
   "cell_type": "markdown",
   "metadata": {
    "#solution": false,
    "#staff": false,
    "#student": false,
    "collapsed": true
   },
   "source": [
    "## Section 4: Expected Number of Clusters ##\n",
    "\n",
    "### 4a) [ON PAPER] The expectation, analytically ###\n",
    "Fix a positive integer $N$ and suppose the process is run till $N$ people have been seated. Let $T_N$ be the number of tables, which is the same as the number of clusters. Find $E(T_N)$ in terms of $N$ and $\\theta$.\n",
    "\n",
    "It is helpful to note that the number of tables is equal to the number of people who started new tables."
   ]
  },
  {
   "cell_type": "markdown",
   "metadata": {
    "#solution": false,
    "#staff": false,
    "#student": false
   },
   "source": [
    "### 4b) The expectation, numerically ###\n",
    "Define a function `ev_num_clusters` that takes $N$ and $\\theta$ as arguments and returns $E(T_N)$."
   ]
  },
  {
   "cell_type": "code",
   "execution_count": null,
   "metadata": {
    "#solution": false,
    "#staff": false,
    "#student": true
   },
   "outputs": [],
   "source": [
    "def ev_num_clusters(N, theta):\n",
    "    ...\n",
    "    return ..."
   ]
  },
  {
   "cell_type": "markdown",
   "metadata": {
    "#solution": false,
    "#staff": false,
    "#student": false
   },
   "source": [
    "To check that your function is working, run it below with the arguments $N=100$ and $\\theta=0.5$. Compare the output with the empirical mean of your simulated counts `sim_100_pt5` in **3c**. The two numbers should be close."
   ]
  },
  {
   "cell_type": "code",
   "execution_count": null,
   "metadata": {
    "#solution": false,
    "#staff": false,
    "#student": true
   },
   "outputs": [],
   "source": [
    "emp_mean_100_pt5 = ...\n",
    "ev_num_clusters(100, 0.5), emp_mean_100_pt5"
   ]
  },
  {
   "cell_type": "markdown",
   "metadata": {
    "#solution": false,
    "#staff": false,
    "#student": false
   },
   "source": [
    "Repeat this test for the pairs $N=100$, $\\theta=1$ and $N=100$, $\\theta=2$, using the appropriate simulated arrays from **3b** and **3c**"
   ]
  },
  {
   "cell_type": "code",
   "execution_count": null,
   "metadata": {
    "#solution": false,
    "#staff": false,
    "#student": true
   },
   "outputs": [],
   "source": [
    "...\n",
    "ev_num_clusters(100, 1), ..."
   ]
  },
  {
   "cell_type": "code",
   "execution_count": null,
   "metadata": {
    "#solution": false,
    "#staff": false,
    "#student": true
   },
   "outputs": [],
   "source": [
    "...\n",
    "ev_num_clusters(100, 2), ..."
   ]
  },
  {
   "cell_type": "markdown",
   "metadata": {
    "#solution": false,
    "#staff": false,
    "#student": false
   },
   "source": [
    "### 4c) Rate of growth ###\n",
    "The sum $\\sum_{i=1}^k \\frac{1}{i}$ grows slowly with $k$. Its value is roughly $\\log(k)$ for large $k$. \n",
    "\n",
    "Set $\\theta = 2$. On the same axes, plot as a function of $N$ in the range $100$ to $5000$:\n",
    "\n",
    "- Your answer to **4a**\n",
    "- $\\theta \\log(N)$\n",
    "\n",
    "The code below uses `matplotlib`, specifically `plt.plot`, to draw the plots. The required first two arguments are an array of the values on the horizontal axis and an array of the values on the vertical axis. Your job is to create `array_N`, `theta_log_N`, and `expected_values` appropriately."
   ]
  },
  {
   "cell_type": "code",
   "execution_count": null,
   "metadata": {
    "#solution": false,
    "#staff": false,
    "#student": true
   },
   "outputs": [],
   "source": [
    "theta = 2\n",
    "\n",
    "array_N = ...\n",
    "\n",
    "theta_log_N = ...\n",
    "\n",
    "expected_values = ...\n",
    "...\n",
    "\n",
    "plt.plot(array_N, theta_log_N, lw=2, label='$\\\\theta\\log(N)$')\n",
    "plt.plot(array_N, expected_values, lw=2, label='$E(T_N)$')\n",
    "plt.xlabel('$N$')\n",
    "plt.legend();"
   ]
  },
  {
   "cell_type": "markdown",
   "metadata": {
    "#solution": false,
    "#staff": false,
    "#student": false
   },
   "source": [
    "The graphs should justify the statement, \"The expected number of clusters grows like $\\theta \\log(N)$.\""
   ]
  },
  {
   "cell_type": "markdown",
   "metadata": {
    "#solution": false,
    "#staff": false,
    "#student": false,
    "collapsed": true
   },
   "source": [
    "\\newpage\n",
    "\n",
    "## Section 5: Distribution of the Number of Clusters \n",
    "\n",
    "In Section 3 you simulated this distribution. It is now time to describe the distribution analytically. You already have its expectation in Section 4.\n",
    "\n",
    "Since the first person always starts a new table, the randomness in the number of tables $T_N$ is based on the number of new tables started by persons $2$ through $N$. So let's write $T_N$ as $T_N = 1 + R_N$ where $R_N$ is the number of new tables started by Persons $2$ through $N$.\n",
    "\n",
    "### 5a) [On Paper] Exact distribution and parameters\n",
    "Review the method you used in **4a** to find $E(T_N)$, the expected number of tables formed by $N$ people. Also review the distributions in Section 5a of Lab 2. \n",
    "\n",
    "Then fill in the blanks below and **explain your answer**. The first blank should be the name of a distribution and the second should be the parameters. Note that we use the plural \"parameters\" to include the case where there is only one parameter.\n",
    "\n",
    "$R_N$ has the $\\underline{~~~~~~~~~~~~~~~~~~~}$ distribution with parameters $\\underline{~~~~~~~~~~~~~~~~~~~}$."
   ]
  },
  {
   "cell_type": "markdown",
   "metadata": {
    "#solution": false,
    "#staff": false,
    "#student": false
   },
   "source": [
    "### 5b) [On Paper] Poisson approximation\n",
    "Though in principle we know the exact distribution of $R_N$, the probabilities its distribution are complicated to calculate. Since each of the $N-1$ Bernoulli random variables has a different parameter, the chance of each sequence of $N$ zeros and ones doesn't just depend on the number of ones but also on where the ones are.\n",
    "\n",
    "A good, simple approxmation would be useful. Revisit [LeCam's Theorem](https://en.wikipedia.org/wiki/Le_Cam%27s_theorem), familiar to you from Lab 2, and fill in the blank with the appropriate parameter. \n",
    "\n",
    "The distribution of $R_N$ is approximately Poisson $(\\underline{~~~~~~~~~~~~~~~~~~~})$ .\n",
    "\n",
    "In what way is the parameter related to $E(T_N)$?"
   ]
  },
  {
   "cell_type": "markdown",
   "metadata": {
    "#solution": false,
    "#staff": false,
    "#student": false
   },
   "source": [
    "### 5c) Visualizing the approximation\n",
    "In **3c** you drew an empirical histogram of the distribution of $T_N$ in the case $N=100$ and $\\theta=0.5$. Here it is again."
   ]
  },
  {
   "cell_type": "code",
   "execution_count": null,
   "metadata": {
    "#solution": false,
    "#staff": false,
    "#student": false
   },
   "outputs": [],
   "source": [
    "N = 100\n",
    "theta = 0.5\n",
    "\n",
    "Plot(emp_dist(sim_100_pt5))\n",
    "plt.xlim(0, 16)\n",
    "plt.xticks(np.arange(0, 16, 2))\n",
    "plt.xlabel('Number of Tables $T_N$')\n",
    "plt.title('Empirical Distribution, '+'N='+str(N)+', $\\\\theta=$'+str(theta));"
   ]
  },
  {
   "cell_type": "markdown",
   "metadata": {
    "#solution": false,
    "#staff": false,
    "#student": false
   },
   "source": [
    "The empirical histogram above was based on 5000 repetitions. So it should be pretty similar to the exact Poisson-binomial histogram.\n",
    "\n",
    "Now draw the histogram of the approximate distribution of $T_N$ based on the approximation in **5b**. Does it look similar to the one above?\n",
    "\n",
    "When you write your code, it's important to keep in mind that the approximation in **5b** is for $R_N$, not $T_N$. Also note that you can save some calculation by an appropriate use of your function `expected_T_N` from **4b**."
   ]
  },
  {
   "cell_type": "code",
   "execution_count": null,
   "metadata": {
    "#solution": false,
    "#staff": false,
    "#student": true
   },
   "outputs": [],
   "source": [
    "N = 100\n",
    "theta = 0.5\n",
    "k = np.arange(1, 16)\n",
    "probs = ...\n",
    "approx_dist = Table().values(k).probabilities(probs)\n",
    "\n",
    "Plot(approx_dist)\n",
    "plt.xlim(0, 16)\n",
    "plt.xticks(np.arange(0, 16, 2))\n",
    "plt.xlabel('Number of Tables $T_N$')\n",
    "plt.title('Poisson Approximation, '+'N='+str(N)+', $\\\\theta=$'+str(theta));"
   ]
  },
  {
   "cell_type": "markdown",
   "metadata": {
    "#solution": false,
    "#staff": false,
    "#student": false
   },
   "source": [
    "### 5d) Applying the approximation: Example 1\n",
    "In the case $N = 100$ and $\\theta = 0.5$, write an expression that evaluates to the approximate value of $P(T_N \\ge 4)$ based on **5b**. \n",
    "\n",
    "Complete the cell with just one expression, not multiple lines."
   ]
  },
  {
   "cell_type": "code",
   "execution_count": null,
   "metadata": {
    "#solution": false,
    "#staff": false,
    "#student": true
   },
   "outputs": [],
   "source": [
    "N = 100\n",
    "theta = 0.5\n",
    "\n",
    "# Approximate value of P(T_N >= 4)\n",
    "..."
   ]
  },
  {
   "cell_type": "markdown",
   "metadata": {
    "#solution": false,
    "#staff": false,
    "#student": false
   },
   "source": [
    "Now compare this approximation with the corresponding empirical approximation based on the 5000 simulated values `sim_100_pt5` in **3c**. \n",
    "\n",
    "Complete the cell with just one expression, not multiple lines."
   ]
  },
  {
   "cell_type": "code",
   "execution_count": null,
   "metadata": {
    "#solution": false,
    "#staff": false,
    "#student": true
   },
   "outputs": [],
   "source": [
    "# Empirical approximation to P(T_N >= 4) in the case N = 100, theta = 0.5\n",
    "..."
   ]
  },
  {
   "cell_type": "markdown",
   "metadata": {
    "#solution": false,
    "#staff": false,
    "#student": false
   },
   "source": [
    "### 5e) Applying the approximation: Example 2\n",
    "The calculations above should indicate that the Poisson approximation to the distribution of $T_N$ is pretty good. Now try it in a case where we don't have an empirical approximation for comparison.\n",
    "\n",
    "In the cell below, find $E(T_N)$ in the case $N=1000$ and $\\theta=0.7$. "
   ]
  },
  {
   "cell_type": "code",
   "execution_count": null,
   "metadata": {
    "#solution": false,
    "#staff": false,
    "#student": true
   },
   "outputs": [],
   "source": [
    "N = 1000\n",
    "theta = 0.7\n",
    "..."
   ]
  },
  {
   "cell_type": "markdown",
   "metadata": {
    "#solution": false,
    "#staff": false,
    "#student": false
   },
   "source": [
    "With the same parameters $N=1000$ and $\\theta=0.7$, approximate $P(T_N < 10)$.\n",
    "\n",
    "Complete the cell with one expression, not multiple lines."
   ]
  },
  {
   "cell_type": "code",
   "execution_count": null,
   "metadata": {
    "#solution": false,
    "#staff": false,
    "#student": true
   },
   "outputs": [],
   "source": [
    "# Approximate value of P(T_N < 10) in the case N = 1000, theta = 0.7\n",
    "..."
   ]
  },
  {
   "cell_type": "markdown",
   "metadata": {
    "#solution": false,
    "#staff": false,
    "#student": false
   },
   "source": [
    "## Conclusion ##\n",
    "Congratulations! You have completed Lab 3. What you have learned:\n",
    "- The assumptions of a clustering model in which individuals aren't labeled by type ahead of time and the number of clusters is unknown\n",
    "- How to simulate data under this model\n",
    "- The distribution of the total number of clusters, with empirical as well as analytical approximations\n",
    "- The exact value of the mean of the number of clusters, and the rate at which the mean grows"
   ]
  },
  {
   "cell_type": "markdown",
   "metadata": {
    "#solution": false,
    "#staff": false,
    "#student": false
   },
   "source": [
    "## Submission Instructions ##\n",
    "\n",
    "Many assignments throughout the course will have a written portion and a code portion. Please follow the directions below to properly submit both portions.\n",
    "\n",
    "### Written Portion ###\n",
    "*  Scan all the pages into a PDF. You can use any scanner or a phone using applications such as CamScanner. Please **DO NOT** simply take pictures using your phone. \n",
    "* Please start a new page for each question. If you have already written multiple questions on the same page, you can crop the image in CamScanner or fold your page over (the old-fashioned way). This helps expedite grading.\n",
    "* It is your responsibility to check that all the work on all the scanned pages is legible.\n",
    "* If you used $\\LaTeX$ to do the written portions, you do not need to do any scanning; you can just download the whole notebook as a PDF via LaTeX.\n",
    "\n",
    "### Code Portion ###\n",
    "* Save your notebook using `File > Save and Checkpoint`.\n",
    "* Generate a PDF file using `File > Download As > PDF via LaTeX`. This might take a few seconds and will automatically download a PDF version of this notebook.\n",
    "    * If you have issues, please post a follow-up on the general Lab 3B Ed thread.\n",
    "    \n",
    "### Submitting ###\n",
    "* Combine the PDFs from the written and code portions into one PDF. [Here](https://smallpdf.com/merge-pdf) is a useful tool for doing so. \n",
    "* Submit the assignment to Lab 3B on Gradescope. \n",
    "* **Make sure to assign each page of your pdf to the correct question.**\n",
    "* **It is your responsibility to verify that all of your work shows up in your final PDF submission.**\n",
    "\n",
    "If you are having difficulties scanning, uploading, or submitting your work, please read the [Ed Thread](https://edstem.org/us/courses/35049/discussion/2398718) on this topic and post a follow-up on the general Lab 3B Ed thread."
   ]
  },
  {
   "cell_type": "markdown",
   "metadata": {
    "#solution": false,
    "#staff": false,
    "#student": false
   },
   "source": [
    "## **We will not grade assignments which do not have pages selected for each question.** ##"
   ]
  }
 ],
 "metadata": {
  "anaconda-cloud": {},
  "checksums": [
   "426e58adaf321c88b8f26023c71265f5",
   "c57d6a38b4ef3a13eb38274d09d91f3b",
   "ab2576544104477d81ed67b42a1c5f2e",
   "32b74bdc7c3407fe6b2c91d5c61a6350",
   "f713cb20b0fcd549fae929b16c9abb05",
   "affad25a8b6e9bf5511e65515a48cb7e",
   "d92f5a735bb71c26834c01903b828292",
   "6917b6a12b6818b67cd188c52bb7ef24",
   "4584bf7f7de1daf68187dd84402a21ed",
   "f2de394ebc27de88aaf38cbeab20d682",
   "fb0abd7f43a5858379e7d1db6b8288a0",
   "036db2d2d84687f1befca7d08aa364f8",
   "fab500089768ae3dd3a53cbdff4ad096",
   "6917b6a12b6818b67cd188c52bb7ef24",
   "562505d567faf02dfc9388e81e89d07b",
   "582d90788013c33dd277d813585ab1f3",
   "cb497f787498d4ad968d6ebb655c13b5",
   "2714893c09948291aef4c1ab39f2bd7c",
   "28db9d8a8e2f6978c0c2eefead8d6f8a",
   "9b2fe1def0e15a9f407aa441de9be78d",
   "28468e87b3322bd21bb0046afa710bfc",
   "e08555c458c6001450b850210d9613ca",
   "a925b51afdcbf68fa1f736e1a1c8f290",
   "7b8b965ad4bca0e41ab51de7b31363a1",
   "b2c31bf64bf37ffc22177ba90c413999",
   "265242950fef111fc57b1e2d1f38f07f",
   "59c3a7eeea3fbfbad100354d9302ac70",
   "ff65ab074ee76a0f97201d320083daa4",
   "6f27ab5876cbe2530224551bb7365115",
   "791bfd20b5103d8c1f0e98dad391112f",
   "a3193ddacde17473b59a23b9be2ead3d",
   "3fd8b3ae1b15f3962cf69631d0d1d680",
   "493bd6ca29e968453825cebbcd1080d4",
   "d22fa9b78f64edd4ed9489232b35ac5f",
   "ffdf84a13b59c416ff09db7fd7a804b1",
   "ca95075a7dd7c286b3ea2bd82994542c",
   "7c87c50bdd15254652791182f482d7eb",
   "5dfd93093b634ae806f5195115c7c084",
   "cef9fd8ef7a8f25f98feae308ca39894",
   "562505d567faf02dfc9388e81e89d07b",
   "3ce5893751e713acaa18c6357626bd10",
   "479c88126c98e2aa218027538954d96d",
   "0ee71c03d2de7876fd516866d6579c45",
   "308fe69f2f7085d2fcf54f138b58ff19",
   "624f43061b3058f886309313caba6483",
   "26aff3ebe6cdea0982cbd481d763310e",
   "7a4ed6f2f470a922df8cf31509790014",
   "2eb09e2c3eca3e08b9e21bc6d6926d1f",
   "7385ec318915fdcb38fb66b66ff28910",
   "6917b6a12b6818b67cd188c52bb7ef24",
   "e429404bca8dfd1da97b37a02b343d29",
   "488bc6468fc4b6516043ea9d8df05d28",
   "28b84f784840e42a5b8327aab8f973c0",
   "562505d567faf02dfc9388e81e89d07b",
   "59bae29acf9f8590c81d9e72afaa75b8",
   "33520da982207486e982f52c3ecb89fb",
   "6917b6a12b6818b67cd188c52bb7ef24",
   "562505d567faf02dfc9388e81e89d07b",
   "b8066ac7c21629cb598f5d62109b2949",
   "163d82238a262eaace81d24ab69943cb",
   "e5a545afec4c7fa060af0dd71f9fa0de",
   "056b8429a993fc95ea2d39b1acb07a01",
   "c9b59d28a264057bf85bb61d0777e53f",
   "04a1fb3f040f98f2a1a7f6f4aa6d5c46",
   "974d0f9cfdc53c6b6699ccec4c69b1e9",
   "44273db250aaaa2d51f921c2e0c5fc8e",
   "16fccd25b2de7de6a4985da43d9d0bc6",
   "6917b6a12b6818b67cd188c52bb7ef24",
   "562505d567faf02dfc9388e81e89d07b",
   "b2a26454c407eaec5963d8cb769cf7b7",
   "a655d23a05870232b6f1303bdfa6dd1f",
   "9cec0e764376f051e2ea9ca1fc899b5d",
   "b13dc95c2055ea925effff41bd806832",
   "91fd440f0023845c18688d4af6cc9c88",
   "7dee103d7af69d2d51510f98cd5a5090",
   "4ee6bc60499b3a0d3f7df95702fd4f43",
   "16ca24701f3f1567470770cdf8fc880c",
   "550b6f9748cdcd593b256398c439719a",
   "d702877118dd05c288d1b9a435f2567f",
   "3e119b4afeda8e37d39ef8365cb1f17e",
   "158af25080e7d115178d988b4195409c",
   "9f5f7518a50e7fdb0bd7a86fb0e202c8",
   "e84a282e0e015c8fcc69afb3dfd2d6db",
   "6b76f51b375b715c803d185b15c8a61c",
   "3c40f18289608f9be899cd3463813113",
   "3a129a361193f0024c131c281d0fac69",
   "5236b192810603438f48b5d291a163ef",
   "3adbe3676fd06d5b9b7cc3b1e9bb35b0",
   "9c1e142f7bf8ade47f0da71de302d1a6",
   "1e2e3aac4da32c0bd504ba8b7ad47999",
   "1fbe1993a64ba556e5d96d7c6f9b90d7",
   "15e11ea3ebbd4476a132a0fdedc60547",
   "2e7b7e735e07cc81e9904e9c11a0f739",
   "49ad8c2422b453867a1ee8de8b4e9219",
   "7125d6a194e4b03e0ada26f6a41b48c5",
   "a2aff093f316d2309580e90729055153",
   "28b84f784840e42a5b8327aab8f973c0"
  ],
  "kernelspec": {
   "display_name": "Python 3",
   "language": "python",
   "name": "python3"
  },
  "language_info": {
   "codemirror_mode": {
    "name": "ipython",
    "version": 3
   },
   "file_extension": ".py",
   "mimetype": "text/x-python",
   "name": "python",
   "nbconvert_exporter": "python",
   "pygments_lexer": "ipython3",
   "version": "3.7.11"
  },
  "number_of_pagebreaks": 0
 },
 "nbformat": 4,
 "nbformat_minor": 1
}
