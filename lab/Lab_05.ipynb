{
 "cells": [
  {
   "cell_type": "markdown",
   "metadata": {
    "#solution": false,
    "#staff": false,
    "#student": false
   },
   "source": [
    "<table align=\"left\" style=\"border-style: hidden\" class=\"table\"> <tr><td class=\"col-md-2\"><img style=\"float\" src=\"../icon.png\" alt=\"Prob140 Logo\" style=\"width: 120px;\"/></td><td><div align=\"left\"><h3 style=\"margin-top: 0;\">Probability for Data Science</h3><h4 style=\"margin-top: 20px;\">UC Berkeley, Spring 2023</h4><p>Ani Adhikari</p>CC BY-NC-SA 4.0</div></td></tr></table><!-- not in pdf -->\n",
    "\n",
    "This content is protected and may not be shared, uploaded, or distributed."
   ]
  },
  {
   "cell_type": "code",
   "execution_count": null,
   "metadata": {
    "#solution": false,
    "#staff": false,
    "#student": false
   },
   "outputs": [],
   "source": [
    "# SETUP\n",
    "from datascience import *\n",
    "from prob140 import *\n",
    "import numpy as np\n",
    "%matplotlib inline\n",
    "import matplotlib.pyplot as plt\n",
    "plt.style.use('fivethirtyeight')\n",
    "import pylab\n",
    "from scipy import stats\n",
    "import ipywidgets as widgets\n",
    "from ipywidgets import interact\n",
    "from IPython.display import display\n",
    "from matplotlib.ticker import FormatStrFormatter"
   ]
  },
  {
   "cell_type": "code",
   "execution_count": null,
   "metadata": {
    "#solution": false,
    "#staff": false,
    "#student": false
   },
   "outputs": [],
   "source": [
    "def search(x_limits, cdf, u):\n",
    "    \"\"\"\n",
    "    Runs a binary search to find the inverse cdf.\n",
    "    \"\"\"\n",
    "    # Handle possible asymptotes.\n",
    "    if cdf(x_limits[0]) > u:\n",
    "        return x_limits[0]\n",
    "    if cdf(x_limits[1]) < u:\n",
    "        return x_limits[1]\n",
    "    \n",
    "    mid = (x_limits[0] + x_limits[1])/2\n",
    "    diff = u - cdf(mid)\n",
    "    if np.abs(diff) < 0.01:\n",
    "        return mid\n",
    "    if diff < 0:\n",
    "        return search((x_limits[0], mid), cdf, u)\n",
    "    return search((mid, x_limits[1]), cdf, u)\n",
    "\n",
    "def plot_axes(cdf_table):\n",
    "    values = cdf_table.column(cdf_table.num_columns - 1)\n",
    "    cum = list(np.cumsum(values))\n",
    "    cur_axes = plt.gca()\n",
    "    cur_axes.axes.get_xaxis().set_visible(False)\n",
    "    plt.yticks([0] + cum)\n",
    "    plt.ylim(-0.1, 1.1)\n",
    "    plt.plot([0,0], [0,1], color=\"k\", lw=3)\n",
    "    plt.xlim(-0.02, 1)\n",
    "    plt.scatter([0]*(len(cum) + 1),\n",
    "                [0] + cum, s=55, color=\"k\")\n",
    "\n",
    "def plot_discrete_cdf(cdf_table, u=None):\n",
    "    \"\"\"\n",
    "    Plots the cdf of a discrete distribution.\n",
    "    \n",
    "    Parameters\n",
    "    ----------\n",
    "    cdf_table : Table\n",
    "        Table of cdf values.\n",
    "    u : float\n",
    "        Value from (0, 1) to plot inverse cdf of.\n",
    "    \"\"\"\n",
    "    values = cdf_table.column(0)\n",
    "    values = np.append(values[0] - 2, values)\n",
    "\n",
    "    cum = cdf_table.column(cdf_table.num_columns - 1)\n",
    "    cum = np.append(0, np.cumsum(cum))\n",
    "\n",
    "    for i in range(len(values) - 1):\n",
    "        plt.plot([values[i], values[i+1]], [cum[i], cum[i]],\n",
    "                 color=\"darkblue\")\n",
    "        plt.plot([values[i+1], values[i+1]], [cum[i], cum[i+1]],\n",
    "                 ls=\"--\", color=\"darkblue\" )\n",
    "    plt.scatter(values, cum, s=50, color=\"darkblue\")    \n",
    "\n",
    "    plt.plot([values[-1], values[-1] + 2], [1,1],\n",
    "             color=\"darkblue\")\n",
    "\n",
    "    plt.xlim(values[0], values[-1] + 2)\n",
    "    plt.ylim(-0.1, 1.1)\n",
    "    plt.xlabel('$x$')\n",
    "    plt.ylabel('CDF at $x$')\n",
    "    plt.title('Graph of CDF');\n",
    "    \n",
    "    if u != None:\n",
    "        for i in range(len(values)):\n",
    "            if u <= cum[i]:\n",
    "                index = values[i]\n",
    "                break\n",
    "        height = u\n",
    "        \n",
    "        plt.plot([values[0], (index+values[0])/2], [height, height],\n",
    "                 marker='>', color='red', lw=1)\n",
    "        plt.plot([(index+values[0])/2, index], [height, height],\n",
    "                 color='red', lw=1)\n",
    "        plt.plot([index, index], [height, height/2], marker=\"v\",\n",
    "                 color=\"red\", lw=1)\n",
    "        plt.plot([index, index], [0, height/2], color=\"red\", lw=1)\n",
    "\n",
    "def plot_continuous_cdf(x_limits, cdf, u=None):\n",
    "    \"\"\"\n",
    "    Plots the cdf of a continuous distribution.\n",
    "    \"\"\"\n",
    "    x = np.linspace(*x_limits, 100)\n",
    "    cdf_values = list(map(cdf, x))\n",
    "    plt.plot(x, cdf_values, color=\"darkblue\")\n",
    "    plt.xlabel('$x$')\n",
    "    plt.ylabel('CDF at $x$')\n",
    "    plt.title('Graph of CDF');\n",
    "    \n",
    "    if not u is None:\n",
    "        index = search(x_limits, cdf, u)\n",
    "        height = u\n",
    "\n",
    "        plt.plot([x_limits[0], (index+x_limits[0])/2],\n",
    "                 [height, height], marker='>', color='red', lw=1)\n",
    "        plt.plot([(index+x_limits[0])/2, index],\n",
    "                 [height, height], color='red', lw=1)\n",
    "        plt.plot([index, index], [height, height/2],\n",
    "                 marker=\"v\", color=\"red\", lw=1)\n",
    "        plt.plot([index, index], [0, height/2], color=\"red\", lw=1)\n",
    "\n",
    "\n",
    "    plt.xlim(*x_limits)\n",
    "\n",
    "def unit_interval_to_discrete(cdf_table):\n",
    "    uniform_slider = widgets.FloatSlider(\n",
    "        value=0.5,min=0,max=1,step=0.02, description='u')\n",
    "    @interact(u = uniform_slider)\n",
    "    def plot(u):\n",
    "        plot_discrete_cdf(cdf_table, u)\n",
    "\n",
    "\n",
    "def unit_interval_to_continuous(x_limits, cdf):\n",
    "    uniform_slider2 = widgets.FloatSlider(\n",
    "        value=0.5, min=0,max=1,step=0.02, description='u')\n",
    "    \n",
    "    @interact(u = uniform_slider2)\n",
    "    def plot(u):\n",
    "        if (cdf(u) > x_limits[1] or cdf(u) < x_limits[0]):\n",
    "            plot_continuous_cdf(x_limits, cdf)\n",
    "        else:\n",
    "            plot_continuous_cdf(x_limits, cdf, u)\n",
    "    \n",
    "def override_hist(*args, **kwargs):\n",
    "    \"\"\"\n",
    "    This cleans up some unfortunate floating point precision\n",
    "    bugs in the datascience library\n",
    "    \"\"\"\n",
    "    #kwargs['edgecolor'] = 'w'\n",
    "    Table.hist2(*args, **kwargs)\n",
    "    ax = plt.gca()\n",
    "    ticks = ax.get_xticks()\n",
    "    if np.any(np.array(ticks) != np.rint(ticks)):\n",
    "        ax.xaxis.set_major_formatter(FormatStrFormatter('%.2f'))\n",
    "\n",
    "if not hasattr(Table, 'hist2'):\n",
    "    Table.hist2 = Table.hist\n",
    "    \n",
    "Table.hist = override_hist"
   ]
  },
  {
   "cell_type": "markdown",
   "metadata": {
    "#solution": false,
    "#staff": false,
    "#student": false
   },
   "source": [
    "# Lab 5: Densities and Transformation #"
   ]
  },
  {
   "cell_type": "markdown",
   "metadata": {
    "#solution": false,
    "#staff": false,
    "#student": false
   },
   "source": [
    "Calculus helps us work with random variables that have a continuum of possible values, such as the whole real line, or all positive numbers, or the unit interval $(0, 1)$. In this lab you will learn how to use Python to do the calculus and implement the theory that governs such random variables.\n",
    "\n",
    "In the process, you will discover how computational systems such as `SciPy` simulate random variables with a specified distribution. Whenever we have said, \"Let the number of trials have the Poisson distribution,\" we have tacitly assumed that we know how to generate a Poisson random number. But we never discussed how to do that, until now. The method that you will develop starts with simulating discrete random variables and then extends to the continuous case.\n",
    "\n",
    "What you will learn in this lab:\n",
    "\n",
    "- How to use `SymPy`, the symbolic math library of Python\n",
    "- How to implement the theory of probability densities\n",
    "- How to transform a uniform random variable to simulate a random variable with a specified distribution\n",
    "- How to implement the change of variable formula for the density of a transformed variable\n",
    "\n",
    "In Part A of the lab, you will set up the basics: how to use `SymPy` to do calculus, how to work with densities, and how to simulate discrete random variables.\n",
    "\n",
    "In Part B, you will figure out how computational systems simulate continuous random variables, and how to find the densities of transformed random variables."
   ]
  },
  {
   "cell_type": "markdown",
   "metadata": {
    "#solution": false,
    "#staff": false,
    "#student": false
   },
   "source": [
    "\\newpage"
   ]
  },
  {
   "cell_type": "markdown",
   "metadata": {
    "#solution": false,
    "#staff": false,
    "#student": false
   },
   "source": [
    "# Part A of the lab starts here. # "
   ]
  },
  {
   "cell_type": "markdown",
   "metadata": {
    "#solution": false,
    "#staff": false,
    "#student": false
   },
   "source": [
    "## Identify Your Lab Partner ##"
   ]
  },
  {
   "cell_type": "markdown",
   "metadata": {
    "#solution": false,
    "#staff": false,
    "#student": false
   },
   "source": [
    "This is a multiple choice question. Please select **ONE** of following options that best describes how you complete this lab.\n",
    "\n",
    "- I am doing this lab by myself and I don't have a partner.\n",
    "- My partner for this lab is [PARTNER'S NAME] with email [berkeley.edu email address]. [SUBMITTER'S NAME] will submit to Gradescope and add the other partner to the group on Gradescope after submission.\n",
    "\n",
    "Please copy and paste **ONE** of above statements and fill in blanks if needed. If you work with a partner, make sure only one of you submit on Gradescope and that the other member of the group is added to the submission on Gradescope. Refer to the bottom of the notebook for submission instructions."
   ]
  },
  {
   "cell_type": "markdown",
   "metadata": {
    "#solution": false,
    "#staff": false,
    "#student": true
   },
   "source": [
    "\n",
    "**Type your answer in this cell.**"
   ]
  },
  {
   "cell_type": "markdown",
   "metadata": {
    "#solution": false,
    "#staff": false,
    "#student": false
   },
   "source": [
    "\\newpage"
   ]
  },
  {
   "cell_type": "markdown",
   "metadata": {
    "#solution": false,
    "#staff": false,
    "#student": false
   },
   "source": [
    "## Section 1: Operations in `SymPy`\n",
    "\n",
    "When you work with densities, there is often some calculus involved. Sometimes, recognizing integrals as probabilistic quantities (probabilities, expectations, and so on) can help reduce the calculus. \n",
    "\n",
    "But sometimes you just have to crank out the calculus. This can occasionally be messy. Fortunately, Python can help.\n",
    "\n",
    "The `SymPy` library is a set of tools that help you do symbolic math on the computer. To see what this means, let's start with a simple numerical calculation of a familiar sort."
   ]
  },
  {
   "cell_type": "code",
   "execution_count": null,
   "metadata": {
    "#solution": false,
    "#staff": false,
    "#student": false
   },
   "outputs": [],
   "source": [
    "x = 3\n",
    "(2 * x + 1) ** 2"
   ]
  },
  {
   "cell_type": "markdown",
   "metadata": {
    "#solution": false,
    "#staff": false,
    "#student": false
   },
   "source": [
    "What you can do in `SymPy`, assuming that you have explained to `SymPy` that $x$ is a symbol, is to have `(2*x + 1) ** 2` appear as $(2x + 1)^2$. You can then expand it to get $4x^2 + 4x + 1$. `SymPy` does the math that you did some time ago in algebra class, and renders the math in symbols. It gives you an exact symbolic answer, instead of numerical answer (that is often an approximation) in a particular case.\n",
    "\n",
    "`SymPy` contains a large number of mathematical functions and operations, including integration and differentiation. This can be very handy when working with densities."
   ]
  },
  {
   "cell_type": "markdown",
   "metadata": {
    "#solution": false,
    "#staff": false,
    "#student": false
   },
   "source": [
    "#### Getting Started ###\n",
    "We must import the library and add a line of code that makes the math appear in the way that it appears in the [textbook](http://prob140.org/textbook/content/README.html)."
   ]
  },
  {
   "cell_type": "code",
   "execution_count": null,
   "metadata": {
    "#solution": false,
    "#staff": false,
    "#student": false
   },
   "outputs": [],
   "source": [
    "from sympy import *\n",
    "init_printing()"
   ]
  },
  {
   "cell_type": "markdown",
   "metadata": {
    "#solution": false,
    "#staff": false,
    "#student": false
   },
   "source": [
    "We will start with simple examples of the basic operations and syntax. For more, take a look at the [SymPy Tutorial](https://docs.sympy.org/latest/tutorial/index.html)."
   ]
  },
  {
   "cell_type": "markdown",
   "metadata": {
    "#solution": false,
    "#staff": false,
    "#student": false
   },
   "source": [
    "### 1a) Creating a Symbolic Variable ###\n",
    "\n",
    "You are used to assigning names to numbers, arrays, and so on. In `SymPy`, we create a symbol using `Symbol`. Its required argument is a string that contains the symbol we want to use. We can assign that to a name, just as we have done before."
   ]
  },
  {
   "cell_type": "code",
   "execution_count": null,
   "metadata": {
    "#solution": false,
    "#staff": false,
    "#student": false
   },
   "outputs": [],
   "source": [
    "# Create a symbol\n",
    "\n",
    "x = Symbol('x')\n",
    "x"
   ]
  },
  {
   "cell_type": "markdown",
   "metadata": {
    "#solution": false,
    "#staff": false,
    "#student": false
   },
   "source": [
    "### 1b) Constructing a Symbolic Expression ###\n",
    "\n",
    "Consider the math function $f(x) ~ = ~ 2x + 1$. We can create a `SymPy` expression equal to the right hand side, as follows."
   ]
  },
  {
   "cell_type": "code",
   "execution_count": null,
   "metadata": {
    "#solution": false,
    "#staff": false,
    "#student": false
   },
   "outputs": [],
   "source": [
    "# An expression that is the right hand side\n",
    "# of the definition of f(x)\n",
    "\n",
    "2*x + 1"
   ]
  },
  {
   "cell_type": "code",
   "execution_count": null,
   "metadata": {
    "#solution": false,
    "#staff": false,
    "#student": false
   },
   "outputs": [],
   "source": [
    "# Name the expression and display it\n",
    "\n",
    "f = 2*x + 1\n",
    "f"
   ]
  },
  {
   "cell_type": "markdown",
   "metadata": {
    "#solution": false,
    "#staff": false,
    "#student": false
   },
   "source": [
    "It is important to make a distinction between the math function $f$ and the `SymPy` expression `f`. Though `f` doesn't have an $x$ in the name, it is equal to $f(x)$, the math function $f$ evaluated at the point $x$.\n",
    "\n",
    "You can create new expressions by using math operations."
   ]
  },
  {
   "cell_type": "code",
   "execution_count": null,
   "metadata": {
    "#solution": false,
    "#staff": false,
    "#student": false
   },
   "outputs": [],
   "source": [
    "f ** 2"
   ]
  },
  {
   "cell_type": "markdown",
   "metadata": {
    "#solution": false,
    "#staff": false,
    "#student": false
   },
   "source": [
    "You can ask `SymPy` to expand the square, to get an equivalent expression."
   ]
  },
  {
   "cell_type": "code",
   "execution_count": null,
   "metadata": {
    "#solution": false,
    "#staff": false,
    "#student": false
   },
   "outputs": [],
   "source": [
    "expanded = expand(f ** 2)\n",
    "expanded"
   ]
  },
  {
   "cell_type": "markdown",
   "metadata": {
    "#solution": false,
    "#staff": false,
    "#student": false
   },
   "source": [
    "### 1c) Evaluating an Expression at a Point ###\n",
    "\n",
    "To evaluate $f(5)$ in math, we have take the expression $2x + 1$ and substitute the generic $x$ with the specific value $5$. So also in `SymPy`, we evaluate the symbolic expression `f` at the point $5$ by using substitution."
   ]
  },
  {
   "cell_type": "code",
   "execution_count": null,
   "metadata": {
    "#solution": false,
    "#staff": false,
    "#student": false
   },
   "outputs": [],
   "source": [
    "# Evaluate the expression at the point x = 5\n",
    "\n",
    "f.subs(x, 5)"
   ]
  },
  {
   "cell_type": "markdown",
   "metadata": {
    "#solution": false,
    "#staff": false,
    "#student": false
   },
   "source": [
    "Points themselves can be symbols. For example, `SymPy` recognizes `pi` as $\\pi$. So we can evaluate the function $f$ at $\\pi$:"
   ]
  },
  {
   "cell_type": "code",
   "execution_count": null,
   "metadata": {
    "#solution": false,
    "#staff": false,
    "#student": false
   },
   "outputs": [],
   "source": [
    "f.subs(x, pi)"
   ]
  },
  {
   "cell_type": "markdown",
   "metadata": {
    "#solution": false,
    "#staff": false,
    "#student": false
   },
   "source": [
    "You can see that `SymPy` makes choices about exactly how to display expressions. All symbolic math systems make such decisions, but not always in the same way. \n",
    "\n",
    "It is important to notice the difference between symbolic and numeric calculations such as those you perform using `NumPy`. For example, recall that `np.pi` is the `NumPy` expression for $\\pi$, and run the cell below. "
   ]
  },
  {
   "cell_type": "code",
   "execution_count": null,
   "metadata": {
    "#solution": false,
    "#staff": false,
    "#student": false
   },
   "outputs": [],
   "source": [
    "f.subs(x, pi), f.subs(x, np.pi)"
   ]
  },
  {
   "cell_type": "markdown",
   "metadata": {
    "#solution": false,
    "#staff": false,
    "#student": false
   },
   "source": [
    "The first expression is exact, as in math, while the numerical calculation results in an approximate value by computation."
   ]
  },
  {
   "cell_type": "markdown",
   "metadata": {
    "#solution": false,
    "#staff": false,
    "#student": false
   },
   "source": [
    "### 1d) Integration ###\n",
    "Integration is one of the most important operations in probability. Let's learn how to integrate functions using `SymPy`.\n",
    "\n",
    "The indefinite integral $\\int f(x)dx$ can be displayed using `Integral(f)`."
   ]
  },
  {
   "cell_type": "code",
   "execution_count": null,
   "metadata": {
    "#solution": false,
    "#staff": false,
    "#student": false
   },
   "outputs": [],
   "source": [
    "# Display the indefinite integral\n",
    "\n",
    "Integral(f)"
   ]
  },
  {
   "cell_type": "markdown",
   "metadata": {
    "#solution": false,
    "#staff": false,
    "#student": false
   },
   "source": [
    "That's nice, but it would be even nicer if `SymPy` could actually do the integral, not just show it to us.\n",
    "\n",
    "To make this happen, we are going to be a bit rude. We are going to tell `SymPy` to just `doit()`."
   ]
  },
  {
   "cell_type": "code",
   "execution_count": null,
   "metadata": {
    "#solution": false,
    "#staff": false,
    "#student": false
   },
   "outputs": [],
   "source": [
    "# Evaluate the indefinite integral\n",
    "\n",
    "Integral(f).doit()"
   ]
  },
  {
   "cell_type": "markdown",
   "metadata": {
    "#solution": false,
    "#staff": false,
    "#student": false
   },
   "source": [
    "This creates a new `SymPy` expression, which you can assign to a name as usual."
   ]
  },
  {
   "cell_type": "code",
   "execution_count": null,
   "metadata": {
    "#solution": false,
    "#staff": false,
    "#student": false
   },
   "outputs": [],
   "source": [
    "F = Integral(f).doit()\n",
    "F"
   ]
  },
  {
   "cell_type": "markdown",
   "metadata": {
    "#solution": false,
    "#staff": false,
    "#student": false
   },
   "source": [
    "Definite integrals can be calculated in two ways, corresponding to the left and right hand sides of the example below.\n",
    "\n",
    "$$\n",
    "\\int_3^7 f(x)dx ~ = ~ F(7) - F(3)\n",
    "$$\n",
    "\n",
    "You already know how to compute the right hand side using substitution and the expression representing the indefinite integral."
   ]
  },
  {
   "cell_type": "code",
   "execution_count": null,
   "metadata": {
    "#solution": false,
    "#staff": false,
    "#student": false
   },
   "outputs": [],
   "source": [
    "# right hand side\n",
    "\n",
    "F.subs(x, 7) - F.subs(x, 3)"
   ]
  },
  {
   "cell_type": "markdown",
   "metadata": {
    "#solution": false,
    "#staff": false,
    "#student": false
   },
   "source": [
    "To display a definite integral, `Integral` requires an additional argument that specifies the variable being integrated and the two limits of integration: \n",
    "\n",
    "- (variable_name, lower_limit, upper_limit)\n",
    "\n",
    "At the moment we are working with a function of just one variable, so it seems unnecessary to provide the name of the variable. But the name will become important as soon as we start double integration."
   ]
  },
  {
   "cell_type": "code",
   "execution_count": null,
   "metadata": {
    "#solution": false,
    "#staff": false,
    "#student": false
   },
   "outputs": [],
   "source": [
    "# left hand side\n",
    "# Display the definite integral\n",
    "\n",
    "Integral(f, (x, 3, 7))"
   ]
  },
  {
   "cell_type": "markdown",
   "metadata": {
    "#solution": false,
    "#staff": false,
    "#student": false
   },
   "source": [
    "To evaluate the integral, use `doit()` as before. You will get the same answer as you did earlier."
   ]
  },
  {
   "cell_type": "code",
   "execution_count": null,
   "metadata": {
    "#solution": false,
    "#staff": false,
    "#student": false
   },
   "outputs": [],
   "source": [
    "# Evaluate the definite integral\n",
    "\n",
    "Integral(f, (x, 3, 7)).doit()"
   ]
  },
  {
   "cell_type": "markdown",
   "metadata": {
    "#solution": false,
    "#staff": false,
    "#student": false
   },
   "source": [
    "The standard operations on integrals can be performed just as you would expect. At each cell below, pause and read the expression carefully. Then run the cell and examine the output just as carefully."
   ]
  },
  {
   "cell_type": "code",
   "execution_count": null,
   "metadata": {
    "#solution": false,
    "#staff": false,
    "#student": false
   },
   "outputs": [],
   "source": [
    "# Display a sum of integrals\n",
    "\n",
    "Integral(f, (x, 3, 4)) + Integral(f, (x, 4, 7))"
   ]
  },
  {
   "cell_type": "code",
   "execution_count": null,
   "metadata": {
    "#solution": false,
    "#staff": false,
    "#student": false
   },
   "outputs": [],
   "source": [
    "# Evaluate it\n",
    "\n",
    "(Integral(f, (x, 3, 4)) + Integral(f, (x, 4, 7)) ).doit()"
   ]
  },
  {
   "cell_type": "code",
   "execution_count": null,
   "metadata": {
    "#solution": false,
    "#staff": false,
    "#student": false
   },
   "outputs": [],
   "source": [
    "# Display the integral of a new function of x\n",
    "\n",
    "Integral((x-7)*f, (x, 2, 10))"
   ]
  },
  {
   "cell_type": "code",
   "execution_count": null,
   "metadata": {
    "#solution": false,
    "#staff": false,
    "#student": false
   },
   "outputs": [],
   "source": [
    "# Evaluate the integral\n",
    "\n",
    "Integral((x-7)*f, (x, 2, 10)).doit()"
   ]
  },
  {
   "cell_type": "markdown",
   "metadata": {
    "#solution": false,
    "#staff": false,
    "#student": false
   },
   "source": [
    "You could have evaluated each of these integrals without displaying it first. But it is strongly recommended that you do display the integral first, so that you are confident that the right quantity is being calculated."
   ]
  },
  {
   "cell_type": "markdown",
   "metadata": {
    "#solution": false,
    "#staff": false,
    "#student": false
   },
   "source": [
    "### 1e) Differentiation ###\n",
    "We started with $f(x) = 2x+1$:"
   ]
  },
  {
   "cell_type": "code",
   "execution_count": null,
   "metadata": {
    "#solution": false,
    "#staff": false,
    "#student": false
   },
   "outputs": [],
   "source": [
    "f"
   ]
  },
  {
   "cell_type": "markdown",
   "metadata": {
    "#solution": false,
    "#staff": false,
    "#student": false
   },
   "source": [
    "The derivative is\n",
    "$$\n",
    "\\frac{d}{dx} f(x) ~ = ~ 2\n",
    "$$\n",
    "\n",
    "To get the derivative in `SymPy`, use `diff` for \"differentiate\"."
   ]
  },
  {
   "cell_type": "code",
   "execution_count": null,
   "metadata": {
    "#solution": false,
    "#staff": false,
    "#student": false
   },
   "outputs": [],
   "source": [
    "diff(f)"
   ]
  },
  {
   "cell_type": "markdown",
   "metadata": {
    "#solution": false,
    "#staff": false,
    "#student": false
   },
   "source": [
    "Since we defined $F$ as the integral of $f$, the Fundamental Theorem of Calculus says that\n",
    "\n",
    "$$\n",
    "f(x) ~ = ~ \\frac{d}{dx} F(x)\n",
    "$$"
   ]
  },
  {
   "cell_type": "code",
   "execution_count": null,
   "metadata": {
    "#solution": false,
    "#staff": false,
    "#student": false
   },
   "outputs": [],
   "source": [
    "# Differentiate F to get back f\n",
    "\n",
    "diff(F)"
   ]
  },
  {
   "cell_type": "code",
   "execution_count": null,
   "metadata": {
    "#solution": false,
    "#staff": false,
    "#student": false
   },
   "outputs": [],
   "source": [
    "# You can differentiate F twice, just for fun\n",
    "# That's the same as differentiating f\n",
    "\n",
    "diff(diff(F))"
   ]
  },
  {
   "cell_type": "markdown",
   "metadata": {
    "#solution": false,
    "#staff": false,
    "#student": false
   },
   "source": [
    "### 1f) Solving an Equation ###\n",
    "Equations can have numerous different forms, so symbolic math systems require consistent ways of specifying the equations to be solved. That way they don't have to have separate functions for solving all the different kinds of equations. Let's see how to solve equations in `SymPy`.\n",
    "\n",
    "We will restrict ourselves to equations involving a single unknown. For a sense of the variety of the equations that `SymPy` can solve, see the [`Solver` module reference](https://docs.sympy.org/latest/modules/solvers/solvers.html).\n",
    "\n",
    "The general form of an equation in $x$ is \n",
    "\n",
    "$$\n",
    "h(x) ~ = ~ g(x)\n",
    "$$\n",
    "\n",
    "for two functions $h$ and $g$. Solving this equation is the same as solving the equation\n",
    "\n",
    "$$\n",
    "h(x) - g(x) ~ = ~ 0\n",
    "$$\n",
    "\n",
    "which can be written as $d(x) = 0$ for $d = h - g$.\n",
    "\n",
    "So every equation can be written with 0 as the right hand side. This helps simplify syntax. That is why `Solver` in `SymPy` requires 0 as the right hand side of the equation. That is, the equation should be in the form $d(x) = 0$. \n",
    "\n",
    "The call is `solve(d, x)` where `d` is the expression on the left hand side and involves the symbol `x`.\n",
    "\n",
    "Solving $d(x) = 0$ means finding the value of $x$ for which the value of $d(x)$ is 0. The instruction `solve(d, x)` tells the computer to find the value of `x` for which the value of the expression `d` is 0. \n",
    "\n",
    "For example, to solve $5x = 15$, `SymPy` finds the value of $x$ that solves the equation $5x - 15 = 0$. "
   ]
  },
  {
   "cell_type": "code",
   "execution_count": null,
   "metadata": {
    "#solution": false,
    "#staff": false,
    "#student": false
   },
   "outputs": [],
   "source": [
    "solve(5*x - 15, x)"
   ]
  },
  {
   "cell_type": "markdown",
   "metadata": {
    "#solution": false,
    "#staff": false,
    "#student": false
   },
   "source": [
    "Some equations have multiple solutions, so the output is a list of all the solutions. In the case of the equation $5x - 15 = 0$, the list contains just one element, 3.\n",
    "\n",
    "When you want to work with the element, you can access it by specifying its index."
   ]
  },
  {
   "cell_type": "code",
   "execution_count": null,
   "metadata": {
    "#solution": false,
    "#staff": false,
    "#student": false
   },
   "outputs": [],
   "source": [
    "solve(5*x - 15, x)[0]"
   ]
  },
  {
   "cell_type": "markdown",
   "metadata": {
    "#solution": false,
    "#staff": false,
    "#student": false
   },
   "source": [
    "Here are the solutions to the equation $x^2 + 5x + 6 = 0$. In an algebra class you will have learned to factor the left hand side to get $(x+2)(x+3) = 0$ and hence the two solutions $x = -3$ and $x = -2$."
   ]
  },
  {
   "cell_type": "code",
   "execution_count": null,
   "metadata": {
    "#solution": false,
    "#staff": false,
    "#student": false
   },
   "outputs": [],
   "source": [
    "solve(x**2 + 5*x + 6, x)"
   ]
  },
  {
   "cell_type": "markdown",
   "metadata": {
    "#solution": false,
    "#staff": false,
    "#student": false
   },
   "source": [
    "You can use previously defined expressions as part of the expression in `solve`. For example, we previously defined `f` as the right hand side of $f(x) = 2x+1$. We can solve the equation $f(x) = 9$ as follows."
   ]
  },
  {
   "cell_type": "code",
   "execution_count": null,
   "metadata": {
    "#solution": false,
    "#staff": false,
    "#student": false
   },
   "outputs": [],
   "source": [
    "solve(f - 9, x)"
   ]
  },
  {
   "cell_type": "markdown",
   "metadata": {
    "#solution": false,
    "#staff": false,
    "#student": false
   },
   "source": [
    "### 1g) Inverse ###\n",
    "\n",
    "Finding the inverse of a function $f$ at a point $y$ means finding the value of $x$ such that $f(x) = y$. \n",
    "\n",
    "This just means writing $x$ in terms of $y$. The formal math move is to solve for $x$ in the equation $f(x) = y$.\n",
    "\n",
    "Because we are going to solve the equation using `SymPy`, we will solve for $x$ in the equation $f(x) - y = 0$.\n",
    "\n",
    "To execute this plan in `SymPy`, we will first have to declare `y` as a symbol, and then solve the equation."
   ]
  },
  {
   "cell_type": "code",
   "execution_count": null,
   "metadata": {
    "#solution": false,
    "#staff": false,
    "#student": false
   },
   "outputs": [],
   "source": [
    "y = Symbol('y')\n",
    "solve(f - y, x)"
   ]
  },
  {
   "cell_type": "markdown",
   "metadata": {
    "#solution": false,
    "#staff": false,
    "#student": false
   },
   "source": [
    "Does the answer make sense? Remember that $f(x) = 2x + 1$ and solve the equation the old-fashioned way.\n",
    "\n",
    "$$\n",
    "y = 2x + 1 ~ \\iff ~ y - 1 = 2x ~ \\iff ~ x = \\frac{y-1}{2} ~ = ~ \\frac{y}{2} - \\frac{1}{2}\n",
    "$$"
   ]
  },
  {
   "cell_type": "markdown",
   "metadata": {
    "#solution": false,
    "#staff": false,
    "#student": false
   },
   "source": [
    "It works. As before, you can access the inverse by specifying its index in the list."
   ]
  },
  {
   "cell_type": "code",
   "execution_count": null,
   "metadata": {
    "#solution": false,
    "#staff": false,
    "#student": false
   },
   "outputs": [],
   "source": [
    "f_inverse = solve(f-y, x)[0]\n",
    "f_inverse"
   ]
  },
  {
   "cell_type": "markdown",
   "metadata": {
    "#solution": false,
    "#staff": false,
    "#student": false
   },
   "source": [
    "\\newpage"
   ]
  },
  {
   "cell_type": "markdown",
   "metadata": {
    "#solution": false,
    "#staff": false,
    "#student": false
   },
   "source": [
    "## Section 2: Working with Densities ###\n",
    "Now that you have an idea of what you can do with `SymPy`, it's time for some probability theory.\n",
    "\n",
    "In Data 140, calculus is used almost exclusively when working with densities. Later in the course it will be used for some optimization as well, but density calculations are its main use.\n",
    "\n",
    "In this part of the lab, you will use `SymPy` to work with a very simple density. That way, you will be able to check by hand that `SymPy` is getting the right answers. In subsequent parts of the lab, the densities will get more complicated. Treat this part of the lab as a warm-up."
   ]
  },
  {
   "cell_type": "markdown",
   "metadata": {
    "#solution": false,
    "#staff": false,
    "#student": false
   },
   "source": [
    "### 2a) A Density on the Unit Interval ###\n",
    "Let $X$ have density $f_X(x) = 6x^5$ for $0 < x < 1$.\n",
    "\n",
    "To work with this density, you have to start by creating a symbol representing $x$. Notice that `Symbol` takes an optional argument that allows you to specify that a variable is positive. This can be useful, as you will see below. \n",
    "\n",
    "Complete the cell by using `x` to construct an expression `f_X` that is equal to $f_X(x)$."
   ]
  },
  {
   "cell_type": "code",
   "execution_count": null,
   "metadata": {
    "#solution": false,
    "#staff": false,
    "#student": true
   },
   "outputs": [],
   "source": [
    "x = Symbol('x', positive=True)\n",
    "f_X = ...\n",
    "f_X"
   ]
  },
  {
   "cell_type": "markdown",
   "metadata": {
    "#solution": false,
    "#staff": false,
    "#student": false
   },
   "source": [
    "Is the function $f_X$ in fact a density? \n",
    "\n",
    "What do you need to check to answer this? Explain in the cell below and use the cell below that for calculation."
   ]
  },
  {
   "cell_type": "markdown",
   "metadata": {
    "#solution": false,
    "#staff": false,
    "#student": true
   },
   "source": [
    "\n",
    "**Your answer here**"
   ]
  },
  {
   "cell_type": "code",
   "execution_count": null,
   "metadata": {
    "#solution": false,
    "#staff": false,
    "#student": true
   },
   "outputs": [],
   "source": [
    "..."
   ]
  },
  {
   "cell_type": "markdown",
   "metadata": {
    "#solution": false,
    "#staff": false,
    "#student": false
   },
   "source": [
    "The `prob140` library includes a plotting function `Plot_continuous` that plots a line graph of a probability density. The arguments are a list containing the endpoints of the interval over which to draw the graph, and a probability density which can be specified by a `SymPy` expression.\n",
    "\n",
    "Run the cell below to plot the graph of $f_X$ on the unit interval."
   ]
  },
  {
   "cell_type": "code",
   "execution_count": null,
   "metadata": {
    "#solution": false,
    "#staff": false,
    "#student": false
   },
   "outputs": [],
   "source": [
    "Plot_continuous([0, 1], f_X)\n",
    "plt.title('Density of $X$');"
   ]
  },
  {
   "cell_type": "markdown",
   "metadata": {
    "#solution": false,
    "#staff": false,
    "#student": false
   },
   "source": [
    "Before you go further, please review Part **1d** on Integration."
   ]
  },
  {
   "cell_type": "markdown",
   "metadata": {
    "#solution": false,
    "#staff": false,
    "#student": false
   },
   "source": [
    "### 2b) Finding Probabilities ###\n",
    "\n",
    "Find $P(X < 0.8)$ by integrating the density appropriately. The code in the first cell below should display the integral and in the next cell you will evaluate that integral."
   ]
  },
  {
   "cell_type": "code",
   "execution_count": null,
   "metadata": {
    "#solution": false,
    "#staff": false,
    "#student": true
   },
   "outputs": [],
   "source": [
    "# Display the integral for P(X < 0.8)\n",
    "\n",
    "Integral(...)"
   ]
  },
  {
   "cell_type": "code",
   "execution_count": null,
   "metadata": {
    "#solution": false,
    "#staff": false,
    "#student": true
   },
   "outputs": [],
   "source": [
    "# Evaluate P(X < 0.8)\n",
    "\n",
    "..."
   ]
  },
  {
   "cell_type": "markdown",
   "metadata": {
    "#solution": false,
    "#staff": false,
    "#student": false
   },
   "source": [
    "In the cell below, fill in the blanks with numbers: The event $\\vert X - 0.8 \\vert < 0.05$ is the same as the event $X \\in (\\underline{~~~~~~~~~~~}, \\underline{~~~~~~~~~~~})$."
   ]
  },
  {
   "cell_type": "markdown",
   "metadata": {
    "#solution": false,
    "#staff": false,
    "#student": true
   },
   "source": [
    "\n",
    "**Fill in your answer beow**\n",
    "\n",
    "First blank: \n",
    "\n",
    "Second blank:"
   ]
  },
  {
   "cell_type": "markdown",
   "metadata": {
    "#solution": false,
    "#staff": false,
    "#student": false
   },
   "source": [
    "Find $P(\\vert X - 0.8 \\vert < 0.05)$."
   ]
  },
  {
   "cell_type": "code",
   "execution_count": null,
   "metadata": {
    "#solution": false,
    "#staff": false,
    "#student": true
   },
   "outputs": [],
   "source": [
    "# P(|X - 0.8| < 0.05)\n",
    "\n",
    "..."
   ]
  },
  {
   "cell_type": "markdown",
   "metadata": {
    "#solution": false,
    "#staff": false,
    "#student": false
   },
   "source": [
    "### 2c) Finding Expectations ###\n",
    "\n",
    "Read [Section 15.3](http://prob140.org/textbook/content/Chapter_15/03_Expectation.html) before you get started. It might help you to write out the integrals on scratch paper before writing `SymPy` code.\n",
    "\n",
    "Find $E(X)$."
   ]
  },
  {
   "cell_type": "code",
   "execution_count": null,
   "metadata": {
    "#solution": false,
    "#staff": false,
    "#student": true
   },
   "outputs": [],
   "source": [
    "# E(X)\n",
    "\n",
    "expectation_X = ...\n",
    "expectation_X"
   ]
  },
  {
   "cell_type": "markdown",
   "metadata": {
    "#solution": false,
    "#staff": false,
    "#student": false
   },
   "source": [
    "Find $SD(X)$."
   ]
  },
  {
   "cell_type": "code",
   "execution_count": null,
   "metadata": {
    "#solution": false,
    "#staff": false,
    "#student": true
   },
   "outputs": [],
   "source": [
    "# SD(X)\n",
    "\n",
    "..."
   ]
  },
  {
   "cell_type": "markdown",
   "metadata": {
    "#solution": false,
    "#staff": false,
    "#student": false
   },
   "source": [
    "Just because you can, find $E(\\log(X))$. `SymPy` recognizes `log`. Use the first cell below to display the appropriate integral and use the next cell to evaluate it."
   ]
  },
  {
   "cell_type": "code",
   "execution_count": null,
   "metadata": {
    "#solution": false,
    "#staff": false,
    "#student": true
   },
   "outputs": [],
   "source": [
    "# Display the integral for E(log(X))\n",
    "\n",
    "Integral(...)"
   ]
  },
  {
   "cell_type": "markdown",
   "metadata": {
    "#solution": false,
    "#staff": false,
    "#student": false
   },
   "source": [
    "Notice that `SymPy` writes its integrand in a different order than we do in class. That's OK; it doesn't affect the integral."
   ]
  },
  {
   "cell_type": "code",
   "execution_count": null,
   "metadata": {
    "#solution": false,
    "#staff": false,
    "#student": true
   },
   "outputs": [],
   "source": [
    "# Numerical value of E(log(X))\n",
    "\n",
    "..."
   ]
  },
  {
   "cell_type": "markdown",
   "metadata": {
    "#solution": false,
    "#staff": false,
    "#student": false
   },
   "source": [
    "Why is the answer negative?"
   ]
  },
  {
   "cell_type": "markdown",
   "metadata": {
    "#solution": false,
    "#staff": false,
    "#student": true
   },
   "source": [
    "\n",
    "**Your answer here**"
   ]
  },
  {
   "cell_type": "markdown",
   "metadata": {
    "#solution": false,
    "#staff": false,
    "#student": false
   },
   "source": [
    "Find $E(\\sin^2(X))$, first displaying the integral and then evaluating it. Use `sin` for sine."
   ]
  },
  {
   "cell_type": "code",
   "execution_count": null,
   "metadata": {
    "#solution": false,
    "#staff": false,
    "#student": true
   },
   "outputs": [],
   "source": [
    "# Display the integral for E(sin_squared(X))\n",
    "\n",
    "..."
   ]
  },
  {
   "cell_type": "code",
   "execution_count": null,
   "metadata": {
    "#solution": false,
    "#staff": false,
    "#student": true
   },
   "outputs": [],
   "source": [
    "value_of_integral = ...\n",
    "value_of_integral"
   ]
  },
  {
   "cell_type": "markdown",
   "metadata": {
    "#solution": false,
    "#staff": false,
    "#student": false
   },
   "source": [
    "Sometimes `SymPy` can collect terms and simplify its answers. If you are good at half-angle formulae in trigonometry, you can check by hand that the simplification below is correct. But you don't need to do that for the lab."
   ]
  },
  {
   "cell_type": "code",
   "execution_count": null,
   "metadata": {
    "#solution": false,
    "#staff": false,
    "#student": false
   },
   "outputs": [],
   "source": [
    "simplify(value_of_integral)"
   ]
  },
  {
   "cell_type": "markdown",
   "metadata": {
    "#solution": false,
    "#staff": false,
    "#student": false
   },
   "source": [
    "\\newpage"
   ]
  },
  {
   "cell_type": "markdown",
   "metadata": {
    "#solution": false,
    "#staff": false,
    "#student": false
   },
   "source": [
    "## Section 3: Simulation and the CDF (Discrete)\n",
    "\n",
    "In this part of the lab, you will discover the method by which computer programs simulate discrete random variables that have a specified distribution. Later in the lab, you will use the same idea to simulate random variables that have densities.\n",
    "\n",
    "Our starting point is a distribution on just four values. Suppose $X$ has the distribution `dist_X` below. "
   ]
  },
  {
   "cell_type": "code",
   "execution_count": null,
   "metadata": {
    "#solution": false,
    "#staff": false,
    "#student": false
   },
   "outputs": [],
   "source": [
    "vals_X = [-2, 1, 4, 7]\n",
    "probs_X = [0.3, 0.1, 0.2,0.4]\n",
    "\n",
    "dist_X = Table().values(vals_X).probabilities(probs_X)\n",
    "dist_X"
   ]
  },
  {
   "cell_type": "markdown",
   "metadata": {
    "#solution": false,
    "#staff": false,
    "#student": false
   },
   "source": [
    "Our goal is to simulate one value of $X$. That is, we want to come up with a process that returns one of the four possible values of $X$ with the right probabilities."
   ]
  },
  {
   "cell_type": "markdown",
   "metadata": {
    "#solution": false,
    "#staff": false,
    "#student": false
   },
   "source": [
    "### 3a) A Vertical Unit Interval ###\n",
    "The graphic below shows the probabilities in `dist_X` stacked vertically. From the bottom to the top, therefore, you have the unit interval."
   ]
  },
  {
   "cell_type": "code",
   "execution_count": null,
   "metadata": {
    "#solution": false,
    "#staff": false,
    "#student": false
   },
   "outputs": [],
   "source": [
    "plot_axes(dist_X)"
   ]
  },
  {
   "cell_type": "markdown",
   "metadata": {
    "#solution": false,
    "#staff": false,
    "#student": false
   },
   "source": [
    "Now imagine throwing a dart at the unit interval. That is, let $U$ be a random variable that has the uniform distribution on $(0, 1)$, and suppose you mark the value of $U$ on the unit interval shown in the graph.\n",
    "\n",
    "Find the following probabilities and see how they are related to the distribution of $X$.\n",
    "\n",
    "(i) $P(U \\le 0.3)$\n",
    "\n",
    "(ii) $P(0.3 < U \\le 0.4)$\n",
    "\n",
    "(iii) $P(0.4 < U \\le 0.6)$\n",
    "\n",
    "(iv) $P(0.6 < U \\le 1)$"
   ]
  },
  {
   "cell_type": "markdown",
   "metadata": {
    "#solution": false,
    "#staff": false,
    "#student": true
   },
   "source": [
    "\n",
    "i. **Your Answer Here**\n",
    "\n",
    "ii. **Your Answer Here**\n",
    "\n",
    "iii. **Your Answer Here**\n",
    "\n",
    "iv. **Your Answer Here**"
   ]
  },
  {
   "cell_type": "markdown",
   "metadata": {
    "#solution": false,
    "#staff": false,
    "#student": false
   },
   "source": [
    "### 3b) Idea for Simulating $X$ ###\n",
    "Starting with a uniform $(0, 1)$ random variable $U$, propose a method of generating a value of $X$. \n",
    "\n",
    "Your method should take $U$ as its input and return one of the four possible values as output, in such a way that for each $i = -2, 1, 4, 7$, the chance of returning that value $i$ is $P(X = i)$.\n",
    "\n",
    "Just describe your method in words. No formula or code is needed."
   ]
  },
  {
   "cell_type": "markdown",
   "metadata": {
    "#solution": false,
    "#staff": false,
    "#student": true
   },
   "source": [
    "\n",
    "**Your Answer Here**"
   ]
  },
  {
   "cell_type": "markdown",
   "metadata": {
    "#solution": false,
    "#staff": false,
    "#student": false
   },
   "source": [
    "### 3c) Introducing the CDF\n",
    "The method `plot_discrete_cdf` takes a distribution as its argument and plots a graph of the cdf.\n",
    "\n",
    "Run the cell below to get a graph of the cdf of the random variable $X$ defined above."
   ]
  },
  {
   "cell_type": "code",
   "execution_count": null,
   "metadata": {
    "#solution": false,
    "#staff": false,
    "#student": false
   },
   "outputs": [],
   "source": [
    "plot_discrete_cdf(dist_X)"
   ]
  },
  {
   "cell_type": "markdown",
   "metadata": {
    "#solution": false,
    "#staff": false,
    "#student": false
   },
   "source": [
    "Let $F_X$ be the cdf of $X$. What is the definition of $F_X(2.57)$? Does the graph show the correct value for $F_X(2.57)$?"
   ]
  },
  {
   "cell_type": "markdown",
   "metadata": {
    "#solution": false,
    "#staff": false,
    "#student": true
   },
   "source": [
    "\n",
    "**Your Answer Here**"
   ]
  },
  {
   "cell_type": "markdown",
   "metadata": {
    "#solution": false,
    "#staff": false,
    "#student": false
   },
   "source": [
    "### 3d) Jumps ###\n",
    "At what points $x$ does the graph have a jump? For each point $x$ at which there is a jump, find the size of the jump in terms of the distribution of $X$."
   ]
  },
  {
   "cell_type": "markdown",
   "metadata": {
    "#solution": false,
    "#staff": false,
    "#student": true
   },
   "source": [
    "\n",
    "**Your Answer Here**"
   ]
  },
  {
   "cell_type": "markdown",
   "metadata": {
    "#solution": false,
    "#staff": false,
    "#student": false
   },
   "source": [
    "### 3e) From the Unit Interval to Values of $X$ ###\n",
    "The function `unit_interval_to_discrete` takes a distribution as its argument and displays an animation of a method that generates one value of a random variable that has the given distribution.  The method starts with a number on the unit interval.\n",
    "\n",
    "Run the cell below. Move the slider around and see how the returned value changes **depending on the starting value** in the unit interval. How is the method that is being displayed related to the one you proposed in **3b**?"
   ]
  },
  {
   "cell_type": "code",
   "execution_count": null,
   "metadata": {
    "#solution": false,
    "#staff": false,
    "#student": false
   },
   "outputs": [],
   "source": [
    "unit_interval_to_discrete(dist_X)"
   ]
  },
  {
   "cell_type": "markdown",
   "metadata": {
    "#solution": false,
    "#staff": false,
    "#student": true
   },
   "source": [
    "\n",
    "**Your answer here**"
   ]
  },
  {
   "cell_type": "markdown",
   "metadata": {
    "#solution": false,
    "#staff": false,
    "#student": false
   },
   "source": [
    "### 3f) A Random Starting Point ###\n",
    "The method `plot_discrete_cdf` that you used earlier also takes a second argument which is a number between 0 and 1. \n",
    "\n",
    "Complete the cell below so that the second argument is picked uniformly at random from (0, 1). To generate one uniform $(0, 1)$ random number, use `stats.uniform.rvs(0, 1, size=1)`."
   ]
  },
  {
   "cell_type": "code",
   "execution_count": null,
   "metadata": {
    "#solution": false,
    "#staff": false,
    "#student": true
   },
   "outputs": [],
   "source": [
    "plot_discrete_cdf(dist_X, ...)"
   ]
  },
  {
   "cell_type": "markdown",
   "metadata": {
    "#solution": false,
    "#staff": false,
    "#student": false
   },
   "source": [
    "Run the cell a few times. How is it related to the method you proposed in **3b** for generating a value of $X$?"
   ]
  },
  {
   "cell_type": "markdown",
   "metadata": {
    "#solution": false,
    "#staff": false,
    "#student": true
   },
   "source": [
    "\n",
    "**Your Answer Here**"
   ]
  },
  {
   "cell_type": "markdown",
   "metadata": {
    "#solution": false,
    "#staff": false,
    "#student": false
   },
   "source": [
    "# Part A of the lab ends here, and is due by 11:59 pm Monday, March 13th. #"
   ]
  },
  {
   "cell_type": "markdown",
   "metadata": {
    "#solution": false,
    "#staff": false,
    "#student": false
   },
   "source": [
    "## Submission Instructions ##\n",
    "\n",
    "Many assignments throughout the course will have a written portion and a code portion. Please follow the directions below to properly submit both portions.\n",
    "\n",
    "### Written Portion ###\n",
    "*  Scan all the pages into a PDF. You can use any scanner or a phone using applications such as CamScanner. Please **DO NOT** simply take pictures using your phone. \n",
    "* Please start a new page for each question. If you have already written multiple questions on the same page, you can crop the image in CamScanner or fold your page over (the old-fashioned way). This helps expedite grading.\n",
    "* It is your responsibility to check that all the work on all the scanned pages is legible.\n",
    "* If you used $\\LaTeX$ to do the written portions, you do not need to do any scanning; you can just download the whole notebook as a PDF via LaTeX.\n",
    "\n",
    "### Code Portion ###\n",
    "* Save your notebook using `File > Save and Checkpoint`.\n",
    "* Generate a PDF file using `File > Download As > PDF via LaTeX`. This might take a few seconds and will automatically download a PDF version of this notebook.\n",
    "    * If you have issues, please post a follow-up on the general Lab 5A Ed thread.\n",
    "    \n",
    "### Submitting ###\n",
    "* Combine the PDFs from the written and code portions into one PDF. [Here](https://smallpdf.com/merge-pdf) is a useful tool for doing so. \n",
    "* Submit the assignment to Lab 5A on Gradescope. \n",
    "* **Make sure to assign each page of your pdf to the correct question.**\n",
    "* **It is your responsibility to verify that all of your work shows up in your final PDF submission.**\n",
    "\n",
    "If you are having difficulties scanning, uploading, or submitting your work, please read the [Ed Thread](https://edstem.org/us/courses/35049/discussion/2398718) on this topic and post a follow-up on the general Lab 5A Ed thread."
   ]
  },
  {
   "cell_type": "markdown",
   "metadata": {
    "#solution": false,
    "#staff": false,
    "#student": false
   },
   "source": [
    "## **We will not grade assignments which do not have pages selected for each question.** ##"
   ]
  },
  {
   "cell_type": "markdown",
   "metadata": {
    "#solution": false,
    "#staff": false,
    "#student": false
   },
   "source": [
    "\\newpage"
   ]
  },
  {
   "cell_type": "markdown",
   "metadata": {
    "#solution": false,
    "#staff": false,
    "#student": false
   },
   "source": [
    "# Part B: Transforming Continuous Variables #"
   ]
  },
  {
   "cell_type": "markdown",
   "metadata": {
    "#solution": false,
    "#staff": false,
    "#student": false
   },
   "source": [
    "## Identify your lab partner ##"
   ]
  },
  {
   "cell_type": "markdown",
   "metadata": {
    "#solution": false,
    "#staff": false,
    "#student": false
   },
   "source": [
    "This is a multiple choice question. Please select **ONE** of following options that best describes how you complete Lab 3.\n",
    "\n",
    "- I am doing Part B of this lab by myself and I don't have a partner.\n",
    "- My partner for Part B of this lab is [PARTNER'S NAME] with email [berkeley.edu email address]. [SUBMITTER'S NAME] will submit to Gradescope and add the other partner to the group on Gradescope after submission.\n",
    "\n",
    "Please copy and paste **ONE** of above statements and fill in blanks if needed. If you work with a partner, make sure only one of you submit on Gradescope and that the other member of the group is added to the submission on Gradescope. Refer to the bottom of the notebook for submission instructions."
   ]
  },
  {
   "cell_type": "markdown",
   "metadata": {
    "#solution": false,
    "#staff": false,
    "#student": true
   },
   "source": [
    "\n",
    "**Type your answer in this cell.**"
   ]
  },
  {
   "cell_type": "markdown",
   "metadata": {
    "#solution": false,
    "#staff": false,
    "#student": false
   },
   "source": [
    "\\newpage"
   ]
  },
  {
   "cell_type": "markdown",
   "metadata": {
    "#solution": false,
    "#staff": false,
    "#student": false
   },
   "source": [
    "## Section 4. Extension to Continuous Distributions ##\n",
    "Now suppose you want to simulate a random variable that has a specified continuous distribution. Let's start with the exponential $(\\lambda)$ distribution.\n",
    "\n",
    "Let $T$ have the exponential distribution with rate $\\lambda$. Let $F_T$ be the cdf of $T$. Refer to [Section 15.4.1](http://prob140.org/textbook/content/Chapter_15/04_Exponential_Distribution.html#cdf-and-survival-function) for the formula for $F_T$, and don't forget that $F_T(t) = 0$ for $t < 0$."
   ]
  },
  {
   "cell_type": "markdown",
   "metadata": {
    "#solution": false,
    "#staff": false,
    "#student": false
   },
   "source": [
    "### 4a) Plotting the Exponential CDF ###\n",
    "For a numerical example, let $T$ be a random variable that has the exponential distribution with rate $\\lambda = 0.5$, or equivalently, expectation $2$. Define a function `expon_mean2_cdf` that takes a numerical argument $x$ and returns the numerical value of $F_T(x)$. Use `np.exp(y)` for $e^y$.\n",
    "\n",
    "Make sure your function returns the correct value of $F_T(x)$ for **all** real numbers $x$."
   ]
  },
  {
   "cell_type": "code",
   "execution_count": null,
   "metadata": {
    "#solution": false,
    "#staff": false,
    "#student": true
   },
   "outputs": [],
   "source": [
    "# Don't use \"lambda\" as that means something else in Python\n",
    "lamb = 0.5\n",
    "\n",
    "def expon_mean2_cdf(x):\n",
    "    ..."
   ]
  },
  {
   "cell_type": "markdown",
   "metadata": {
    "#solution": false,
    "#staff": false,
    "#student": false
   },
   "source": [
    "The function `plot_continuous_cdf` plots the cdf of a continuous variable. The first two arguments:\n",
    "- an interval (a, b) over which to draw the cdf\n",
    "- the name of a function that takes a numerical input and returns the value of the cdf at that input\n",
    "\n",
    "Run the cell below to check that your function `expon_mean2_cdf` looks good."
   ]
  },
  {
   "cell_type": "code",
   "execution_count": null,
   "metadata": {
    "#solution": false,
    "#staff": false,
    "#student": false
   },
   "outputs": [],
   "source": [
    "plot_continuous_cdf((-1, 8), expon_mean2_cdf)"
   ]
  },
  {
   "cell_type": "markdown",
   "metadata": {
    "#solution": false,
    "#staff": false,
    "#student": false
   },
   "source": [
    "### 4b) Idea for Simulating an Exponential Random Variable ###\n",
    "\n",
    "Suppose you are given one uniform $(0, 1)$ random number and are asked to simulate $T$. Based on Part 3 of the lab, propose a method for doing this by using the graph above.\n",
    "\n",
    "You don't have to prove that the method works. There's a formal proof in the textbook. Just propose the method."
   ]
  },
  {
   "cell_type": "markdown",
   "metadata": {
    "#solution": false,
    "#staff": false,
    "#student": true
   },
   "source": [
    "\n",
    "**Your Answer Here**"
   ]
  },
  {
   "cell_type": "markdown",
   "metadata": {
    "#solution": false,
    "#staff": false,
    "#student": false
   },
   "source": [
    "### 4c) Visualizing the Idea ###\n",
    "The animation in the cell below is analogous to the one in Part 3. Its arguments are: \n",
    "- a plotting interval\n",
    "- the name of a continuous cdf function\n",
    "\n",
    "The output demonstrates a method for generating a number on the positive real line by starting with a value on the unit interval that forms the vertical axis. \n",
    "\n",
    "Run the cell and move the slider around to see how the returned value changes depending on the starting value on the vertical axis."
   ]
  },
  {
   "cell_type": "code",
   "execution_count": null,
   "metadata": {
    "#solution": false,
    "#staff": false,
    "#student": false
   },
   "outputs": [],
   "source": [
    "unit_interval_to_continuous((-1, 8), expon_mean2_cdf)"
   ]
  },
  {
   "cell_type": "markdown",
   "metadata": {
    "#solution": false,
    "#staff": false,
    "#student": false
   },
   "source": [
    "The method `plot_continuous_cdf` takes an optional third argument that is a number between $0$ and $1$. \n",
    "\n",
    "Complete the cell below so that the third argument is a random number picked uniformly from (0, 1). Refer to **3f** for relevant code. "
   ]
  },
  {
   "cell_type": "code",
   "execution_count": null,
   "metadata": {
    "#solution": false,
    "#staff": false,
    "#student": true
   },
   "outputs": [],
   "source": [
    "..."
   ]
  },
  {
   "cell_type": "markdown",
   "metadata": {
    "#solution": false,
    "#staff": false,
    "#student": false
   },
   "source": [
    "Run the cell a few times. For generating a value of $T$, how is the output related to the method you proposed in **4b**?"
   ]
  },
  {
   "cell_type": "markdown",
   "metadata": {
    "#solution": false,
    "#staff": false,
    "#student": true
   },
   "source": [
    "\n",
    "**Your Answer Here**"
   ]
  },
  {
   "cell_type": "markdown",
   "metadata": {
    "#solution": false,
    "#staff": false,
    "#student": false
   },
   "source": [
    "### 4d) [ON PAPER] The General Method ###\n",
    "Let $F$ be any continuous increasing cdf. That is, suppose $F$ has no jumps and no flat bits. \n",
    "\n",
    "Suppose you are trying to create a random variable $X$ that has cdf $F$, and suppose that all you have is $F$ and a number picked uniformly on $(0, 1)$.\n",
    "\n",
    "(i) **Fill in the blank:** Let $U$ be a uniform $(0, 1)$ random variable. To construct a random variable $X = g(U)$ so that $X$ has the cdf $F$, take $g = \\underline{~~~~~~~~~~~~~}$.\n",
    "\n",
    "\n",
    "(ii) **Fill in the blank:** Let $U$ be a uniform $(0, 1)$ random variable. For the function $g$ defined by\n",
    "\n",
    "$$\n",
    "g(u) ~ = ~ \\underline{~~~~~~~~~~~~~~~~~~~~~~~~~~~~~~~~~~~}, ~~~ 0 < u < 1\n",
    "$$\n",
    "\n",
    "the random variable $X = g(U)$ has the exponential $(\\lambda)$ distribution.\n",
    "\n",
    "[Note: If $F$ is a discrete cdf then the function $g$ is complicated to write out formally, so we're not asking you to do that. The practical description of the method of simulation is in Part 3 of the lab.]"
   ]
  },
  {
   "cell_type": "markdown",
   "metadata": {
    "#solution": false,
    "#staff": false,
    "#student": false
   },
   "source": [
    "### 4e) Empirical Verification\n",
    "Let's visualize what your method is doing and confirm that it works.\n",
    "\n",
    "In the cell below, we have used `SciPy` to create a table that is called `sim` for \"simulation\". It consists of one column called `Uniform` that contains the values of 100,000 i.i.d. uniform $(0, 1)$ random variables. In the last line, the argument `bins=25` is used to create a histogram with 25 bins of equal width. Run the cell."
   ]
  },
  {
   "cell_type": "code",
   "execution_count": null,
   "metadata": {
    "#solution": false,
    "#staff": false,
    "#student": false
   },
   "outputs": [],
   "source": [
    "N = 100000\n",
    "u = stats.uniform.rvs(0, 1, size=N)\n",
    "sim = Table().with_columns('Uniform', u)\n",
    "sim.hist('Uniform', bins=25)"
   ]
  },
  {
   "cell_type": "markdown",
   "metadata": {
    "#solution": false,
    "#staff": false,
    "#student": false
   },
   "source": [
    "Use **4d** and the values in the column `Uniform` to create an array of values that have the exponential distribution with rate $0.5$. Use `np.log(y)` for $\\log(y)$.\n",
    "\n",
    "Then augment `sim` with a column containing the new array.\n",
    "\n",
    "**Do not** simulate new random numbers, as you will lose the connection with the values in `Uniform`."
   ]
  },
  {
   "cell_type": "code",
   "execution_count": null,
   "metadata": {
    "#solution": false,
    "#staff": false,
    "#student": true
   },
   "outputs": [],
   "source": [
    "def uniform_to_exponential_mean2(u):\n",
    "    return ...\n",
    "\n",
    "exponential_mean2 = sim.apply(...)\n",
    "sim = sim.with_columns('Sim. Exponential (rate 0.5)', ...)\n",
    "sim"
   ]
  },
  {
   "cell_type": "markdown",
   "metadata": {
    "#solution": false,
    "#staff": false,
    "#student": false
   },
   "source": [
    "Run the cell below to confirm that your calculation is correct."
   ]
  },
  {
   "cell_type": "code",
   "execution_count": null,
   "metadata": {
    "#solution": false,
    "#staff": false,
    "#student": true
   },
   "outputs": [],
   "source": [
    "sim.hist('Sim. Exponential (rate 0.5)', bins=25)\n",
    "plt.xticks(np.arange(0, 21, 2));"
   ]
  },
  {
   "cell_type": "markdown",
   "metadata": {
    "#solution": false,
    "#staff": false,
    "#student": false
   },
   "source": [
    "You have just discovered what is going on \"under the hood\" in functions that generate exponential random numbers. There are more complicated methods that work faster in particular cases. But this one is pretty good!"
   ]
  },
  {
   "cell_type": "markdown",
   "metadata": {
    "#solution": false,
    "#staff": false,
    "#student": false
   },
   "source": [
    "### 4f) Simulating the Standard Normal ###\n",
    "\n",
    "Now use the general method in **4d** and the `Uniform` column of the table `sim` to generate 100,000 i.i.d. standard normal variables. Augment `sim` with a column labeled `Standard Normal` containing standard normal variables created by transforming the values in `Uniform`.\n",
    "\n",
    "Unlike the exponential, the standard normal cdf $\\Phi$ must be computed numerically, and hence so must its inverse $\\Phi^{-1}$. You have to identify the appropriate `SciPy` function to transform the `Uniform` column. Do not add more lines of code."
   ]
  },
  {
   "cell_type": "code",
   "execution_count": null,
   "metadata": {
    "#solution": false,
    "#staff": false,
    "#student": true
   },
   "outputs": [],
   "source": [
    "\n",
    "standard_normals = ...\n",
    "sim = sim.with_columns('Standard Normal',\n",
    "                      standard_normals)\n",
    "sim.hist('Standard Normal', bins=25)"
   ]
  },
  {
   "cell_type": "markdown",
   "metadata": {
    "#solution": false,
    "#staff": false,
    "#student": false
   },
   "source": [
    "At this point, go back and look through Part 4. Notice that the only time you generated random numbers was when you simulated 100,000 uniform (0, 1) values. All the other variables were deterministic transformations of the uniform random numbers."
   ]
  },
  {
   "cell_type": "markdown",
   "metadata": {
    "#solution": false,
    "#staff": false,
    "#student": false
   },
   "source": [
    "### Note on Uniform Random Numbers ###\n",
    "Since uniform $(0, 1)$ random numbers are central to all simulations, their quality is very important for the accuracy and reliability of simulations. Testing and assessing uniform random number generators is serious business, because random number generators don't really produce random numbers. They follow deterministic processes that produce results that have properties that resemble those of random numbers. That is why they are called Pseudo Random Number Generators or PRNGs. [Python uses the Mersenne Twister](https://docs.python.org/3/library/random.html), one of the most tested and reliable PRNGs. "
   ]
  },
  {
   "cell_type": "markdown",
   "metadata": {
    "#solution": false,
    "#staff": false,
    "#student": false
   },
   "source": [
    "\\newpage"
   ]
  },
  {
   "cell_type": "markdown",
   "metadata": {
    "#solution": false,
    "#staff": false,
    "#student": false
   },
   "source": [
    "## Section 5: Densities of Transformed Variables"
   ]
  },
  {
   "cell_type": "markdown",
   "metadata": {
    "#solution": false,
    "#staff": false,
    "#student": false
   },
   "source": [
    "You now know how to transform a uniform $(0, 1)$ random variable into a random variable with any specified distribution. But often, we start with some random variable $X$, not necessarily uniform, and our analysis requires us to transform the variable. \n",
    "\n",
    "To find the density of the transformed variable, we can sometimes use the methods of [Chapter 16](http://prob140.org/textbook/content/Chapter_16/00_Transformations.html). In this part of the lab you will examine how to do this.\n",
    "\n",
    "Before you begin, please review Parts 1 and 2 to recall how to use `SymPy` to work with densities. \n",
    "\n",
    "As in Part 2, let $X$ have density $f_X(x) = 6x^5$ for $0 < x < 1$. Run the cell below to define the density function `f_X`."
   ]
  },
  {
   "cell_type": "code",
   "execution_count": null,
   "metadata": {
    "#solution": false,
    "#staff": false,
    "#student": false
   },
   "outputs": [],
   "source": [
    "x = Symbol('x', positive=True)\n",
    "f_X = 6 * x**5\n",
    "f_X"
   ]
  },
  {
   "cell_type": "markdown",
   "metadata": {
    "#solution": false,
    "#staff": false,
    "#student": false
   },
   "source": [
    "### 5a) Change of Variable ###\n",
    "Let $g$ be a monotone differentiable function and let $V = g(X)$. The change of variable formula for densities says that the density of $V$ is given by\n",
    "\n",
    "$$\n",
    "f_V(v) = \\frac{f_X(x)}{\\big{|} \\frac{d}{dx} g(x) \\big{|}} ~~~~~ \\text{evaluated at } x = g^{-1}(v)\n",
    "$$\n",
    "\n",
    "See [Section 16.2.1](http://prob140.org/textbook/content/Chapter_16/02_Monotone_Functions.html#change-of-variable-formula-for-density-increasing-function) for the derivation, and notice how the derivation depends on the cdf of $X$. The cdf was also the principal function you used to create the transformations in Parts 3 and 4 of the lab.\n",
    "\n",
    "Each time you use the change of variable formula, the main steps to find the density are:\n",
    "\n",
    "- Find the possible values of $V = g(X)$.\n",
    "- Find the inverse of $g$.\n",
    "- Find the derivative of $g$.\n",
    "- Divide the density of $X$ by the derivative of $g$ (if the derivative is negative, use its absolute value instead).\n",
    "- Evaluate this quotient at the inverse of $g$.\n",
    "\n",
    "Use the formula to find the density of the area of a disc that has radius $X$. That is, find the density of $V = \\pi X^2$.\n",
    "\n",
    "Start by constructing a `SymPy` expression `g` defined by $g(x) = \\pi x^2$. `SymPy` recognizes `pi` as $\\pi$. Remember that you already declared `x` and `f_X(x)` at the start of this part of the lab."
   ]
  },
  {
   "cell_type": "code",
   "execution_count": null,
   "metadata": {
    "#solution": false,
    "#staff": false,
    "#student": true
   },
   "outputs": [],
   "source": [
    "g = ...\n",
    "g"
   ]
  },
  {
   "cell_type": "markdown",
   "metadata": {
    "#solution": false,
    "#staff": false,
    "#student": false
   },
   "source": [
    "It is worth keeping in mind that you have two representations of $\\pi$: \n",
    "\n",
    "- `pi` produces the symbol $\\pi$, using `SymPy`\n",
    "- `np.pi` produces a numerical approximation to $\\pi$, using `NumPy` "
   ]
  },
  {
   "cell_type": "code",
   "execution_count": null,
   "metadata": {
    "#solution": false,
    "#staff": false,
    "#student": false
   },
   "outputs": [],
   "source": [
    "pi, np.pi"
   ]
  },
  {
   "cell_type": "markdown",
   "metadata": {
    "#solution": false,
    "#staff": false,
    "#student": false
   },
   "source": [
    "As always, when you are specifying a distribution, start with the possible values. What are the possible values of the random area $V$? "
   ]
  },
  {
   "cell_type": "markdown",
   "metadata": {
    "#solution": false,
    "#staff": false,
    "#student": true
   },
   "source": [
    "\n",
    "**Your answer here**"
   ]
  },
  {
   "cell_type": "markdown",
   "metadata": {
    "#solution": false,
    "#staff": false,
    "#student": false
   },
   "source": [
    "Now find all the elements of the right hand side of the change of variable formula, one by one.\n",
    "\n",
    "First find the function $g^{-1}$ by using the equation $g(x) = v$ to write $x$ in terms of $v$. That is, solve for $x$ in the equation $g(x) = v$, or, equivalently, in the equation $g(x)-v = 0$. \n",
    "\n",
    "Review Parts **1f** and **1g** carefully before you proceed."
   ]
  },
  {
   "cell_type": "code",
   "execution_count": null,
   "metadata": {
    "#solution": false,
    "#staff": false,
    "#student": true
   },
   "outputs": [],
   "source": [
    "v = Symbol('v', positive=True)\n",
    "g_inverse = solve(...)\n",
    "g_inverse"
   ]
  },
  {
   "cell_type": "markdown",
   "metadata": {
    "#solution": false,
    "#staff": false,
    "#student": false
   },
   "source": [
    "Notice that `SymPy` lists just one inverse – the positive one – because you specified that $x$ is positive. The other inverse is $-\\frac{\\sqrt{v}}{\\sqrt{\\pi}}$ but it is not a permitted value of $x$ because it is negative."
   ]
  },
  {
   "cell_type": "markdown",
   "metadata": {
    "#solution": false,
    "#staff": false,
    "#student": false
   },
   "source": [
    "Run the cell below to extract the inverse from the list."
   ]
  },
  {
   "cell_type": "code",
   "execution_count": null,
   "metadata": {
    "#solution": false,
    "#staff": false,
    "#student": false
   },
   "outputs": [],
   "source": [
    "g_inverse = g_inverse[0]\n",
    "g_inverse"
   ]
  },
  {
   "cell_type": "markdown",
   "metadata": {
    "#solution": false,
    "#staff": false,
    "#student": false
   },
   "source": [
    "The change of variable formula has another factor: the derivative in the denominator. Since we are working only on the interval $(0, 1)$, $g$ is an increasing function. So its derivative is positive and you won't need the absolute value in the formula.\n",
    "\n",
    "Use `SymPy` to find the derivative of $g$, so that the expression `deriv_g` is equal to $\\frac{d}{dx}g(x)$. \n",
    "\n",
    "**Do not** find the derviative by hand and simply assign that expression to `deriv_g`. See **1e** for how to differentiate in `SymPy`."
   ]
  },
  {
   "cell_type": "code",
   "execution_count": null,
   "metadata": {
    "#solution": false,
    "#staff": false,
    "#student": true
   },
   "outputs": [],
   "source": [
    "deriv_g = ...\n",
    "deriv_g"
   ]
  },
  {
   "cell_type": "markdown",
   "metadata": {
    "#solution": false,
    "#staff": false,
    "#student": false
   },
   "source": [
    "Now apply the change of variable formula to find $f_V$, the density of $V$. **In the comment line, enter the possible values of $V$.**"
   ]
  },
  {
   "cell_type": "code",
   "execution_count": null,
   "metadata": {
    "#solution": false,
    "#staff": false,
    "#student": true
   },
   "outputs": [],
   "source": [
    "\"\"\"For v in the interval ..., the density of V at the point v is:\"\"\"\n",
    "\n",
    "f_V = (... / ...).subs(...)\n",
    "f_V"
   ]
  },
  {
   "cell_type": "markdown",
   "metadata": {
    "#solution": false,
    "#staff": false,
    "#student": false
   },
   "source": [
    "Check that the function `f_V` is a density."
   ]
  },
  {
   "cell_type": "code",
   "execution_count": null,
   "metadata": {
    "#solution": false,
    "#staff": false,
    "#student": true
   },
   "outputs": [],
   "source": [
    "..."
   ]
  },
  {
   "cell_type": "markdown",
   "metadata": {
    "#solution": false,
    "#staff": false,
    "#student": false
   },
   "source": [
    "Plot the graph of the density of $V$. Recall from Part **2a** that the first argument of `Plot_continuous` is a list of two elements: the left and right ends of the interval over which to plot the graph. They must be numerical expressions, not symbolic."
   ]
  },
  {
   "cell_type": "code",
   "execution_count": null,
   "metadata": {
    "#solution": false,
    "#staff": false,
    "#student": true
   },
   "outputs": [],
   "source": [
    "Plot_continuous(..., f_V)\n",
    "plt.title('Density of $V$');"
   ]
  },
  {
   "cell_type": "markdown",
   "metadata": {
    "#solution": false,
    "#staff": false,
    "#student": false
   },
   "source": [
    "For comparison, run the cell below to see the graph of $f_X$ again."
   ]
  },
  {
   "cell_type": "code",
   "execution_count": null,
   "metadata": {
    "#solution": false,
    "#staff": false,
    "#student": false
   },
   "outputs": [],
   "source": [
    "Plot_continuous((0, 1), f_X)\n",
    "plt.title('Density of $X$');"
   ]
  },
  {
   "cell_type": "markdown",
   "metadata": {
    "#solution": false,
    "#staff": false,
    "#student": false
   },
   "source": [
    "\\newpage"
   ]
  },
  {
   "cell_type": "markdown",
   "metadata": {
    "#solution": false,
    "#staff": false,
    "#student": false
   },
   "source": [
    "## Section 6: Transforming an $F$ Distribution ##\n",
    "The density you started with in Section 5 was deliberately chosen to be simple, so that you could try out the calculations by hand if you wanted to check. The real value of `SymPy` is that without much difficulty you can use essentially the same code to handle more complicated density functions.\n",
    "\n",
    "In this part of the lab you will start with one of the famous distributions of statistical inference, confusingly named the $F$ distribution. It's not named for the cdf. It is named for Sir Ronald Fisher whose contributions include what is now the standard method of testing statistical hypotheses. \n",
    "\n",
    "The $F$ distribution arises as the distribution of the ratio of two independent gamma random variables (apart from a constant multiplier). The ratio arises in tests of whether three or more random samples come from the same underlying distribution. You will become closely acquainted with gamma distributions later in the course. \n",
    "\n",
    "For the purposes of this lab, the $F$ distribution is just an ordinary distribution on the positive numbers. It has two parameters, which we will call $n$ for \"numerator\" and $d$ for \"denominator\". And its density has a rather intimidating formula."
   ]
  },
  {
   "cell_type": "markdown",
   "metadata": {
    "#solution": false,
    "#staff": false,
    "#student": false
   },
   "source": [
    "### The $F_{n,d}$ Density ###\n",
    "The gamma function of mathematics is denoted $\\Gamma$ (that's the upper case Greek letter gamma) and is defined as an integral. Both its domain and range are the positive numbers. In your current Homework assignment you are examining the definition and properties of the gamma function. In this lab, you will only need one of those results:\n",
    "\n",
    "For positive integer $n$, $\\Gamma(n) = (n-1)!$.\n",
    "\n",
    "Now for the definition of the $F$ density.\n",
    "\n",
    "Let $n$ and $d$ be positive integers. The random variable $X$ has the $F_{n,d}$ distribution if the density of $X$ is\n",
    "\n",
    "$$\n",
    "f_X(x) ~ = ~ \\frac{\\Gamma\\big{(}\\frac{n}{2} + \\frac{d}{2}\\big{)}}{\\Gamma\\big{(}\\frac{n}{2}\\big{)}\\Gamma\\big{(}\\frac{d}{2}\\big{)}} \\big{(} \\frac{n}{d} \\big{)}^{\\frac{n}{2}} x^{\\frac{n}{2} -1}\\big{(}1 + \\frac{n}{d}x \\big{)}^{-\\frac{n+d}{2}} ~, ~~~~~~~ x > 0\n",
    "$$\n",
    "\n",
    "That looks awful. But it isn't, really. Let's see why."
   ]
  },
  {
   "cell_type": "markdown",
   "metadata": {
    "#solution": false,
    "#staff": false,
    "#student": false
   },
   "source": [
    "### 6a) The Constant ###\n",
    "As with many densities, the part of the formula that looks most impressive is actually the least interesting as far as the shape of the density is concerned. It's the constant of integration: the numerical factor that makes the density integrate to 1. \n",
    "\n",
    "To evaluate the constant you will need to evaluate the gamma function numerically. The `SymPy` function `gamma` can be used for this. "
   ]
  },
  {
   "cell_type": "code",
   "execution_count": null,
   "metadata": {
    "#solution": false,
    "#staff": false,
    "#student": false
   },
   "outputs": [],
   "source": [
    "gamma(4)"
   ]
  },
  {
   "cell_type": "code",
   "execution_count": null,
   "metadata": {
    "#solution": false,
    "#staff": false,
    "#student": false
   },
   "outputs": [],
   "source": [
    "gamma(4.5)"
   ]
  },
  {
   "cell_type": "code",
   "execution_count": null,
   "metadata": {
    "#solution": false,
    "#staff": false,
    "#student": false
   },
   "outputs": [],
   "source": [
    "gamma(5)"
   ]
  },
  {
   "cell_type": "code",
   "execution_count": null,
   "metadata": {
    "#solution": false,
    "#staff": false,
    "#student": false
   },
   "outputs": [],
   "source": [
    "r = Symbol('r', positive=True)\n",
    "gamma(r)"
   ]
  },
  {
   "cell_type": "markdown",
   "metadata": {
    "#solution": false,
    "#staff": false,
    "#student": false
   },
   "source": [
    "Start by evaluating the constant in the $F_{n,d}$ density. Define a Python function `constant_F` that takes $n$ and $d$ as its arguments and returns the normalizing constant in the density above. "
   ]
  },
  {
   "cell_type": "code",
   "execution_count": null,
   "metadata": {
    "#solution": false,
    "#staff": false,
    "#student": true
   },
   "outputs": [],
   "source": [
    "def constant_F(n, d):\n",
    "    return ..."
   ]
  },
  {
   "cell_type": "markdown",
   "metadata": {
    "#solution": false,
    "#staff": false,
    "#student": false
   },
   "source": [
    "Work out (by hand or by mental math) the constant when $n = d = 4$, and check that your function returns the right value."
   ]
  },
  {
   "cell_type": "code",
   "execution_count": null,
   "metadata": {
    "#solution": false,
    "#staff": false,
    "#student": false
   },
   "outputs": [],
   "source": [
    "constant_F(4, 4)"
   ]
  },
  {
   "cell_type": "markdown",
   "metadata": {
    "#solution": false,
    "#staff": false,
    "#student": false
   },
   "source": [
    "As another check, work out the constant when $n = 2$ and $d = 4$, and check that your function returns the right value."
   ]
  },
  {
   "cell_type": "code",
   "execution_count": null,
   "metadata": {
    "#solution": false,
    "#staff": false,
    "#student": false
   },
   "outputs": [],
   "source": [
    "constant_F(2, 4)"
   ]
  },
  {
   "cell_type": "markdown",
   "metadata": {
    "#solution": false,
    "#staff": false,
    "#student": false
   },
   "source": [
    "### 6b) The $F_{6, 4}$ Density ###\n",
    "\n",
    "As a numerical example, let $X$ have the $F_{6, 4}$ density, which we will call $f_X$. Construct a `SymPy` expression `f_X` that is equal to $f_X(x)$."
   ]
  },
  {
   "cell_type": "code",
   "execution_count": null,
   "metadata": {
    "#solution": false,
    "#staff": false,
    "#student": true
   },
   "outputs": [],
   "source": [
    "x = Symbol('x', positive=True)\n",
    "f_X = constant_F(...)\n",
    "f_X = nsimplify(f_X) # simplifies expression above to avoid a bug from previous semesters\n",
    "f_X"
   ]
  },
  {
   "cell_type": "markdown",
   "metadata": {
    "#solution": false,
    "#staff": false,
    "#student": false
   },
   "source": [
    "That's not very scary at all. It's just a ratio of two polynomials, because $n=6$ and $d=4$ are both even. \n",
    "\n",
    "Check that $f_X$ is a density. Here you get to use something cute: \n",
    "\n",
    "- As the symbol for infinity, `SymPy` uses two lower case letter o's side by side, because oo looks like $\\infty$."
   ]
  },
  {
   "cell_type": "code",
   "execution_count": null,
   "metadata": {
    "#solution": false,
    "#staff": false,
    "#student": true
   },
   "outputs": [],
   "source": [
    "Integral(f_X, (x, ...)).doit()"
   ]
  },
  {
   "cell_type": "markdown",
   "metadata": {
    "#solution": false,
    "#staff": false,
    "#student": false
   },
   "source": [
    "Run the cell below to plot the density."
   ]
  },
  {
   "cell_type": "code",
   "execution_count": null,
   "metadata": {
    "#solution": false,
    "#staff": false,
    "#student": false
   },
   "outputs": [],
   "source": [
    "Plot_continuous([0, 10], f_X)\n",
    "plt.title('$F_{6,4}$ Density');"
   ]
  },
  {
   "cell_type": "markdown",
   "metadata": {
    "#solution": false,
    "#staff": false,
    "#student": false
   },
   "source": [
    "### 6c) A Transformation and its Inverse ###\n",
    "In the rest of the lab, you will find the density of a transformation of $X$. **Review Part 5** very carefully first.\n",
    "\n",
    "Define a new random variable $V$ by applying the following function $g$ to the random variable $X$:\n",
    "\n",
    "$$\n",
    "g(x) ~ = ~ \\frac{\\frac{n}{d}x}{1 + \\frac{n}{d}x}\n",
    "$$\n",
    "Then\n",
    "$$\n",
    "V ~ = ~ g(X) ~ = ~ \\frac{\\frac{n}{d}X}{1 + \\frac{n}{d}X}\n",
    "$$\n",
    "\n",
    "With the help of `SymPy`, you are going to find the density of $V$.\n",
    "\n",
    "As always, start with the possible values. What are the possible values of V?"
   ]
  },
  {
   "cell_type": "markdown",
   "metadata": {
    "#solution": false,
    "#staff": false,
    "#student": true
   },
   "source": [
    "\n",
    "**Your answer here**"
   ]
  },
  {
   "cell_type": "markdown",
   "metadata": {
    "#solution": false,
    "#staff": false,
    "#student": false
   },
   "source": [
    "For $n = 6$ and $d = 4$, construct an expression `g` that is equal to $g(x)$ as defined above."
   ]
  },
  {
   "cell_type": "code",
   "execution_count": null,
   "metadata": {
    "#solution": false,
    "#staff": false,
    "#student": true
   },
   "outputs": [],
   "source": [
    "g = ...\n",
    "g"
   ]
  },
  {
   "cell_type": "markdown",
   "metadata": {
    "#solution": false,
    "#staff": false,
    "#student": false
   },
   "source": [
    "Is the function $g$ increasing or decreasing? Explain your answer.\n",
    "\n",
    "[It helps to write the function as 1 minus something.]"
   ]
  },
  {
   "cell_type": "markdown",
   "metadata": {
    "#solution": false,
    "#staff": false,
    "#student": true
   },
   "source": [
    "\n",
    "**Your answer here**"
   ]
  },
  {
   "cell_type": "markdown",
   "metadata": {
    "#solution": false,
    "#staff": false,
    "#student": false
   },
   "source": [
    "To find the density of $V = g(X)$, you will need the inverse of $g$.\n",
    "\n",
    "The function $g$ is monotone and therefore has a unique inverse. Let $v = g(x)$. Find the function $g^{-1}$ by completing the cell below. "
   ]
  },
  {
   "cell_type": "code",
   "execution_count": null,
   "metadata": {
    "#solution": false,
    "#staff": false,
    "#student": true
   },
   "outputs": [],
   "source": [
    "v = Symbol('v', positive=True)\n",
    "g_inverse = ...[...]\n",
    "g_inverse"
   ]
  },
  {
   "cell_type": "markdown",
   "metadata": {
    "#solution": false,
    "#staff": false,
    "#student": false
   },
   "source": [
    "Remember that for each $v$, $g^{-1}(v)$ is a value of $x$. Since $x$ is positive, the inverse you just found better not be negative. Show by algebra (without using `SymPy`) that the inverse calculated above is positive for each possible value $v$ of $V$."
   ]
  },
  {
   "cell_type": "markdown",
   "metadata": {
    "#solution": false,
    "#staff": false,
    "#student": true
   },
   "source": [
    "\n",
    "**Your answer here**"
   ]
  },
  {
   "cell_type": "markdown",
   "metadata": {
    "#solution": false,
    "#staff": false,
    "#student": false
   },
   "source": [
    "### 6d) A Derivative ###\n",
    "\n",
    "Complete the cell below so that `deriv_g` equals $\\frac{d}{dx}g(x)$."
   ]
  },
  {
   "cell_type": "code",
   "execution_count": null,
   "metadata": {
    "#solution": false,
    "#staff": false,
    "#student": true
   },
   "outputs": [],
   "source": [
    "deriv_g = ...\n",
    "deriv_g"
   ]
  },
  {
   "cell_type": "markdown",
   "metadata": {
    "#solution": false,
    "#staff": false,
    "#student": false
   },
   "source": [
    "Explain why this derivative is positive for all positive $x$."
   ]
  },
  {
   "cell_type": "markdown",
   "metadata": {
    "#solution": false,
    "#staff": false,
    "#student": true
   },
   "source": [
    "\n",
    "**Your answer here**"
   ]
  },
  {
   "cell_type": "markdown",
   "metadata": {
    "#solution": false,
    "#staff": false,
    "#student": false
   },
   "source": [
    "### 6e) The Density of the Transformation ###\n",
    "Use the change of variable formula in Part 5 to find $f_V$, the density of $V$. Start by filling in the possible values of $V$ in the comment line."
   ]
  },
  {
   "cell_type": "code",
   "execution_count": null,
   "metadata": {
    "#solution": false,
    "#staff": false,
    "#student": true
   },
   "outputs": [],
   "source": [
    "# Density of V:\n",
    "\n",
    "\"\"\"For v in the interval ..., the density of V at the point v is:\"\"\"\n",
    "\n",
    "f_V = ...\n",
    "f_V"
   ]
  },
  {
   "cell_type": "markdown",
   "metadata": {
    "#solution": false,
    "#staff": false,
    "#student": false
   },
   "source": [
    "Yikes! That looks like a horrible mess. \n",
    "\n",
    "Does it simplify at all? Run the next cell and see."
   ]
  },
  {
   "cell_type": "code",
   "execution_count": null,
   "metadata": {
    "#solution": false,
    "#staff": false,
    "#student": false
   },
   "outputs": [],
   "source": [
    "f_V = simplify(f_V)\n",
    "f_V"
   ]
  },
  {
   "cell_type": "markdown",
   "metadata": {
    "#solution": false,
    "#staff": false,
    "#student": false
   },
   "source": [
    "Algebra is truly wonderful. Especially when `SymPy` does it for you.\n",
    "\n",
    "Recognize the density of $V$ as one of the famous ones and state its name and parameters. If you are stuck, you may find [this section](http://prob140.org/textbook/content/Chapter_17/04_Beta_Densities_with_Integer_Parameters.html#beta-densities) of the textbook helpful."
   ]
  },
  {
   "cell_type": "markdown",
   "metadata": {
    "#solution": false,
    "#staff": false,
    "#student": true
   },
   "source": [
    "\n",
    "**Your answer here**"
   ]
  },
  {
   "cell_type": "markdown",
   "metadata": {
    "#solution": false,
    "#staff": false,
    "#student": false
   },
   "source": [
    "Plot the density of $V$ over all the possible values of $V$."
   ]
  },
  {
   "cell_type": "code",
   "execution_count": null,
   "metadata": {
    "#solution": false,
    "#staff": false,
    "#student": true
   },
   "outputs": [],
   "source": [
    "Plot_continuous(...)\n",
    "plt.title('Density of $V$');"
   ]
  },
  {
   "cell_type": "markdown",
   "metadata": {
    "#solution": false,
    "#staff": false,
    "#student": false
   },
   "source": [
    "**Note:** There is nothing special about the choices $n=6$ and $d=4$ as far as this result is concerned. If you had started out with a different $(n, d)$ pair, you would have ended up with a density in the same family but with different parameters. Based on your answer in the case $(6, 4)$, you might be able to guess what the parameters would be in general."
   ]
  },
  {
   "cell_type": "markdown",
   "metadata": {
    "#solution": false,
    "#staff": false,
    "#student": false
   },
   "source": [
    "## Conclusion ##\n",
    "Congratulations! The work that you have done in this lab will help reinforce your understanding of some of the most fundamental concepts of probability theory.\n",
    "\n",
    "What you have learned:\n",
    "\n",
    "- How to do symbolic math in Python\n",
    "- How to work with densities\n",
    "- How to use uniform random numbers to generate random variables with any specified distribution\n",
    "- How to find the density of a transformed random variable "
   ]
  },
  {
   "cell_type": "markdown",
   "metadata": {
    "#solution": false,
    "#staff": false,
    "#student": false
   },
   "source": [
    "## Submission Instructions ##\n",
    "\n",
    "Many assignments throughout the course will have a written portion and a code portion. Please follow the directions below to properly submit both portions.\n",
    "\n",
    "### Written Portion ###\n",
    "*  Scan all the pages into a PDF. You can use any scanner or a phone using applications such as CamScanner. Please **DO NOT** simply take pictures using your phone. \n",
    "* Please start a new page for each question. If you have already written multiple questions on the same page, you can crop the image in CamScanner or fold your page over (the old-fashioned way). This helps expedite grading.\n",
    "* It is your responsibility to check that all the work on all the scanned pages is legible.\n",
    "* If you used $\\LaTeX$ to do the written portions, you do not need to do any scanning; you can just download the whole notebook as a PDF via LaTeX.\n",
    "\n",
    "### Code Portion ###\n",
    "* Save your notebook using `File > Save and Checkpoint`.\n",
    "* Generate a PDF file using `File > Download As > PDF via LaTeX`. This might take a few seconds and will automatically download a PDF version of this notebook.\n",
    "    * If you have issues, please post a follow-up on the general Lab 5B Ed thread.\n",
    "    \n",
    "### Submitting ###\n",
    "* Combine the PDFs from the written and code portions into one PDF. [Here](https://smallpdf.com/merge-pdf) is a useful tool for doing so. \n",
    "* Submit the assignment to Lab 5B on Gradescope. \n",
    "* **Make sure to assign each page of your pdf to the correct question.**\n",
    "* **It is your responsibility to verify that all of your work shows up in your final PDF submission.**\n",
    "\n",
    "If you are having difficulties scanning, uploading, or submitting your work, please read the [Ed Thread](https://edstem.org/us/courses/35049/discussion/2398718) on this topic and post a follow-up on the general Lab 5B Ed thread."
   ]
  },
  {
   "cell_type": "markdown",
   "metadata": {
    "#solution": false,
    "#staff": false,
    "#student": false
   },
   "source": [
    "## **We will not grade assignments which do not have pages selected for each question.** ##"
   ]
  }
 ],
 "metadata": {
  "checksums": [
   "85dd8db91b93e768013e7d45473a70a5",
   "ca939dab912a6bf18bdb854ad5280d45",
   "ff8c867ac388463e57339ff7c3d12bae",
   "62737c080798644d1c33beb2ea8bf1f0",
   "55a752ebcd730ea6cbfa9bb3e8c245e2",
   "562505d567faf02dfc9388e81e89d07b",
   "7b3b2b682d1fbdac8d4d98f7cbf87f37",
   "036db2d2d84687f1befca7d08aa364f8",
   "ce7b0544db965329e1b6d0824e7fc1d9",
   "6917b6a12b6818b67cd188c52bb7ef24",
   "562505d567faf02dfc9388e81e89d07b",
   "96c72dc86334be5595031e6c83c68d79",
   "cda8104d59ad57f725fe1e9d68ed4478",
   "a61bec412e0457796b57de697372a1e2",
   "b6deb54e515f20ff1a507f41f3591c74",
   "85adc7bbeb2d555746129641f924713d",
   "07f8a18db4692b14d8051b7d14847ef0",
   "c1b3470f682f199fe6945c9c717387eb",
   "9eed58972bf0a33b6da4bf7e17df57c2",
   "d42c91a3b20fcd046355c9b7b05c5e4a",
   "38cca8569b84da2bcad527138d3e01b1",
   "c86ab6f87fc43d1fcc946acdc0814dce",
   "d768bc9518f95b734f97825fb2230ffe",
   "09b4b5c6289e91acee4e99e79483bb3e",
   "87be20b27859238477a9397e052fd983",
   "1db3d86dfb00497d32742d72f1459266",
   "439ea40699ed841e513a521b828352c6",
   "13b78e2dc131da6ce86632ff037a9286",
   "984250c91501aa3653ef681976d1ec5a",
   "0e48a88167c7b179bd0c3374eae03847",
   "1e217b9448121d33adca2f5ea7991264",
   "834b8292ff7cb37add448ad9c84c9fd7",
   "21105f8c139b2ae5544fc4c330d9f311",
   "cdf52ce21b24866f7f353fa244c13a2c",
   "9d170cfc606b01dae96b3b5683f9cea3",
   "ed90bfc917c3a1aa0b180a1d2ddbf555",
   "e3f588c255fb22533fbe05d39c3896d7",
   "48c953c2d5e2b197b4a0eb83d68ced5c",
   "8cfe20b20ad3a8ef2ad30ce9b54d6789",
   "53c78a8b92150a7983585ab0bc2b22dc",
   "fdc7917b413dfad1ff64d535c8f268f4",
   "fbbe9b85f77d66ee4dc8aa8757b81dbc",
   "5a237c88ae01d072fbbdcd1b370d3dfc",
   "8020df9a5428cdbe2c3dca113be9c83a",
   "4571d598451faa1bf5b4678ef380be62",
   "80be309eede3345aa60bdb9a164d1b1d",
   "516ce2d5e9148eb789dc52193cda2d6f",
   "489be79d12fcb2d7911730a0e4a58da9",
   "79677121d58f1d51d38669df0351b2b4",
   "e4cebfd2ca54f7be93f0e4604f505a49",
   "5bb9a36c50d7be9a8b86d46812464e73",
   "38e0d6afed9b66ea8a7a8a28810e4bda",
   "8fa14cdd754f91cc6554c9e71929cce7",
   "679a11691f58cf2d4c8243cfb66e6fd2",
   "223d426ff8b49552f6f5cbe924479895",
   "dd30f12b347aae866c4605656ad0933e",
   "06deec2bc19aa2b3a71c005d2a85cdff",
   "f46a14a80bc878e6b841258660b63171",
   "c5b49cb2c657a0efc7b9a6ab02cbab9a",
   "53fdc1aa05baaa8d9316ee4171c65152",
   "c62e3047247325ecc840b9b5cfd03207",
   "def155f55119c124aa93f3d0f492931f",
   "781d3e93834db1e2d244fd6629a9962b",
   "e47ad0fc15cce09200f46d975beb321f",
   "d163e772fa59439687f87ab8d2ed0d4e",
   "afdae2ddbe2243950053c9c292ca6149",
   "3bf1d094b79286703993260fe08f4b42",
   "17b3b6ab7d2e2e779584b6e881459ac2",
   "75e57ad35f8175b4783af39265d0103f",
   "5c1812811cf19626cc68109c0d77306b",
   "aa75643e9727763908b0c327d7fbc4b6",
   "562505d567faf02dfc9388e81e89d07b",
   "dc3448704a9cd567d6122fa2761db634",
   "04fd0adce3a660cc91acf3ee718f1bc9",
   "aeba9a5e964ad95f9d0b2e34bd5f024b",
   "c035249e1e5e98224c8f9f65084f028c",
   "0de20b93bb878d597e59213991465648",
   "2f43b42fd833d1e77420a8dae7419000",
   "2e295ae22d4c76e3bc767fc7a10f27a2",
   "06d5e15091186ca0469ba68572a7c6ae",
   "787ea5b27883e7023cc3f2025e616f9d",
   "c6318a56e0782fffdb7e15d123c1e98f",
   "e8cbc30c07504efef10e221b9b8242ca",
   "f473d1d1c634e149f2db7b0f653b5983",
   "489b44f77781187f1f4691731e455d09",
   "d069843ca0a3588f1cd85aaa780114e6",
   "4f89b921f885376cd1461a0cbf6195c8",
   "899e0894c5ca3a1fc0a9a796cb2b3840",
   "8339d1f2f0192cc2dc87340743d2da11",
   "004acc863e204f17ec65d872e6096cb6",
   "98d7af6b6d88258f52348b6a49e41702",
   "313a44a294e66d1d9482649ca496aff2",
   "84af3d6aef9be3bb014f80e0755992ab",
   "8569010926120142fb0b586075dde301",
   "2d0fee07a6fbf341ef2b3095ea073ee6",
   "fe762a2fd9f0db6e84ad7def98450209",
   "1c5412497f8e74735ba140eddd4c0888",
   "0de20b93bb878d597e59213991465648",
   "8041032711d6bbfc7057a893189b86c8",
   "411259e1a027d218b77c8ad5081d5781",
   "6ddb70747b83a687e84ec2db0c521b19",
   "39ac8f2b52d53c79a2a0573dff6f271a",
   "bfa32ad1cade8e2251e76415922387c6",
   "562505d567faf02dfc9388e81e89d07b",
   "a26c9f0367d367b9fae5282c0e3db309",
   "e004824255deed8c92872c845a196ff0",
   "f2843165bc27ce8b80016fc631b30d21",
   "40891041ab2d8255dbb32abb80d0fb21",
   "02e6df83645b905164b25f19fdcd3af6",
   "8915470354c0f92f372c0a0ce31f12f3",
   "22f049f2aa9cf6165c64cc7fbf1e9b23",
   "10ba967b32546f92ea72b22fad97c67b",
   "2a0c67811e6f9e2cc13f1b1006786b13",
   "358609ed321660a8d1a14422db1914a1",
   "17a43cd632c66397b33f6aba872e651e",
   "b3bead55a7ae30c84cc08f93dbc55c88",
   "2a0c67811e6f9e2cc13f1b1006786b13",
   "43b0b94ebe93b184d694ebe26127c076",
   "2a0c67811e6f9e2cc13f1b1006786b13",
   "8e6a6cd453b4f4dce42423e27867ac99",
   "f144c8e292a8c31e5ef41e75073ee9f3",
   "0de20b93bb878d597e59213991465648",
   "127fe46503de02d8f2eb43a17348ccdd",
   "27147fa54f9f517b7c45b213d2ab4f3b",
   "a9e60abcc4578590ba99f47ac02c958c",
   "2a0c67811e6f9e2cc13f1b1006786b13",
   "6c362a78a23d0e9cf8c241912135271b",
   "d95b49dcaa352f464f6400494b0bc600",
   "28b84f784840e42a5b8327aab8f973c0",
   "562505d567faf02dfc9388e81e89d07b",
   "29abd33a2b80a1fa81ac7993c29511e1",
   "1901b006935012cba106a07b36d0d89e",
   "33520da982207486e982f52c3ecb89fb",
   "6917b6a12b6818b67cd188c52bb7ef24",
   "562505d567faf02dfc9388e81e89d07b",
   "f5344c5b22d25194ae4e43794bafd9fe",
   "6acb0d91efa69c587620cbf91f881bea",
   "b72a5b18bcc986a21f815e1a4aed3992",
   "5f7e7279743cfdf793d0704d23ae70bb",
   "ade85a20657bd8eefc4593fdeb3d5da5",
   "f27b03a6a54218853fa2a7c4d56f4835",
   "2a0c67811e6f9e2cc13f1b1006786b13",
   "bfd154dd05a667d9423d6a6fec54202c",
   "9615cee5276d137447f69009ddf702ce",
   "31a89c0660e70d946f658e76afaf95b5",
   "2f43b42fd833d1e77420a8dae7419000",
   "9e58d892f587e543e3dbe8e210435344",
   "2a0c67811e6f9e2cc13f1b1006786b13",
   "523cdba3815e500c58c00af22a8b558b",
   "c064428c7eb8bfb5746766e15324752a",
   "55647cec726fe000888bfd0120b86693",
   "9df4e03dffdf038c2bcf3e48c6b2a5b8",
   "4765581570f65ca3d27333f8ca72469c",
   "3b61e3d265896b2da132736bc60656a9",
   "a19540fc418f0c68c6300f7931c7a05f",
   "b245cafea8e4a64812cd2ddaa32fdac9",
   "97190451d4bfe145665a7d4ee8102bc5",
   "f4a59220e91659c144b33968542e1be3",
   "a7a448042449bc9ddbf20e76feb1dfb8",
   "f897a02fe845c48d6fff291f55d6eeb0",
   "562505d567faf02dfc9388e81e89d07b",
   "5d52e4097f3f132600a887c5bc55918e",
   "131df38cca63457d663b2a60f0a94915",
   "6ddb872fba2d5f169a321d4c518ebb25",
   "76c33425ecd6a7ed2f989baa5639b92c",
   "265f6cb2d1a3f2335e76193aa4634aff",
   "6479495e68e8eeadebef9ad5de34bdea",
   "efaee005ada1e156800a52b82ac5fd4f",
   "6e17b64b1d908209d95cf58f1ba9b6ea",
   "0de20b93bb878d597e59213991465648",
   "4a43f7adf0b7cedec45aedc85c0c75b5",
   "5c2747dcb917375c7154c0667ff7f9c5",
   "b70d814bbb89576acb266073ac1d0d76",
   "042b0df2272c721b800123e9efc24a8e",
   "74fd0f2882444243c1d6f1c369454de9",
   "f36cc92a5d6fbb817b789450d9d4e734",
   "24411c55be9f7f26f8bf491a831e95a5",
   "2b5a2f39515f27c3c9ed5ebcf0d614e7",
   "a4bd39251ea9f81b1c4d275e01d97c81",
   "af9a64f712ca604c8aa1d05f37c54fd7",
   "2f43b42fd833d1e77420a8dae7419000",
   "1375c8a20e21d51366be3f416f183c21",
   "36e762ef12af14bcfb1503da1034dac9",
   "a2e2e42256dbdacabc723655d4bb2334",
   "2d1d62edce91a08f8f3f9e911485e281",
   "562505d567faf02dfc9388e81e89d07b",
   "cb2582ed73a66270c24b56f5b9321471",
   "23ee57f3dd0b4da4895fac61c37959e6",
   "275bef1fd38d6e33fd25fbf76e8540d1",
   "5a6fa15443c05c2046ecb20a5888bd19",
   "1c9ac4958becadb49464638a0d823a88",
   "c09429756519fe40ea8398a8a49c0ff1",
   "8692be141210481205f4b89773936d87",
   "960036349088b8288e00462c9c3ed012",
   "2b9a539e0833d5578c1c89b91b671a91",
   "d733b6d4dfe3a556a94120944273fb06",
   "21407560f125b233239a5a8807e006b1",
   "cd5fe5928c8a81403d367823e8b3dfdc",
   "9b5369a774672ff0bb9c37205e6b6757",
   "544cfcb680f1ff35dc54f0e0d1347110",
   "6e4b6ac0510d16c48693bc0f8ab00756",
   "56a8b126c3b615fe03c7f5168df3dfa3",
   "40d4581833968e28ccf2d3a6ef4cf20a",
   "3eef42296419df62db186e5ff6755620",
   "939910eb614be439892149f0c66ad2b3",
   "c042781bb65b01d3d2edfee88348f9dc",
   "0de20b93bb878d597e59213991465648",
   "00bd8a102875ececbd91593da30fb122",
   "265f6cb2d1a3f2335e76193aa4634aff",
   "a5367698147d60b14e28b487b4574b1f",
   "0de20b93bb878d597e59213991465648",
   "07c4eca164fdc26f2657bc4933a89007",
   "f01735ce4e1461eb947f829a4e090ee9",
   "2e69b4b4ab45d61974f06f29b52c7ea7",
   "0de20b93bb878d597e59213991465648",
   "5277668c3c81b4a815b7287a1c1c3ea5",
   "24411c55be9f7f26f8bf491a831e95a5",
   "0d6c7c463bac2e158655dbb14d52a61a",
   "0de20b93bb878d597e59213991465648",
   "d1e524778c86356bf1e03148d637691a",
   "1e6cb1fdf7b6f88d3549de21f2958a32",
   "95db504e3a709347a8eae0fb11597ffc",
   "54b4e5768d1933580493e55c89011081",
   "a19c139b6e22cc6f9a615a93e1c77d9a",
   "0de20b93bb878d597e59213991465648",
   "8c7ab5eb628607bd3d228a5b447682a5",
   "ba4f011f2305af297a0f87f75244f323",
   "5dbeb928cbf9f6036a837b19473c6f68",
   "061d7dcd1edb537e7023e41cf0c7828c",
   "fa4eea7db06d924efa9bd990cd4b1308",
   "28b84f784840e42a5b8327aab8f973c0"
  ],
  "kernelspec": {
   "display_name": "Python 3",
   "language": "python",
   "name": "python3"
  },
  "language_info": {
   "codemirror_mode": {
    "name": "ipython",
    "version": 3
   },
   "file_extension": ".py",
   "mimetype": "text/x-python",
   "name": "python",
   "nbconvert_exporter": "python",
   "pygments_lexer": "ipython3",
   "version": "3.7.11"
  },
  "number_of_pagebreaks": 0
 },
 "nbformat": 4,
 "nbformat_minor": 4
}
