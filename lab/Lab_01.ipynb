{
 "cells": [
  {
   "cell_type": "markdown",
   "metadata": {
    "#solution": false,
    "#staff": false,
    "#student": false
   },
   "source": [
    "<table align=\"left\" style=\"border-style: hidden\" class=\"table\"> <tr><td class=\"col-md-2\"><img style=\"float\" src=\"../icon.png\" alt=\"Data 140 Logo\" style=\"width: 120px;\"/></td><td><div align=\"left\"><h3 style=\"margin-top: 0;\">Probability for Data Science</h3><h4 style=\"margin-top: 20px;\">UC Berkeley, Spring 2023</h4><p>Ani Adhikari</p>CC BY-NC-SA 4.0</div></td></tr></table><!-- not in pdf -->\n",
    "\n",
    "This content is protected and may not be shared, uploaded, or distributed."
   ]
  },
  {
   "cell_type": "markdown",
   "metadata": {
    "#solution": false,
    "#staff": false,
    "#student": false,
    "tags": []
   },
   "source": [
    "# Lab 1: Birthday Attack #\n",
    "Welcome to lab in Data 140! In this first lab you will get acquainted with the computing environment of the course and explore an application of the birthday problem. Specifically, you will:\n",
    "\n",
    "- Review the code used in the textbook to study the birthday problem on Planet Earth\n",
    "- Study the \"birthday paradox\" on Mars (or, if you have a more practical outlook, in hashing collisions), with an exact computation as well as an approximation\n",
    "- See how the title of this lab is actually a thing, not just a cutesy way of getting your attention"
   ]
  },
  {
   "cell_type": "markdown",
   "metadata": {
    "#solution": false,
    "#staff": false,
    "#student": false
   },
   "source": [
    "### Instructions \n",
    "\n",
    "Similar to your homeworks, your labs will generally have two components: a written portion and a portion that also involves code.  \n",
    "- Written work should be completed on paper, and coding questions should be done in the notebook.\n",
    "- Start the work for the written portions of each section on a new page.\n",
    "- You are welcome to $\\LaTeX$ your answers to the written portions, but staff will not be able to assist you with $\\LaTeX$ related issues. \n",
    "- Show your work. Give reasoning. The question isn't always going to ask for it, because we assume that you will provide justification for your answers. Every answer should contain a calculation, reasoning, or diagrams that are clearly labeled to show what's going on.\n",
    "- It is your responsibility to ensure that both components of the lab are submitted completely and properly to Gradescope. **Make sure to assign each page of your pdf to the correct question.** \n",
    "- **Refer to the bottom of the notebook for submission instructions.**"
   ]
  },
  {
   "cell_type": "markdown",
   "metadata": {
    "#solution": false,
    "#staff": false,
    "#student": false
   },
   "source": [
    "First run the Setup cell below. You can ignore its contents for now if you aren't interested. In future labs, this cell will appear before the start of the lab."
   ]
  },
  {
   "cell_type": "code",
   "execution_count": null,
   "metadata": {
    "#solution": false,
    "#staff": false,
    "#student": false
   },
   "outputs": [],
   "source": [
    "# SETUP\n",
    "\n",
    "# These lines make warnings go away\n",
    "import warnings\n",
    "warnings.filterwarnings('ignore')\n",
    "\n",
    "# The main libraries\n",
    "import numpy as np\n",
    "from datascience import *\n",
    "from prob140 import *\n",
    "\n",
    "# These lines do some fancy plotting magic\n",
    "import matplotlib\n",
    "%matplotlib inline\n",
    "import matplotlib.pyplot as plt\n",
    "plt.style.use('fivethirtyeight')"
   ]
  },
  {
   "cell_type": "markdown",
   "metadata": {
    "#solution": false,
    "#staff": false,
    "#student": false
   },
   "source": [
    "### Useful Methods\n",
    "\n",
    "Because you have only recently returned to school after the break, we are providing a list of some methods that will be useful in the lab. Please consult the one-page [**code reference sheet**](http://prob140.org/assets/final_reference_code_fa18.pdf) in [Resources](http://prob140.org/references/) if you need a reminder of the syntax.\n",
    "\n",
    "For today's lab you will need some or all of:\n",
    "- Array operations and NumPy functions including `item`, `diff`, and `append`\n",
    "- Defining functions: `def`\n",
    "- Conditional statements: `if`/`else`\n",
    "- Iteration: `for` (or any other Python method for iteration)\n",
    "- `Table` methods from the `datascience` library:\n",
    "    - Creation: `with_columns`\n",
    "    - Accessing rows that satisfy a condition: `where`\n",
    "    - Accessing and using values as inputs to a function: `apply`\n",
    "    - Scatter plots: `scatter`\n",
    "- Distribution methods from the `prob140` library, operating on `Table()`:\n",
    "    - Specifying the possible values: `values`\n",
    "    - Specifying the probabilities: `probabilities` or `probability_function`\n",
    "- Visualization methods from the `prob140` library:\n",
    "    - Probability histogram of an integer-valued random variable: `Plot`\n",
    "    - Overlaid probability histograms of two integer-valued random variables: `Plots`"
   ]
  },
  {
   "cell_type": "markdown",
   "metadata": {
    "#solution": false,
    "#staff": false,
    "#student": false
   },
   "source": [
    "## Identify Your Lab Partner"
   ]
  },
  {
   "cell_type": "markdown",
   "metadata": {
    "#solution": false,
    "#staff": false,
    "#student": false
   },
   "source": [
    "This is a multiple choice question. Please select **ONE** of following options that best describes how you complete Lab 1.\n",
    "\n",
    "- I am doing this lab by myself and I don't have a partner.\n",
    "- My partner for this lab is [PARTNER'S NAME] with email [berkeley.edu email address]. [SUBMITTER'S NAME] will submit to Gradescope and add the other partner to the group on Gradescope after submission.\n",
    "\n",
    "Please copy and paste **ONE** of above statements and fill in blanks if needed. If you work with a partner, make sure only one of you submit on Gradescope and that the other member of the group is added to the submission on Gradescope. Refer to the bottom of the notebook for submission instructions."
   ]
  },
  {
   "cell_type": "markdown",
   "metadata": {
    "#solution": false,
    "#staff": false,
    "#student": true
   },
   "source": [
    "\n",
    "**Type your answer in this cell.**"
   ]
  },
  {
   "cell_type": "markdown",
   "metadata": {
    "#solution": false,
    "#staff": false,
    "#student": false
   },
   "source": [
    "\\newpage"
   ]
  },
  {
   "cell_type": "markdown",
   "metadata": {
    "#solution": false,
    "#staff": false,
    "#student": false
   },
   "source": [
    "## Section 1: Birthday Paradox on Earth ##\n",
    "In this part you will review the code used in the textbook to study the birthday problem on Planet Earth.\n",
    "\n",
    "[As you have seen](http://prob140.org/textbook/content/Chapter_01/04_Birthday_Problem.html#The-Birthday-Problem), the setting of the birthday problem is a special case of $n$ draws made at random with replacement from the set of integers $1, 2, 3, \\ldots, N$. \n",
    "\n",
    "In the context of birthdays on Earth, this corresponds to two simplifying assumptions about $n$ people:\n",
    "- Each year has 365 days; $N = 365$\n",
    "- Each person is equally likely to be born on each of the 365 days, regardless of the birthdays of all others\n",
    "\n",
    "The main question is, \"What is the chance that among the $n$ people there is at least one pair whose birthdays are the same?\" \n",
    "\n",
    "In the context of hashing, the question is, \"If you assign each of $n$ individuals one of $N$ hash values chosen at random, what is the chance of at least one collision?\" \n",
    "\n",
    "Start out by setting $N = 365$. Run the cell or it won't get set. After this, we won't keep reminding you to run cells."
   ]
  },
  {
   "cell_type": "code",
   "execution_count": null,
   "metadata": {
    "#solution": false,
    "#staff": false,
    "#student": false
   },
   "outputs": [],
   "source": [
    "N = 365"
   ]
  },
  {
   "cell_type": "markdown",
   "metadata": {
    "#solution": false,
    "#staff": false,
    "#student": false
   },
   "source": [
    "### 1a) A No Matches Calculation ###\n",
    "Let $D_n$ be the event that all $n$ birthdays are different, that is, the event that there is no match. You have seen that\n",
    "$$\n",
    "P(D_n) ~ = ~ \\prod_{i=0}^{n-1} \\frac{365 - i}{365}\n",
    "$$\n",
    "\n",
    "Notice that $P(D_1) = 1$. There is certain to be no match if there is only one birthday, because there is nothing it can be matched with.\n",
    "\n",
    "Notice also that the computation labels the $n$ people as $0, 1, 2, \\ldots, n-1$, which makes Python's 0-origin indexing rather convenient. \n",
    "\n",
    "Let's brush off any cobwebs that might have gathered on your programming skills over the holidays. Run the cells below and observe the output carefully."
   ]
  },
  {
   "cell_type": "code",
   "execution_count": null,
   "metadata": {
    "#solution": false,
    "#staff": false,
    "#student": false
   },
   "outputs": [],
   "source": [
    "n = 5\n",
    "individuals = np.arange(n)\n",
    "individuals"
   ]
  },
  {
   "cell_type": "code",
   "execution_count": null,
   "metadata": {
    "#solution": false,
    "#staff": false,
    "#student": false
   },
   "outputs": [],
   "source": [
    "N - individuals"
   ]
  },
  {
   "cell_type": "code",
   "execution_count": null,
   "metadata": {
    "#solution": false,
    "#staff": false,
    "#student": false
   },
   "outputs": [],
   "source": [
    "(N - individuals)/N"
   ]
  },
  {
   "cell_type": "code",
   "execution_count": null,
   "metadata": {
    "#solution": false,
    "#staff": false,
    "#student": false
   },
   "outputs": [],
   "source": [
    "np.prod( (N - individuals)/N )"
   ]
  },
  {
   "cell_type": "markdown",
   "metadata": {
    "#solution": false,
    "#staff": false,
    "#student": false
   },
   "source": [
    "### 1b) The Probability of No Matches ###\n",
    "Use the sequence of steps in 1a to define a function `p_no_match` that takes $n$ as its argument and returns $P(D_n)$, assuming the fixed value $N = 365$."
   ]
  },
  {
   "cell_type": "code",
   "execution_count": null,
   "metadata": {
    "#solution": false,
    "#staff": false,
    "#student": true
   },
   "outputs": [],
   "source": [
    "def p_no_match(n):\n",
    "    ...\n",
    "    return ..."
   ]
  },
  {
   "cell_type": "markdown",
   "metadata": {
    "#solution": false,
    "#staff": false,
    "#student": false
   },
   "source": [
    "### 1c) No Matches Among 23 People ###\n",
    "Based on what you saw in class about the birthdays of 23 people, $P(D_{23})$ should be\n",
    "\n",
    "(i) a bit less than 1/2 $~~~~~~~~~~$ (ii) 1/2 $~~~~~~~~~~$ (iii) a bit more than 1/2\n",
    "\n",
    "Pick the right option and explain without computation."
   ]
  },
  {
   "cell_type": "markdown",
   "metadata": {
    "#solution": false,
    "#staff": false,
    "#student": true
   },
   "source": [
    "\n",
    "**Type your answer in this cell.**"
   ]
  },
  {
   "cell_type": "markdown",
   "metadata": {
    "#solution": false,
    "#staff": false,
    "#student": false
   },
   "source": [
    "Confirm your answer in the cell below."
   ]
  },
  {
   "cell_type": "code",
   "execution_count": null,
   "metadata": {
    "#solution": false,
    "#staff": false,
    "#student": true
   },
   "outputs": [],
   "source": [
    "p_no_match(...)"
   ]
  },
  {
   "cell_type": "markdown",
   "metadata": {
    "#solution": false,
    "#staff": false,
    "#student": false
   },
   "source": [
    "### 1d) No Matches Table ###\n",
    "\n",
    "The birthday problem is only interesting for $1 \\le n \\le N$, because for larger $n$ it's clear that $P(D_n)$ must be 0. Use a table to display your value of $P(D_n)$ for every $n$ in the range 1 through $N$, in the following steps.\n",
    "\n",
    "The next cell sets up a table of all the possible numbers of people."
   ]
  },
  {
   "cell_type": "code",
   "execution_count": null,
   "metadata": {
    "#solution": false,
    "#staff": false,
    "#student": false
   },
   "outputs": [],
   "source": [
    "birthday_probs = Table().with_columns('People', np.arange(1, N+1))\n",
    "birthday_probs"
   ]
  },
  {
   "cell_type": "markdown",
   "metadata": {
    "#solution": false,
    "#staff": false,
    "#student": false
   },
   "source": [
    "Create an array called `all_different` that contains $P(D_n)$ for each $n$ in the range 1 through $N$.\n",
    "\n",
    "You will need the Table method ``apply`` that applies a function to a specified column in each row of a table."
   ]
  },
  {
   "cell_type": "code",
   "execution_count": null,
   "metadata": {
    "#solution": false,
    "#staff": false,
    "#student": true
   },
   "outputs": [],
   "source": [
    "all_different = birthday_probs.apply(...)"
   ]
  },
  {
   "cell_type": "markdown",
   "metadata": {
    "#solution": false,
    "#staff": false,
    "#student": false
   },
   "source": [
    "Which item of `all_different` corresponds to 23 people? That item of `all_different` should agree with 1c; check this!"
   ]
  },
  {
   "cell_type": "code",
   "execution_count": null,
   "metadata": {
    "#solution": false,
    "#staff": false,
    "#student": true
   },
   "outputs": [],
   "source": [
    "all_different.item(...)"
   ]
  },
  {
   "cell_type": "markdown",
   "metadata": {
    "#solution": false,
    "#staff": false,
    "#student": false
   },
   "source": [
    "Augment `birthday_probs` with two columns \n",
    "- one labeled ``P(no match)``; in the row corresponding to $n$ people, the column should contain $P(D_n)$\n",
    "- one labeled ``P(at least one match)``; in the row corresponding to $n$ people, the column should contain $P(\\mbox{at least one match among the } n \\mbox{ birthdays})$ "
   ]
  },
  {
   "cell_type": "code",
   "execution_count": null,
   "metadata": {
    "#solution": false,
    "#staff": false,
    "#student": true
   },
   "outputs": [],
   "source": [
    "birthday_probs = birthday_probs.with_columns(\n",
    "    ...\n",
    ")\n",
    "\n",
    "birthday_probs"
   ]
  },
  {
   "cell_type": "markdown",
   "metadata": {
    "#solution": false,
    "#staff": false,
    "#student": false
   },
   "source": [
    "Compare with the `results` table in [Section 1.4](http://prob140.org/textbook/content/Chapter_01/04_Birthday_Problem.html) of the Data 140 textbook. It should be the same apart from column labels. "
   ]
  },
  {
   "cell_type": "markdown",
   "metadata": {
    "#solution": false,
    "#staff": false,
    "#student": false
   },
   "source": [
    "### 1e) Visualizing the Birthday Paradox ###\n",
    "Now visualize the \"birthday paradox\". Draw the scatter plot of `P(at least one match)` versus `People`. \n",
    "\n",
    "In the cell below, we have restricted the values of `People` to just the range where there is visible change in the probability being plotted. And we have drawn a horizontal line at the level 1/2. The code for the graphics is briefly explained in the comments. The final semi-colon prevents some unnecessary text output from `matplotlib`."
   ]
  },
  {
   "cell_type": "code",
   "execution_count": null,
   "metadata": {
    "#solution": false,
    "#staff": false,
    "#student": true
   },
   "outputs": [],
   "source": [
    "...\n",
    "\n",
    "# Everything below this line is for fine-tuning the graphics.\n",
    "# There is nothing for you to enter below this line.\n",
    "\n",
    "# plt is short for matplotlib.pyplot; see the import cell at the top\n",
    "\n",
    "plt.xlim(0, 70)     # restrict trials to at most 70\n",
    "\n",
    "plt.ylim(0, 1)      # use the probability scale on the vertical axis\n",
    "\n",
    "# Draw a red horizontal line at level 1/2\n",
    "# plt.plot joins the dots between the two points (x_1, y_1) and (x_2, y_2)\n",
    "# Arguments: [x_1, x_2], [y_1, y_2], color=, and lw=\n",
    "# That last one is line width. Bigger values produce thicker lines.\n",
    "\n",
    "plt.plot([0, 70], [0.5, 0.5], color='red', lw=1);"
   ]
  },
  {
   "cell_type": "markdown",
   "metadata": {
    "#solution": false,
    "#staff": false,
    "#student": false
   },
   "source": [
    "Use the graph to indentify the smallest number of people at which $P(\\mbox{at least one match})$ exceeds 1/2."
   ]
  },
  {
   "cell_type": "markdown",
   "metadata": {
    "#solution": false,
    "#staff": false,
    "#student": true
   },
   "source": [
    "\n",
    "**Type your answer in this cell.**"
   ]
  },
  {
   "cell_type": "markdown",
   "metadata": {
    "#solution": false,
    "#staff": false,
    "#student": false
   },
   "source": [
    "\\newpage"
   ]
  },
  {
   "cell_type": "markdown",
   "metadata": {
    "#solution": false,
    "#staff": false,
    "#student": false,
    "tags": []
   },
   "source": [
    "## Section 2: Birthday Paradox (Martian Edition) ##\n",
    "Now suppose you're a Martian. Then one year on your planet is 687 days long. Or in general, suppose you're from a planet whose year has $N$ days. The goal of this part is to answer the following question:\n",
    "\n",
    "For a year of length $N$, what is the smallest number of individuals so that the chance of a match among those individuals is at least half?\n",
    "\n",
    "In terms of a hash table with $N$ values, you are trying to find the smallest number of individuals so that a collision is more likely than not. \n",
    "\n",
    "We'll call this number the *tipping point* corresponding to a hash table with $N$ values.\n",
    "\n",
    "In this part you will write a function to find the tipping point as a function of $N$. To gain some efficiency in the code, the steps below avoid Table methods; those work better for display, visualization, and so on."
   ]
  },
  {
   "cell_type": "markdown",
   "metadata": {
    "#solution": false,
    "#staff": false,
    "#student": false
   },
   "source": [
    "### 2a) A Formula for $D_n$ [On Paper] ###\n",
    "Based on the tipping point for the Earth year ($23$, with $N = 365$), you should have the sense that the tipping point is going to be small relative to $N$. Here are a couple of observations that will help you write your function.\n",
    "\n",
    "First review the formula for $P(D_n)$ in Part **1a**. This is the probability of no match among $n$ people.\n",
    "\n",
    "Fill in the blank with the correct factor:\n",
    "\n",
    "For $2 \\le n \\le N$,\n",
    "$$\n",
    "P(D_n) ~ = ~ P(D_{n-1}) \\cdot \\underline{ ~~~~~~~~~~~~~~~~ }\n",
    "$$\n",
    "\n",
    "If you have trouble, start with $N = 365$ and refer to **1a**. What will happen if you replace $n$ by $n-1$?"
   ]
  },
  {
   "cell_type": "markdown",
   "metadata": {
    "#solution": false,
    "#staff": false,
    "#student": false
   },
   "source": [
    "In what follows, keep in mind that:\n",
    "\n",
    "- $P(D_1) = 1$\n",
    "- The smallest $n$ for which $P(\\mbox{at least one match among } n \\mbox{ birthdays}) > 1/2$ is also the smallest $n$ for which $P(D_n) < 1/2$."
   ]
  },
  {
   "cell_type": "markdown",
   "metadata": {
    "#solution": false,
    "#staff": false,
    "#student": false
   },
   "source": [
    "### 2b) Calculating the Tipping Point ###\n",
    "Use 2a to define a function called `tipping_point` that takes $N$ as its argument and returns the tipping point when there are $N$ days in the year.\n",
    "\n",
    "Do **not** compute $P(D_n)$ for all $n$. The vast majority of that computation will be unnecessary. Rather, set up your computation in the steps indicated by 2a:\n",
    "\n",
    "- Start with one individual and probability 1 of no match.\n",
    "- As long as the probability is greater than 1/2, keep increasing the number of individuals by 1 and updating the probability of no match by the product formula you came up with in 2a.\n",
    "- Once the probability is less than 1/2, return (carefully!) the number of individuals corresponding to the tipping point.\n",
    "\n",
    "There are numerous ways to write this function. Use any efficient way; this implies avoiding Table here."
   ]
  },
  {
   "cell_type": "code",
   "execution_count": null,
   "metadata": {
    "#solution": false,
    "#staff": false,
    "#student": true
   },
   "outputs": [],
   "source": [
    "def tipping_point(N):\n",
    "    ...\n",
    "    return ..."
   ]
  },
  {
   "cell_type": "markdown",
   "metadata": {
    "#solution": false,
    "#staff": false,
    "#student": false
   },
   "source": [
    "Run the cell below as a check of whether your function is working correctly."
   ]
  },
  {
   "cell_type": "code",
   "execution_count": null,
   "metadata": {
    "#solution": false,
    "#staff": false,
    "#student": false
   },
   "outputs": [],
   "source": [
    "tipping_point(365)"
   ]
  },
  {
   "cell_type": "markdown",
   "metadata": {
    "#solution": false,
    "#staff": false,
    "#student": false
   },
   "source": [
    "### 2c) The Tipping Point on Mars ###\n",
    "What's the tipping point on Mars?"
   ]
  },
  {
   "cell_type": "code",
   "execution_count": null,
   "metadata": {
    "#solution": false,
    "#staff": false,
    "#student": true
   },
   "outputs": [],
   "source": [
    "..."
   ]
  },
  {
   "cell_type": "markdown",
   "metadata": {
    "#solution": false,
    "#staff": false,
    "#student": false
   },
   "source": [
    "### 2d) The Tipping Point of a 16-Bit Hash ###\n",
    "If you use a 16-bit hash, there are $2^{16} = 65536$ hash values. What is the tipping point for a 16-bit hash?"
   ]
  },
  {
   "cell_type": "code",
   "execution_count": null,
   "metadata": {
    "#solution": false,
    "#staff": false,
    "#student": true
   },
   "outputs": [],
   "source": [
    "..."
   ]
  },
  {
   "cell_type": "markdown",
   "metadata": {
    "#solution": false,
    "#staff": false,
    "#student": false
   },
   "source": [
    "**Optional:** If you use a 32-bit hash there are $2^{32} \\approx 4.3 \\times 10^9$ hash values. If you wrote your function reasonably efficiently, it should give you the tipping point for a 32-bit hash after some chugging, without crashing your system. But please only try it after letting course staff look at your code for `tipping_point`. It's not a required element of the lab."
   ]
  },
  {
   "cell_type": "code",
   "execution_count": null,
   "metadata": {
    "#solution": false,
    "#staff": false,
    "#student": true
   },
   "outputs": [],
   "source": [
    "# OPTIONAL\n",
    "..."
   ]
  },
  {
   "cell_type": "markdown",
   "metadata": {
    "#solution": false,
    "#staff": false,
    "#student": false
   },
   "source": [
    "\\newpage"
   ]
  },
  {
   "cell_type": "markdown",
   "metadata": {
    "#solution": false,
    "#staff": false,
    "#student": false
   },
   "source": [
    "## Section 3: The Attack ##\n",
    "\n",
    "Hash functions play a major role in cryptography and computer security. For example, servers verify passwords by comparing the hash value of an entered string with the hash value stored in a database. *Birthday attacks* take advantage of the birthday paradox to generate hash collisions and trick computers into accepting a malicious file in place of a previously-encountered safe file. \n",
    "\n",
    "The key idea behind birthday attacks is what you have observed in this lab: by making a relatively small number (the tipping point!) of random attempts, the attacker has more than an even chance of matching a hash value that has been assigned. \n",
    "\n",
    "Note that the attackers don't aim to collide with a *specific* hash value—they just try for a collision with any assigned value. In other words, the goal is to get any match, just as in the birthday problem. "
   ]
  },
  {
   "cell_type": "markdown",
   "metadata": {
    "#solution": false,
    "#staff": false,
    "#student": false
   },
   "source": [
    "### 3a) An Exponential Approximation ###\n",
    "\n",
    "If you use a 64-bit hash there are approximately $1.8 \\times 10^{19}$ hash values. It might be cruel to ask a computer to crank out your `tipping_point` value for such a large $N$.\n",
    "\n",
    "But you know an exponential approximation to the chance of no match, which you can now use to approximate the tipping point.\n",
    "\n",
    "Review the approximation in Step 4 of [Section 1.5](http://prob140.org/textbook/content/Chapter_01/05_An_Exponential_Approximation.html#step-4-invert-as-needed-to-complete-the-approximation) of the Data 140 textbook. You should review the math that went into the approximation, but for this lab it is enough just to know the final answer:\n",
    "\n",
    "For large $n$, \n",
    "$$\n",
    "P(D_n) ~ \\approx ~ e^{-\\frac{1}{2N}n^2}\n",
    "$$\n",
    "\n",
    "To get a rough approximation of the tipping point, set $P(D_n)$ to $1/2$ in the approximation above and solve for $n$ in terms of $N$. Do this on scratch paper. Then write a function called `approx_tipping_point` that takes $N$ as its argument and returns the approximate tipping point.\n",
    "\n",
    "Use `np.log(x)` for $\\log(x)$ and the ceiling function `np.ceil(x)` for the smallest integer greater than or equal to $x$."
   ]
  },
  {
   "cell_type": "code",
   "execution_count": null,
   "metadata": {
    "#solution": false,
    "#staff": false,
    "#student": true
   },
   "outputs": [],
   "source": [
    "def approx_tipping_point(N):\n",
    "    return ..."
   ]
  },
  {
   "cell_type": "markdown",
   "metadata": {
    "#solution": false,
    "#staff": false,
    "#student": false
   },
   "source": [
    "### 3b) Approximate Tipping Points ###\n",
    "Run the cell below and compare with the exact answers you got in Part 2. Keep in mind that all the calculations might be affected by floating point accuracy issues."
   ]
  },
  {
   "cell_type": "code",
   "execution_count": null,
   "metadata": {
    "#solution": false,
    "#staff": false,
    "#student": false
   },
   "outputs": [],
   "source": [
    "approx_tipping_point(365), approx_tipping_point(687), approx_tipping_point(2**16)"
   ]
  },
  {
   "cell_type": "markdown",
   "metadata": {
    "#solution": false,
    "#staff": false,
    "#student": false
   },
   "source": [
    "### 3c) The Approximate Tipping Point of a 128-Bit Hash ###\n",
    "What's the approximate tipping point for a 128-bit hash?"
   ]
  },
  {
   "cell_type": "code",
   "execution_count": null,
   "metadata": {
    "#solution": false,
    "#staff": false,
    "#student": true
   },
   "outputs": [],
   "source": [
    "..."
   ]
  },
  {
   "cell_type": "markdown",
   "metadata": {
    "#solution": false,
    "#staff": false,
    "#student": false
   },
   "source": [
    "### 3d) Checking Your Work ###\n",
    "Take a look at the [Wikipedia page on birthday attacks](https://en.wikipedia.org/wiki/Birthday_attack). Scroll down to the table in the middle of the article. \n",
    "\n",
    "The notation $H$ in the second column is what we are calling $N$. \n",
    "\n",
    "We have been looking for an essentially 50% chance of getting a match, so you can just focus on the 50% column under Desired Probability of a Random Collision. \n",
    "\n",
    "Are your approximations in **3b** consistent with the entries in this column?"
   ]
  },
  {
   "cell_type": "markdown",
   "metadata": {
    "#solution": false,
    "#staff": false,
    "#student": true
   },
   "source": [
    "\n",
    "**Type your answer in this cell. It should be short!**"
   ]
  },
  {
   "cell_type": "markdown",
   "metadata": {
    "#solution": false,
    "#staff": false,
    "#student": false
   },
   "source": [
    "#### Further Reading on the Birthday Attack #### \n",
    "To test whether their cryptographic hash functions are safe from attack, tech companies have to try to break them. Just last year, security researchers at Google generated a hash collision using SHA-1, a widely used hashing algorithm that generates 160-bit hash values. If you are interested in learning more, take a look at [Google's technical report](https://security.googleblog.com/2017/02/announcing-first-sha1-collision.html). Their recommendation after generating the collision: \"For the tech community, our findings emphasize the necessity of sunsetting SHA-1 usage.\""
   ]
  },
  {
   "cell_type": "markdown",
   "metadata": {
    "#solution": false,
    "#staff": false,
    "#student": false
   },
   "source": [
    "## Conclusion ##\n",
    "\n",
    "You now know:\n",
    "- What a birthday attack is, at least in a rough sense\n",
    "- Roughly how many random attempts have to be made for a collision to be more likely than not, as a function of the number of values in the hash table\n",
    "- That problems involving artificial settings such as birthdays can have considerably wider practical applications\n",
    "- That exponential approximations can be great as approximations and also as ways to get a quick sense of how a complicated function is behaving\n",
    "\n",
    "### <span style=\"color: #113399\">You have completed your first Data 140 lab. Congratulations!</span> ###\n",
    "\n",
    "Please follow the submission instructions below to ensure that you have submitted the lab properly."
   ]
  },
  {
   "cell_type": "markdown",
   "metadata": {
    "#solution": false,
    "#staff": false,
    "#student": false
   },
   "source": [
    "## Submission Instructions ##\n",
    "\n",
    "Many assignments throughout the course will have a written portion and a code portion. Please follow the directions below to properly submit both portions.\n",
    "\n",
    "### Written Portion ###\n",
    "*  Scan all the pages into a PDF. You can use any scanner or a phone using applications such as CamScanner. Please **DO NOT** simply take pictures using your phone. \n",
    "* Please start a new page for each question. If you have already written multiple questions on the same page, you can crop the image in CamScanner or fold your page over (the old-fashioned way). This helps expedite grading.\n",
    "* It is your responsibility to check that all the work on all the scanned pages is legible.\n",
    "* If you used $\\LaTeX$ to do the written portions, you do not need to do any scanning; you can just download the whole notebook as a PDF via LaTeX.\n",
    "\n",
    "### Code Portion ###\n",
    "* Save your notebook using `File > Save and Checkpoint`.\n",
    "* Generate a PDF file using `File > Download As > PDF via LaTeX`. This might take a few seconds and will automatically download a PDF version of this notebook.\n",
    "    * If you have issues, please post a follow-up on the general Lab 1 Ed thread.\n",
    "    \n",
    "### Submitting ###\n",
    "* Combine the PDFs from the written and code portions into one PDF. [Here](https://smallpdf.com/merge-pdf) is a useful tool for doing so. \n",
    "* Submit the assignment to Lab 1 on Gradescope. \n",
    "* **Make sure to assign each page of your pdf to the correct question.**\n",
    "* **It is your responsibility to verify that all of your work shows up in your final PDF submission.**\n",
    "\n",
    "If you are having difficulties scanning, uploading, or submitting your work, please read the [Ed Thread](https://edstem.org/us/courses/35049/discussion/2398718) on this topic and post a follow-up on the general Lab 1 Ed thread."
   ]
  },
  {
   "cell_type": "markdown",
   "metadata": {
    "#solution": false,
    "#staff": false,
    "#student": false
   },
   "source": [
    "## **We will not grade assignments which do not have pages selected for each question.** ##"
   ]
  }
 ],
 "metadata": {
  "anaconda-cloud": {},
  "checksums": [
   "3b0a711c58f1b67a5c71e51e74f0b083",
   "079fe5262fe0b69f5f6fd92b62cb657d",
   "39fc4d643f1d863e3f1e92d5f7201485",
   "8dfb1ee65047551ff7afcee6bde9d647",
   "9a011c6a00003e88335c70ab74717039",
   "3112f8e94a2d20dd2537b574cfb74e19",
   "9d4107ae237fbc483fcbaeeb006faf3a",
   "d8e4361bf15d06c407d7d67ff4549139",
   "6917b6a12b6818b67cd188c52bb7ef24",
   "562505d567faf02dfc9388e81e89d07b",
   "70400249a99b67ea55994c37cfff4f7a",
   "6ec044e2d51c3286aada8768560e54e2",
   "eb26f19651f642a3788dbac4a9ce900d",
   "b9fbbfa1033e8c2fa95d41124e260994",
   "bbe191baf414a656f9779abb0a961561",
   "19826cd644194409d767c5c28b446e18",
   "be4d11c96e4e8ad48e49be87b7f41f77",
   "3f718683df3c5b7c025ec8c0fdf5a8b6",
   "1f78886da88dd94042b3834e31b4edd4",
   "10444ca9b76b78319327fa2c3e237caf",
   "6917b6a12b6818b67cd188c52bb7ef24",
   "7d8d3524a2b28dcb1feef28f491c21cd",
   "f07cbd6f44e9108db3438a5395363cb8",
   "cbe393dc62a42cce089c4770e2a33d9c",
   "88c895ad5ee25bc70b05d67d1401a022",
   "c595afd80edfd4d6b30c60cd84103c1a",
   "30ccfb99160a507b45f1acb62027aa52",
   "0c7410068737eeb54abf133b0b86989c",
   "c492f20147888dce2ee6026249894c60",
   "e2f8e7372e945d2ac79790ae9636ca87",
   "985aec0423b79c3d2017ffadd69dae10",
   "a986061e2856e3e1a94b8a0155514158",
   "9b3c43dac6fbc9169f1f4bd6ce01a82b",
   "6cddadf2b9edc364e3e1a67e4379f712",
   "09ab92639e34a9a2e94893e83263cebb",
   "6917b6a12b6818b67cd188c52bb7ef24",
   "562505d567faf02dfc9388e81e89d07b",
   "82880bd423306e43c6b5983513c229f4",
   "77dd3f1dafab1234f6d92688d1256d4c",
   "dfad2bfd45f94f2228eaab72154c146a",
   "45b0c57aba1486c15b455f4640a34aed",
   "114d55c87fb31943e7731ebf90735a97",
   "7a423d6921d2a5647775ce03c191af30",
   "92804946775534070c4b9d6a1baf1963",
   "92d72fed8488421d789610581c9fb94f",
   "2f43b42fd833d1e77420a8dae7419000",
   "01e676562eaf929cd272b543ada91900",
   "2f43b42fd833d1e77420a8dae7419000",
   "5d60cd998d50e4374b5bb8e7925ed21d",
   "890c3b1b6b08539f0287df55a8d06ebb",
   "562505d567faf02dfc9388e81e89d07b",
   "4667ef7140b52eefa5029047bda805e1",
   "ac22982927e001de69c4c81c26864061",
   "e0c7c00957265895f6208076c0c30dc0",
   "fd24520e691cac1a71d85f273af4e938",
   "5d322ecb99d290d05974cf53ba4910f0",
   "0b1220c1814755caa33089ee7dcdf832",
   "2f43b42fd833d1e77420a8dae7419000",
   "6b26b80f8c556515b79effccd07f6832",
   "16231e1465f30d48a64364f74125eace",
   "48a34dc9d07426aaf83b483b109463cd",
   "4403fcaa41a417de4e2d6be3b033972c",
   "6b7e797c678f0cec5792bfe0aef48186",
   "28b84f784840e42a5b8327aab8f973c0"
  ],
  "history": [
   {
    "code": "# SETUP\n\n# These lines make warnings go away\nimport warnings\nwarnings.filterwarnings('ignore')\n\n# The main libraries\nimport numpy as np\nfrom datascience import *\nfrom prob140 import *\n\n# These lines do some fancy plotting magic\nimport matplotlib\n%matplotlib inline\nimport matplotlib.pyplot as plt\nplt.style.use('fivethirtyeight')",
    "id": "df92bca41d2a402ba0d2bf707b9dd4b5",
    "idx": 2,
    "time": "2021-02-04T03:10:45.079Z",
    "type": "execution"
   },
   {
    "id": "df92bca41d2a402ba0d2bf707b9dd4b5",
    "time": "2021-02-04T03:10:47.510Z",
    "type": "completion"
   },
   {
    "code": "N = 365",
    "id": "d956ddc998a9441ba6149ec6522332c0",
    "idx": 5,
    "time": "2021-02-04T03:10:47.957Z",
    "type": "execution"
   },
   {
    "id": "d956ddc998a9441ba6149ec6522332c0",
    "time": "2021-02-04T03:10:48.145Z",
    "type": "completion"
   },
   {
    "code": "n = 5\nindividuals = np.arange(n)\nindividuals",
    "id": "84b3cf42d97345b0b64ea90e2f92bede",
    "idx": 7,
    "time": "2021-02-04T03:10:49.875Z",
    "type": "execution"
   },
   {
    "id": "84b3cf42d97345b0b64ea90e2f92bede",
    "time": "2021-02-04T03:10:49.992Z",
    "type": "completion"
   },
   {
    "code": "N - individuals",
    "id": "ef8372bb248c437b8662976ac2dd9878",
    "idx": 8,
    "time": "2021-02-04T03:10:51.017Z",
    "type": "execution"
   },
   {
    "id": "ef8372bb248c437b8662976ac2dd9878",
    "time": "2021-02-04T03:10:51.161Z",
    "type": "completion"
   },
   {
    "code": "(N - individuals)/N",
    "id": "49099414a3ad4c3e837ba20381c1ec83",
    "idx": 9,
    "time": "2021-02-04T03:10:51.269Z",
    "type": "execution"
   },
   {
    "code": "np.prod( (N - individuals)/N )",
    "id": "27762ee6ec7d449d89a0ada36712ff0b",
    "idx": 10,
    "time": "2021-02-04T03:10:51.425Z",
    "type": "execution"
   },
   {
    "id": "49099414a3ad4c3e837ba20381c1ec83",
    "time": "2021-02-04T03:10:51.470Z",
    "type": "completion"
   },
   {
    "id": "27762ee6ec7d449d89a0ada36712ff0b",
    "time": "2021-02-04T03:10:51.604Z",
    "type": "completion"
   },
   {
    "code": "#solution\ndef p_no_match(n):\n    people = np.arange(n)\n    return np.prod( (N - people)/N )",
    "id": "5a341572b108489d8207b70ec8eef1b3",
    "idx": 13,
    "time": "2021-02-04T03:10:54.178Z",
    "type": "execution"
   },
   {
    "id": "5a341572b108489d8207b70ec8eef1b3",
    "time": "2021-02-04T03:10:54.322Z",
    "type": "completion"
   },
   {
    "code": "#solution\np_no_match(23)",
    "id": "e19d7d224e10452c8a2c14911714554a",
    "idx": 19,
    "time": "2021-02-04T03:10:57.128Z",
    "type": "execution"
   },
   {
    "id": "e19d7d224e10452c8a2c14911714554a",
    "time": "2021-02-04T03:10:57.270Z",
    "type": "completion"
   },
   {
    "code": "birthday_probs = Table().with_columns('People', np.arange(1, N+1))\nbirthday_probs",
    "id": "ad90d0e21c304899b505502975aa114a",
    "idx": 21,
    "time": "2021-02-04T03:11:02.602Z",
    "type": "execution"
   },
   {
    "id": "ad90d0e21c304899b505502975aa114a",
    "time": "2021-02-04T03:11:02.724Z",
    "type": "completion"
   },
   {
    "code": "#solution\nall_different = birthday_probs.apply(p_no_match, 0)",
    "id": "5b83f3c04b154ca081b4464803a0bfaa",
    "idx": 24,
    "time": "2021-02-04T03:11:04.511Z",
    "type": "execution"
   },
   {
    "id": "5b83f3c04b154ca081b4464803a0bfaa",
    "time": "2021-02-04T03:11:04.625Z",
    "type": "completion"
   },
   {
    "code": "#solution\nall_different.item(22)",
    "id": "543f46a9e1b34c718d7effdbad1fe28e",
    "idx": 27,
    "time": "2021-02-04T03:11:05.840Z",
    "type": "execution"
   },
   {
    "id": "543f46a9e1b34c718d7effdbad1fe28e",
    "time": "2021-02-04T03:11:05.978Z",
    "type": "completion"
   },
   {
    "code": "#solution\nbirthday_probs = birthday_probs.with_columns(\n    'P(no match)', all_different,\n    'P(at least one match)', 1 - all_different\n)\n\nbirthday_probs",
    "id": "ec783bfdb5a04c12999f4af3496870b7",
    "idx": 30,
    "time": "2021-02-04T03:11:07.414Z",
    "type": "execution"
   },
   {
    "id": "ec783bfdb5a04c12999f4af3496870b7",
    "time": "2021-02-04T03:11:07.540Z",
    "type": "completion"
   },
   {
    "code": "#solution\nbirthday_probs.scatter(0, 2)\n\n# Everything below this line is for fine-tuning the graphics.\n# There is nothing for you to enter below this line.\n\n# plt is short for matplotlib.pyplot; see the import cell at the top\n\nplt.xlim(0, 70)     # restrict trials to at most 70\n\nplt.ylim(0, 1)      # use the probability scale on the vertical axis\n\n# Draw a red horizontal line at level 1/2\n# plt.plot joins the dots between the two points (x_1, y_1) and (x_2, y_2)\n# Arguments: [x_1, x_2], [y_1, y_2] \n# Optional arguments: color=, and lw=\n# That last one is line width. Bigger values produce thicker lines.\n\nplt.plot([0, 70], [0.5, 0.5], color='red', lw=1);",
    "id": "93f1d01c2eaa4b11829828f54f9fe011",
    "idx": 34,
    "time": "2021-02-04T03:11:09.731Z",
    "type": "execution"
   },
   {
    "id": "93f1d01c2eaa4b11829828f54f9fe011",
    "time": "2021-02-04T03:11:10.155Z",
    "type": "completion"
   },
   {
    "code": "#solution\ndef tipping_point(N):\n    prob_no_match = 1\n    for n in np.arange(2, N+1):\n        if prob_no_match > 0.5:\n            prob_no_match = prob_no_match * (N - (n-1))/N\n        else:\n            return n-1",
    "id": "868c0f8c813443a4856bc4189540b914",
    "idx": 46,
    "time": "2021-02-04T03:11:17.819Z",
    "type": "execution"
   },
   {
    "id": "868c0f8c813443a4856bc4189540b914",
    "time": "2021-02-04T03:11:17.963Z",
    "type": "completion"
   },
   {
    "code": "tipping_point(365)",
    "id": "8c8b8751f77f499cb5c1969903f440e5",
    "idx": 48,
    "time": "2021-02-04T03:11:20.422Z",
    "type": "execution"
   },
   {
    "id": "8c8b8751f77f499cb5c1969903f440e5",
    "time": "2021-02-04T03:11:20.556Z",
    "type": "completion"
   },
   {
    "code": "#solution\ntipping_point(687)",
    "id": "bbd4e88681ca483980a90012518158e6",
    "idx": 51,
    "time": "2021-02-04T03:11:22.071Z",
    "type": "execution"
   },
   {
    "id": "bbd4e88681ca483980a90012518158e6",
    "time": "2021-02-04T03:11:22.211Z",
    "type": "completion"
   },
   {
    "code": "#solution\ntipping_point(2**16)",
    "id": "2ab238ad03a044fd950268be53fe4430",
    "idx": 54,
    "time": "2021-02-04T03:11:23.488Z",
    "type": "execution"
   },
   {
    "id": "2ab238ad03a044fd950268be53fe4430",
    "time": "2021-02-04T03:11:23.642Z",
    "type": "completion"
   },
   {
    "code": "#solution\ndef approx_tipping_point(N):\n    return np.ceil( (-2*N * np.log(0.5)) ** 0.5 )",
    "id": "2a8390867532435b8a550924314758ef",
    "idx": 61,
    "time": "2021-02-04T03:11:43.645Z",
    "type": "execution"
   },
   {
    "id": "2a8390867532435b8a550924314758ef",
    "time": "2021-02-04T03:11:43.760Z",
    "type": "completion"
   },
   {
    "code": "approx_tipping_point(365), approx_tipping_point(687), approx_tipping_point(2**16)",
    "id": "2fb24f6d52aa41bb863c57ec41081e5c",
    "idx": 63,
    "time": "2021-02-04T03:11:45.111Z",
    "type": "execution"
   },
   {
    "id": "2fb24f6d52aa41bb863c57ec41081e5c",
    "time": "2021-02-04T03:11:45.290Z",
    "type": "completion"
   },
   {
    "code": "#solution\napprox_tipping_point(2**128)",
    "id": "966d81c292a1470180df36014e5eb10e",
    "idx": 66,
    "time": "2021-02-04T03:11:47.288Z",
    "type": "execution"
   },
   {
    "id": "966d81c292a1470180df36014e5eb10e",
    "time": "2021-02-04T03:11:47.420Z",
    "type": "completion"
   },
   {
    "code": "#solution\nN = 365\n\n\"\"\" Distribution of M_1 \"\"\"\n\n# Array of possible values, in terms of N\npossible_vals_M1 = np.arange(2, N+2)\n\n# Carefully ... An array of the corresponding probabilities, in terms of N and the array all_different\nmatching_time_probs = np.append(-np.diff(all_different), all_different.item(N-1))",
    "id": "b8d098dbb5dd4b3e89f3d6b4c6f9eb42",
    "idx": 84,
    "time": "2021-02-04T03:11:55.810Z",
    "type": "execution"
   },
   {
    "id": "b8d098dbb5dd4b3e89f3d6b4c6f9eb42",
    "time": "2021-02-04T03:11:55.921Z",
    "type": "completion"
   },
   {
    "code": "len(possible_vals_M1), len(matching_time_probs), sum(matching_time_probs)",
    "id": "ef9d2c4a6b564ebaa536ac7273611262",
    "idx": 86,
    "time": "2021-02-04T03:11:58.996Z",
    "type": "execution"
   },
   {
    "id": "ef9d2c4a6b564ebaa536ac7273611262",
    "time": "2021-02-04T03:11:59.124Z",
    "type": "completion"
   },
   {
    "code": "#solution\ndist_M1 = Table().values(possible_vals_M1).probabilities(matching_time_probs)\n\nPlot(dist_M1)\n\n# labels\nplt.xlabel('$M_1$')\nplt.title('Distribution of $M_1$');",
    "id": "70ab310a571c4d5ab2815cb5e848f071",
    "idx": 89,
    "time": "2021-02-04T03:12:00.955Z",
    "type": "execution"
   },
   {
    "code": "truncated_dist_M1 = dist_M1.take(np.arange(100))\n\nPlot(truncated_dist_M1)\n\nplt.xlabel('$M_1$')\nplt.title('Distribution of $M_1$');",
    "id": "4b1b4e2789e94c518a638320785bf3f4",
    "idx": 91,
    "time": "2021-02-04T03:12:02.229Z",
    "type": "execution"
   },
   {
    "id": "70ab310a571c4d5ab2815cb5e848f071",
    "time": "2021-02-04T03:12:02.283Z",
    "type": "completion"
   },
   {
    "id": "4b1b4e2789e94c518a638320785bf3f4",
    "time": "2021-02-04T03:12:02.988Z",
    "type": "completion"
   },
   {
    "code": "#solution\n\"\"\"\nBy 4a, P(no matches among n people) = P(D_n) = P(M_1 > n).\nSo P(at least one match among n people) = 1 - P(D_n) = P(M_1 <= n).\nThat crosses 50% at n=23.\n\"\"\"\n\nmedian_365 = 23",
    "id": "1f15df369dd840308e6f706385831374",
    "idx": 95,
    "time": "2021-02-04T03:12:05.099Z",
    "type": "execution"
   },
   {
    "id": "1f15df369dd840308e6f706385831374",
    "time": "2021-02-04T03:12:05.262Z",
    "type": "completion"
   },
   {
    "code": "event_4e = np.arange(median_365 + 1)\n\nPlot(truncated_dist_M1, event=event_4e)\n\nplt.xlabel('$M_1$')\nplt.title('Event {$M_1 \\leq median$}');",
    "id": "59f34fa3ca944204aac24f6490a93ceb",
    "idx": 97,
    "time": "2021-02-04T03:12:07.926Z",
    "type": "execution"
   },
   {
    "code": "dist_M1.prob_event(event_4e)",
    "id": "11d0549d20ae40098e6dbd40829ccd69",
    "idx": 98,
    "time": "2021-02-04T03:12:08.260Z",
    "type": "execution"
   },
   {
    "id": "59f34fa3ca944204aac24f6490a93ceb",
    "time": "2021-02-04T03:12:08.555Z",
    "type": "completion"
   },
   {
    "id": "11d0549d20ae40098e6dbd40829ccd69",
    "time": "2021-02-04T03:12:08.561Z",
    "type": "completion"
   },
   {
    "code": "#solution\nN = 365 \n\n# Array of possible values of M2, in terms of N\n\npossible_vals_M2 = np.arange(3, N+3)",
    "id": "5799da833059458f8911fcf05134c49d",
    "idx": 105,
    "time": "2021-02-04T03:12:12.121Z",
    "type": "execution"
   },
   {
    "id": "5799da833059458f8911fcf05134c49d",
    "time": "2021-02-04T03:12:12.257Z",
    "type": "completion"
   },
   {
    "code": "#solution\n# P(M_1 = 15)\n\np_m1_15 = matching_time_probs.item(13)\n\n# P(M_1 = 15, M_2 = 20)\n\np_m1_15_m2_20 = p_m1_15 * ((365-14)/365) * ((365-15)/365) * ((365-16)/365) * ((365-17)/365) * (18/365)\n\np_m1_15, p_m1_15_m2_20",
    "id": "be2760922a734849822bd1f4924ae560",
    "idx": 108,
    "time": "2021-02-04T03:12:13.981Z",
    "type": "execution"
   },
   {
    "id": "be2760922a734849822bd1f4924ae560",
    "time": "2021-02-04T03:12:14.111Z",
    "type": "completion"
   },
   {
    "code": "#solution\ndef joint_probs(i, j):\n    N = 365\n    if j > i:\n        d = j-i\n        diffs = (N - np.arange(i-1, i-1 + d-1)) / N\n        return matching_time_probs.item(i-2) * np.prod(diffs) * (j-2)/N\n    else:\n        return 0",
    "id": "44106ceef2df46d8a76e64f468b240a8",
    "idx": 111,
    "time": "2021-02-04T03:12:16.154Z",
    "type": "execution"
   },
   {
    "id": "44106ceef2df46d8a76e64f468b240a8",
    "time": "2021-02-04T03:12:16.271Z",
    "type": "completion"
   },
   {
    "code": "joint_probs(20, 15), joint_probs(15, 20)",
    "id": "219416f6398742c993c5f1980e8027eb",
    "idx": 113,
    "time": "2021-02-04T03:12:18.502Z",
    "type": "execution"
   },
   {
    "id": "219416f6398742c993c5f1980e8027eb",
    "time": "2021-02-04T03:12:18.632Z",
    "type": "completion"
   },
   {
    "code": "#solution\na = 1/365\nb = 1/365**2\nc = 1/365**3\n\n# P(M_1 = 2, M_2 = 3)\np_M1_2_M2_3 = b              # enter one of a, b, c\n\np_M1_2_M2_3, joint_probs(2, 3)",
    "id": "e222759bc6304e7288e42fbbc523037e",
    "idx": 116,
    "time": "2021-02-04T03:12:20.790Z",
    "type": "execution"
   },
   {
    "id": "e222759bc6304e7288e42fbbc523037e",
    "time": "2021-02-04T03:12:20.931Z",
    "type": "completion"
   },
   {
    "code": "#solution\njt_M1_M2 = Table().values('M1', possible_vals_M1, 'M2', possible_vals_M2).probability_function(joint_probs)\njt_M1_M2",
    "id": "facdc080496c44898003308d7926588a",
    "idx": 119,
    "time": "2021-02-04T03:12:22.709Z",
    "type": "execution"
   },
   {
    "id": "facdc080496c44898003308d7926588a",
    "time": "2021-02-04T03:12:26.535Z",
    "type": "completion"
   },
   {
    "code": "marginal_M1 = jt_M1_M2.marginal_dist('M1')\n\nPlot(marginal_M1)\n\nplt.xlabel('$M_1$')\nplt.title('Distribution of $M_1$');",
    "id": "6a2f3786300d43b88dd42efb73bbcda9",
    "idx": 121,
    "time": "2021-02-04T03:12:29.870Z",
    "type": "execution"
   },
   {
    "id": "6a2f3786300d43b88dd42efb73bbcda9",
    "time": "2021-02-04T03:12:30.853Z",
    "type": "completion"
   },
   {
    "code": "#solution\nmarginal_M2 = jt_M1_M2.marginal_dist('M2')\n\nPlot(marginal_M2)\n\nplt.xlabel('$M_2$')\nplt.title('Distribution of $M_2$');",
    "id": "0f9d1b155bf54870b445624849e23799",
    "idx": 124,
    "time": "2021-02-04T03:12:33.091Z",
    "type": "execution"
   },
   {
    "id": "0f9d1b155bf54870b445624849e23799",
    "time": "2021-02-04T03:12:34.278Z",
    "type": "completion"
   },
   {
    "code": "Plot(truncated_dist_M1)\n\nplt.xlabel('$M_1$')\nplt.title('Distribution of $M_1$');",
    "id": "d6934aa1574a42cdadcbeab0250701f4",
    "idx": 126,
    "time": "2021-02-04T03:12:37.953Z",
    "type": "execution"
   },
   {
    "id": "d6934aa1574a42cdadcbeab0250701f4",
    "time": "2021-02-04T03:12:38.533Z",
    "type": "completion"
   },
   {
    "code": "marginal_M2 = jt_M1_M2.marginal_dist('M2')\nmarginal_M2",
    "id": "256c050ed2bb4238ae0488fec0df8b6e",
    "idx": 128,
    "time": "2021-02-04T03:12:38.761Z",
    "type": "execution"
   },
   {
    "id": "256c050ed2bb4238ae0488fec0df8b6e",
    "time": "2021-02-04T03:12:38.901Z",
    "type": "completion"
   },
   {
    "code": "truncated_dist_M2 = marginal_M2.take(np.arange(100))\nPlot(truncated_dist_M2)\n\nplt.xlabel('$M_2$')\nplt.title('Distribution of $M_2$');",
    "id": "91794372816c472e80b43c886634971f",
    "idx": 129,
    "time": "2021-02-04T03:12:39.691Z",
    "type": "execution"
   },
   {
    "id": "91794372816c472e80b43c886634971f",
    "time": "2021-02-04T03:12:40.305Z",
    "type": "completion"
   },
   {
    "code": "Plots('M1', truncated_dist_M1, 'M2', truncated_dist_M2)",
    "id": "9fb4908256414016b9d73da49dbcae00",
    "idx": 131,
    "time": "2021-02-04T03:12:41.586Z",
    "type": "execution"
   },
   {
    "id": "9fb4908256414016b9d73da49dbcae00",
    "time": "2021-02-04T03:12:42.281Z",
    "type": "completion"
   },
   {
    "code": "#solution\n# P(X = Y)\n\ndef indicator_equal(i, j):\n    return i == j-i\n\njt_M1_M2.event(indicator_equal, 'M1', 'M2');",
    "id": "9d6b760bc2234f4f9722ee7df31eb29c",
    "idx": 145,
    "time": "2021-02-04T03:12:49.152Z",
    "type": "execution"
   },
   {
    "code": "#solution\n# P(X > Y)\n\ndef indicator_X_greater(i, j):\n    return i > j-i\n\njt_M1_M2.event(indicator_X_greater, 'M1', 'M2');",
    "id": "98ce60111c044b14a0cd345a4827f05a",
    "idx": 146,
    "time": "2021-02-04T03:12:49.548Z",
    "type": "execution"
   },
   {
    "id": "9d6b760bc2234f4f9722ee7df31eb29c",
    "time": "2021-02-04T03:12:49.765Z",
    "type": "completion"
   },
   {
    "code": "#solution\n# P(X < Y)\n\ndef indicator_Y_greater(i, j):\n    return i < j-i\n\njt_M1_M2.event(indicator_Y_greater, 'M1', 'M2');",
    "id": "9797512ced324acb9acdcf8d6d3afd57",
    "idx": 147,
    "time": "2021-02-04T03:12:49.867Z",
    "type": "execution"
   },
   {
    "id": "98ce60111c044b14a0cd345a4827f05a",
    "time": "2021-02-04T03:12:51.737Z",
    "type": "completion"
   },
   {
    "id": "9797512ced324acb9acdcf8d6d3afd57",
    "time": "2021-02-04T03:12:51.974Z",
    "type": "completion"
   },
   {
    "code": "#solution\ntipping_point(2**32)",
    "id": "2c6accf0f1c44276822f9ce070b802d1",
    "idx": 57,
    "time": "2021-02-04T03:13:17.638Z",
    "type": "execution"
   },
   {
    "code": "# SETUP\n\n# These lines make warnings go away\nimport warnings\nwarnings.filterwarnings('ignore')\n\n# The main libraries\nimport numpy as np\nfrom datascience import *\nfrom prob140 import *\n\n# These lines do some fancy plotting magic\nimport matplotlib\n%matplotlib inline\nimport matplotlib.pyplot as plt\nplt.style.use('fivethirtyeight')",
    "id": "df92bca41d2a402ba0d2bf707b9dd4b5",
    "idx": 2,
    "time": "2021-02-04T03:13:43.645Z",
    "type": "execution"
   },
   {
    "id": "df92bca41d2a402ba0d2bf707b9dd4b5",
    "time": "2021-02-04T03:13:46.029Z",
    "type": "completion"
   },
   {
    "code": "N = 365",
    "id": "d956ddc998a9441ba6149ec6522332c0",
    "idx": 5,
    "time": "2021-02-04T03:13:46.982Z",
    "type": "execution"
   },
   {
    "id": "d956ddc998a9441ba6149ec6522332c0",
    "time": "2021-02-04T03:13:47.190Z",
    "type": "completion"
   },
   {
    "code": "n = 5\nindividuals = np.arange(n)\nindividuals",
    "id": "84b3cf42d97345b0b64ea90e2f92bede",
    "idx": 7,
    "time": "2021-02-04T03:13:48.993Z",
    "type": "execution"
   },
   {
    "id": "84b3cf42d97345b0b64ea90e2f92bede",
    "time": "2021-02-04T03:13:49.110Z",
    "type": "completion"
   },
   {
    "code": "N - individuals",
    "id": "ef8372bb248c437b8662976ac2dd9878",
    "idx": 8,
    "time": "2021-02-04T03:13:49.352Z",
    "type": "execution"
   },
   {
    "id": "ef8372bb248c437b8662976ac2dd9878",
    "time": "2021-02-04T03:13:49.481Z",
    "type": "completion"
   },
   {
    "code": "(N - individuals)/N",
    "id": "49099414a3ad4c3e837ba20381c1ec83",
    "idx": 9,
    "time": "2021-02-04T03:13:49.658Z",
    "type": "execution"
   },
   {
    "id": "49099414a3ad4c3e837ba20381c1ec83",
    "time": "2021-02-04T03:13:49.779Z",
    "type": "completion"
   },
   {
    "code": "np.prod( (N - individuals)/N )",
    "id": "27762ee6ec7d449d89a0ada36712ff0b",
    "idx": 10,
    "time": "2021-02-04T03:13:50.256Z",
    "type": "execution"
   },
   {
    "id": "27762ee6ec7d449d89a0ada36712ff0b",
    "time": "2021-02-04T03:13:50.367Z",
    "type": "completion"
   },
   {
    "code": "#solution\ndef p_no_match(n):\n    people = np.arange(n)\n    return np.prod( (N - people)/N )",
    "id": "5a341572b108489d8207b70ec8eef1b3",
    "idx": 13,
    "time": "2021-02-04T03:13:52.354Z",
    "type": "execution"
   },
   {
    "id": "5a341572b108489d8207b70ec8eef1b3",
    "time": "2021-02-04T03:13:52.481Z",
    "type": "completion"
   },
   {
    "code": "#solution\np_no_match(23)",
    "id": "e19d7d224e10452c8a2c14911714554a",
    "idx": 19,
    "time": "2021-02-04T03:13:55.589Z",
    "type": "execution"
   },
   {
    "id": "e19d7d224e10452c8a2c14911714554a",
    "time": "2021-02-04T03:13:55.717Z",
    "type": "completion"
   },
   {
    "code": "birthday_probs = Table().with_columns('People', np.arange(1, N+1))\nbirthday_probs",
    "id": "ad90d0e21c304899b505502975aa114a",
    "idx": 21,
    "time": "2021-02-04T03:13:58.414Z",
    "type": "execution"
   },
   {
    "id": "ad90d0e21c304899b505502975aa114a",
    "time": "2021-02-04T03:13:58.544Z",
    "type": "completion"
   },
   {
    "code": "#solution\nall_different = birthday_probs.apply(p_no_match, 0)",
    "id": "5b83f3c04b154ca081b4464803a0bfaa",
    "idx": 24,
    "time": "2021-02-04T03:14:05.000Z",
    "type": "execution"
   },
   {
    "id": "5b83f3c04b154ca081b4464803a0bfaa",
    "time": "2021-02-04T03:14:05.110Z",
    "type": "completion"
   },
   {
    "code": "#solution\nall_different.item(22)",
    "id": "543f46a9e1b34c718d7effdbad1fe28e",
    "idx": 27,
    "time": "2021-02-04T03:14:06.683Z",
    "type": "execution"
   },
   {
    "id": "543f46a9e1b34c718d7effdbad1fe28e",
    "time": "2021-02-04T03:14:06.815Z",
    "type": "completion"
   },
   {
    "code": "#solution\nbirthday_probs = birthday_probs.with_columns(\n    'P(no match)', all_different,\n    'P(at least one match)', 1 - all_different\n)\n\nbirthday_probs",
    "id": "ec783bfdb5a04c12999f4af3496870b7",
    "idx": 30,
    "time": "2021-02-04T03:14:08.897Z",
    "type": "execution"
   },
   {
    "id": "ec783bfdb5a04c12999f4af3496870b7",
    "time": "2021-02-04T03:14:09.011Z",
    "type": "completion"
   },
   {
    "code": "#solution\nbirthday_probs.scatter(0, 2)\n\n# Everything below this line is for fine-tuning the graphics.\n# There is nothing for you to enter below this line.\n\n# plt is short for matplotlib.pyplot; see the import cell at the top\n\nplt.xlim(0, 70)     # restrict trials to at most 70\n\nplt.ylim(0, 1)      # use the probability scale on the vertical axis\n\n# Draw a red horizontal line at level 1/2\n# plt.plot joins the dots between the two points (x_1, y_1) and (x_2, y_2)\n# Arguments: [x_1, x_2], [y_1, y_2] \n# Optional arguments: color=, and lw=\n# That last one is line width. Bigger values produce thicker lines.\n\nplt.plot([0, 70], [0.5, 0.5], color='red', lw=1);",
    "id": "93f1d01c2eaa4b11829828f54f9fe011",
    "idx": 34,
    "time": "2021-02-04T03:14:11.885Z",
    "type": "execution"
   },
   {
    "id": "93f1d01c2eaa4b11829828f54f9fe011",
    "time": "2021-02-04T03:14:12.312Z",
    "type": "completion"
   },
   {
    "code": "#solution\ndef tipping_point(N):\n    prob_no_match = 1\n    for n in range(2, N+1):\n        if prob_no_match > 0.5:\n            prob_no_match = prob_no_match * (N - (n-1))/N\n        else:\n            return n-1",
    "id": "868c0f8c813443a4856bc4189540b914",
    "idx": 46,
    "time": "2021-02-04T03:14:19.715Z",
    "type": "execution"
   },
   {
    "id": "868c0f8c813443a4856bc4189540b914",
    "time": "2021-02-04T03:14:19.865Z",
    "type": "completion"
   },
   {
    "code": "tipping_point(365)",
    "id": "8c8b8751f77f499cb5c1969903f440e5",
    "idx": 48,
    "time": "2021-02-04T03:14:21.363Z",
    "type": "execution"
   },
   {
    "id": "8c8b8751f77f499cb5c1969903f440e5",
    "time": "2021-02-04T03:14:21.495Z",
    "type": "completion"
   },
   {
    "code": "#solution\ntipping_point(687)",
    "id": "bbd4e88681ca483980a90012518158e6",
    "idx": 51,
    "time": "2021-02-04T03:14:23.426Z",
    "type": "execution"
   },
   {
    "id": "bbd4e88681ca483980a90012518158e6",
    "time": "2021-02-04T03:14:23.555Z",
    "type": "completion"
   },
   {
    "code": "#solution\ntipping_point(2**16)",
    "id": "2ab238ad03a044fd950268be53fe4430",
    "idx": 54,
    "time": "2021-02-04T03:14:25.036Z",
    "type": "execution"
   },
   {
    "id": "2ab238ad03a044fd950268be53fe4430",
    "time": "2021-02-04T03:14:25.153Z",
    "type": "completion"
   },
   {
    "code": "#solution\ntipping_point(2**32)",
    "id": "2c6accf0f1c44276822f9ce070b802d1",
    "idx": 57,
    "time": "2021-02-04T03:14:26.926Z",
    "type": "execution"
   },
   {
    "id": "2c6accf0f1c44276822f9ce070b802d1",
    "time": "2021-02-04T03:14:27.053Z",
    "type": "completion"
   },
   {
    "id": "2c6accf0f1c44276822f9ce070b802d1",
    "time": "2021-02-04T03:14:27.053Z",
    "type": "completion"
   },
   {
    "code": "#solution\ndef approx_tipping_point(N):\n    return np.ceil( (-2*N * np.log(0.5)) ** 0.5 )",
    "id": "2a8390867532435b8a550924314758ef",
    "idx": 61,
    "time": "2021-02-04T03:14:29.682Z",
    "type": "execution"
   },
   {
    "id": "2a8390867532435b8a550924314758ef",
    "time": "2021-02-04T03:14:29.860Z",
    "type": "completion"
   },
   {
    "code": "approx_tipping_point(365), approx_tipping_point(687), approx_tipping_point(2**16)",
    "id": "2fb24f6d52aa41bb863c57ec41081e5c",
    "idx": 63,
    "time": "2021-02-04T03:14:32.131Z",
    "type": "execution"
   },
   {
    "id": "2fb24f6d52aa41bb863c57ec41081e5c",
    "time": "2021-02-04T03:14:32.274Z",
    "type": "completion"
   },
   {
    "code": "#solution\napprox_tipping_point(2**128)",
    "id": "966d81c292a1470180df36014e5eb10e",
    "idx": 66,
    "time": "2021-02-04T03:14:34.131Z",
    "type": "execution"
   },
   {
    "id": "966d81c292a1470180df36014e5eb10e",
    "time": "2021-02-04T03:14:34.296Z",
    "type": "completion"
   },
   {
    "code": "#solution\nN = 365\n\n\"\"\" Distribution of M_1 \"\"\"\n\n# Array of possible values, in terms of N\npossible_vals_M1 = np.arange(2, N+2)\n\n# Carefully ... An array of the corresponding probabilities, in terms of N and the array all_different\nmatching_time_probs = np.append(-np.diff(all_different), all_different.item(N-1))",
    "id": "b8d098dbb5dd4b3e89f3d6b4c6f9eb42",
    "idx": 84,
    "time": "2021-02-04T03:14:42.481Z",
    "type": "execution"
   },
   {
    "id": "b8d098dbb5dd4b3e89f3d6b4c6f9eb42",
    "time": "2021-02-04T03:14:42.628Z",
    "type": "completion"
   },
   {
    "code": "len(possible_vals_M1), len(matching_time_probs), sum(matching_time_probs)",
    "id": "ef9d2c4a6b564ebaa536ac7273611262",
    "idx": 86,
    "time": "2021-02-04T03:14:43.650Z",
    "type": "execution"
   },
   {
    "id": "ef9d2c4a6b564ebaa536ac7273611262",
    "time": "2021-02-04T03:14:43.803Z",
    "type": "completion"
   },
   {
    "code": "#solution\ndist_M1 = Table().values(possible_vals_M1).probabilities(matching_time_probs)\n\nPlot(dist_M1)\n\n# labels\nplt.xlabel('$M_1$')\nplt.title('Distribution of $M_1$');",
    "id": "70ab310a571c4d5ab2815cb5e848f071",
    "idx": 89,
    "time": "2021-02-04T03:14:46.540Z",
    "type": "execution"
   },
   {
    "code": "truncated_dist_M1 = dist_M1.take(np.arange(100))\n\nPlot(truncated_dist_M1)\n\nplt.xlabel('$M_1$')\nplt.title('Distribution of $M_1$');",
    "id": "4b1b4e2789e94c518a638320785bf3f4",
    "idx": 91,
    "time": "2021-02-04T03:14:47.651Z",
    "type": "execution"
   },
   {
    "id": "70ab310a571c4d5ab2815cb5e848f071",
    "time": "2021-02-04T03:14:47.771Z",
    "type": "completion"
   },
   {
    "id": "4b1b4e2789e94c518a638320785bf3f4",
    "time": "2021-02-04T03:14:48.359Z",
    "type": "completion"
   },
   {
    "code": "#solution\n\"\"\"\nBy 4a, P(no matches among n people) = P(D_n) = P(M_1 > n).\nSo P(at least one match among n people) = 1 - P(D_n) = P(M_1 <= n).\nThat crosses 50% at n=23.\n\"\"\"\n\nmedian_365 = 23",
    "id": "1f15df369dd840308e6f706385831374",
    "idx": 95,
    "time": "2021-02-04T03:14:50.119Z",
    "type": "execution"
   },
   {
    "id": "1f15df369dd840308e6f706385831374",
    "time": "2021-02-04T03:14:50.249Z",
    "type": "completion"
   },
   {
    "code": "event_4e = np.arange(median_365 + 1)\n\nPlot(truncated_dist_M1, event=event_4e)\n\nplt.xlabel('$M_1$')\nplt.title('Event {$M_1 \\leq median$}');",
    "id": "59f34fa3ca944204aac24f6490a93ceb",
    "idx": 97,
    "time": "2021-02-04T03:14:52.790Z",
    "type": "execution"
   },
   {
    "id": "59f34fa3ca944204aac24f6490a93ceb",
    "time": "2021-02-04T03:14:53.364Z",
    "type": "completion"
   },
   {
    "code": "dist_M1.prob_event(event_4e)",
    "id": "11d0549d20ae40098e6dbd40829ccd69",
    "idx": 98,
    "time": "2021-02-04T03:14:53.871Z",
    "type": "execution"
   },
   {
    "id": "11d0549d20ae40098e6dbd40829ccd69",
    "time": "2021-02-04T03:14:54.022Z",
    "type": "completion"
   },
   {
    "code": "#solution\nN = 365 \n\n# Array of possible values of M2, in terms of N\n\npossible_vals_M2 = np.arange(3, N+3)",
    "id": "5799da833059458f8911fcf05134c49d",
    "idx": 105,
    "time": "2021-02-04T03:14:58.839Z",
    "type": "execution"
   },
   {
    "id": "5799da833059458f8911fcf05134c49d",
    "time": "2021-02-04T03:14:58.991Z",
    "type": "completion"
   },
   {
    "code": "#solution\n# P(M_1 = 15)\n\np_m1_15 = matching_time_probs.item(13)\n\n# P(M_1 = 15, M_2 = 20)\n\np_m1_15_m2_20 = p_m1_15 * ((365-14)/365) * ((365-15)/365) * ((365-16)/365) * ((365-17)/365) * (18/365)\n\np_m1_15, p_m1_15_m2_20",
    "id": "be2760922a734849822bd1f4924ae560",
    "idx": 108,
    "time": "2021-02-04T03:15:01.077Z",
    "type": "execution"
   },
   {
    "id": "be2760922a734849822bd1f4924ae560",
    "time": "2021-02-04T03:15:01.207Z",
    "type": "completion"
   },
   {
    "code": "#solution\ndef joint_probs(i, j):\n    N = 365\n    if j > i:\n        d = j-i\n        diffs = (N - np.arange(i-1, i-1 + d-1)) / N\n        return matching_time_probs.item(i-2) * np.prod(diffs) * (j-2)/N\n    else:\n        return 0",
    "id": "44106ceef2df46d8a76e64f468b240a8",
    "idx": 111,
    "time": "2021-02-04T03:15:03.366Z",
    "type": "execution"
   },
   {
    "id": "44106ceef2df46d8a76e64f468b240a8",
    "time": "2021-02-04T03:15:03.488Z",
    "type": "completion"
   },
   {
    "code": "joint_probs(20, 15), joint_probs(15, 20)",
    "id": "219416f6398742c993c5f1980e8027eb",
    "idx": 113,
    "time": "2021-02-04T03:15:06.012Z",
    "type": "execution"
   },
   {
    "id": "219416f6398742c993c5f1980e8027eb",
    "time": "2021-02-04T03:15:06.133Z",
    "type": "completion"
   },
   {
    "code": "#solution\na = 1/365\nb = 1/365**2\nc = 1/365**3\n\n# P(M_1 = 2, M_2 = 3)\np_M1_2_M2_3 = b              # enter one of a, b, c\n\np_M1_2_M2_3, joint_probs(2, 3)",
    "id": "e222759bc6304e7288e42fbbc523037e",
    "idx": 116,
    "time": "2021-02-04T03:15:07.966Z",
    "type": "execution"
   },
   {
    "id": "e222759bc6304e7288e42fbbc523037e",
    "time": "2021-02-04T03:15:08.103Z",
    "type": "completion"
   },
   {
    "code": "#solution\njt_M1_M2 = Table().values('M1', possible_vals_M1, 'M2', possible_vals_M2).probability_function(joint_probs)\njt_M1_M2",
    "id": "facdc080496c44898003308d7926588a",
    "idx": 119,
    "time": "2021-02-04T03:15:09.824Z",
    "type": "execution"
   },
   {
    "code": "marginal_M1 = jt_M1_M2.marginal_dist('M1')\n\nPlot(marginal_M1)\n\nplt.xlabel('$M_1$')\nplt.title('Distribution of $M_1$');",
    "id": "6a2f3786300d43b88dd42efb73bbcda9",
    "idx": 121,
    "time": "2021-02-04T03:15:12.344Z",
    "type": "execution"
   },
   {
    "id": "facdc080496c44898003308d7926588a",
    "time": "2021-02-04T03:15:14.093Z",
    "type": "completion"
   },
   {
    "code": "#solution\nmarginal_M2 = jt_M1_M2.marginal_dist('M2')\n\nPlot(marginal_M2)\n\nplt.xlabel('$M_2$')\nplt.title('Distribution of $M_2$');",
    "id": "0f9d1b155bf54870b445624849e23799",
    "idx": 124,
    "time": "2021-02-04T03:15:14.634Z",
    "type": "execution"
   },
   {
    "id": "6a2f3786300d43b88dd42efb73bbcda9",
    "time": "2021-02-04T03:15:15.490Z",
    "type": "completion"
   },
   {
    "code": "Plot(truncated_dist_M1)\n\nplt.xlabel('$M_1$')\nplt.title('Distribution of $M_1$');",
    "id": "d6934aa1574a42cdadcbeab0250701f4",
    "idx": 126,
    "time": "2021-02-04T03:15:16.136Z",
    "type": "execution"
   },
   {
    "id": "0f9d1b155bf54870b445624849e23799",
    "time": "2021-02-04T03:15:16.463Z",
    "type": "completion"
   },
   {
    "id": "d6934aa1574a42cdadcbeab0250701f4",
    "time": "2021-02-04T03:15:16.851Z",
    "type": "completion"
   },
   {
    "code": "marginal_M2 = jt_M1_M2.marginal_dist('M2')\nmarginal_M2",
    "id": "256c050ed2bb4238ae0488fec0df8b6e",
    "idx": 128,
    "time": "2021-02-04T03:15:19.523Z",
    "type": "execution"
   },
   {
    "id": "256c050ed2bb4238ae0488fec0df8b6e",
    "time": "2021-02-04T03:15:19.662Z",
    "type": "completion"
   },
   {
    "code": "truncated_dist_M2 = marginal_M2.take(np.arange(100))\nPlot(truncated_dist_M2)\n\nplt.xlabel('$M_2$')\nplt.title('Distribution of $M_2$');",
    "id": "91794372816c472e80b43c886634971f",
    "idx": 129,
    "time": "2021-02-04T03:15:19.872Z",
    "type": "execution"
   },
   {
    "id": "91794372816c472e80b43c886634971f",
    "time": "2021-02-04T03:15:20.470Z",
    "type": "completion"
   },
   {
    "code": "Plots('M1', truncated_dist_M1, 'M2', truncated_dist_M2)",
    "id": "9fb4908256414016b9d73da49dbcae00",
    "idx": 131,
    "time": "2021-02-04T03:15:23.224Z",
    "type": "execution"
   },
   {
    "id": "9fb4908256414016b9d73da49dbcae00",
    "time": "2021-02-04T03:15:24.009Z",
    "type": "completion"
   },
   {
    "code": "#solution\n# P(X = Y)\n\ndef indicator_equal(i, j):\n    return i == j-i\n\njt_M1_M2.event(indicator_equal, 'M1', 'M2');",
    "id": "9d6b760bc2234f4f9722ee7df31eb29c",
    "idx": 145,
    "time": "2021-02-04T03:15:29.467Z",
    "type": "execution"
   },
   {
    "code": "#solution\n# P(X > Y)\n\ndef indicator_X_greater(i, j):\n    return i > j-i\n\njt_M1_M2.event(indicator_X_greater, 'M1', 'M2');",
    "id": "98ce60111c044b14a0cd345a4827f05a",
    "idx": 146,
    "time": "2021-02-04T03:15:29.830Z",
    "type": "execution"
   },
   {
    "id": "9d6b760bc2234f4f9722ee7df31eb29c",
    "time": "2021-02-04T03:15:30.000Z",
    "type": "completion"
   },
   {
    "code": "#solution\n# P(X < Y)\n\ndef indicator_Y_greater(i, j):\n    return i < j-i\n\njt_M1_M2.event(indicator_Y_greater, 'M1', 'M2');",
    "id": "9797512ced324acb9acdcf8d6d3afd57",
    "idx": 147,
    "time": "2021-02-04T03:15:30.139Z",
    "type": "execution"
   },
   {
    "id": "98ce60111c044b14a0cd345a4827f05a",
    "time": "2021-02-04T03:15:31.815Z",
    "type": "completion"
   },
   {
    "id": "9797512ced324acb9acdcf8d6d3afd57",
    "time": "2021-02-04T03:15:32.299Z",
    "type": "completion"
   }
  ],
  "kernelspec": {
   "display_name": "Python 3",
   "language": "python",
   "name": "python3"
  },
  "language_info": {
   "codemirror_mode": {
    "name": "ipython",
    "version": 3
   },
   "file_extension": ".py",
   "mimetype": "text/x-python",
   "name": "python",
   "nbconvert_exporter": "python",
   "pygments_lexer": "ipython3",
   "version": "3.7.11"
  },
  "number_of_pagebreaks": 0
 },
 "nbformat": 4,
 "nbformat_minor": 4
}
